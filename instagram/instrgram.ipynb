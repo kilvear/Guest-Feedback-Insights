{
 "cells": [
  {
   "cell_type": "code",
   "execution_count": 4,
   "metadata": {},
   "outputs": [],
   "source": [
    "from selenium import webdriver\n",
    "from selenium.webdriver.common.keys import Keys\n",
    "from selenium.webdriver.support import expected_conditions as EC\n",
    "from selenium.webdriver.common.by import By\n",
    "from selenium.webdriver.support.wait import WebDriverWait\n",
    "import pandas as pd\n",
    "import time, urllib.request\n",
    "import requests"
   ]
  },
  {
   "cell_type": "code",
   "execution_count": 8,
   "metadata": {},
   "outputs": [],
   "source": [
    "driver = webdriver.Chrome(executable_path='C:/Users/Kelvin/Chromedriver')\n",
    "driver.get(\"https://www.instagram.com\")\n",
    "#launch browser"
   ]
  },
  {
   "cell_type": "code",
   "execution_count": 9,
   "metadata": {},
   "outputs": [],
   "source": [
    "username = WebDriverWait(driver,10).until(EC.element_to_be_clickable((By.CSS_SELECTOR,\"input[name='username']\")))\n",
    "password = WebDriverWait(driver,10).until(EC.element_to_be_clickable((By.CSS_SELECTOR,\"input[name='password']\")))\n",
    "\n",
    "\n",
    "username.clear()\n",
    "password.clear()\n",
    "username.send_keys(\"prj.sentosa@gmail.com\")\n",
    "password.send_keys(\"SDC@retrotravel22\")\n",
    "\n",
    "log_in = WebDriverWait(driver,10).until(EC.element_to_be_clickable((By.CSS_SELECTOR,\"button[type='submit']\"))).click()\n",
    "\n",
    "not_now = WebDriverWait(driver,10).until(EC.element_to_be_clickable((By.XPATH,\"//button[contains(text(),'Not Now')]\"))).click()\n",
    "not_now2 = WebDriverWait(driver,10).until(EC.element_to_be_clickable((By.XPATH,\"//button[contains(text(),'Not Now')]\"))).click()\n",
    "#login"
   ]
  },
  {
   "cell_type": "code",
   "execution_count": 7,
   "metadata": {},
   "outputs": [],
   "source": [
    "query = \"sentosa\"\n",
    "page = driver.get(\"https://www.instagram.com/explore/tags/\" + query)\n",
    "#query"
   ]
  },
  {
   "cell_type": "code",
   "execution_count": 11,
   "metadata": {},
   "outputs": [],
   "source": [
    "i=0\n",
    "\n",
    "while i in range(3):\n",
    "    driver.execute_script(\"window.scrollBy(0,1000000)\")\n",
    "    time.sleep(5)\n",
    "    i+=1\n",
    "# driver.execute_script(\"window.scrollBy(0,1000000)\")\n",
    "# time.sleep(5)\n",
    "# driver.execute_script(\"window.scrollBy(0,1000000)\")\n",
    "# time.sleep(5)\n",
    "\n",
    "#page scroll"
   ]
  },
  {
   "cell_type": "code",
   "execution_count": 12,
   "metadata": {},
   "outputs": [],
   "source": [
    "links = driver.find_elements_by_tag_name('a')\n",
    "links = [link.get_attribute('href') for link in links]"
   ]
  },
  {
   "cell_type": "code",
   "execution_count": 10,
   "metadata": {},
   "outputs": [
    {
     "name": "stdout",
     "output_type": "stream",
     "text": [
      "['https://www.instagram.com/p/Cbf5sIoM-oa/', 'https://www.instagram.com/p/CbmgLHPrZs7/', 'https://www.instagram.com/p/CbCcWQypcrS/', 'https://www.instagram.com/p/CY_EfFeFLiL/', 'https://www.instagram.com/p/CZ3W6ZKFTY0/', 'https://www.instagram.com/p/CbbqdwfvfTU/', 'https://www.instagram.com/p/CblK5rNhmup/', 'https://www.instagram.com/p/CaebNwflFNX/', 'https://www.instagram.com/p/CbGyan4vsOW/', 'https://www.instagram.com/p/CbmpS7LL14z/', 'https://www.instagram.com/p/CbmpNRpJaXA/', 'https://www.instagram.com/p/CbmoDhsvPXE/', 'https://www.instagram.com/p/CbmoBGZPHlJ/', 'https://www.instagram.com/p/CbmlEw2L4H9/', 'https://www.instagram.com/p/CbmknsprhBy/', 'https://www.instagram.com/p/CbmjfYXLQMB/', 'https://www.instagram.com/p/CbmjVhGLfuS/', 'https://www.instagram.com/p/CbmhiR7rFac/', 'https://www.instagram.com/p/CbmhXzCrZBL/', 'https://www.instagram.com/p/Cbmf1xIPnQK/', 'https://www.instagram.com/p/CbmbPWyro2F/', 'https://www.instagram.com/p/CbmamZcrNkw/', 'https://www.instagram.com/p/CbmamTSlTJ3/', 'https://www.instagram.com/p/CbmX9wtB9ss/', 'https://www.instagram.com/p/CbmXn7IPdbK/', 'https://www.instagram.com/p/CbmVZYoJB4h/', 'https://www.instagram.com/p/CbmVaW7JmEy/', 'https://www.instagram.com/p/CbmVceWveXo/', 'https://www.instagram.com/p/CbmVQreJQmr/', 'https://www.instagram.com/p/CbmS1_mpNHo/', 'https://www.instagram.com/p/CbmRvjXPb4y/', 'https://www.instagram.com/p/CbmR03Hr-bc/', 'https://www.instagram.com/p/CbmRl_2prwl/', 'https://www.instagram.com/p/CbmQK8yuqKT/', 'https://www.instagram.com/p/CbmQEaDLYxQ/', 'https://www.instagram.com/p/CbmOmvMrjfb/', 'https://www.instagram.com/p/CbmOa_8LId5/', 'https://www.instagram.com/p/CbmOGG5pYym/', 'https://www.instagram.com/p/CbmNGU1v56t/', 'https://www.instagram.com/p/CbmNRjJACBW/', 'https://www.instagram.com/p/CbmNDg8pBDP/', 'https://www.instagram.com/p/CbmI98GJjQA/', 'https://www.instagram.com/p/CbmINhNPzUB/', 'https://www.instagram.com/p/CbmEmV3OE2y/', 'https://www.instagram.com/p/CbmEeT-OoOE/', 'https://www.instagram.com/p/CbmAx0LPNSe/', 'https://www.instagram.com/p/Cbl-laxLKSW/', 'https://www.instagram.com/p/Cbl9OwgNg95/', 'https://www.instagram.com/p/Cbl7rp8vVmd/', 'https://www.instagram.com/p/Cbl5oOnLiEB/', 'https://www.instagram.com/p/Cbl21eBB9aO/', 'https://www.instagram.com/p/Cbl2TK4B2Bt/', 'https://www.instagram.com/p/Cbl2H1uJhR7/', 'https://www.instagram.com/p/Cbl1WrAB83X/', 'https://www.instagram.com/', 'https://www.instagram.com/', 'https://www.instagram.com/direct/inbox/', 'https://www.instagram.com/explore/', 'https://www.instagram.com/accounts/activity/', 'https://about.facebook.com/meta', 'https://about.instagram.com/', 'https://about.instagram.com/blog/', 'https://www.instagram.com/about/jobs/', 'https://help.instagram.com/', 'https://developers.facebook.com/docs/instagram', 'https://www.instagram.com/legal/privacy/', 'https://www.instagram.com/legal/terms/', 'https://www.instagram.com/directory/profiles/', 'https://www.instagram.com/directory/hashtags/', 'https://www.instagram.com/explore/locations/', 'https://www.instagram.com/web/lite/']\n"
     ]
    }
   ],
   "source": [
    "print(links)"
   ]
  },
  {
   "cell_type": "code",
   "execution_count": 14,
   "metadata": {},
   "outputs": [
    {
     "name": "stdout",
     "output_type": "stream",
     "text": [
      "                                InstagramPostLink\n",
      "0        https://www.instagram.com/p/Cbf5sIoM-oa/\n",
      "1        https://www.instagram.com/p/CbmgLHPrZs7/\n",
      "2        https://www.instagram.com/p/CbCcWQypcrS/\n",
      "3        https://www.instagram.com/p/CY_EfFeFLiL/\n",
      "4        https://www.instagram.com/p/CZ3W6ZKFTY0/\n",
      "..                                            ...\n",
      "69         https://www.instagram.com/legal/terms/\n",
      "70  https://www.instagram.com/directory/profiles/\n",
      "71  https://www.instagram.com/directory/hashtags/\n",
      "72   https://www.instagram.com/explore/locations/\n",
      "73            https://www.instagram.com/web/lite/\n",
      "\n",
      "[74 rows x 1 columns]\n"
     ]
    }
   ],
   "source": [
    "df = pd.DataFrame(links,columns=[\"InstagramPostLink\"])\n",
    "print(df)\n",
    "df.to_csv('topposts.csv')"
   ]
  },
  {
   "cell_type": "markdown",
   "metadata": {},
   "source": [
    "Data scrapping from links"
   ]
  },
  {
   "cell_type": "code",
   "execution_count": 7,
   "metadata": {},
   "outputs": [
    {
     "name": "stdout",
     "output_type": "stream",
     "text": [
      "['https://www.instagram.com/p/Cbf5sIoM-oa/', 'https://www.instagram.com/p/CbmgLHPrZs7/', 'https://www.instagram.com/p/CbCcWQypcrS/', 'https://www.instagram.com/p/CY_EfFeFLiL/', 'https://www.instagram.com/p/CZ3W6ZKFTY0/', 'https://www.instagram.com/p/CbbqdwfvfTU/', 'https://www.instagram.com/p/CaebNwflFNX/', 'https://www.instagram.com/p/CblK5rNhmup/', 'https://www.instagram.com/p/CbGyan4vsOW/', 'https://www.instagram.com/p/Cbl1RrCvqxg/', 'https://www.instagram.com/p/Cbl1Cwyrg_j/', 'https://www.instagram.com/p/Cbl0MIsMmg4/', 'https://www.instagram.com/p/Cblz6_8PVMJ/', 'https://www.instagram.com/p/CblvLG1PoCk/', 'https://www.instagram.com/p/CbltI6HgN-I/', 'https://www.instagram.com/p/CblstDPBR7X/', 'https://www.instagram.com/p/CblmSZVvCtJ/', 'https://www.instagram.com/p/CbljC1BvdR7/', 'https://www.instagram.com/p/Cblg2yaPLtH/', 'https://www.instagram.com/p/CblczEHFL99/', 'https://www.instagram.com/p/CblD70khV4u/', 'https://www.instagram.com/p/CblE2uzuQt0/', 'https://www.instagram.com/p/Cbk_DdVBgmE/', 'https://www.instagram.com/p/Cbk4gqKveTd/', 'https://www.instagram.com/p/CbkzMYWP0BM/', 'https://www.instagram.com/p/CbksohxP7qS/', 'https://www.instagram.com/p/Cbkr6cbJhuA/', 'https://www.instagram.com/p/CbkrfcnMPD5/', 'https://www.instagram.com/p/Cbkq1-5JE9o/', 'https://www.instagram.com/p/Cbkq0BbBoz4/', 'https://www.instagram.com/p/CbkqOflJneM/', 'https://www.instagram.com/p/CbkoLpzvDQN/', 'https://www.instagram.com/p/CbkoQXaPy4U/', 'https://www.instagram.com/p/CbknPq7vpnF/', 'https://www.instagram.com/p/CbkmPYvvIao/', 'https://www.instagram.com/p/CbkksCxvFDI/', 'https://www.instagram.com/p/CbkiL2CPwKJ/', 'https://www.instagram.com/p/Cbkh6znleJF/', 'https://www.instagram.com/p/CbkhRbivyuV/', 'https://www.instagram.com/p/Cbj5ct_FGBD/', 'https://www.instagram.com/p/CbjwoNsrmXC/', 'https://www.instagram.com/p/BJC4nRbDSV-/', 'https://www.instagram.com/p/BJC4eaYjpKD/', 'https://www.instagram.com/p/Cbkf4o9PbIC/', 'https://www.instagram.com/p/Cbkbo4MvZm6/', 'https://www.instagram.com/p/CbkasW9BCkV/', 'https://www.instagram.com/p/Cbkaf6uppwf/', 'https://www.instagram.com/p/CbkaaZQBlRe/', 'https://www.instagram.com/p/CbkYRSpvFHO/', 'https://www.instagram.com/p/CbkXSGSP-oh/', 'https://www.instagram.com/p/CbkXHWlvRPL/', 'https://www.instagram.com/p/CbkW16Klgrt/', 'https://www.instagram.com/p/CbkVQWFJWmK/', 'https://www.instagram.com/p/CbkUjnqp09c/', 'https://www.instagram.com/p/CbkTzGWJ6gP/', 'https://www.instagram.com/p/CbkTaTJPmVr/', 'https://www.instagram.com/p/CbkTcyEPZtu/']\n"
     ]
    }
   ],
   "source": [
    "import csv\n",
    "import pandas as pd\n",
    "nlinks=[]\n",
    "\n",
    "with open('topposts.csv','r') as csv_file:\n",
    "    csv_reading = csv.reader(csv_file)\n",
    "    for line in csv_reading:\n",
    "        # tlink = (line[1])\n",
    "        nlinks.append(line[1])  \n",
    "        \n",
    "print(nlinks)"
   ]
  },
  {
   "cell_type": "code",
   "execution_count": 12,
   "metadata": {},
   "outputs": [
    {
     "name": "stdout",
     "output_type": "stream",
     "text": [
      "['Love the beautiful sunset 🌅\\nWe did the Giant Swing, it was exciting and I love the screaming out loud moment! So shiok! Haha..\\n\\nWe are brave! 💪\\n.\\n.\\n#sentosa #skypark #singapore #beachvibes #sentosasingapore #sentosaisland #weekendvibes #lovelymoments #giantswing #excitmentlevel💯 #sportwear #ootd #weekendouting #smileandbegrateful #smileandshine @amway.sg #xsenergy', '잠깐만 정신 놓고 신경안쓰면 목이 앞으로 빠진다…\\n돌아가야겠다 바다로..\\n.\\n.\\n.\\n.\\n.\\n.\\n.\\n.\\n.\\n.\\n.\\n.\\n.\\n#거북이 #바다 #해변 #수영복 #비키니 #여름 #싱가포르 #싱가폴라이프 #휴가 #beach #beachclubs #bikini #swimsuit #sg #singapore #sentosa #silosobeach #tattoo #holiday #dayoff #ootd', 'W Hotel Sentosa\\n#sgroadbike #sgcycling #Singapore #lovecycling #lovesingapore #cycling #trekmadone9 #trek #trekbikes #trekprojectone #madone #madoneprojectone #kaskhelmet #kaskhelmets #kaskprotone #bontragerxxx #pedalmafiasocks  #pedalmefiapjerseys #pedalmafiajersey #pedalmafiacycling #kaskutopia #roadbikes #bontrager #whotelsg #kaskutopia #whotelsingapore #sentosawhotel #sentosa #sentosacove #whotel', 'Just wound up in an abandoned cable car 🚠.', 'Heading out to the sea with Basculegion\\n\\n📸by @frolixarina\\n.\\n.\\n.\\n.\\nMore on #pokemonbugchacer\\n\\n#basculegion #legendsarceus #pokemonlegendsarceus #hisui #hisuiregion #sentosa #sentosabeach #sentosasingapore #sentosaisland #pokemon #pokemongo #pokemonart #pokemonartwork #pokemonfanart #pokemonofinstagram #pokemonartist #pokemonsingapore #singaporeinsta', '🦚\\n【国内旅行🇸🇬】\\n\\u2061\\n\\u2061\\n\\u2061\\n今週末は\\n久々のステイケーション\\nswipe👆\\n\\u2061\\n\\u2061\\n今回は\\nセントーサ島にあるソフィテルへ\\n@sofitelsingaporesentosa\\n\\u2061\\n\\u2061\\nここはBali？と思えるほど\\n大自然を満喫♡\\n\\u2061\\n\\u2061\\nお部屋は\\nPrestige Family Suite\\n\\u2061\\n娘のために\\nbirthday decorationをしてくれて\\n\\n子供用にソファベッドも◎\\n\\u2061\\n\\u2061\\n\\u2061\\n\\u2061\\nプール・レストラン・バー等は\\nまたpostしますね📝\\n\\u2061\\n\\u2061\\n\\u2061\\n\\u2061 ＿＿＿＿＿＿＿＿＿＿＿＿＿＿＿＿＿＿＿＿＿＿＿＿＿\\n\\n＼3ヶ月待ちの大人気講座／\\n【MIAインスタ講座】\\n\\u2061\\n👇7期はプロフのリンクから\\n@miosingapore\\n\\u2061 ＿＿＿＿＿＿＿＿＿＿＿＿＿＿＿＿＿＿＿＿＿＿＿＿＿\\n\\u2061\\n\\u2061\\n\\u2061\\n\\u2061\\n📍 Sofitel Singapore Sentosa Resort & Spa\\n\\u2061\\n2 Bukit Manis Road Sentosa\\n099891 Singapore\\n\\u2061\\n📱(65) 6708 8310\\n\\u2061\\n✉️ h9474@sofitel.com\\n\\u2061\\n\\u2061\\n#sofitel #sentosa #sghotel #hotelsg\\n#ソフィテル #ホテルステイ #ステイケーション #タビジョ #アラフォー女子 #アラフォーママコーデ #シンガポール #新加坡 #싱가포르 #singapour #シンガポール在住 #シンガポール生活 #インスタグラム #インスタ講師 #起業家ママ', '\\u2063\\nSky Helix Sentosa\\u2063\\nスカイヘリックスセントーサ\\u2063\\n\\u2063\\nThe triplet ducks are viewing a magnificent sunset suspended midway 12 storeys above the ground. 😳😱\\u2063\\n\\u2063\\nWe are at one of Singapore’s newest attractions, the Sky Helix at Sentosa. We bought open dated tickets last year with our Singapore Rediscover Vouchers and chose the sunset hour to do the ride. \\u2063\\n\\u2063\\nThe Sky Helix is a little round circular table with seats around it. The ride goes up to 79m, stays up there for a while before coming down again. Whole ride takes about 10 minutes for $18 per adult. The ticket comes with a canned drink, a slushie or an ice cream. We got two Fanta grape slushies & more or less finished it while we were queuing up. \\u2063\\n\\u2063\\nSoon it was our turn. We left our bags at the side and the Human brought the slushie, the phone and the cloth bag containing the triplets on the ride. After a short safety briefing, the seatbelts were fastened and off we went! \\u2063\\n\\u2063\\nThe ducks poked their heads out of the cloth bag but the Human was too scared to take them out completely in case they go falling down 12 storeys 😭😭😭. Come to think of it if they did fall and land on the ground it’s still ok. The police will draw a chalk outline round the duck - that’ll be funny 😂. But what if they landed in that hole where the table finally slots itself into the ground (see last 2 sec of video 😱😱😱). ⚰️⚰️⚰️\\u2063\\n\\u2063\\nThe ride was nice but super short! The sunset was beautiful! Everyone was busy taking photos. And then it was over. \\u2063\\n\\u2063\\nPublic service announcement for those going. This is located at the imbiah area of Sentosa which is heavily under construction. If you take the monorail to imbiah station you need to walk 20 mins uphill & up staircases on the imbiah trail to get here 🤬🤬🤬. Better to take the monorail to beach station then transfer to a bus here. \\u2063You can take a cable car too but 🤑🤑.\\n\\u2063\\nWould you be worried you’ll drop your plushie on this ride? 😱\\u2063\\n\\u2063\\n#duck #rubberduck #アヒル #ラバダック #travel #instatravel #singapore #シンガポール #beaniebaby #instaplushie 4542 #tripletducks #toyphotography #skyhelixsentosa #sentosa #attraction #ride #scenery #sunset #slushie #seatbelt #safetybriefing #heights #fearofheights #mountfaberleisure', \"Does your furkid(s) love or hates water activities? Or maybe... love-hate like Klover?\\n\\nKlover is more of a shoreline dog! She enjoys playing in the rain but swimming? Nah!\\n\\nBelle is definitely a water lover & becomes ultra whiny when she is near a sea/pool. On beach dates w their furiends, she hardly even wna leave the water. Even if she's not swimming, she stands in the water... occasionally bork bork to get her furiends to swim w her but they're on the shore w Klover most of the time 😂\\n\\nIf Belle can speak, she'd def wna have more swimming buddies and.... moreeee beach dates 😂\\n\\nBeach dates always made easier with @thestaplestudio.co's biothane leashes/collars! Super easy to clean & dry, stink proof, and you can stroll on the beach in style 😎 Honestly cleaning them up is alot of work so having fuss-free gears rly makes a big difference.\\n\\n@thestaplestudio.co | Bespoke biothane gears\\nQuote <𝗸𝗹𝗼𝘃𝗲𝗿𝗯𝗲𝗹𝗹𝗲> to save 𝟏𝟎%\", '#sentosa #fabermountainsingapore #cablecar #familytimes', \"Serving up vitamin 'C' for cocktail. 😉 Look out for our new Pineapple Mojito and Grapefruit Mojito, made with rum, the juice of each fruit, mojito syrup, mint leaves and soda, available at SGD 18++ per glass from 1 April.\\u2063\\n\\u2063\\nMake your reservations via the link in our bio. \\u2063\\n\\u2063\\n#trapizza #sentosa #cocktails #mojito #sgcocktails\", '🅷🅰🅿🅿🆈 🆂🆄🅽🅳🅰🆈🌞', 'Daddy @three_teos has surprised these 2 with a Donut 🍩 decorating class by @thecakedresser @sentosa_island .\\n\\nThe class was really very fun and interesting for the children. They were not accompanied by us, the teachers were confident that the kids would enjoy the almost 2 hrs class, and they did!\\n\\nI was still so worried that #charmerteo would be bored or that the instructions were too difficult to follow for #louisateo , but all turned out well and beautiful! Look at all those colourful sea themed donuts! They are just too beautiful to be eaten!\\n\\nTeacher Alice from @thecakedresser and her assistant were really patient and guided them so well. At least I can figure out what they were making! I was very surprised that they even requested to “go again” for the class. Bet the class was really fun for them.\\n\\n^^Keep a look out at @sentosa_island Islander website for fun activities for the kids. Slots are usually snapped up fast. So best to sign up for its newsletter 🗞.\\n\\n#sgkids #kidsofinstagram #bringyourkids #sgkidsactivities #donutsofinstagram #icingsugar #mar22ending #bakingforkids #sgmummy #sgmummyblogger #sgparents #sentosa', 'Wildlife peacock showing off 🦚\\n\\n#peacock #sentosa #singapore', 'Rancang makan makanan sihat di bulan Ramadhan.\\n\\nSupaya kekal bertenaga dan mendapat kesihatan yang lebih baik.\\n\\nSahur dengan nutrition high protein, rendah GI bantu anda bertenaga sepanjang hari.\\n\\nhttps://sites.google.com/view/kurussihat/home\\n\\n#sunifitcoach 019-522 9333\\n#loseweigth #fitnessgirl\\n\\n#teamnickhinhussien\\n#coachmalaysia #mealplanning #kurussihat #activelifestyle #fenomena\\n#resepisedap #resepikurus #privatecoaching\\n#1stepkurus #kurussebelumraya #dietsihat #skyworld #genting #sentosa #shopeesg #singaporediet #makansg #activesg #fitnesssg #fashionvaletletsg #kekalsihatsg #naelofarsg #sentosa #bajuraya #bajumelayu #malaywedding #reels', 'WAKE UP\\nNOWWWW 🥳\\nTime to play\\n@graywen\\nadapaul\\n\\n🐒🤩😈\\n\\n#uss #usssingapore #happyhour #itswounderfulday #zoe #haha #video #vlog #你猜 #sg #singapore #sentosa #islande', '👩🏼💕 Barbie Birthday 💕👩🏼\\n\\n🎂\\n🎂\\n🎂\\n\\n#sgcakes #cakessg #homebaker #birthdaycake #sgbirthdaycakes #cakedecorating #cakesingapore #fondantcake #sgfoodies #sgexpatliving #sgexpats #sgmummy #sgmummyblogger #expatkids #expatbaker #expatkidssingapore #sentosacove #sentosa #barbie #barbiecake #barbiedoll #dollcake #barbiestyle @barbiestyle #diabeticcupcake', 'Happy Sunday, guys! 💚🤍♥️\\n\\nBoo Boo & bros are back for their regular grooming session ✂️! Check out the adorable band of 🐩🐩🐩 brothers!\\n\\nAnd let us know if you and your family would like to come by for grooming. Do remember to make a booking with us in advance! 👇🏻\\n\\n📱 +65 97762614\\n\\n#march #seayousoon #family #poodle #grooming #sentosa #sentosacove #singapore #quaysideisle #petpawroni #creativepetstyling #petstyling #petpawronisentosacove #petpawronitiongbahru #petpawronihollandvillage #petpawronisingapore #petshower #daycare #doggydaycare #petboarding #petsitting #petdaycare #pettransport #doggroomingsg #petgrooming #petspa #petsupplies #dogs #dogsofinstagram', '🔥\\n\\nFollow & support our page 👉@fre_shmix\\n\\nTHIS PHOTO , VIDEO OR AUDIO IS NOT OWNED BY OURSELVES .\\n\\n🔺THE COPYRIGHT CREDIT GOES TO RESPECTIVE OWNERS .\\n\\n🔺 THIS VIDEO IS NOT USED FOR ILLEGAL SHARING OR PROFIT MAKING .\\n\\n🔺THIS VIDEO IS PURELY FAN - MADE .\\n\\n🔺IF ANY PROBLEM MSG US ON INSTAGRAM AND THE VIDEO WILL BE REMOVED .\\n\\n🔺NO NEED TO REPORT OR SEND STRIKE .\\n\\n🔺Credit / removal Dm @fre_shmix\\n\\n#unitedstudioteam #englishsongs #billieeilish #music #feel #englishsong #love #camilacabello #sentosa #michaeljackson #selenagomez #loveyourvoice #elliegoulding #alanwalkermusic #alanwalker #annemarie #martingarrix #dualipa #camilamendes #beberexha #love #netflixindia #netflix #señorita #vevo #arianagrande #attitude #arianagrandeedit #shawnmendes #girlsattitude #boysattitude pages', 'Disfruta un fin de semana diferente en tu Nuevo Depa.\\nSentosa tiene ambientes diseñados para cada miembro de tu familia.\\nPuedes contactarnos por todas nuestras plataformas digitales:\\n\\uf0fc Web: www.grupoelide.pe\\n\\uf0fc Correos: ventas@grupoelide.pe/ informes@grupoelide.pe\\n\\uf0fc Teléfonos: (51)1980524023/(51)1976352439/(51)16487880\\n#inmobiliaria#SantaCatalina #departamentos#sentosa#oportunidad', 'Bantu komentarnya dong😊\\n\\n#lagu #nyanyi #menyanyi #bocil #happy #bahagia #senang #sentosa #wajah #hiburan #kreatif #kreator', 'pt 2 of jellyfish\\n*\\n*\\n*\\n#photography #photo #potd #photooftheday #picoftheday #photogram #instagood #jellyfish #seaaquarium #seaaquariumsingapore #aquarium #light #color #snapseed #lightroom #singapore #sg #sentosa #camera #nikon #nikond3500', \"I had so much fun this evening on the luge! Can't wait to be taller so I can ride my own next time. The skyride brought me high up into the sky and I had zero fear. Looking down spotting things/ppl.\\n\\n#onglet\\n#sgbaby #sgkids #sgbabyboy\\n#sgbabies #babiesofinstagram\\n#sgtoddler #activebaby #instababy #sentosa #luge #familytime #weekendactivity\", 'Trick or treat. A trip to trickeye\\nWas a nice time spent on photoshoot. There was a disappointment in terms of the new setup compared to the original, but that was fine.\\n\\n#shotonhuawei #huaweimate20pro #shyaamsphotography #shyaamsundar #trickeyemuseum #sentosa #silosobeach #waxmuseum #madamtussauds #singaporephotographyclub #indianphotographers #hongkong #malaysia #singaporetourism #reopenborder #Chennai #kerala #karnataka #andhra #italy #europe #canada #Mallu #endamicshopping #covidtravel2022 #meditativephotography #dailymeditation #photooftheday', 'Assalamualaikum kami dari IS SERVICE ada menyediakan perkhidmatan jumper kereta, penghantaran petrol, dan pemeriksaan bateri kereta (fully inspection) dengan harga yang berpatutan\\n\\nMinyak kereta habis?\\nKereta perlu jumpstart?\\nNak buat pemeriksaan bateri?\\n\\nCall/whatsapp je kami!!\\n\\nWaktu Operasi :\\n7.00 am - 12.00 am\\n(Isnin - Ahad)\\n\\nHubungi kami atau whatsapp di no 01161013502\\n\\n#klang #sungaiudang #bukittinggi #bukitraja #bandarbukitraja #meru #kapar #setiaalam #setiacitymall #shahalam #portklang #pulauindah\\n#jalanyadi #kgdelek #pekankapar #pekanmeru #jalanpaip #sentosa #botanik', 'Good vibes..💫\\n.\\n.\\n.\\n#photooftheday #singapore #faberpoint #sentosa #singaporeinsiders #travelling #traveladdict #positivity #goodvibes #instapost #westernwear #green #trending #reliancetrends #explorer #happiness #music #india #bongbeauties #follow4followback #likeforlikes', '<What am I doing at the back???>\\nScroll to see the next 2 photos to know why? 🤣🤣🤣\\n\\nWhenever got chance, I just got to practice taking the iconic Jeremy bro shot! (@jeremy.leeks ) Still far from a satisfactory result but I will work hard💪\\n\\nThankful that my wife @joanwong_sc let me spend some time for these practices. Haha.\\n\\nWell spent day exploring Sentosa coastal trail. Though its a short walk, with all the other activities which happen thereafter, it ended up as a fulfilling day.\\n\\nUltimately, \"Its not the activities that matter, its who you do it with\"😊 Blessed.\\n\\nAlso carrying Gaston Luga SPLÄSH 16\\'\\' backpack in the Olive green colorway. Love the stylish and minimalist design, its great functionality as well as being very comfortable. Do check them out @gastonluga\\n\\n#GastonLuga #AnywherewithGL #explore #coastal #photography #practice #enjoy #blessing #singapore #igsg #sentosa #shoestagram #stylish #backpack', 'Once upon a sunset 😍\\n\\n@uhtred_schnoodle\\n\\n#singaporesunset #singapore #dogventure #sentosa #citydwelling #islandlife #tropics #foreversummer #sunsets #samsungphotography #samsungfilter #latepost', 'Night 🏖💜\\n#helloweekend❤️#exploresingapore#weekendvibes💕#silosobeach#nightbeach#sentosa#singapore2022🇸🇬🇲🇨', 'Sun+ Sand+Sea = Happiness 😍\\n\\n#olabeachclub #sentosa #sonya7iii #portrait', 'I walked to #sentosa for tapas today. Saw many interesting plants and animals', 'give me one thing you’re thankful for\\n————————————————————————\\n#sentosa #beach #palmtrees #beachvibes #sentosabeach #tanjongbeach #singapore #southeast #asia #hot #weather #beautiful #view #asian #travel #travelphotography #viajar #explore #damn #photography #instagram #instagood #instadaily #pictureoftheday #traveltheworld #travelgram #traveling #freedom #enjoy', '小时候以为平安健康事客套话，长大以后才发现，这原来是最好的祝福㊗️ #thebarrackshotel #barrackshotel #sentosasingapore #sentosa #singapore', 'Night skyline (View from Fort Siloso, Sentosa)\\n.\\n.\\n.\\n#sentosa #fortsilososkywalk #southsideinterimmarket #dinnerspot #breezynight #night #skyline #singapore\\n\\n📷: @alantang81', 'Sea art 🐠🦈🐡🐬#saturdayafternoon #singaporevoucher #outing #gathering #sentosa #sentosaisland #aquarium #seacreatures #jellyfish #colorfulcoral #sharks #lionfish #dolphins #swimming #effortless #peaceful #colorful #beautiful #blue #naturebeauty #extraordinary #beachwalk #lightshow #weekendvibes #nightswim #sandbeach #youngatheart #outdooractivities #hotday #humidday', 'Vibes of multiple feelings ! 🌊\\n#beach #sentosa #sun #sea', 'Our never-ending trips to @sentosa_island this month.\\n\\nThis week we try out kayaking and after that went to Headrock VR that has shifted to a new venue at Southside and tried the Hello My Dino new kids media interactive zone. The playing sections are: Alive My Dino, Catching My Dino, Shoot! The Bubble POP! & Dino Hill. We, the youngs at heart also maximised our time and fully played every zone to our hearts content as it was not crowded inside.\\n\\nYesterday, we were back to Adventure Cove Waterpark and thanks to @elyn_ayl for being so spontaneous in joining us at the last minute, it was so much more fun to play with friends. Ended the TGIF week with a Korean bbq. Happy tummies, happy mummies.\\n\\nMore Sentosa activities coming up next week! Super Power Us 💪, we are so shagged out!\\n\\n#sentosa #sentosa50 #discoveryneverending #goldenjubilee #sunsandsea\\n#kayaking #adventurecovewaterpark #koreanbbq #headrockvr #hellomydino #power26marsat #mar22ending', \"18 to 20 #March2022\\nFriyay to Sunday\\n\\nLongest #staycation @sofitelsingaporesentosa for #Ollie and #Janvie to celebrate hooman pawrent's birthday.\\n\\nOne highlight this round was the over #friendly #peacock. He kept visiting #Ollie. Being a BT, #Ollie was most friendly. Fur or #feather type - both can be friends.\\n\\n#JuneSeppyOllieJanvie\\n#dogoftheday #doglover\\n#dogofthedayjp\\n#doggiepics\\n#Bostonterrier\\n#Bostonterriers\\n#Bostonterrierlover\\n#BostonterrierSingapore\\n#SingaporeBostonterrier\\n#Bostonterrierlover\\n#bostonterrieroftheday\\n#bostonterrierofinstagram\\n#ボストンテリア\\n#sgdog #sgdoglovers\\n#sgdogs #sgdoglover\\n#dogofSG #doggymodel\\n#SENTOSA\\n#sofitelsingaporesentosa\\n#furkidretreat\", \"18 to 20 #March2022\\nFriyay to Sunday\\n\\nLongest #staycation @sofitelsingaporesentosa for #Ollie and #Janvie to celebrate hooman pawrent's birthday.\\n\\nOllie and Janvie were most happy to be here again.\\n\\nHowever this could be our last stay here as pawrents had hard time obtaining approval for pawcation during weekends. Despite calling before booking, pawrent was informed no pawcation during weekends and this would be the last stay on special grounds.\\n\\nhaiz.\\n\\n#JuneSeppyOllieJanvie\\n#dogoftheday #doglover\\n#dogofthedayjp\\n#doggiepics\\n#Bostonterrier\\n#Bostonterriers\\n#Bostonterrierlover\\n#BostonterrierSingapore\\n#SingaporeBostonterrier\\n#Bostonterrierlover\\n#bostonterrieroftheday\\n#bostonterrierofinstagram\\n#ボストンテリア\\n#Papillon #papillons\\n#PapillonSingapore\\n#SingaporePapillon\\n#instapapillion\\n#papillionlover\\n#dogoftheday #doglover\\n#dogofthedayjp\\n#papillonoftheday\\n#パピヨン\\n#SENTOSA\\n#sofitelsingaporesentosa\\n#furkidretreat\", 'Great view! #sentosaisland\\n\\n#singapore #singapore🇸🇬 #waterfall #waterfalls #waterfeature #travelpics #travelphotography #travelinspiration #travelgram #traveling #travelblogger #traveladdict #travelblog #visitsingapore #tourism #tourismsingapore #photography #sentosa #beautiful #worldshotz #world #worldtravel #worldplaces #worldtraveler', \"It's like going to a nature reserve only a 5 minute walk from city streets #sentosaisland\\n\\n#singapore #singapore🇸🇬 #singaporelife #sentosa #travel #travelinspiration #travelphotography #travelpics #travelgram #travelblogger #tourism #touristattraction #tourist #tourismsingapore #visitsingapore #world #worldplaces #worldshotz #worldtravel #photography #travelmore\", 'Beautiful view... #cablecar #sentosa #mountfaberline #weekends #sunset', 'Our trip last week to sea aquarium, back again after visited when it juz opened #seaaquariumsingapore #marchouting #weekendwalk #singaporeattractions #sentosa #rws', \"People who can't manage their own bodies are not qualified to manage others; How can a person who can't manage his own health manage his career well\\n#marinabeach#sentosa\", 'Ssshhhhhh...best mai ga pelamin tu suba❤️❤️❤️\\n#Sentosa\\n\\nMaya nya...single amat ses🤮🤮🤮digiga sida @[100009803438840:Josephine Jatai] ni ses tan...sigi enda tan🤣🤣🤣tabun2 lahi pulai sibujaya jam 7.30 lemai🤣🤣🤣baik agi ngelala jalai pulai🤣🤣\\nSigi bulih tahan @[100017308509753:Macprehelna Roland Roland] maya tok🤣🤣🤣\\n\\n#December2021', 'รูปยังไม่หมด 💙\\U0001fae3 #Sentosa #sofitelsentosa #singapore #bikini', '🏝 so hot #silosobeach #sentosa 🇸🇬', \"Familia ✨\\n\\nToday's my Parent's Birthday :) To be honest, it has been a while since I had a family bonding time such as playing frisbee with my dad. Coming here was an eye-opener for me. I was a fool fooling around and hanging out with my friends unaware of what my parents best think for me. Now, instead of fooling around, I think quality time with my family brings out the most happiness out of me. Just do things of what makes you truly happy. Don't live under the weights of others. Live your life meaningfully ✨.\\n\\n#family #familytime #sentosa #singapore #silosobeach #silosobeachresort #lifequotes #life #liveyourlifefree #justdoit #dontstop #itkeepsgettingbetter #itwillgetbetter #magiciseverywhere #fightforwhatyoubelievein #fightforwhatyouwant #liveforyourself\", '♪\\n\\nSentosaであっわ泡のタイガービールをいただきました🍺✨\\nSentosa cold storageのイースターグッズも可愛かった🥚😍\\n\\n2022年のイースターは、4月17日だそうです（イースターがよく分かっていない人🐇🥚💦）\\n\\n#honestmistake #sentosa #oyster #sglife #greenwoodfishmarket#イースター#Easter#泡のビール#beer#beerlover #tigerbeer #イースターエッグ #イースターがよくわからない#カキ#牡蠣#牡蠣にあたってもまた食べる#牡蠣にあたったことがある#辛いおもひで', 'Beautiful sunset in Sentosa. #sentosa #tanjongbeachclub #singapore #sunsetlovers', \"It's easy to be unhappy when I get home comfortably. It's not that I'm sentimental. The real loneliness is real. Sometimes I feel that I won't be afraid as long as my friends or people I like have more homework around me.\\n#marinabarrage #Sentosa\", 'Doing what you like to do, listening to warm music, going out for fun, and looking at the scenery of life are also a kind of pleasant way. Go out for a walk with friends, and communicate with each other.#Sentosa\\n#singapore', '#universalstudios #singapore #travel #sentosa #travelgram #marinabaysands #travelphotography #sentosaisland #universalstudiosingapore #wanderlust #photography #asia #universalstudiossingapore #instagood #holiday #uss #gardensbythebay #travelblogger #trip #instagram #love #instatravel #photooftheday #vacation #fun #travelholic #visitsingapore #merlion #traveller #travelling', '#sentosa #singapore #travel #sentosaisland #marinabaysands #asia #beach #merlion #universalstudios #travelphotography #holiday #travelgram #gardensbythebay #photography #vacation #wanderlust #love #photooftheday #nature #instagood #island #visitsingapore #instatravel #travelling #sg #シンガポール #trip #sea #travelblogger #instagram']\n"
     ]
    }
   ],
   "source": [
    "import csv\n",
    "import pandas as pd\n",
    "PostNumber2 = []\n",
    "with open('topposts.csv','r') as csv_file:\n",
    "    csv_reading = csv.reader(csv_file)\n",
    "\n",
    "\n",
    "    for line in csv_reading:\n",
    "        links = line[1]\n",
    "        try:\n",
    "            time.sleep(1)\n",
    "            Page = driver.get(links)\n",
    "            PostNumber = driver.find_element_by_xpath('//*[@id=\"react-root\"]/section/main/div/div[1]/article/div/div[2]/div/div[2]/div[1]/ul/div/li/div/div/div[2]/div[1]')\n",
    "            \n",
    "            PostNumber2.append(PostNumber.text)\n",
    "            # print(PostNumber2)\n",
    "        except Exception as e:\n",
    "            Page = None\n",
    "           \n"
   ]
  },
  {
   "cell_type": "code",
   "execution_count": 13,
   "metadata": {},
   "outputs": [
    {
     "name": "stdout",
     "output_type": "stream",
     "text": [
      "                                                Posts\n",
      "0   Love the beautiful sunset 🌅\\nWe did the Giant ...\n",
      "1   잠깐만 정신 놓고 신경안쓰면 목이 앞으로 빠진다…\\n돌아가야겠다 바다로..\\n.\\n...\n",
      "2   W Hotel Sentosa\\n#sgroadbike #sgcycling #Singa...\n",
      "3          Just wound up in an abandoned cable car 🚠.\n",
      "4   Heading out to the sea with Basculegion\\n\\n📸by...\n",
      "5   🦚\\n【国内旅行🇸🇬】\\n⁡\\n⁡\\n⁡\\n今週末は\\n久々のステイケーション\\nswipe...\n",
      "6   ⁣\\nSky Helix Sentosa⁣\\nスカイヘリックスセントーサ⁣\\n⁣\\nThe ...\n",
      "7   Does your furkid(s) love or hates water activi...\n",
      "8   #sentosa #fabermountainsingapore #cablecar #fa...\n",
      "9   Serving up vitamin 'C' for cocktail. 😉 Look ou...\n",
      "10                                      🅷🅰🅿🅿🆈 🆂🆄🅽🅳🅰🆈🌞\n",
      "11  Daddy @three_teos has surprised these 2 with a...\n",
      "12  Wildlife peacock showing off 🦚\\n\\n#peacock #se...\n",
      "13  Rancang makan makanan sihat di bulan Ramadhan....\n",
      "14  WAKE UP\\nNOWWWW 🥳\\nTime to play\\n@graywen\\nada...\n",
      "15  👩🏼💕 Barbie Birthday 💕👩🏼\\n\\n🎂\\n🎂\\n🎂\\n\\n#sgcakes...\n",
      "16  Happy Sunday, guys! 💚🤍♥️\\n\\nBoo Boo & bros are...\n",
      "17  🔥\\n\\nFollow & support our page 👉@fre_shmix\\n\\n...\n",
      "18  Disfruta un fin de semana diferente en tu Nuev...\n",
      "19  Bantu komentarnya dong😊\\n\\n#lagu #nyanyi #meny...\n",
      "20  pt 2 of jellyfish\\n*\\n*\\n*\\n#photography #phot...\n",
      "21  I had so much fun this evening on the luge! Ca...\n",
      "22  Trick or treat. A trip to trickeye\\nWas a nice...\n",
      "23  Assalamualaikum kami dari IS SERVICE ada menye...\n",
      "24  Good vibes..💫\\n.\\n.\\n.\\n#photooftheday #singap...\n",
      "25  <What am I doing at the back???>\\nScroll to se...\n",
      "26  Once upon a sunset 😍\\n\\n@uhtred_schnoodle\\n\\n#...\n",
      "27  Night 🏖💜\\n#helloweekend❤️#exploresingapore#wee...\n",
      "28  Sun+ Sand+Sea = Happiness 😍\\n\\n#olabeachclub #...\n",
      "29  I walked to #sentosa for tapas today. Saw many...\n",
      "30  give me one thing you’re thankful for\\n———————...\n",
      "31  小时候以为平安健康事客套话，长大以后才发现，这原来是最好的祝福㊗️ #thebarracks...\n",
      "32  Night skyline (View from Fort Siloso, Sentosa)...\n",
      "33  Sea art 🐠🦈🐡🐬#saturdayafternoon #singaporevouch...\n",
      "34  Vibes of multiple feelings ! 🌊\\n#beach #sentos...\n",
      "35  Our never-ending trips to @sentosa_island this...\n",
      "36  18 to 20 #March2022\\nFriyay to Sunday\\n\\nLonge...\n",
      "37  18 to 20 #March2022\\nFriyay to Sunday\\n\\nLonge...\n",
      "38  Great view! #sentosaisland\\n\\n#singapore #sing...\n",
      "39  It's like going to a nature reserve only a 5 m...\n",
      "40  Beautiful view... #cablecar #sentosa #mountfab...\n",
      "41  Our trip last week to sea aquarium, back again...\n",
      "42  People who can't manage their own bodies are n...\n",
      "43  Ssshhhhhh...best mai ga pelamin tu suba❤️❤️❤️\\...\n",
      "44  รูปยังไม่หมด 💙🫣 #Sentosa #sofitelsentosa #sing...\n",
      "45                  🏝 so hot #silosobeach #sentosa 🇸🇬\n",
      "46  Familia ✨\\n\\nToday's my Parent's Birthday :) T...\n",
      "47  ♪\\n\\nSentosaであっわ泡のタイガービールをいただきました🍺✨\\nSentosa c...\n",
      "48  Beautiful sunset in Sentosa. #sentosa #tanjong...\n",
      "49  It's easy to be unhappy when I get home comfor...\n",
      "50  Doing what you like to do, listening to warm m...\n",
      "51  #universalstudios #singapore #travel #sentosa ...\n",
      "52  #sentosa #singapore #travel #sentosaisland #ma...\n"
     ]
    }
   ],
   "source": [
    "dff = pd.DataFrame(PostNumber2,columns=[\"Posts\"])\n",
    "print(dff)\n",
    "dff.to_csv('posts.csv')\n"
   ]
  },
  {
   "cell_type": "code",
   "execution_count": 9,
   "metadata": {},
   "outputs": [
    {
     "ename": "NoSuchElementException",
     "evalue": "Message: no such element: Unable to locate element: {\"method\":\"xpath\",\"selector\":\"//span[@title='Edited']\"}\n  (Session info: chrome=99.0.4844.84)\n",
     "output_type": "error",
     "traceback": [
      "\u001b[1;31m---------------------------------------------------------------------------\u001b[0m",
      "\u001b[1;31mNoSuchElementException\u001b[0m                    Traceback (most recent call last)",
      "\u001b[1;32m~\\AppData\\Local\\Temp/ipykernel_17840/3118339361.py\u001b[0m in \u001b[0;36m<module>\u001b[1;34m\u001b[0m\n\u001b[0;32m      8\u001b[0m         \u001b[1;31m# shortcode = driver.current_url.split(\"/\")[-2]\u001b[0m\u001b[1;33m\u001b[0m\u001b[1;33m\u001b[0m\u001b[1;33m\u001b[0m\u001b[0m\n\u001b[0;32m      9\u001b[0m         \u001b[0mtime\u001b[0m\u001b[1;33m.\u001b[0m\u001b[0msleep\u001b[0m\u001b[1;33m(\u001b[0m\u001b[1;36m7\u001b[0m\u001b[1;33m)\u001b[0m\u001b[1;33m\u001b[0m\u001b[1;33m\u001b[0m\u001b[0m\n\u001b[1;32m---> 10\u001b[1;33m         \u001b[0mdesc_text\u001b[0m \u001b[1;33m=\u001b[0m \u001b[0mdriver\u001b[0m\u001b[1;33m.\u001b[0m\u001b[0mfind_element_by_xpath\u001b[0m\u001b[1;33m(\u001b[0m\u001b[1;34m\"//span[@title='Edited']\"\u001b[0m\u001b[1;33m)\u001b[0m\u001b[1;33m.\u001b[0m\u001b[0mtext\u001b[0m\u001b[1;33m\u001b[0m\u001b[1;33m\u001b[0m\u001b[0m\n\u001b[0m\u001b[0;32m     11\u001b[0m         \u001b[0mprint\u001b[0m\u001b[1;33m(\u001b[0m\u001b[0mdesc_text\u001b[0m\u001b[1;33m)\u001b[0m\u001b[1;33m\u001b[0m\u001b[1;33m\u001b[0m\u001b[0m\n\u001b[0;32m     12\u001b[0m         \u001b[1;31m# if driver.find_element_by_css_selector(\"img[style='object-fit: cover;']\") is not None:\u001b[0m\u001b[1;33m\u001b[0m\u001b[1;33m\u001b[0m\u001b[1;33m\u001b[0m\u001b[0m\n",
      "\u001b[1;32m~\\miniconda3\\envs\\comV\\lib\\site-packages\\selenium\\webdriver\\remote\\webdriver.py\u001b[0m in \u001b[0;36mfind_element_by_xpath\u001b[1;34m(self, xpath)\u001b[0m\n\u001b[0;32m    392\u001b[0m             \u001b[0melement\u001b[0m \u001b[1;33m=\u001b[0m \u001b[0mdriver\u001b[0m\u001b[1;33m.\u001b[0m\u001b[0mfind_element_by_xpath\u001b[0m\u001b[1;33m(\u001b[0m\u001b[1;34m'//div/td[1]'\u001b[0m\u001b[1;33m)\u001b[0m\u001b[1;33m\u001b[0m\u001b[1;33m\u001b[0m\u001b[0m\n\u001b[0;32m    393\u001b[0m         \"\"\"\n\u001b[1;32m--> 394\u001b[1;33m         \u001b[1;32mreturn\u001b[0m \u001b[0mself\u001b[0m\u001b[1;33m.\u001b[0m\u001b[0mfind_element\u001b[0m\u001b[1;33m(\u001b[0m\u001b[0mby\u001b[0m\u001b[1;33m=\u001b[0m\u001b[0mBy\u001b[0m\u001b[1;33m.\u001b[0m\u001b[0mXPATH\u001b[0m\u001b[1;33m,\u001b[0m \u001b[0mvalue\u001b[0m\u001b[1;33m=\u001b[0m\u001b[0mxpath\u001b[0m\u001b[1;33m)\u001b[0m\u001b[1;33m\u001b[0m\u001b[1;33m\u001b[0m\u001b[0m\n\u001b[0m\u001b[0;32m    395\u001b[0m \u001b[1;33m\u001b[0m\u001b[0m\n\u001b[0;32m    396\u001b[0m     \u001b[1;32mdef\u001b[0m \u001b[0mfind_elements_by_xpath\u001b[0m\u001b[1;33m(\u001b[0m\u001b[0mself\u001b[0m\u001b[1;33m,\u001b[0m \u001b[0mxpath\u001b[0m\u001b[1;33m)\u001b[0m\u001b[1;33m:\u001b[0m\u001b[1;33m\u001b[0m\u001b[1;33m\u001b[0m\u001b[0m\n",
      "\u001b[1;32m~\\miniconda3\\envs\\comV\\lib\\site-packages\\selenium\\webdriver\\remote\\webdriver.py\u001b[0m in \u001b[0;36mfind_element\u001b[1;34m(self, by, value)\u001b[0m\n\u001b[0;32m    974\u001b[0m                 \u001b[0mby\u001b[0m \u001b[1;33m=\u001b[0m \u001b[0mBy\u001b[0m\u001b[1;33m.\u001b[0m\u001b[0mCSS_SELECTOR\u001b[0m\u001b[1;33m\u001b[0m\u001b[1;33m\u001b[0m\u001b[0m\n\u001b[0;32m    975\u001b[0m                 \u001b[0mvalue\u001b[0m \u001b[1;33m=\u001b[0m \u001b[1;34m'[name=\"%s\"]'\u001b[0m \u001b[1;33m%\u001b[0m \u001b[0mvalue\u001b[0m\u001b[1;33m\u001b[0m\u001b[1;33m\u001b[0m\u001b[0m\n\u001b[1;32m--> 976\u001b[1;33m         return self.execute(Command.FIND_ELEMENT, {\n\u001b[0m\u001b[0;32m    977\u001b[0m             \u001b[1;34m'using'\u001b[0m\u001b[1;33m:\u001b[0m \u001b[0mby\u001b[0m\u001b[1;33m,\u001b[0m\u001b[1;33m\u001b[0m\u001b[1;33m\u001b[0m\u001b[0m\n\u001b[0;32m    978\u001b[0m             'value': value})['value']\n",
      "\u001b[1;32m~\\miniconda3\\envs\\comV\\lib\\site-packages\\selenium\\webdriver\\remote\\webdriver.py\u001b[0m in \u001b[0;36mexecute\u001b[1;34m(self, driver_command, params)\u001b[0m\n\u001b[0;32m    319\u001b[0m         \u001b[0mresponse\u001b[0m \u001b[1;33m=\u001b[0m \u001b[0mself\u001b[0m\u001b[1;33m.\u001b[0m\u001b[0mcommand_executor\u001b[0m\u001b[1;33m.\u001b[0m\u001b[0mexecute\u001b[0m\u001b[1;33m(\u001b[0m\u001b[0mdriver_command\u001b[0m\u001b[1;33m,\u001b[0m \u001b[0mparams\u001b[0m\u001b[1;33m)\u001b[0m\u001b[1;33m\u001b[0m\u001b[1;33m\u001b[0m\u001b[0m\n\u001b[0;32m    320\u001b[0m         \u001b[1;32mif\u001b[0m \u001b[0mresponse\u001b[0m\u001b[1;33m:\u001b[0m\u001b[1;33m\u001b[0m\u001b[1;33m\u001b[0m\u001b[0m\n\u001b[1;32m--> 321\u001b[1;33m             \u001b[0mself\u001b[0m\u001b[1;33m.\u001b[0m\u001b[0merror_handler\u001b[0m\u001b[1;33m.\u001b[0m\u001b[0mcheck_response\u001b[0m\u001b[1;33m(\u001b[0m\u001b[0mresponse\u001b[0m\u001b[1;33m)\u001b[0m\u001b[1;33m\u001b[0m\u001b[1;33m\u001b[0m\u001b[0m\n\u001b[0m\u001b[0;32m    322\u001b[0m             response['value'] = self._unwrap_value(\n\u001b[0;32m    323\u001b[0m                 response.get('value', None))\n",
      "\u001b[1;32m~\\miniconda3\\envs\\comV\\lib\\site-packages\\selenium\\webdriver\\remote\\errorhandler.py\u001b[0m in \u001b[0;36mcheck_response\u001b[1;34m(self, response)\u001b[0m\n\u001b[0;32m    240\u001b[0m                 \u001b[0malert_text\u001b[0m \u001b[1;33m=\u001b[0m \u001b[0mvalue\u001b[0m\u001b[1;33m[\u001b[0m\u001b[1;34m'alert'\u001b[0m\u001b[1;33m]\u001b[0m\u001b[1;33m.\u001b[0m\u001b[0mget\u001b[0m\u001b[1;33m(\u001b[0m\u001b[1;34m'text'\u001b[0m\u001b[1;33m)\u001b[0m\u001b[1;33m\u001b[0m\u001b[1;33m\u001b[0m\u001b[0m\n\u001b[0;32m    241\u001b[0m             \u001b[1;32mraise\u001b[0m \u001b[0mexception_class\u001b[0m\u001b[1;33m(\u001b[0m\u001b[0mmessage\u001b[0m\u001b[1;33m,\u001b[0m \u001b[0mscreen\u001b[0m\u001b[1;33m,\u001b[0m \u001b[0mstacktrace\u001b[0m\u001b[1;33m,\u001b[0m \u001b[0malert_text\u001b[0m\u001b[1;33m)\u001b[0m\u001b[1;33m\u001b[0m\u001b[1;33m\u001b[0m\u001b[0m\n\u001b[1;32m--> 242\u001b[1;33m         \u001b[1;32mraise\u001b[0m \u001b[0mexception_class\u001b[0m\u001b[1;33m(\u001b[0m\u001b[0mmessage\u001b[0m\u001b[1;33m,\u001b[0m \u001b[0mscreen\u001b[0m\u001b[1;33m,\u001b[0m \u001b[0mstacktrace\u001b[0m\u001b[1;33m)\u001b[0m\u001b[1;33m\u001b[0m\u001b[1;33m\u001b[0m\u001b[0m\n\u001b[0m\u001b[0;32m    243\u001b[0m \u001b[1;33m\u001b[0m\u001b[0m\n\u001b[0;32m    244\u001b[0m     \u001b[1;32mdef\u001b[0m \u001b[0m_value_or_default\u001b[0m\u001b[1;33m(\u001b[0m\u001b[0mself\u001b[0m\u001b[1;33m,\u001b[0m \u001b[0mobj\u001b[0m\u001b[1;33m,\u001b[0m \u001b[0mkey\u001b[0m\u001b[1;33m,\u001b[0m \u001b[0mdefault\u001b[0m\u001b[1;33m)\u001b[0m\u001b[1;33m:\u001b[0m\u001b[1;33m\u001b[0m\u001b[1;33m\u001b[0m\u001b[0m\n",
      "\u001b[1;31mNoSuchElementException\u001b[0m: Message: no such element: Unable to locate element: {\"method\":\"xpath\",\"selector\":\"//span[@title='Edited']\"}\n  (Session info: chrome=99.0.4844.84)\n"
     ]
    }
   ],
   "source": [
    "#get videos and images\n",
    "\n",
    "\n",
    "\n",
    "download_url = ''\n",
    "for post in nlinks:\t\n",
    "\tdriver.get(post)\n",
    "\tshortcode = driver.current_url.split(\"/\")[-2]\n",
    "\ttime.sleep(7)\n",
    "\tdesc_text = driver.find_element_by_xpath(\"//span[@title='Edited']\").text\n",
    "\tprint(desc_text)\n",
    "\tif driver.find_element_by_xpath('//*[@id=\"react-root\"]/section/main/div/div[1]/article/div/div[2]/div/div[2]/div[1]/ul/div/li/div/div/div[2]/div[1]') is not None:\n",
    "\n",
    "\tif driver.find_element_by_css_selector(\"img[style='object-fit: cover;']\") is not None:\n",
    "\t\tdownload_url = driver.find_element_by_css_selector(\"img[style='object-fit: cover;']\").get_attribute('src')\n",
    "\t\turllib.request.urlretrieve( download_url, '{}.jpg'.format(shortcode))\n",
    "\telse:\n",
    "\t\tdownload_url = driver.find_element_by_css_selector(\"video[type='video/mp4']\").get_attribute('src')\n",
    "\t\turllib.request.urlretrieve( download_url, '{}.mp4'.format(shortcode))\n",
    "\ttime.sleep(5)\n"
   ]
  }
 ],
 "metadata": {
  "interpreter": {
   "hash": "305e5c28bf7b0188bc1830bcbbfc91c3d01979d2e85f2ac14088dfdb07c34142"
  },
  "kernelspec": {
   "display_name": "Python 3.8.12 ('comV')",
   "language": "python",
   "name": "python3"
  },
  "language_info": {
   "codemirror_mode": {
    "name": "ipython",
    "version": 3
   },
   "file_extension": ".py",
   "mimetype": "text/x-python",
   "name": "python",
   "nbconvert_exporter": "python",
   "pygments_lexer": "ipython3",
   "version": "3.8.12"
  },
  "orig_nbformat": 4
 },
 "nbformat": 4,
 "nbformat_minor": 2
}
