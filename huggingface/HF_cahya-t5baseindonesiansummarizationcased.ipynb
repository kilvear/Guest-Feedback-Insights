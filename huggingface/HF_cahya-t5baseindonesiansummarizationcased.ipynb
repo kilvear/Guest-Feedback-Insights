{
 "cells": [
  {
   "cell_type": "markdown",
   "id": "a3bdf611",
   "metadata": {},
   "source": [
    "# How to run on Nvidia DGX Server\n",
    "Note: Change device to your own allocation and change foldername to your own folder name\n",
    "1. docker run -it --gpus '\"device=6:1\"' -p 8837:8888 -v ~/foldername:/workspace luqman_tf_capstone\n",
    "2. jupyter lab\n",
    "3. Open tunneling to 8837\n",
    "4. In browser, localhost:8837\n",
    "5. Copy paste token in link after \"=\" (http://hostname:8888/?token=8432d328f5b6d6ecabcffdd4f5a586a78775352442fd26af)"
   ]
  },
  {
   "cell_type": "markdown",
   "id": "c183c93a",
   "metadata": {},
   "source": [
    "# HuggingFace - cahya/t5-base-indonesian-summarization-cased"
   ]
  },
  {
   "cell_type": "code",
   "execution_count": 2,
   "id": "624f87fe",
   "metadata": {},
   "outputs": [],
   "source": [
    "test = \"overall memang best.tapi , masa pagi had bad experience dlm game river raft.waiting dalam 1hour.then ada announcement kate ade issue dan game delay dan ambil mase yang lame.wth 🤬 kami deh beratur lame , then ada issue begitu , sepatotnye pihak rws beri express pass pada yang menunggu lama untuk game river raft tu . then bolehla kami waiting untuk game yang lain pula . dahla ambil mase kat river raft , then , waiting untuk game lain pon ambil mase yang lame .. mmg kat situ je deh jammed la.masa dahla terhad . dapat main river raft semula pada lewat ptg sblm uss deh nak tutup😣 tidak dapat nak main semua game.tiket dahla mahal.tp setiap game dapat main 1 sahaja ? tu pon bukan semua game dapat kami main.meet & greet/tayangan2 seperti waterworld dan lain2 , tidak dapat nak menjenguk pon disebabkan ambil mase waiting untuk game2 yang kene beratur tu😑 kire hnye beberape game shjla dapat main.dahla panas satu hal.please rws🙏tingkatkan lah lagi servis yang sedia ade ke tahap yang lebih boom setanding dengan harga tiket yang deh kami bayar\""
   ]
  },
  {
   "cell_type": "code",
   "execution_count": 3,
   "id": "f29836a9",
   "metadata": {},
   "outputs": [],
   "source": [
    "from transformers import pipeline"
   ]
  },
  {
   "cell_type": "code",
   "execution_count": 4,
   "id": "c8407ac6",
   "metadata": {},
   "outputs": [],
   "source": [
    "pretrained_name = \"cahya/t5-base-indonesian-summarization-cased\""
   ]
  },
  {
   "cell_type": "code",
   "execution_count": 5,
   "id": "60e89154",
   "metadata": {},
   "outputs": [
    {
     "data": {
      "application/vnd.jupyter.widget-view+json": {
       "model_id": "61b711c9cc8a414a9c7d95624e830634",
       "version_major": 2,
       "version_minor": 0
      },
      "text/plain": [
       "Downloading:   0%|          | 0.00/657 [00:00<?, ?B/s]"
      ]
     },
     "metadata": {},
     "output_type": "display_data"
    },
    {
     "data": {
      "application/vnd.jupyter.widget-view+json": {
       "model_id": "1816854e4b7e4fbe9ddd50be23526b17",
       "version_major": 2,
       "version_minor": 0
      },
      "text/plain": [
       "Downloading:   0%|          | 0.00/892M [00:00<?, ?B/s]"
      ]
     },
     "metadata": {},
     "output_type": "display_data"
    },
    {
     "data": {
      "application/vnd.jupyter.widget-view+json": {
       "model_id": "404b771e87d145dd967b463c63669a04",
       "version_major": 2,
       "version_minor": 0
      },
      "text/plain": [
       "Downloading:   0%|          | 0.00/2.07k [00:00<?, ?B/s]"
      ]
     },
     "metadata": {},
     "output_type": "display_data"
    },
    {
     "data": {
      "application/vnd.jupyter.widget-view+json": {
       "model_id": "14332df81a084ada9042831269336785",
       "version_major": 2,
       "version_minor": 0
      },
      "text/plain": [
       "Downloading:   0%|          | 0.00/793k [00:00<?, ?B/s]"
      ]
     },
     "metadata": {},
     "output_type": "display_data"
    },
    {
     "data": {
      "application/vnd.jupyter.widget-view+json": {
       "model_id": "f6056efb1b8b495c859d7959906215ab",
       "version_major": 2,
       "version_minor": 0
      },
      "text/plain": [
       "Downloading:   0%|          | 0.00/1.79k [00:00<?, ?B/s]"
      ]
     },
     "metadata": {},
     "output_type": "display_data"
    }
   ],
   "source": [
    "nlp = pipeline(\"summarization\",\n",
    "              model=pretrained_name,\n",
    "              tokenizer=pretrained_name)"
   ]
  },
  {
   "cell_type": "code",
   "execution_count": 7,
   "id": "8132eec4",
   "metadata": {},
   "outputs": [],
   "source": [
    "test_summary = nlp(test, min_length=5, max_length=80)"
   ]
  },
  {
   "cell_type": "code",
   "execution_count": 9,
   "id": "8c5ebbfb",
   "metadata": {},
   "outputs": [
    {
     "data": {
      "text/plain": [
       "'Masa pagi had bad experience dlm game river raft.waiting dalam 1hour.then ada announcement kate ade issue dan game delay dan ambil mase yang lame.wth  kami deh beratur lame, then ada issue begitu, sepatotnye pihak rws beri express pass pada yang menunggu lama untuk game river raft tu. then'"
      ]
     },
     "execution_count": 9,
     "metadata": {},
     "output_type": "execute_result"
    }
   ],
   "source": [
    "test_summary[0]['summary_text']"
   ]
  },
  {
   "cell_type": "code",
   "execution_count": null,
   "id": "7e7d627c",
   "metadata": {},
   "outputs": [],
   "source": []
  },
  {
   "cell_type": "code",
   "execution_count": 10,
   "id": "33672796",
   "metadata": {},
   "outputs": [],
   "source": [
    "import pandas as pd"
   ]
  },
  {
   "cell_type": "code",
   "execution_count": 14,
   "id": "a15d738b",
   "metadata": {},
   "outputs": [
    {
     "data": {
      "text/html": [
       "<div>\n",
       "<style scoped>\n",
       "    .dataframe tbody tr th:only-of-type {\n",
       "        vertical-align: middle;\n",
       "    }\n",
       "\n",
       "    .dataframe tbody tr th {\n",
       "        vertical-align: top;\n",
       "    }\n",
       "\n",
       "    .dataframe thead th {\n",
       "        text-align: right;\n",
       "    }\n",
       "</style>\n",
       "<table border=\"1\" class=\"dataframe\">\n",
       "  <thead>\n",
       "    <tr style=\"text-align: right;\">\n",
       "      <th></th>\n",
       "      <th>date</th>\n",
       "      <th>review</th>\n",
       "      <th>attraction</th>\n",
       "      <th>replaced_slang</th>\n",
       "    </tr>\n",
       "  </thead>\n",
       "  <tbody>\n",
       "    <tr>\n",
       "      <th>0</th>\n",
       "      <td>7/1/2018</td>\n",
       "      <td>Adventure Cove tempat yang bagus di kunjungi p...</td>\n",
       "      <td>Adventure Cove Waterpark</td>\n",
       "      <td>adventure cove tempat yang bagus di kunjungi p...</td>\n",
       "    </tr>\n",
       "    <tr>\n",
       "      <th>1</th>\n",
       "      <td>11/1/2019</td>\n",
       "      <td>mengunjungi sentosa island setelah dari sea ak...</td>\n",
       "      <td>Madame Tussauds</td>\n",
       "      <td>mengunjungi sentosa island setelah dari sea ak...</td>\n",
       "    </tr>\n",
       "    <tr>\n",
       "      <th>2</th>\n",
       "      <td>12/1/2019</td>\n",
       "      <td>Merupakan pengalaman pertama berkunjung ke Mad...</td>\n",
       "      <td>Madame Tussauds</td>\n",
       "      <td>merupakan pengalaman pertama berkunjung ke mad...</td>\n",
       "    </tr>\n",
       "    <tr>\n",
       "      <th>3</th>\n",
       "      <td>2/1/2020</td>\n",
       "      <td>Beli tiket via OTA, tenyata itu tiket 4 in 1. ...</td>\n",
       "      <td>Madame Tussauds</td>\n",
       "      <td>beli tiket via ota , tenyata itu tiket 4 in 1....</td>\n",
       "    </tr>\n",
       "    <tr>\n",
       "      <th>4</th>\n",
       "      <td>9/1/2019</td>\n",
       "      <td>Merupakan tempat museum patung lilin selebriti...</td>\n",
       "      <td>Madame Tussauds</td>\n",
       "      <td>merupakan tempat museum patung lilin selebriti...</td>\n",
       "    </tr>\n",
       "    <tr>\n",
       "      <th>5</th>\n",
       "      <td>2/1/2019</td>\n",
       "      <td>Lokasi Madam Tussaud terletak dekat dengan pat...</td>\n",
       "      <td>Madame Tussauds</td>\n",
       "      <td>lokasi madam tussaud terletak dekat dengan pat...</td>\n",
       "    </tr>\n",
       "    <tr>\n",
       "      <th>6</th>\n",
       "      <td>12/1/2018</td>\n",
       "      <td>Pertama kali ke madam tussaud singapore dan ke...</td>\n",
       "      <td>Madame Tussauds</td>\n",
       "      <td>pertama kali ke madam tussaud singapore dan ke...</td>\n",
       "    </tr>\n",
       "    <tr>\n",
       "      <th>7</th>\n",
       "      <td>2/1/2018</td>\n",
       "      <td>Menyenangkan sekali berkunjung ke madame tussa...</td>\n",
       "      <td>Madame Tussauds</td>\n",
       "      <td>menyenangkan sekali berkunjung ke madame tussa...</td>\n",
       "    </tr>\n",
       "    <tr>\n",
       "      <th>8</th>\n",
       "      <td>1/1/2018</td>\n",
       "      <td>Saya suka sekali masuk kedalam museum ini. Bel...</td>\n",
       "      <td>Madame Tussauds</td>\n",
       "      <td>saya suka sekali masuk kedalam museum ini . be...</td>\n",
       "    </tr>\n",
       "    <tr>\n",
       "      <th>9</th>\n",
       "      <td>1/1/2018</td>\n",
       "      <td>Tempat yang menarik untuk dikunjungi. Untungny...</td>\n",
       "      <td>Madame Tussauds</td>\n",
       "      <td>tempat yang menarik untuk dikunjungi . untungn...</td>\n",
       "    </tr>\n",
       "  </tbody>\n",
       "</table>\n",
       "</div>"
      ],
      "text/plain": [
       "        date                                             review  \\\n",
       "0   7/1/2018  Adventure Cove tempat yang bagus di kunjungi p...   \n",
       "1  11/1/2019  mengunjungi sentosa island setelah dari sea ak...   \n",
       "2  12/1/2019  Merupakan pengalaman pertama berkunjung ke Mad...   \n",
       "3   2/1/2020  Beli tiket via OTA, tenyata itu tiket 4 in 1. ...   \n",
       "4   9/1/2019  Merupakan tempat museum patung lilin selebriti...   \n",
       "5   2/1/2019  Lokasi Madam Tussaud terletak dekat dengan pat...   \n",
       "6  12/1/2018  Pertama kali ke madam tussaud singapore dan ke...   \n",
       "7   2/1/2018  Menyenangkan sekali berkunjung ke madame tussa...   \n",
       "8   1/1/2018  Saya suka sekali masuk kedalam museum ini. Bel...   \n",
       "9   1/1/2018  Tempat yang menarik untuk dikunjungi. Untungny...   \n",
       "\n",
       "                 attraction                                     replaced_slang  \n",
       "0  Adventure Cove Waterpark  adventure cove tempat yang bagus di kunjungi p...  \n",
       "1           Madame Tussauds  mengunjungi sentosa island setelah dari sea ak...  \n",
       "2           Madame Tussauds  merupakan pengalaman pertama berkunjung ke mad...  \n",
       "3           Madame Tussauds  beli tiket via ota , tenyata itu tiket 4 in 1....  \n",
       "4           Madame Tussauds  merupakan tempat museum patung lilin selebriti...  \n",
       "5           Madame Tussauds  lokasi madam tussaud terletak dekat dengan pat...  \n",
       "6           Madame Tussauds  pertama kali ke madam tussaud singapore dan ke...  \n",
       "7           Madame Tussauds  menyenangkan sekali berkunjung ke madame tussa...  \n",
       "8           Madame Tussauds  saya suka sekali masuk kedalam museum ini . be...  \n",
       "9           Madame Tussauds  tempat yang menarik untuk dikunjungi . untungn...  "
      ]
     },
     "execution_count": 14,
     "metadata": {},
     "output_type": "execute_result"
    }
   ],
   "source": [
    "df = pd.read_csv(\"replaced_slang.csv\")\n",
    "df.head(10)"
   ]
  },
  {
   "cell_type": "code",
   "execution_count": 15,
   "id": "ec4e93a8",
   "metadata": {},
   "outputs": [
    {
     "name": "stderr",
     "output_type": "stream",
     "text": [
      "Your max_length is set to 80, but you input_length is only 31. You might consider decreasing max_length manually, e.g. summarizer('...', max_length=50)\n",
      "Your max_length is set to 80, but you input_length is only 27. You might consider decreasing max_length manually, e.g. summarizer('...', max_length=50)\n",
      "Your max_length is set to 80, but you input_length is only 62. You might consider decreasing max_length manually, e.g. summarizer('...', max_length=50)\n",
      "Your max_length is set to 80, but you input_length is only 56. You might consider decreasing max_length manually, e.g. summarizer('...', max_length=50)\n",
      "Your max_length is set to 80, but you input_length is only 62. You might consider decreasing max_length manually, e.g. summarizer('...', max_length=50)\n",
      "Your max_length is set to 80, but you input_length is only 45. You might consider decreasing max_length manually, e.g. summarizer('...', max_length=50)\n",
      "Your max_length is set to 80, but you input_length is only 55. You might consider decreasing max_length manually, e.g. summarizer('...', max_length=50)\n",
      "Your max_length is set to 80, but you input_length is only 29. You might consider decreasing max_length manually, e.g. summarizer('...', max_length=50)\n",
      "Your max_length is set to 80, but you input_length is only 67. You might consider decreasing max_length manually, e.g. summarizer('...', max_length=50)\n",
      "Your max_length is set to 80, but you input_length is only 60. You might consider decreasing max_length manually, e.g. summarizer('...', max_length=50)\n",
      "Your max_length is set to 80, but you input_length is only 48. You might consider decreasing max_length manually, e.g. summarizer('...', max_length=50)\n",
      "Your max_length is set to 80, but you input_length is only 54. You might consider decreasing max_length manually, e.g. summarizer('...', max_length=50)\n",
      "Your max_length is set to 80, but you input_length is only 78. You might consider decreasing max_length manually, e.g. summarizer('...', max_length=50)\n",
      "Your max_length is set to 80, but you input_length is only 53. You might consider decreasing max_length manually, e.g. summarizer('...', max_length=50)\n",
      "Your max_length is set to 80, but you input_length is only 58. You might consider decreasing max_length manually, e.g. summarizer('...', max_length=50)\n",
      "Your max_length is set to 80, but you input_length is only 63. You might consider decreasing max_length manually, e.g. summarizer('...', max_length=50)\n",
      "Your max_length is set to 80, but you input_length is only 76. You might consider decreasing max_length manually, e.g. summarizer('...', max_length=50)\n",
      "Your max_length is set to 80, but you input_length is only 76. You might consider decreasing max_length manually, e.g. summarizer('...', max_length=50)\n",
      "Your max_length is set to 80, but you input_length is only 25. You might consider decreasing max_length manually, e.g. summarizer('...', max_length=50)\n",
      "Your max_length is set to 80, but you input_length is only 60. You might consider decreasing max_length manually, e.g. summarizer('...', max_length=50)\n",
      "Your max_length is set to 80, but you input_length is only 27. You might consider decreasing max_length manually, e.g. summarizer('...', max_length=50)\n",
      "Your max_length is set to 80, but you input_length is only 39. You might consider decreasing max_length manually, e.g. summarizer('...', max_length=50)\n",
      "Your max_length is set to 80, but you input_length is only 60. You might consider decreasing max_length manually, e.g. summarizer('...', max_length=50)\n",
      "Your max_length is set to 80, but you input_length is only 41. You might consider decreasing max_length manually, e.g. summarizer('...', max_length=50)\n",
      "Your max_length is set to 80, but you input_length is only 26. You might consider decreasing max_length manually, e.g. summarizer('...', max_length=50)\n",
      "Your max_length is set to 80, but you input_length is only 47. You might consider decreasing max_length manually, e.g. summarizer('...', max_length=50)\n",
      "Your max_length is set to 80, but you input_length is only 63. You might consider decreasing max_length manually, e.g. summarizer('...', max_length=50)\n",
      "Your max_length is set to 80, but you input_length is only 50. You might consider decreasing max_length manually, e.g. summarizer('...', max_length=50)\n",
      "Your max_length is set to 80, but you input_length is only 37. You might consider decreasing max_length manually, e.g. summarizer('...', max_length=50)\n",
      "Your max_length is set to 80, but you input_length is only 29. You might consider decreasing max_length manually, e.g. summarizer('...', max_length=50)\n",
      "Your max_length is set to 80, but you input_length is only 69. You might consider decreasing max_length manually, e.g. summarizer('...', max_length=50)\n",
      "Your max_length is set to 80, but you input_length is only 38. You might consider decreasing max_length manually, e.g. summarizer('...', max_length=50)\n",
      "Your max_length is set to 80, but you input_length is only 71. You might consider decreasing max_length manually, e.g. summarizer('...', max_length=50)\n",
      "Your max_length is set to 80, but you input_length is only 66. You might consider decreasing max_length manually, e.g. summarizer('...', max_length=50)\n",
      "Your max_length is set to 80, but you input_length is only 36. You might consider decreasing max_length manually, e.g. summarizer('...', max_length=50)\n",
      "Your max_length is set to 80, but you input_length is only 31. You might consider decreasing max_length manually, e.g. summarizer('...', max_length=50)\n",
      "Your max_length is set to 80, but you input_length is only 62. You might consider decreasing max_length manually, e.g. summarizer('...', max_length=50)\n",
      "Your max_length is set to 80, but you input_length is only 55. You might consider decreasing max_length manually, e.g. summarizer('...', max_length=50)\n",
      "Your max_length is set to 80, but you input_length is only 72. You might consider decreasing max_length manually, e.g. summarizer('...', max_length=50)\n",
      "Your max_length is set to 80, but you input_length is only 67. You might consider decreasing max_length manually, e.g. summarizer('...', max_length=50)\n",
      "Your max_length is set to 80, but you input_length is only 43. You might consider decreasing max_length manually, e.g. summarizer('...', max_length=50)\n",
      "Your max_length is set to 80, but you input_length is only 41. You might consider decreasing max_length manually, e.g. summarizer('...', max_length=50)\n",
      "Your max_length is set to 80, but you input_length is only 42. You might consider decreasing max_length manually, e.g. summarizer('...', max_length=50)\n",
      "Your max_length is set to 80, but you input_length is only 55. You might consider decreasing max_length manually, e.g. summarizer('...', max_length=50)\n",
      "Your max_length is set to 80, but you input_length is only 38. You might consider decreasing max_length manually, e.g. summarizer('...', max_length=50)\n",
      "Your max_length is set to 80, but you input_length is only 29. You might consider decreasing max_length manually, e.g. summarizer('...', max_length=50)\n",
      "Your max_length is set to 80, but you input_length is only 31. You might consider decreasing max_length manually, e.g. summarizer('...', max_length=50)\n",
      "Your max_length is set to 80, but you input_length is only 70. You might consider decreasing max_length manually, e.g. summarizer('...', max_length=50)\n",
      "Your max_length is set to 80, but you input_length is only 45. You might consider decreasing max_length manually, e.g. summarizer('...', max_length=50)\n",
      "Your max_length is set to 80, but you input_length is only 37. You might consider decreasing max_length manually, e.g. summarizer('...', max_length=50)\n",
      "Your max_length is set to 80, but you input_length is only 16. You might consider decreasing max_length manually, e.g. summarizer('...', max_length=50)\n",
      "Your max_length is set to 80, but you input_length is only 78. You might consider decreasing max_length manually, e.g. summarizer('...', max_length=50)\n",
      "Your max_length is set to 80, but you input_length is only 36. You might consider decreasing max_length manually, e.g. summarizer('...', max_length=50)\n",
      "Your max_length is set to 80, but you input_length is only 49. You might consider decreasing max_length manually, e.g. summarizer('...', max_length=50)\n",
      "Your max_length is set to 80, but you input_length is only 30. You might consider decreasing max_length manually, e.g. summarizer('...', max_length=50)\n",
      "Your max_length is set to 80, but you input_length is only 33. You might consider decreasing max_length manually, e.g. summarizer('...', max_length=50)\n",
      "Your max_length is set to 80, but you input_length is only 34. You might consider decreasing max_length manually, e.g. summarizer('...', max_length=50)\n",
      "Your max_length is set to 80, but you input_length is only 40. You might consider decreasing max_length manually, e.g. summarizer('...', max_length=50)\n",
      "Your max_length is set to 80, but you input_length is only 62. You might consider decreasing max_length manually, e.g. summarizer('...', max_length=50)\n",
      "Your max_length is set to 80, but you input_length is only 43. You might consider decreasing max_length manually, e.g. summarizer('...', max_length=50)\n",
      "Your max_length is set to 80, but you input_length is only 22. You might consider decreasing max_length manually, e.g. summarizer('...', max_length=50)\n",
      "Your max_length is set to 80, but you input_length is only 27. You might consider decreasing max_length manually, e.g. summarizer('...', max_length=50)\n",
      "Your max_length is set to 80, but you input_length is only 31. You might consider decreasing max_length manually, e.g. summarizer('...', max_length=50)\n",
      "Your max_length is set to 80, but you input_length is only 79. You might consider decreasing max_length manually, e.g. summarizer('...', max_length=50)\n",
      "Your max_length is set to 80, but you input_length is only 33. You might consider decreasing max_length manually, e.g. summarizer('...', max_length=50)\n",
      "Your max_length is set to 80, but you input_length is only 18. You might consider decreasing max_length manually, e.g. summarizer('...', max_length=50)\n",
      "Your max_length is set to 80, but you input_length is only 58. You might consider decreasing max_length manually, e.g. summarizer('...', max_length=50)\n",
      "Your max_length is set to 80, but you input_length is only 42. You might consider decreasing max_length manually, e.g. summarizer('...', max_length=50)\n",
      "Your max_length is set to 80, but you input_length is only 49. You might consider decreasing max_length manually, e.g. summarizer('...', max_length=50)\n",
      "Your max_length is set to 80, but you input_length is only 45. You might consider decreasing max_length manually, e.g. summarizer('...', max_length=50)\n",
      "Your max_length is set to 80, but you input_length is only 67. You might consider decreasing max_length manually, e.g. summarizer('...', max_length=50)\n",
      "Your max_length is set to 80, but you input_length is only 78. You might consider decreasing max_length manually, e.g. summarizer('...', max_length=50)\n",
      "Your max_length is set to 80, but you input_length is only 48. You might consider decreasing max_length manually, e.g. summarizer('...', max_length=50)\n",
      "Your max_length is set to 80, but you input_length is only 42. You might consider decreasing max_length manually, e.g. summarizer('...', max_length=50)\n",
      "Your max_length is set to 80, but you input_length is only 37. You might consider decreasing max_length manually, e.g. summarizer('...', max_length=50)\n",
      "Your max_length is set to 80, but you input_length is only 49. You might consider decreasing max_length manually, e.g. summarizer('...', max_length=50)\n",
      "Your max_length is set to 80, but you input_length is only 79. You might consider decreasing max_length manually, e.g. summarizer('...', max_length=50)\n",
      "Your max_length is set to 80, but you input_length is only 51. You might consider decreasing max_length manually, e.g. summarizer('...', max_length=50)\n",
      "Your max_length is set to 80, but you input_length is only 48. You might consider decreasing max_length manually, e.g. summarizer('...', max_length=50)\n",
      "Your max_length is set to 80, but you input_length is only 68. You might consider decreasing max_length manually, e.g. summarizer('...', max_length=50)\n",
      "Your max_length is set to 80, but you input_length is only 72. You might consider decreasing max_length manually, e.g. summarizer('...', max_length=50)\n",
      "Your max_length is set to 80, but you input_length is only 69. You might consider decreasing max_length manually, e.g. summarizer('...', max_length=50)\n",
      "Your max_length is set to 80, but you input_length is only 35. You might consider decreasing max_length manually, e.g. summarizer('...', max_length=50)\n",
      "Your max_length is set to 80, but you input_length is only 65. You might consider decreasing max_length manually, e.g. summarizer('...', max_length=50)\n",
      "Your max_length is set to 80, but you input_length is only 19. You might consider decreasing max_length manually, e.g. summarizer('...', max_length=50)\n",
      "Your max_length is set to 80, but you input_length is only 78. You might consider decreasing max_length manually, e.g. summarizer('...', max_length=50)\n",
      "Your max_length is set to 80, but you input_length is only 62. You might consider decreasing max_length manually, e.g. summarizer('...', max_length=50)\n",
      "Your max_length is set to 80, but you input_length is only 68. You might consider decreasing max_length manually, e.g. summarizer('...', max_length=50)\n",
      "Your max_length is set to 80, but you input_length is only 32. You might consider decreasing max_length manually, e.g. summarizer('...', max_length=50)\n",
      "Your max_length is set to 80, but you input_length is only 61. You might consider decreasing max_length manually, e.g. summarizer('...', max_length=50)\n",
      "Your max_length is set to 80, but you input_length is only 42. You might consider decreasing max_length manually, e.g. summarizer('...', max_length=50)\n",
      "Your max_length is set to 80, but you input_length is only 70. You might consider decreasing max_length manually, e.g. summarizer('...', max_length=50)\n",
      "Your max_length is set to 80, but you input_length is only 69. You might consider decreasing max_length manually, e.g. summarizer('...', max_length=50)\n",
      "Your max_length is set to 80, but you input_length is only 77. You might consider decreasing max_length manually, e.g. summarizer('...', max_length=50)\n",
      "Your max_length is set to 80, but you input_length is only 33. You might consider decreasing max_length manually, e.g. summarizer('...', max_length=50)\n",
      "Your max_length is set to 80, but you input_length is only 43. You might consider decreasing max_length manually, e.g. summarizer('...', max_length=50)\n",
      "Your max_length is set to 80, but you input_length is only 25. You might consider decreasing max_length manually, e.g. summarizer('...', max_length=50)\n",
      "Your max_length is set to 80, but you input_length is only 18. You might consider decreasing max_length manually, e.g. summarizer('...', max_length=50)\n",
      "Your max_length is set to 80, but you input_length is only 30. You might consider decreasing max_length manually, e.g. summarizer('...', max_length=50)\n",
      "Your max_length is set to 80, but you input_length is only 63. You might consider decreasing max_length manually, e.g. summarizer('...', max_length=50)\n",
      "Your max_length is set to 80, but you input_length is only 35. You might consider decreasing max_length manually, e.g. summarizer('...', max_length=50)\n",
      "Your max_length is set to 80, but you input_length is only 34. You might consider decreasing max_length manually, e.g. summarizer('...', max_length=50)\n"
     ]
    }
   ],
   "source": [
    "df['summarized'] = df['replaced_slang'].apply(lambda x: nlp(x, min_length=10, max_length=80)[0]['summary_text'])"
   ]
  },
  {
   "cell_type": "code",
   "execution_count": 16,
   "id": "7b0e8021",
   "metadata": {},
   "outputs": [
    {
     "data": {
      "text/html": [
       "<div>\n",
       "<style scoped>\n",
       "    .dataframe tbody tr th:only-of-type {\n",
       "        vertical-align: middle;\n",
       "    }\n",
       "\n",
       "    .dataframe tbody tr th {\n",
       "        vertical-align: top;\n",
       "    }\n",
       "\n",
       "    .dataframe thead th {\n",
       "        text-align: right;\n",
       "    }\n",
       "</style>\n",
       "<table border=\"1\" class=\"dataframe\">\n",
       "  <thead>\n",
       "    <tr style=\"text-align: right;\">\n",
       "      <th></th>\n",
       "      <th>date</th>\n",
       "      <th>review</th>\n",
       "      <th>attraction</th>\n",
       "      <th>replaced_slang</th>\n",
       "      <th>summarized</th>\n",
       "    </tr>\n",
       "  </thead>\n",
       "  <tbody>\n",
       "    <tr>\n",
       "      <th>0</th>\n",
       "      <td>7/1/2018</td>\n",
       "      <td>Adventure Cove tempat yang bagus di kunjungi p...</td>\n",
       "      <td>Adventure Cove Waterpark</td>\n",
       "      <td>adventure cove tempat yang bagus di kunjungi p...</td>\n",
       "      <td>Coba riptide rocket yang unik dimana kita mele...</td>\n",
       "    </tr>\n",
       "    <tr>\n",
       "      <th>1</th>\n",
       "      <td>11/1/2019</td>\n",
       "      <td>mengunjungi sentosa island setelah dari sea ak...</td>\n",
       "      <td>Madame Tussauds</td>\n",
       "      <td>mengunjungi sentosa island setelah dari sea ak...</td>\n",
       "      <td>Setelah sea akuarium, jangan lupa beli ticketn...</td>\n",
       "    </tr>\n",
       "    <tr>\n",
       "      <th>2</th>\n",
       "      <td>12/1/2019</td>\n",
       "      <td>Merupakan pengalaman pertama berkunjung ke Mad...</td>\n",
       "      <td>Madame Tussauds</td>\n",
       "      <td>merupakan pengalaman pertama berkunjung ke mad...</td>\n",
       "      <td>Sebagai tambahan informasi, lebih murah kita b...</td>\n",
       "    </tr>\n",
       "    <tr>\n",
       "      <th>3</th>\n",
       "      <td>2/1/2020</td>\n",
       "      <td>Beli tiket via OTA, tenyata itu tiket 4 in 1. ...</td>\n",
       "      <td>Madame Tussauds</td>\n",
       "      <td>beli tiket via ota , tenyata itu tiket 4 in 1....</td>\n",
       "      <td>Selain bisa melihat patung lilin aneka tokoh d...</td>\n",
       "    </tr>\n",
       "    <tr>\n",
       "      <th>4</th>\n",
       "      <td>9/1/2019</td>\n",
       "      <td>Merupakan tempat museum patung lilin selebriti...</td>\n",
       "      <td>Madame Tussauds</td>\n",
       "      <td>merupakan tempat museum patung lilin selebriti...</td>\n",
       "      <td>Tempat museum patung lilin selebriti dan juga ...</td>\n",
       "    </tr>\n",
       "    <tr>\n",
       "      <th>...</th>\n",
       "      <td>...</td>\n",
       "      <td>...</td>\n",
       "      <td>...</td>\n",
       "      <td>...</td>\n",
       "      <td>...</td>\n",
       "    </tr>\n",
       "    <tr>\n",
       "      <th>153</th>\n",
       "      <td>2/1/2018</td>\n",
       "      <td>Singapore universal studio sangat rekomended u...</td>\n",
       "      <td>Universal Studios Singapore</td>\n",
       "      <td>singapore universal studio sangat rekomended u...</td>\n",
       "      <td>Striker universal studio sangat rekomended unt...</td>\n",
       "    </tr>\n",
       "    <tr>\n",
       "      <th>154</th>\n",
       "      <td>2/1/2018</td>\n",
       "      <td>Universal studio number one at singapura. Dest...</td>\n",
       "      <td>Universal Studios Singapore</td>\n",
       "      <td>universal studio number one at singapura . des...</td>\n",
       "      <td>destinasi wisata yang paling wajib di kunjungi...</td>\n",
       "    </tr>\n",
       "    <tr>\n",
       "      <th>155</th>\n",
       "      <td>1/1/2019</td>\n",
       "      <td>Alur cerita tentang anak kecil. Walaupun begit...</td>\n",
       "      <td>Wings of Time</td>\n",
       "      <td>alur cerita tentang anak kecil . walaupun begi...</td>\n",
       "      <td>Permainan cahaya lampu 3d dan juga air sangat ...</td>\n",
       "    </tr>\n",
       "    <tr>\n",
       "      <th>156</th>\n",
       "      <td>9/1/2018</td>\n",
       "      <td>Atraksi ini patut anda saksikan. Saya dtang ke...</td>\n",
       "      <td>Wings of Time</td>\n",
       "      <td>atraksi ini patut anda saksikan . saya datang ...</td>\n",
       "      <td>Atraksi ini patut anda saksikan. Saya datang k...</td>\n",
       "    </tr>\n",
       "    <tr>\n",
       "      <th>157</th>\n",
       "      <td>3/1/2018</td>\n",
       "      <td>Patut dikunjungi dan di tonton!\\n\\nDengan keun...</td>\n",
       "      <td>Wings of Time</td>\n",
       "      <td>patut dikunjungi dan di tonton ! dengan keunik...</td>\n",
       "      <td>Dengan keunikan, kecanggihan dan atraksi yang ...</td>\n",
       "    </tr>\n",
       "  </tbody>\n",
       "</table>\n",
       "<p>158 rows × 5 columns</p>\n",
       "</div>"
      ],
      "text/plain": [
       "          date                                             review  \\\n",
       "0     7/1/2018  Adventure Cove tempat yang bagus di kunjungi p...   \n",
       "1    11/1/2019  mengunjungi sentosa island setelah dari sea ak...   \n",
       "2    12/1/2019  Merupakan pengalaman pertama berkunjung ke Mad...   \n",
       "3     2/1/2020  Beli tiket via OTA, tenyata itu tiket 4 in 1. ...   \n",
       "4     9/1/2019  Merupakan tempat museum patung lilin selebriti...   \n",
       "..         ...                                                ...   \n",
       "153   2/1/2018  Singapore universal studio sangat rekomended u...   \n",
       "154   2/1/2018  Universal studio number one at singapura. Dest...   \n",
       "155   1/1/2019  Alur cerita tentang anak kecil. Walaupun begit...   \n",
       "156   9/1/2018  Atraksi ini patut anda saksikan. Saya dtang ke...   \n",
       "157   3/1/2018  Patut dikunjungi dan di tonton!\\n\\nDengan keun...   \n",
       "\n",
       "                      attraction  \\\n",
       "0       Adventure Cove Waterpark   \n",
       "1                Madame Tussauds   \n",
       "2                Madame Tussauds   \n",
       "3                Madame Tussauds   \n",
       "4                Madame Tussauds   \n",
       "..                           ...   \n",
       "153  Universal Studios Singapore   \n",
       "154  Universal Studios Singapore   \n",
       "155                Wings of Time   \n",
       "156                Wings of Time   \n",
       "157                Wings of Time   \n",
       "\n",
       "                                        replaced_slang  \\\n",
       "0    adventure cove tempat yang bagus di kunjungi p...   \n",
       "1    mengunjungi sentosa island setelah dari sea ak...   \n",
       "2    merupakan pengalaman pertama berkunjung ke mad...   \n",
       "3    beli tiket via ota , tenyata itu tiket 4 in 1....   \n",
       "4    merupakan tempat museum patung lilin selebriti...   \n",
       "..                                                 ...   \n",
       "153  singapore universal studio sangat rekomended u...   \n",
       "154  universal studio number one at singapura . des...   \n",
       "155  alur cerita tentang anak kecil . walaupun begi...   \n",
       "156  atraksi ini patut anda saksikan . saya datang ...   \n",
       "157  patut dikunjungi dan di tonton ! dengan keunik...   \n",
       "\n",
       "                                            summarized  \n",
       "0    Coba riptide rocket yang unik dimana kita mele...  \n",
       "1    Setelah sea akuarium, jangan lupa beli ticketn...  \n",
       "2    Sebagai tambahan informasi, lebih murah kita b...  \n",
       "3    Selain bisa melihat patung lilin aneka tokoh d...  \n",
       "4    Tempat museum patung lilin selebriti dan juga ...  \n",
       "..                                                 ...  \n",
       "153  Striker universal studio sangat rekomended unt...  \n",
       "154  destinasi wisata yang paling wajib di kunjungi...  \n",
       "155  Permainan cahaya lampu 3d dan juga air sangat ...  \n",
       "156  Atraksi ini patut anda saksikan. Saya datang k...  \n",
       "157  Dengan keunikan, kecanggihan dan atraksi yang ...  \n",
       "\n",
       "[158 rows x 5 columns]"
      ]
     },
     "execution_count": 16,
     "metadata": {},
     "output_type": "execute_result"
    }
   ],
   "source": [
    "df"
   ]
  },
  {
   "cell_type": "code",
   "execution_count": 17,
   "id": "328d72e0",
   "metadata": {},
   "outputs": [],
   "source": [
    "df.to_csv(\"summarized_review.csv\", index=False)"
   ]
  },
  {
   "cell_type": "code",
   "execution_count": null,
   "id": "58e7b48b",
   "metadata": {},
   "outputs": [],
   "source": []
  }
 ],
 "metadata": {
  "kernelspec": {
   "display_name": "Python 3 (ipykernel)",
   "language": "python",
   "name": "python3"
  },
  "language_info": {
   "codemirror_mode": {
    "name": "ipython",
    "version": 3
   },
   "file_extension": ".py",
   "mimetype": "text/x-python",
   "name": "python",
   "nbconvert_exporter": "python",
   "pygments_lexer": "ipython3",
   "version": "3.8.10"
  }
 },
 "nbformat": 4,
 "nbformat_minor": 5
}
