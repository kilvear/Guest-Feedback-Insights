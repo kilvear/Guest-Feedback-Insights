{
 "cells": [
  {
   "cell_type": "markdown",
   "id": "617863cf",
   "metadata": {},
   "source": [
    "# Sultannn/bert-base-ft-ner-xtreme-id"
   ]
  },
  {
   "cell_type": "code",
   "execution_count": 1,
   "id": "e2dc74fc",
   "metadata": {},
   "outputs": [],
   "source": [
    "test = \"overall memang best.tapi , masa pagi had bad experience dlm game river raft.waiting dalam 1hour.then ada announcement kate ade issue dan game delay dan ambil mase yang lame.wth 🤬 kami deh beratur lame , then ada issue begitu , sepatotnye pihak rws beri express pass pada yang menunggu lama untuk game river raft tu . then bolehla kami waiting untuk game yang lain pula . dahla ambil mase kat river raft , then , waiting untuk game lain pon ambil mase yang lame .. mmg kat situ je deh jammed la.masa dahla terhad . dapat main river raft semula pada lewat ptg sblm uss deh nak tutup😣 tidak dapat nak main semua game.tiket dahla mahal.tp setiap game dapat main 1 sahaja ? tu pon bukan semua game dapat kami main.meet & greet/tayangan2 seperti waterworld dan lain2 , tidak dapat nak menjenguk pon disebabkan ambil mase waiting untuk game2 yang kene beratur tu😑 kire hnye beberape game shjla dapat main.dahla panas satu hal.please rws🙏tingkatkan lah lagi servis yang sedia ade ke tahap yang lebih boom setanding dengan harga tiket yang deh kami bayar\""
   ]
  },
  {
   "cell_type": "code",
   "execution_count": 2,
   "id": "bdf2c0e1",
   "metadata": {},
   "outputs": [
    {
     "data": {
      "application/vnd.jupyter.widget-view+json": {
       "model_id": "c2dedb5b9198413d8ea3ea483c99970b",
       "version_major": 2,
       "version_minor": 0
      },
      "text/plain": [
       "Downloading:   0%|          | 0.00/1.10k [00:00<?, ?B/s]"
      ]
     },
     "metadata": {},
     "output_type": "display_data"
    },
    {
     "name": "stderr",
     "output_type": "stream",
     "text": [
      "404 Client Error: Not Found for url: https://huggingface.co/Sultannn/bert-base-ft-ner-xtreme-id/resolve/main/pytorch_model.bin\n"
     ]
    },
    {
     "data": {
      "application/vnd.jupyter.widget-view+json": {
       "model_id": "2284b3e111bf4537a1eb537428d3d222",
       "version_major": 2,
       "version_minor": 0
      },
      "text/plain": [
       "Downloading:   0%|          | 0.00/667M [00:00<?, ?B/s]"
      ]
     },
     "metadata": {},
     "output_type": "display_data"
    },
    {
     "name": "stderr",
     "output_type": "stream",
     "text": [
      "2022-05-07 07:51:37.565530: I tensorflow/core/common_runtime/gpu/gpu_device.cc:1525] Created device /job:localhost/replica:0/task:0/device:GPU:0 with 17967 MB memory:  -> device: 0, name: NVIDIA A100-SXM4-40GB MIG 3g.20gb, pci bus id: 0000:b7:00.0, compute capability: 8.0\n",
      "2022-05-07 07:51:38.508381: I tensorflow/stream_executor/cuda/cuda_blas.cc:1792] TensorFloat-32 will be used for the matrix multiplication. This will only be logged once.\n",
      "Some layers from the model checkpoint at Sultannn/bert-base-ft-ner-xtreme-id were not used when initializing TFBertForTokenClassification: ['dropout_189']\n",
      "- This IS expected if you are initializing TFBertForTokenClassification from the checkpoint of a model trained on another task or with another architecture (e.g. initializing a BertForSequenceClassification model from a BertForPreTraining model).\n",
      "- This IS NOT expected if you are initializing TFBertForTokenClassification from the checkpoint of a model that you expect to be exactly identical (initializing a BertForSequenceClassification model from a BertForSequenceClassification model).\n",
      "All the layers of TFBertForTokenClassification were initialized from the model checkpoint at Sultannn/bert-base-ft-ner-xtreme-id.\n",
      "If your task is similar to the task the model of the checkpoint was trained on, you can already use TFBertForTokenClassification for predictions without further training.\n"
     ]
    },
    {
     "data": {
      "application/vnd.jupyter.widget-view+json": {
       "model_id": "cd6792ee68a9433698ec6a1ddb4fd14d",
       "version_major": 2,
       "version_minor": 0
      },
      "text/plain": [
       "Downloading:   0%|          | 0.00/334 [00:00<?, ?B/s]"
      ]
     },
     "metadata": {},
     "output_type": "display_data"
    },
    {
     "data": {
      "application/vnd.jupyter.widget-view+json": {
       "model_id": "2ab16f0f94bb49518c422509cf889ead",
       "version_major": 2,
       "version_minor": 0
      },
      "text/plain": [
       "Downloading:   0%|          | 0.00/872k [00:00<?, ?B/s]"
      ]
     },
     "metadata": {},
     "output_type": "display_data"
    },
    {
     "data": {
      "application/vnd.jupyter.widget-view+json": {
       "model_id": "2a52356fcac443939aa52ade58e3822a",
       "version_major": 2,
       "version_minor": 0
      },
      "text/plain": [
       "Downloading:   0%|          | 0.00/2.56M [00:00<?, ?B/s]"
      ]
     },
     "metadata": {},
     "output_type": "display_data"
    },
    {
     "data": {
      "application/vnd.jupyter.widget-view+json": {
       "model_id": "f95e28101d614608ae720f3641de282c",
       "version_major": 2,
       "version_minor": 0
      },
      "text/plain": [
       "Downloading:   0%|          | 0.00/112 [00:00<?, ?B/s]"
      ]
     },
     "metadata": {},
     "output_type": "display_data"
    }
   ],
   "source": [
    "from transformers import pipeline\n",
    "\n",
    "model_checkpoint = \"Sultannn/bert-base-ft-ner-xtreme-id\"\n",
    "token_classifier = pipeline(\n",
    "    \"token-classification\", model=model_checkpoint, aggregation_strategy=\"simple\")"
   ]
  },
  {
   "cell_type": "code",
   "execution_count": 3,
   "id": "db2bfd32",
   "metadata": {},
   "outputs": [
    {
     "name": "stdout",
     "output_type": "stream",
     "text": [
      "WARNING:tensorflow:From /usr/local/lib/python3.8/dist-packages/transformers/pipelines/token_classification.py:218: _EagerTensorBase.cpu (from tensorflow.python.framework.ops) is deprecated and will be removed in a future version.\n",
      "Instructions for updating:\n",
      "Use tf.identity instead.\n"
     ]
    }
   ],
   "source": [
    "test1 = token_classifier(test)"
   ]
  },
  {
   "cell_type": "code",
   "execution_count": 4,
   "id": "e562fe00",
   "metadata": {},
   "outputs": [
    {
     "data": {
      "text/plain": [
       "[{'entity_group': 'ORG',\n",
       "  'score': 0.6441195,\n",
       "  'word': 'best',\n",
       "  'start': 15,\n",
       "  'end': 19},\n",
       " {'entity_group': 'ORG',\n",
       "  'score': 0.90423036,\n",
       "  'word': 'game river raft',\n",
       "  'start': 60,\n",
       "  'end': 75},\n",
       " {'entity_group': 'ORG',\n",
       "  'score': 0.64396507,\n",
       "  'word': 'rw',\n",
       "  'start': 244,\n",
       "  'end': 246},\n",
       " {'entity_group': 'ORG',\n",
       "  'score': 0.9238413,\n",
       "  'word': 'game river raft tu',\n",
       "  'start': 296,\n",
       "  'end': 314},\n",
       " {'entity_group': 'ORG',\n",
       "  'score': 0.6616544,\n",
       "  'word': 'mase',\n",
       "  'start': 383,\n",
       "  'end': 387},\n",
       " {'entity_group': 'ORG',\n",
       "  'score': 0.9072587,\n",
       "  'word': 'river raft',\n",
       "  'start': 392,\n",
       "  'end': 402},\n",
       " {'entity_group': 'ORG',\n",
       "  'score': 0.614967,\n",
       "  'word': 'amb',\n",
       "  'start': 440,\n",
       "  'end': 443},\n",
       " {'entity_group': 'ORG',\n",
       "  'score': 0.7141911,\n",
       "  'word': 'mase',\n",
       "  'start': 446,\n",
       "  'end': 450},\n",
       " {'entity_group': 'ORG',\n",
       "  'score': 0.65097827,\n",
       "  'word': '##e.',\n",
       "  'start': 459,\n",
       "  'end': 462},\n",
       " {'entity_group': 'ORG',\n",
       "  'score': 0.86231124,\n",
       "  'word': 'mmg kat situ je deh jammed la',\n",
       "  'start': 464,\n",
       "  'end': 493},\n",
       " {'entity_group': 'ORG',\n",
       "  'score': 0.9452172,\n",
       "  'word': 'river raft',\n",
       "  'start': 525,\n",
       "  'end': 535},\n",
       " {'entity_group': 'ORG',\n",
       "  'score': 0.6844405,\n",
       "  'word': 'sblm uss deh',\n",
       "  'start': 558,\n",
       "  'end': 570},\n",
       " {'entity_group': 'ORG',\n",
       "  'score': 0.504132,\n",
       "  'word': 'nak',\n",
       "  'start': 571,\n",
       "  'end': 574},\n",
       " {'entity_group': 'ORG',\n",
       "  'score': 0.7644249,\n",
       "  'word': 'tu',\n",
       "  'start': 669,\n",
       "  'end': 671},\n",
       " {'entity_group': 'ORG',\n",
       "  'score': 0.77747536,\n",
       "  'word': 'meet & greet',\n",
       "  'start': 709,\n",
       "  'end': 721},\n",
       " {'entity_group': 'ORG',\n",
       "  'score': 0.9907478,\n",
       "  'word': 'waterworld',\n",
       "  'start': 740,\n",
       "  'end': 750},\n",
       " {'entity_group': 'ORG',\n",
       "  'score': 0.5798085,\n",
       "  'word': 'lain2',\n",
       "  'start': 755,\n",
       "  'end': 760}]"
      ]
     },
     "execution_count": 4,
     "metadata": {},
     "output_type": "execute_result"
    }
   ],
   "source": [
    "test1"
   ]
  },
  {
   "cell_type": "code",
   "execution_count": null,
   "id": "4668f748",
   "metadata": {},
   "outputs": [],
   "source": []
  }
 ],
 "metadata": {
  "kernelspec": {
   "display_name": "Python 3 (ipykernel)",
   "language": "python",
   "name": "python3"
  },
  "language_info": {
   "codemirror_mode": {
    "name": "ipython",
    "version": 3
   },
   "file_extension": ".py",
   "mimetype": "text/x-python",
   "name": "python",
   "nbconvert_exporter": "python",
   "pygments_lexer": "ipython3",
   "version": "3.8.10"
  }
 },
 "nbformat": 4,
 "nbformat_minor": 5
}
