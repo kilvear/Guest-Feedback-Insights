{
 "cells": [
  {
   "cell_type": "code",
   "execution_count": 3,
   "metadata": {},
   "outputs": [],
   "source": [
    "import pandas as pd\n",
    "from transformers import pipeline"
   ]
  },
  {
   "cell_type": "code",
   "execution_count": 2,
   "metadata": {},
   "outputs": [],
   "source": [
    "summary_model = pipeline(\"summarization\",\n",
    "              model=\"cahya/t5-base-indonesian-summarization-cased\",\n",
    "              tokenizer=\"cahya/t5-base-indonesian-summarization-cased\")"
   ]
  },
  {
   "cell_type": "code",
   "execution_count": 21,
   "metadata": {},
   "outputs": [],
   "source": [
    "def get_summary(filepath):\n",
    "  df = pd.read_excel(filepath)\n",
    "  \n",
    "  # Mask for reviews more than 514 characters\n",
    "  mask = (df['review'].str.len() >= 514)\n",
    "  \n",
    "  # Apply summary_model to reviews with more than 514 characters\n",
    "  df.loc[mask, 'review'] = df.loc[mask, 'review'].apply(lambda x: summary_model(x)[0]['summary_text'])\n",
    "  \n",
    "  # Export to excel\n",
    "  attraction = df['attraction'][0]\n",
    "  df.to_excel(f\"summary_output/{attraction}_summarized.xlsx\", index=False)"
   ]
  },
  {
   "cell_type": "code",
   "execution_count": 22,
   "metadata": {},
   "outputs": [],
   "source": [
    "get_summary(\"../preprocess_review/preprocessed_data/uss_reviews_normalized.xlsx\")"
   ]
  },
  {
   "cell_type": "code",
   "execution_count": null,
   "metadata": {},
   "outputs": [],
   "source": []
  }
 ],
 "metadata": {
  "interpreter": {
   "hash": "d354657bd92028bc454a77f42304762620e8c274513fa9455143ecc560ec1506"
  },
  "kernelspec": {
   "display_name": "Python 3.9.6 ('hf')",
   "language": "python",
   "name": "python3"
  },
  "language_info": {
   "codemirror_mode": {
    "name": "ipython",
    "version": 3
   },
   "file_extension": ".py",
   "mimetype": "text/x-python",
   "name": "python",
   "nbconvert_exporter": "python",
   "pygments_lexer": "ipython3",
   "version": "3.9.6"
  },
  "orig_nbformat": 4
 },
 "nbformat": 4,
 "nbformat_minor": 2
}
