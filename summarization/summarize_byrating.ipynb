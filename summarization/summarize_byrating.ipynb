{
  "cells": [
    {
      "cell_type": "code",
      "execution_count": 1,
      "metadata": {
        "id": "QLcpvGski45V"
      },
      "outputs": [],
      "source": [
        "import pandas as pd"
      ]
    },
    {
      "cell_type": "code",
      "execution_count": 3,
      "metadata": {
        "colab": {
          "base_uri": "https://localhost:8080/",
          "height": 424
        },
        "id": "pn_TyCCwjQYf",
        "outputId": "d1d2d766-3f9b-431b-bffa-aa15d6d73d07"
      },
      "outputs": [
        {
          "data": {
            "text/html": [
              "<div>\n",
              "<style scoped>\n",
              "    .dataframe tbody tr th:only-of-type {\n",
              "        vertical-align: middle;\n",
              "    }\n",
              "\n",
              "    .dataframe tbody tr th {\n",
              "        vertical-align: top;\n",
              "    }\n",
              "\n",
              "    .dataframe thead th {\n",
              "        text-align: right;\n",
              "    }\n",
              "</style>\n",
              "<table border=\"1\" class=\"dataframe\">\n",
              "  <thead>\n",
              "    <tr style=\"text-align: right;\">\n",
              "      <th></th>\n",
              "      <th>review</th>\n",
              "      <th>rating</th>\n",
              "    </tr>\n",
              "  </thead>\n",
              "  <tbody>\n",
              "    <tr>\n",
              "      <th>0</th>\n",
              "      <td>So fun!.Tempat ini memiliki banyak wahana yang...</td>\n",
              "      <td>10</td>\n",
              "    </tr>\n",
              "    <tr>\n",
              "      <th>1</th>\n",
              "      <td>Kalau sudah urusan dunia fantasi, play ground ...</td>\n",
              "      <td>8</td>\n",
              "    </tr>\n",
              "    <tr>\n",
              "      <th>2</th>\n",
              "      <td>Pertama kali diajak ke Universal Studio saya a...</td>\n",
              "      <td>10</td>\n",
              "    </tr>\n",
              "    <tr>\n",
              "      <th>3</th>\n",
              "      <td>Universal studio singapore tempat yang harus k...</td>\n",
              "      <td>10</td>\n",
              "    </tr>\n",
              "    <tr>\n",
              "      <th>4</th>\n",
              "      <td>Datang saat hari kerja adalah salah satu kunci...</td>\n",
              "      <td>10</td>\n",
              "    </tr>\n",
              "    <tr>\n",
              "      <th>...</th>\n",
              "      <td>...</td>\n",
              "      <td>...</td>\n",
              "    </tr>\n",
              "    <tr>\n",
              "      <th>273</th>\n",
              "      <td>Mahal dan tempat nya panas</td>\n",
              "      <td>10</td>\n",
              "    </tr>\n",
              "    <tr>\n",
              "      <th>274</th>\n",
              "      <td>Woooow ... tempat liburan dan hiburan</td>\n",
              "      <td>8</td>\n",
              "    </tr>\n",
              "    <tr>\n",
              "      <th>275</th>\n",
              "      <td>Keren</td>\n",
              "      <td>10</td>\n",
              "    </tr>\n",
              "    <tr>\n",
              "      <th>276</th>\n",
              "      <td>Senang liat anak saya bahagia</td>\n",
              "      <td>10</td>\n",
              "    </tr>\n",
              "    <tr>\n",
              "      <th>277</th>\n",
              "      <td>Wahana permainan yang lengkap</td>\n",
              "      <td>10</td>\n",
              "    </tr>\n",
              "  </tbody>\n",
              "</table>\n",
              "<p>278 rows × 2 columns</p>\n",
              "</div>"
            ],
            "text/plain": [
              "                                                review  rating\n",
              "0    So fun!.Tempat ini memiliki banyak wahana yang...      10\n",
              "1    Kalau sudah urusan dunia fantasi, play ground ...       8\n",
              "2    Pertama kali diajak ke Universal Studio saya a...      10\n",
              "3    Universal studio singapore tempat yang harus k...      10\n",
              "4    Datang saat hari kerja adalah salah satu kunci...      10\n",
              "..                                                 ...     ...\n",
              "273                         Mahal dan tempat nya panas      10\n",
              "274              Woooow ... tempat liburan dan hiburan       8\n",
              "275                                              Keren      10\n",
              "276                      Senang liat anak saya bahagia      10\n",
              "277                      Wahana permainan yang lengkap      10\n",
              "\n",
              "[278 rows x 2 columns]"
            ]
          },
          "execution_count": 3,
          "metadata": {},
          "output_type": "execute_result"
        }
      ],
      "source": [
        "df = pd.read_excel(\"2018ussreview_summarized.xlsx\")\n",
        "df.drop(\"summarized\", axis=1, inplace=True)\n",
        "df"
      ]
    },
    {
      "cell_type": "code",
      "execution_count": 4,
      "metadata": {
        "colab": {
          "base_uri": "https://localhost:8080/",
          "height": 206
        },
        "id": "txFaRUwVjXXh",
        "outputId": "c7ec98b1-8869-468b-99aa-e9b0595c5d74"
      },
      "outputs": [
        {
          "data": {
            "text/html": [
              "<div>\n",
              "<style scoped>\n",
              "    .dataframe tbody tr th:only-of-type {\n",
              "        vertical-align: middle;\n",
              "    }\n",
              "\n",
              "    .dataframe tbody tr th {\n",
              "        vertical-align: top;\n",
              "    }\n",
              "\n",
              "    .dataframe thead th {\n",
              "        text-align: right;\n",
              "    }\n",
              "</style>\n",
              "<table border=\"1\" class=\"dataframe\">\n",
              "  <thead>\n",
              "    <tr style=\"text-align: right;\">\n",
              "      <th></th>\n",
              "      <th>rating</th>\n",
              "      <th>review</th>\n",
              "    </tr>\n",
              "  </thead>\n",
              "  <tbody>\n",
              "    <tr>\n",
              "      <th>0</th>\n",
              "      <td>2</td>\n",
              "      <td>Terlalu lama antri buat main</td>\n",
              "    </tr>\n",
              "    <tr>\n",
              "      <th>1</th>\n",
              "      <td>4</td>\n",
              "      <td>Sy memberikan ratingKarena anda sudah lama men...</td>\n",
              "    </tr>\n",
              "    <tr>\n",
              "      <th>2</th>\n",
              "      <td>6</td>\n",
              "      <td>Universal Studio singapore mempunyai wahana ya...</td>\n",
              "    </tr>\n",
              "    <tr>\n",
              "      <th>3</th>\n",
              "      <td>8</td>\n",
              "      <td>Kalau sudah urusan dunia fantasi, play ground ...</td>\n",
              "    </tr>\n",
              "    <tr>\n",
              "      <th>4</th>\n",
              "      <td>10</td>\n",
              "      <td>So fun!.Tempat ini memiliki banyak wahana yang...</td>\n",
              "    </tr>\n",
              "  </tbody>\n",
              "</table>\n",
              "</div>"
            ],
            "text/plain": [
              "   rating                                             review\n",
              "0       2                       Terlalu lama antri buat main\n",
              "1       4  Sy memberikan ratingKarena anda sudah lama men...\n",
              "2       6  Universal Studio singapore mempunyai wahana ya...\n",
              "3       8  Kalau sudah urusan dunia fantasi, play ground ...\n",
              "4      10  So fun!.Tempat ini memiliki banyak wahana yang..."
            ]
          },
          "execution_count": 4,
          "metadata": {},
          "output_type": "execute_result"
        }
      ],
      "source": [
        "combined_review_df = df.groupby('rating')['review'].apply(' '.join).reset_index()\n",
        "combined_review_df"
      ]
    },
    {
      "cell_type": "code",
      "execution_count": 5,
      "metadata": {
        "id": "Dua1Z_IFjhlo"
      },
      "outputs": [],
      "source": [
        "from transformers import pipeline"
      ]
    },
    {
      "cell_type": "code",
      "execution_count": 6,
      "metadata": {
        "id": "Q-8U4KMhjacz"
      },
      "outputs": [
        {
          "name": "stderr",
          "output_type": "stream",
          "text": [
            "Downloading: 100%|██████████| 850M/850M [00:58<00:00, 15.3MB/s]   \n",
            "Downloading: 100%|██████████| 2.02k/2.02k [00:00<00:00, 2.07MB/s]\n",
            "Downloading: 100%|██████████| 774k/774k [00:01<00:00, 537kB/s]  \n",
            "Downloading: 100%|██████████| 1.74k/1.74k [00:00<00:00, 1.79MB/s]\n"
          ]
        }
      ],
      "source": [
        "summary_model = pipeline(\"summarization\",\n",
        "              model=\"cahya/t5-base-indonesian-summarization-cased\",\n",
        "              tokenizer=\"cahya/t5-base-indonesian-summarization-cased\")"
      ]
    },
    {
      "cell_type": "code",
      "execution_count": 7,
      "metadata": {
        "id": "lrepNId6jsyf"
      },
      "outputs": [],
      "source": [
        "def get_summary(text):\n",
        "  summary = summary_model(text, min_length=10, max_length=514)[0]['summary_text']\n",
        "  return summary"
      ]
    },
    {
      "cell_type": "code",
      "execution_count": 8,
      "metadata": {
        "colab": {
          "base_uri": "https://localhost:8080/"
        },
        "id": "Yf5n76gokS8E",
        "outputId": "6493d2e5-abfc-4668-f1fd-496a35d1ff96"
      },
      "outputs": [
        {
          "name": "stderr",
          "output_type": "stream",
          "text": [
            "Your max_length is set to 514, but you input_length is only 444. You might consider decreasing max_length manually, e.g. summarizer('...', max_length=222)\n"
          ]
        }
      ],
      "source": [
        "combined_review_df['summarized'] = combined_review_df['review'].apply(lambda x: get_summary(x) if len(x) >= 514 else x)"
      ]
    },
    {
      "cell_type": "code",
      "execution_count": 9,
      "metadata": {
        "id": "ulDxPsTVk_CN"
      },
      "outputs": [
        {
          "data": {
            "text/html": [
              "<div>\n",
              "<style scoped>\n",
              "    .dataframe tbody tr th:only-of-type {\n",
              "        vertical-align: middle;\n",
              "    }\n",
              "\n",
              "    .dataframe tbody tr th {\n",
              "        vertical-align: top;\n",
              "    }\n",
              "\n",
              "    .dataframe thead th {\n",
              "        text-align: right;\n",
              "    }\n",
              "</style>\n",
              "<table border=\"1\" class=\"dataframe\">\n",
              "  <thead>\n",
              "    <tr style=\"text-align: right;\">\n",
              "      <th></th>\n",
              "      <th>rating</th>\n",
              "      <th>review</th>\n",
              "      <th>summarized</th>\n",
              "    </tr>\n",
              "  </thead>\n",
              "  <tbody>\n",
              "    <tr>\n",
              "      <th>0</th>\n",
              "      <td>2</td>\n",
              "      <td>Terlalu lama antri buat main</td>\n",
              "      <td>Terlalu lama antri buat main</td>\n",
              "    </tr>\n",
              "    <tr>\n",
              "      <th>1</th>\n",
              "      <td>4</td>\n",
              "      <td>Sy memberikan ratingKarena anda sudah lama men...</td>\n",
              "      <td>\"Apalagi yang kami bawa adalah anak kecil. Dis...</td>\n",
              "    </tr>\n",
              "    <tr>\n",
              "      <th>2</th>\n",
              "      <td>6</td>\n",
              "      <td>Universal Studio singapore mempunyai wahana ya...</td>\n",
              "      <td>Banyak wahana baru di USS dan merchandise apab...</td>\n",
              "    </tr>\n",
              "    <tr>\n",
              "      <th>3</th>\n",
              "      <td>8</td>\n",
              "      <td>Kalau sudah urusan dunia fantasi, play ground ...</td>\n",
              "      <td>Universal Studio Singapore menurut saya sudah ...</td>\n",
              "    </tr>\n",
              "    <tr>\n",
              "      <th>4</th>\n",
              "      <td>10</td>\n",
              "      <td>So fun!.Tempat ini memiliki banyak wahana yang...</td>\n",
              "      <td>Tempat yang indah indah... Tempat yang indah i...</td>\n",
              "    </tr>\n",
              "  </tbody>\n",
              "</table>\n",
              "</div>"
            ],
            "text/plain": [
              "   rating                                             review  \\\n",
              "0       2                       Terlalu lama antri buat main   \n",
              "1       4  Sy memberikan ratingKarena anda sudah lama men...   \n",
              "2       6  Universal Studio singapore mempunyai wahana ya...   \n",
              "3       8  Kalau sudah urusan dunia fantasi, play ground ...   \n",
              "4      10  So fun!.Tempat ini memiliki banyak wahana yang...   \n",
              "\n",
              "                                          summarized  \n",
              "0                       Terlalu lama antri buat main  \n",
              "1  \"Apalagi yang kami bawa adalah anak kecil. Dis...  \n",
              "2  Banyak wahana baru di USS dan merchandise apab...  \n",
              "3  Universal Studio Singapore menurut saya sudah ...  \n",
              "4  Tempat yang indah indah... Tempat yang indah i...  "
            ]
          },
          "execution_count": 9,
          "metadata": {},
          "output_type": "execute_result"
        }
      ],
      "source": [
        "combined_review_df"
      ]
    },
    {
      "cell_type": "code",
      "execution_count": 10,
      "metadata": {},
      "outputs": [],
      "source": [
        "combined_review_df.to_excel(\"2018uss_summarized_byrating.xlsx\", index=False)"
      ]
    },
    {
      "cell_type": "code",
      "execution_count": 14,
      "metadata": {},
      "outputs": [
        {
          "name": "stdout",
          "output_type": "stream",
          "text": [
            "Sy memberikan ratingKarena anda sudah lama menjalani bisnis hiburan .. …LengkapnyaSy memberikan ratingKarena anda sudah lama menjalani bisnis hiburan ..Saat kunjungan Sy ..Sy melihat bagaimana petugas disana tidak profesional dalam menangani konsumen.Harusnya mereka dilatih agar sebisa mungkin meredakan emosi yg dimiliki konsumen. .Bukan sebaliknya ( hampir saja saja konsumen menghajar petugas disana )Kami yg melihat merasa tidak nyaman. .Apalagi yg kami bawa adalah anak kecil ..Disana adalah tempat hiburan dan permainan bagi anak ..Mohon dipertegas utk petugas dan pertegas peraturan utk konsumen ..Agar hal tersebut tidak terjadi lagi ..Dan aturannya jangan cuma di ucapkan sekali ..Katakan berkali\" agar konsumen bosan dan mengerti akan apa yg di ucapkan .[ sy melihat adegan tersebut bersama adek sy yg lagi istirahat .dan disana  ada sesi pemotretan dgn Minion ]Sy mohon ..Agar pelatihan petugas dan peraturan diperhatikan ..Bukan hanya wahana yg perlu diperhatikan.|Sy memberikan ratingKarena anda sudah lama menjalani bisnis hiburan ..Saat kunjungan Sy ..Sy melihat bagaimana petugas disana tidak profesional dalam menangani konsumen.Harusnya mereka dilatih agar sebisa mungkin meredakan emosi yg dimiliki konsumen. .Bukan sebaliknya ( hampir saja saja konsumen menghajar petugas disana )Kami yg melihat merasa tidak nyaman. .Apalagi yg kami bawa adalah anak kecil ..Disana adalah tempat hiburan dan permainan bagi anak ..Mohon dipertegas utk petugas dan pertegas peraturan utk konsumen ..Agar hal tersebut tidak terjadi lagi ..Dan aturannya jangan cuma di ucapkan sekali ..Katakan berkali\" agar konsumen bosan dan mengerti akan apa yg di ucapkan .[ sy melihat adegan tersebut bersama adek sy yg lagi istirahat .dan disana  ada sesi pemotretan dgn Minion ]Sy mohon ..Agar pelatihan petugas dan peraturan diperhatikan ..Bukan hanya wahana yg perlu diperhatikan.\n",
            "---------------------\n",
            "\"Apalagi yang kami bawa adalah anak kecil. Disana adalah tempat hiburan dan permainan bagi anak.Mohon dipertegas utk petugas dan pertegas peraturan utk konsumen..Agar hal tersebut tidak terjadi lagi.Dan aturannya jangan cuma di ucapkan sekali.Katakan berkali\" agar konsumen bosan dan mengerti akan apa yang di ucapkan.\n"
          ]
        }
      ],
      "source": [
        "print(combined_review_df[\"review\"][1])\n",
        "print(\"---------------------\")\n",
        "print(combined_review_df[\"summarized\"][1])"
      ]
    },
    {
      "cell_type": "code",
      "execution_count": 15,
      "metadata": {},
      "outputs": [
        {
          "name": "stdout",
          "output_type": "stream",
          "text": [
            "Universal Studio singapore mempunyai wahana yang lebih cocok untuk teenager dan adult, cuaca yang sangat panas disarankan untuk membawa topi dan botol minum untuk refill air minum yang mudah, disarankan untuk berkunjung pagi jam 10 atau sesudah jam 16Pembelian tiket online di indonesia melalui bukalapak atau tokopedia sangat membantu kemudahanMusim natal dan tahun baru membuat anda harus sabar mengantri di tiap wahana (35-45 menit) kecuali membeli tiket vipKebetulan kami datang pukul 13 sampai 18 saja karena kelelahan mengantri dan hanya dapat 3 wahana dengan harga tiket Rp.500rb - 700rb, menurut saya cukup rugi apabila anda tidak punya stamina yang baikBeberapa tempat baik untuk diambil sebagai background fotoBanyak wahana baru di USS dan merchandise apabila anda suka berbelanja Tempat ini sangat diminati oleh kalangan anak anak, remaka & orang dewasa, pada hari libur tempat ini ramai dikunjungi, sebaiknya ketempat ini tidak pada hari libur karena sangat banyak pengunjung yang mengantri wahana permainan Universal Studios Singapore dibuka pada bulan Januari 2010, merupakan wahana bermain Universal Studios yang pertama kali dibuka di wilayah Asia Tenggara, dan merupakan yang kedua di wilayah Asiasetelah Universal Studios Japan. Taman bermain …LengkapnyaUniversal Studios Singapore dibuka pada bulan Januari 2010, merupakan wahana bermain Universal Studios yang pertama kali dibuka di wilayah Asia Tenggara, dan merupakan yang kedua di wilayah Asiasetelah Universal Studios Japan. Taman bermain bertema film-film terkenal Hollywoodproduksi Universal Studios ini berlokasi di Pulau Sentosa, Singapura.Ada beberapa wahana yang telah dibuka, al. The Lost World, Far and Away, New York, Sci-Fi City, Hollywood Boulevard, Madagascar, Ancient Egypt.Taman ini juga dilengkapi 30 restoran dan konter makanan, serta 20 kios cendera mata. harga tiket mulai S$ 32 (untuk tiket manula), S$ 48 (anak-anak) S$ 66 (tiket satu hari dewasa) hingga S$ 118 (dewasa, untuk 2 hari kunjungan). Beberapa fasilitas hotel, termasuk Hard Rock Hotel, tersedia di sekitar lokasi wisata berkelas dunia ini.|Universal Studios Singapore dibuka pada bulan Januari 2010, merupakan wahana bermain Universal Studios yang pertama kali dibuka di wilayah Asia Tenggara, dan merupakan yang kedua di wilayah Asiasetelah Universal Studios Japan. Taman bermain bertema film-film terkenal Hollywoodproduksi Universal Studios ini berlokasi di Pulau Sentosa, Singapura.Ada beberapa wahana yang telah dibuka, al. The Lost World, Far and Away, New York, Sci-Fi City, Hollywood Boulevard, Madagascar, Ancient Egypt.Taman ini juga dilengkapi 30 restoran dan konter makanan, serta 20 kios cendera mata. harga tiket mulai S$ 32 (untuk tiket manula), S$ 48 (anak-anak) S$ 66 (tiket satu hari dewasa) hingga S$ 118 (dewasa, untuk 2 hari kunjungan). Beberapa fasilitas hotel, termasuk Hard Rock Hotel, tersedia di sekitar lokasi wisata berkelas dunia ini. Lingkungan bersih.. fasilitas cukup baik..arena hiburan lumayan bagus.. kurangnya resto utk muslim food.. Yg menarik cuma transformer dan roller coaster lainnya biasa saja Mae riswanti biasa ning sapen ora kenal singapura,ilove you universal studio singapura dari yudha&lutfi riswanti Tempat bagus, antriannya panjang banget Sebanding dgn budget yg dikeluarkan.\n",
            "---------------------\n",
            "Banyak wahana baru di USS dan merchandise apabila anda suka berbelanja Tempat ini sangat diminati oleh kalangan anak anak, remaka & orang dewasa, pada hari libur tempat ini ramai dikunjungi, sebaiknya ketempat ini tidak pada hari libur karena sangat banyak pengunjung yang mengantri wahana permainan Universal Studios Singapore dibuka pada bulan Januari 2010.\n"
          ]
        }
      ],
      "source": [
        "print(combined_review_df[\"review\"][2])\n",
        "print(\"---------------------\")\n",
        "print(combined_review_df[\"summarized\"][2])"
      ]
    },
    {
      "cell_type": "code",
      "execution_count": null,
      "metadata": {},
      "outputs": [],
      "source": []
    }
  ],
  "metadata": {
    "colab": {
      "name": "summarize_byrating.ipynb",
      "provenance": []
    },
    "interpreter": {
      "hash": "d354657bd92028bc454a77f42304762620e8c274513fa9455143ecc560ec1506"
    },
    "kernelspec": {
      "display_name": "Python 3.9.6 ('hf')",
      "language": "python",
      "name": "python3"
    },
    "language_info": {
      "codemirror_mode": {
        "name": "ipython",
        "version": 3
      },
      "file_extension": ".py",
      "mimetype": "text/x-python",
      "name": "python",
      "nbconvert_exporter": "python",
      "pygments_lexer": "ipython3",
      "version": "3.9.6"
    }
  },
  "nbformat": 4,
  "nbformat_minor": 0
}
