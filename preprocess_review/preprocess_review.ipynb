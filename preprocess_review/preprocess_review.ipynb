{
 "cells": [
  {
   "cell_type": "code",
   "execution_count": 2,
   "metadata": {},
   "outputs": [],
   "source": [
    "import pandas as pd\n",
    "import datetime\n",
    "from dateutil.relativedelta import relativedelta"
   ]
  },
  {
   "cell_type": "code",
   "execution_count": 8,
   "metadata": {},
   "outputs": [],
   "source": [
    "def normalize_reviews(filepath):\n",
    "  '''\n",
    "  1. Drop duplicated rows\n",
    "  2. Normalize dates to only the year\n",
    "  3. Normalize ratings to 10\n",
    "  '''\n",
    "  \n",
    "  df = pd.read_excel(filepath)\n",
    "  \n",
    "  # Drop duplicated rows\n",
    "  df.drop_duplicates(keep='first', inplace=True)\n",
    "  \n",
    "  '''\n",
    "  1. Normalize dates to only year\n",
    "    - fix_date_week | fix_date_month | fix_date_year\n",
    "      - Takes current date and minus off respective week, month or year\n",
    "  '''\n",
    "  \n",
    "  def fix_date_week(week):\n",
    "    date = datetime.datetime.now()\n",
    "    date = date.date()\n",
    "    newdate = date - relativedelta(weeks=week)\n",
    "    return newdate\n",
    "  \n",
    "  def fix_date_month(month):\n",
    "    date = datetime.datetime.now()\n",
    "    date = date.date()\n",
    "    newdate = date - relativedelta(months=month)\n",
    "    return newdate\n",
    "  \n",
    "  def fix_date_year(year):\n",
    "    date = datetime.datetime.now()\n",
    "    date = date.date()\n",
    "    newdate = date - relativedelta(years=year)\n",
    "    return newdate\n",
    "  \n",
    "  # Replace date strings with proper year\n",
    "  # Only up to 10 years\n",
    "  replace_date = {'seminggu lalu': fix_date_week(1),\n",
    "                  '2 minggu lalu': fix_date_week(2),\n",
    "                  '3 minggu lalu': fix_date_week(3),\n",
    "                  'sebulan lalu': fix_date_month(1),\n",
    "                  '2 bulan lalu': fix_date_month(2),\n",
    "                  '3 bulan lalu': fix_date_month(3),\n",
    "                  '4 bulan lalu': fix_date_month(4),\n",
    "                  '5 bulan lalu': fix_date_month(5),\n",
    "                  '6 bulan lalu': fix_date_month(6),\n",
    "                  '7 bulan lalu': fix_date_month(7),\n",
    "                  '8 bulan lalu': fix_date_month(8),\n",
    "                  '9 bulan lalu': fix_date_month(9),\n",
    "                  '10 bulan lalu': fix_date_month(10),\n",
    "                  '11 bulan lalu': fix_date_month(11),\n",
    "                  'setahun lalu': fix_date_year(1),\n",
    "                  '2 tahun lalu': fix_date_year(2),\n",
    "                  '3 tahun lalu': fix_date_year(3),\n",
    "                  '4 tahun lalu': fix_date_year(4),\n",
    "                  '5 tahun lalu': fix_date_year(5),\n",
    "                  '6 tahun lalu': fix_date_year(6),\n",
    "                  '7 tahun lalu': fix_date_year(7),\n",
    "                  '8 tahun lalu': fix_date_year(8),\n",
    "                  '9 tahun lalu': fix_date_year(9),\n",
    "                  '10 tahun lalu': fix_date_year(10),}\n",
    "  \n",
    "  # Split dataframe with proper datetime format\n",
    "  df1 = df[df['date'].apply(lambda x: isinstance(x, datetime.date))]\n",
    "  # Split dataframe with date strings\n",
    "  df2 = df[df['date'].apply(lambda x: not isinstance(x, datetime.date))]\n",
    "  # Replace date strings with proper year\n",
    "  df2 = df2.replace({\"date\": replace_date})\n",
    "  \n",
    "  # Only extract year\n",
    "  df1['date'] = pd.DatetimeIndex(df1['date']).year\n",
    "  df2['date'] = pd.DatetimeIndex(df2['date']).year\n",
    "  \n",
    "  # Concatenate fixed year\n",
    "  df = pd.concat([df1, df2], ignore_index=True)\n",
    "  \n",
    "  '''\n",
    "  2. Normalize ratings to 10\n",
    "  '''\n",
    "  \n",
    "  # Replace Klook ratings with 'Baik' to 8 and 'Sangat Direkomendasikan' to 10\n",
    "  replace_rating = {'Baik': '8',\n",
    "                  'Sangat Direkomendasikan': '10'}\n",
    "  df = df.replace({'rating': replace_rating})\n",
    "  \n",
    "  # Mask for TripAdvisor ratings\n",
    "  mask = (df['source'] == 'tripadvisor')\n",
    "  # Retrieve index 0 string of rating and multiply by 2\n",
    "  df.loc[mask, 'rating'] = (df.loc[mask, 'rating'].str[0].astype(int))*2\n",
    "  \n",
    "  # Mask for Google Review ratings\n",
    "  mask2 = (df['source'] == 'google_reviews')\n",
    "  # Retrieve index 0 string of rating and multiply by 2\n",
    "  df.loc[mask2, 'rating'] = (df.loc[mask2, 'rating'].str[14].astype(int))*2\n",
    "  \n",
    "  # Export output \n",
    "  attraction = df['attraction'][0]\n",
    "  df.to_excel(f'output/normalize_data/{attraction}_reviews_normalized.xlsx', index=False)"
   ]
  },
  {
   "cell_type": "code",
   "execution_count": 10,
   "metadata": {},
   "outputs": [
    {
     "name": "stderr",
     "output_type": "stream",
     "text": [
      "C:\\Users\\Luqman\\AppData\\Local\\Temp\\ipykernel_11224\\243304745.py:72: SettingWithCopyWarning: \n",
      "A value is trying to be set on a copy of a slice from a DataFrame.\n",
      "Try using .loc[row_indexer,col_indexer] = value instead\n",
      "\n",
      "See the caveats in the documentation: https://pandas.pydata.org/pandas-docs/stable/user_guide/indexing.html#returning-a-view-versus-a-copy\n",
      "  df1['date'] = pd.DatetimeIndex(df1['date']).year\n"
     ]
    }
   ],
   "source": [
    "normalize_reviews(\"./raw_data/uss_master_copy.xlsx\")"
   ]
  },
  {
   "cell_type": "code",
   "execution_count": null,
   "metadata": {},
   "outputs": [],
   "source": []
  }
 ],
 "metadata": {
  "interpreter": {
   "hash": "d354657bd92028bc454a77f42304762620e8c274513fa9455143ecc560ec1506"
  },
  "kernelspec": {
   "display_name": "Python 3.9.6 ('hf')",
   "language": "python",
   "name": "python3"
  },
  "language_info": {
   "codemirror_mode": {
    "name": "ipython",
    "version": 3
   },
   "file_extension": ".py",
   "mimetype": "text/x-python",
   "name": "python",
   "nbconvert_exporter": "python",
   "pygments_lexer": "ipython3",
   "version": "3.9.6"
  },
  "orig_nbformat": 4
 },
 "nbformat": 4,
 "nbformat_minor": 2
}
