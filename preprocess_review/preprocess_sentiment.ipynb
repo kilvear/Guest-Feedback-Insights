{
 "cells": [
  {
   "cell_type": "markdown",
   "metadata": {},
   "source": [
    "# Preprocess Sentiment Analysis"
   ]
  },
  {
   "cell_type": "markdown",
   "metadata": {},
   "source": [
    "## Filter attraction"
   ]
  },
  {
   "cell_type": "code",
   "execution_count": 1,
   "metadata": {},
   "outputs": [],
   "source": [
    "import pandas as pd\n",
    "\n",
    "def filter_df(filepath, attraction, export=None):\n",
    "  # available attractions: uss, adventure_cove, beach_waterfront, cable_car, sea_aquarium, skyline_luge, wings_of_time\n",
    "  df = pd.read_excel(filepath)\n",
    "  mask = (df['attraction'] == attraction)\n",
    "  dfn = df[mask]\n",
    "  if export == 'Y':\n",
    "    dfn.to_excel(f\"output/filtered/{attraction}_data.xlsx\", index=False)\n",
    "  return dfn"
   ]
  },
  {
   "cell_type": "code",
   "execution_count": 2,
   "metadata": {},
   "outputs": [],
   "source": [
    "wot_df = filter_df(\"output/normalize_data/attractions_master_normalized.xlsx\", \"wings_of_time\")"
   ]
  },
  {
   "cell_type": "code",
   "execution_count": null,
   "metadata": {},
   "outputs": [],
   "source": [
    "#TODO: Add the rest of preprocessing steps from sentiment_analysis folder"
   ]
  }
 ],
 "metadata": {
  "interpreter": {
   "hash": "9c688e65cc4214a475e2c4ccca8969af626a500fdc5f438fd0696aa1cd017d1f"
  },
  "kernelspec": {
   "display_name": "Python 3.10.0 64-bit",
   "language": "python",
   "name": "python3"
  },
  "language_info": {
   "codemirror_mode": {
    "name": "ipython",
    "version": 3
   },
   "file_extension": ".py",
   "mimetype": "text/x-python",
   "name": "python",
   "nbconvert_exporter": "python",
   "pygments_lexer": "ipython3",
   "version": "3.10.0"
  },
  "orig_nbformat": 4
 },
 "nbformat": 4,
 "nbformat_minor": 2
}
