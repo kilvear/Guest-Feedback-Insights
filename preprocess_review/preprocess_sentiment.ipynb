{
 "cells": [
  {
   "cell_type": "markdown",
   "metadata": {},
   "source": [
    "# TODO - Turn into function"
   ]
  },
  {
   "cell_type": "code",
   "execution_count": 27,
   "metadata": {},
   "outputs": [
    {
     "name": "stderr",
     "output_type": "stream",
     "text": [
      "[nltk_data] Downloading package punkt to\n",
      "[nltk_data]     C:\\Users\\Luqman\\AppData\\Roaming\\nltk_data...\n",
      "[nltk_data]   Package punkt is already up-to-date!\n"
     ]
    }
   ],
   "source": [
    "import pandas as pd\n",
    "import ast\n",
    "import string\n",
    "import re\n",
    "\n",
    "import nltk\n",
    "nltk.download('punkt')\n",
    "\n",
    "import spacy\n",
    "id_nlp = spacy.blank('id')"
   ]
  },
  {
   "cell_type": "code",
   "execution_count": 43,
   "metadata": {},
   "outputs": [],
   "source": [
    "def preprocess_sentiment(filepath):\n",
    "  file = open(\"../resources/bahasa_indonesia_slangwords.txt\", \"r\")\n",
    "  contents = file.read()\n",
    "  slangwords = ast.literal_eval(contents)\n",
    "  \n",
    "  def tokenize_id(text):\n",
    "    text_list = [token.text for i, token in enumerate(id_nlp(text))]\n",
    "    return text_list\n",
    "  \n",
    "  def remove_emoji(text):\n",
    "    emoji_pattern = re.compile(\"[\"\n",
    "                           u\"\\U0001F600-\\U0001F64F\"  # emoticons\n",
    "                           u\"\\U0001F300-\\U0001F5FF\"  # symbols & pictographs\n",
    "                           u\"\\U0001F680-\\U0001F6FF\"  # transport & map symbols\n",
    "                           u\"\\U0001F1E0-\\U0001F1FF\"  # flags \n",
    "                           u\"\\U00002702-\\U000027B0\"\n",
    "                           u\"\\U000024C2-\\U0001F251\"\n",
    "                           \"]+\", flags=re.UNICODE)\n",
    "    return emoji_pattern.sub(r'', text)\n",
    "  \n",
    "  df = pd.read_excel(filepath)\n",
    "  \n",
    "  df['new_reviews'] = df['review'].apply(lambda x: \" \".join(x.lower() for x in x.split()))\n",
    "  df['new_reviews'] = df['new_reviews'].str.replace('[^\\w\\s]','')\n",
    "  df['new_reviews'] = df['new_reviews'].apply(lambda x: remove_emoji(x))\n",
    "  df['new_reviews'] = df['new_reviews'].apply(lambda x: \" \".join(slangwords.get(word, word) for word in tokenize_id(x)))\n",
    "  \n",
    "  attraction = df['attraction'][0]\n",
    "  df.to_excel(f'output/preprocess_sentiment/{attraction}_preprocess_sentimentTEST.xlsx', index=False)\n",
    "  "
   ]
  },
  {
   "cell_type": "code",
   "execution_count": 44,
   "metadata": {},
   "outputs": [
    {
     "name": "stderr",
     "output_type": "stream",
     "text": [
      "C:\\Users\\Luqman\\AppData\\Local\\Temp/ipykernel_17464/275413084.py:24: FutureWarning: The default value of regex will change from True to False in a future version.\n",
      "  df['new_reviews'] = df['new_reviews'].str.replace('[^\\w\\s]','')\n"
     ]
    }
   ],
   "source": [
    "preprocess_sentiment(\"../summarization/summary_output/uss_summarized.xlsx\")"
   ]
  },
  {
   "cell_type": "code",
   "execution_count": null,
   "metadata": {},
   "outputs": [],
   "source": []
  }
 ],
 "metadata": {
  "interpreter": {
   "hash": "9c688e65cc4214a475e2c4ccca8969af626a500fdc5f438fd0696aa1cd017d1f"
  },
  "kernelspec": {
   "display_name": "Python 3.10.0 64-bit",
   "language": "python",
   "name": "python3"
  },
  "language_info": {
   "codemirror_mode": {
    "name": "ipython",
    "version": 3
   },
   "file_extension": ".py",
   "mimetype": "text/x-python",
   "name": "python",
   "nbconvert_exporter": "python",
   "pygments_lexer": "ipython3",
   "version": "3.10.0"
  },
  "orig_nbformat": 4
 },
 "nbformat": 4,
 "nbformat_minor": 2
}
