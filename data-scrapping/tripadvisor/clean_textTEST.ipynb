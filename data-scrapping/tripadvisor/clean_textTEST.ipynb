{
 "cells": [
  {
   "cell_type": "code",
   "execution_count": 4,
   "metadata": {},
   "outputs": [],
   "source": [
    "from clean import combine_csv, filter_date\n",
    "import pandas as pd"
   ]
  },
  {
   "cell_type": "code",
   "execution_count": null,
   "metadata": {},
   "outputs": [],
   "source": [
    "combine_csv(\"c:\\\\Users\\\\Luqman\\\\Desktop\\\\Guest-Feedback-Insights\\\\data-scrapping\\\\tripadvisor\\\\data\\\\raw\")"
   ]
  },
  {
   "cell_type": "code",
   "execution_count": 3,
   "metadata": {},
   "outputs": [
    {
     "name": "stdout",
     "output_type": "stream",
     "text": [
      "Number of rows: 158\n"
     ]
    }
   ],
   "source": [
    "filter_date(\"data/raw/combined_reviews.csv\", 2018)"
   ]
  },
  {
   "cell_type": "code",
   "execution_count": 11,
   "metadata": {},
   "outputs": [],
   "source": [
    "df = pd.read_csv('data/clean/filtered_2018plus.csv')"
   ]
  },
  {
   "cell_type": "code",
   "execution_count": 12,
   "metadata": {},
   "outputs": [],
   "source": [
    "df = df.drop(axis=1, columns=['user', 'source'])"
   ]
  },
  {
   "cell_type": "code",
   "execution_count": 13,
   "metadata": {},
   "outputs": [
    {
     "data": {
      "text/html": [
       "<div>\n",
       "<style scoped>\n",
       "    .dataframe tbody tr th:only-of-type {\n",
       "        vertical-align: middle;\n",
       "    }\n",
       "\n",
       "    .dataframe tbody tr th {\n",
       "        vertical-align: top;\n",
       "    }\n",
       "\n",
       "    .dataframe thead th {\n",
       "        text-align: right;\n",
       "    }\n",
       "</style>\n",
       "<table border=\"1\" class=\"dataframe\">\n",
       "  <thead>\n",
       "    <tr style=\"text-align: right;\">\n",
       "      <th></th>\n",
       "      <th>date</th>\n",
       "      <th>review</th>\n",
       "      <th>attraction</th>\n",
       "    </tr>\n",
       "  </thead>\n",
       "  <tbody>\n",
       "    <tr>\n",
       "      <th>0</th>\n",
       "      <td>2018-07-01</td>\n",
       "      <td>Adventure Cove tempat yang bagus di kunjungi p...</td>\n",
       "      <td>Adventure Cove Waterpark</td>\n",
       "    </tr>\n",
       "    <tr>\n",
       "      <th>1</th>\n",
       "      <td>2019-11-01</td>\n",
       "      <td>mengunjungi sentosa island setelah dari sea ak...</td>\n",
       "      <td>Madame Tussauds</td>\n",
       "    </tr>\n",
       "    <tr>\n",
       "      <th>2</th>\n",
       "      <td>2019-12-01</td>\n",
       "      <td>Merupakan pengalaman pertama berkunjung ke Mad...</td>\n",
       "      <td>Madame Tussauds</td>\n",
       "    </tr>\n",
       "    <tr>\n",
       "      <th>3</th>\n",
       "      <td>2020-02-01</td>\n",
       "      <td>Beli tiket via OTA, tenyata itu tiket 4 in 1. ...</td>\n",
       "      <td>Madame Tussauds</td>\n",
       "    </tr>\n",
       "    <tr>\n",
       "      <th>4</th>\n",
       "      <td>2019-09-01</td>\n",
       "      <td>Merupakan tempat museum patung lilin selebriti...</td>\n",
       "      <td>Madame Tussauds</td>\n",
       "    </tr>\n",
       "  </tbody>\n",
       "</table>\n",
       "</div>"
      ],
      "text/plain": [
       "         date                                             review  \\\n",
       "0  2018-07-01  Adventure Cove tempat yang bagus di kunjungi p...   \n",
       "1  2019-11-01  mengunjungi sentosa island setelah dari sea ak...   \n",
       "2  2019-12-01  Merupakan pengalaman pertama berkunjung ke Mad...   \n",
       "3  2020-02-01  Beli tiket via OTA, tenyata itu tiket 4 in 1. ...   \n",
       "4  2019-09-01  Merupakan tempat museum patung lilin selebriti...   \n",
       "\n",
       "                 attraction  \n",
       "0  Adventure Cove Waterpark  \n",
       "1           Madame Tussauds  \n",
       "2           Madame Tussauds  \n",
       "3           Madame Tussauds  \n",
       "4           Madame Tussauds  "
      ]
     },
     "execution_count": 13,
     "metadata": {},
     "output_type": "execute_result"
    }
   ],
   "source": [
    "df.head()"
   ]
  },
  {
   "cell_type": "code",
   "execution_count": 19,
   "metadata": {},
   "outputs": [],
   "source": [
    "df['review'] = df['review'].apply(lambda x: x.replace(\"\\n\", \" \"))"
   ]
  },
  {
   "cell_type": "code",
   "execution_count": 28,
   "metadata": {},
   "outputs": [],
   "source": [
    "df.to_csv( \"data/clean/test.csv\", index=False, encoding='utf-8-sig')"
   ]
  },
  {
   "cell_type": "code",
   "execution_count": null,
   "metadata": {},
   "outputs": [],
   "source": [
    "query = 'Atraksi ini patut anda saksikan. Saya dtang kesini dgn istri & anak saya 2,5 thn. Berada di sentosa IsLand, Dari vivo city anda bisa naik sky train dgn ckup membayar 4$gd kLo tdak saLah /org (sudah pp, bsa turun dimna saja naik Lg). turunLah di beach station. Oiya, jika tdak saLah 2013 LaLu saya ke spore namanya Song of the sea, bukan Wings of time. Saya masuk ke daLam meLaLui gate 5, saya pikir tidak akan rame, ternyata yg nonton ramai sekaLi. Bahkan ada deretan bangku yg tertuLis \"RESERVED\".  Ini pertunjukkan yg keren bgt,,,atraksi dgn perpaduan suara, air mancur,dan Laser yg bercahaya.'\n",
    "querywords = query.split()\n",
    "\n",
    "resultwords  = [word for word in querywords if word.lower() not in stopwords]\n",
    "result = ' '.join(resultwords)\n",
    "\n",
    "print(result)"
   ]
  },
  {
   "cell_type": "code",
   "execution_count": null,
   "metadata": {},
   "outputs": [],
   "source": []
  }
 ],
 "metadata": {
  "interpreter": {
   "hash": "90b85f54aecd71003771950f482cb0e9b344c8b39504f9f49f23fe15bb6ae351"
  },
  "kernelspec": {
   "display_name": "Python 3.10.0 64-bit",
   "language": "python",
   "name": "python3"
  },
  "language_info": {
   "codemirror_mode": {
    "name": "ipython",
    "version": 3
   },
   "file_extension": ".py",
   "mimetype": "text/x-python",
   "name": "python",
   "nbconvert_exporter": "python",
   "pygments_lexer": "ipython3",
   "version": "3.10.0"
  },
  "orig_nbformat": 4
 },
 "nbformat": 4,
 "nbformat_minor": 2
}
