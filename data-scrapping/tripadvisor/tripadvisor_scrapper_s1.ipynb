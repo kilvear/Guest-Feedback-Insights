{
 "cells": [
  {
   "cell_type": "code",
   "execution_count": 7,
   "metadata": {},
   "outputs": [],
   "source": [
    "import csv\n",
    "import pandas as pd\n",
    "import time\n",
    "from selenium import webdriver\n",
    "from selenium.webdriver.chrome.service import Service\n",
    "from webdriver_manager.chrome import ChromeDriverManager\n",
    "from selenium.webdriver.common.by import By\n",
    "\n",
    "from datetime import datetime\n",
    "import re"
   ]
  },
  {
   "cell_type": "markdown",
   "metadata": {},
   "source": [
    "# TripAdvisor Script 1\n",
    "Features:\n",
    "- Grab all reviews based on TripAdvisor language filtered amount\n",
    "- Remove special characters and symbols for NLP use\n",
    "\n",
    "Issue:\n",
    "- Need to fix code if total native reviews is only on first page\n",
    "\n",
    "Bugs:\n",
    "- Some attractions the amount of filtered reviews can be inaccurate."
   ]
  },
  {
   "cell_type": "code",
   "execution_count": 8,
   "metadata": {},
   "outputs": [],
   "source": [
    "def fix_date(date):\n",
    "  '''\n",
    "  Clean date for consistency\n",
    "  - Replaces Indonesian month names to English\n",
    "  - Remove extra words\n",
    "  - Reformat to YYYY-MM\n",
    "  '''\n",
    "  date_dict = {'Januari':'January', 'Februari':'February', 'Maret':'March', 'Mei':'May', 'Juni':'June',\n",
    "                'Juli':'July', 'Agustus':'August', 'Oktober':'October', 'Desember':'December'}\n",
    "  \n",
    "  date = date.replace(\"Tanggal pengalaman: \", \"\")\n",
    "      \n",
    "  for key, val in date_dict.items():\n",
    "    if key in date:\n",
    "      date = date.replace(key, val)\n",
    "    else:\n",
    "      break\n",
    "  \n",
    "  date = datetime.strptime(date, '%B %Y')\n",
    "  date = date.strftime('%Y-%m')\n",
    "  \n",
    "  return date"
   ]
  },
  {
   "cell_type": "code",
   "execution_count": 9,
   "metadata": {},
   "outputs": [],
   "source": [
    "def clean_text(text):\n",
    "  '''\n",
    "  Remove special characters and symbols from text data\n",
    "  '''\n",
    "  text = re.sub('[^A-Za-z0-9]+', ' ', text).strip()\n",
    "  return text"
   ]
  },
  {
   "cell_type": "code",
   "execution_count": 10,
   "metadata": {},
   "outputs": [],
   "source": [
    "def scrape_review_s1(attraction, link): \n",
    "  \n",
    "  print(f\"[INFO] Currently Scrapping: {attraction}\")\n",
    "  \n",
    "  start_time = datetime.now()\n",
    "  \n",
    "  # Create filename with date scrapped and attraction name\n",
    "  file_path = str(datetime.now().strftime('%Y_%m_%d')) + '_' + attraction.replace(\" \", \"_\").lower() + '.csv'\n",
    "  file = open(f'data/raw/{file_path}', 'w', encoding=\"utf-8\", newline='')\n",
    "  csv_writer = csv.writer(file)\n",
    "  \n",
    "  # CSV Header\n",
    "  csv_writer.writerow(['date', 'user', 'review', 'attraction', 'source'])\n",
    "  \n",
    "  driver = webdriver.Chrome(service=Service(ChromeDriverManager().install()))\n",
    "  driver.get(link)\n",
    "\n",
    "  # Get number of Bahasa Indonesia reviews\n",
    "  # Using this number to get number of pages to loop. 5 reviews/page\n",
    "  native_num = driver.find_element(By.XPATH, \"//label[@for='LanguageFilter_3']/span[2]\").text\n",
    "  native_num = int(re.search(r'\\d+', native_num).group())\n",
    "  num_pages = native_num // 5 + 1\n",
    "\n",
    "  # Total review count\n",
    "  total_reviews = driver.find_element(By.XPATH, \"//span[@class='reviewCount siNVx S4 H3 Ci']\").text\n",
    "  total_reviews = int(''.join(i for i in total_reviews if i.isdigit()))\n",
    "  \n",
    "  review_count = 0\n",
    "  page_num = 1\n",
    "  \n",
    "  # Only take remaining amount of reviews on last page\n",
    "  rem = native_num % 5\n",
    "  \n",
    "  for i in range(num_pages-1):\n",
    "    \n",
    "    # Let page load (change to until element exist later)\n",
    "    time.sleep(3) \n",
    "    \n",
    "    # Expand the review\n",
    "    driver.find_element(By.XPATH, \".//div[contains(@data-test-target, 'expand-review')]\").click()\n",
    "\n",
    "    # Extract elements\n",
    "    users = driver.find_elements(By.XPATH, \"//div[@class='bcaHz']/span[1]/a[1]\")\n",
    "    reviews = driver.find_elements(By.XPATH, \"//q[@class='XllAv H4 _a']\")\n",
    "    dates = driver.find_elements(By.XPATH, \"//span[@class='euPKI _R Me S4 H3']\")\n",
    "    \n",
    "    for j in range(len(reviews)):\n",
    "      user = clean_text(users[j].text)\n",
    "      review = clean_text(reviews[j].text)\n",
    "      date = fix_date(dates[j].text)\n",
    "      csv_writer.writerow([date, user, review, attraction, 'tripadvisor']) \n",
    " \n",
    "    review_count += len(reviews)\n",
    "    \n",
    "    # Click next page\n",
    "    next = driver.find_element(By.XPATH, \"//a[@class='ui_button nav next primary ']\")\n",
    "    next.click()\n",
    "    page_num += 1\n",
    "    \n",
    "    print(f\"Review Count: {review_count}\")\n",
    "    print(f\"Current page: {page_num}\")\n",
    "    \n",
    "  else:\n",
    "    # Let page load (change to until element exist later)\n",
    "    time.sleep(3) \n",
    "    \n",
    "    # Expand the review\n",
    "    driver.find_element(By.XPATH, \".//div[contains(@data-test-target, 'expand-review')]\").click()\n",
    "    \n",
    "    users = driver.find_elements(By.XPATH, \"//div[@class='bcaHz']/span[1]/a[1]\")\n",
    "    reviews = driver.find_elements(By.XPATH, \"//q[@class='XllAv H4 _a']\")\n",
    "    dates = driver.find_elements(By.XPATH, \"//span[@class='euPKI _R Me S4 H3']\")\n",
    "    \n",
    "    for k in range(rem):\n",
    "      user = clean_text(users[k].text)\n",
    "      review = clean_text(reviews[k].text)\n",
    "      date = fix_date(dates[k].text)\n",
    "      csv_writer.writerow([date, user, review, attraction, 'tripadvisor']) \n",
    " \n",
    "    review_count += rem\n",
    "    \n",
    "    # print(f\"Review Count: {review_count}\")\n",
    "    # print(f\"Current page: {page_num}\")\n",
    "  \n",
    "  # ----- Scrapping Info -----\n",
    "  print('-------------- Scrape Completed --------------')\n",
    "  print(f\"Total Reviews: {total_reviews}\")\n",
    "  print(f\"Total Native Reviews: {review_count}\")\n",
    "  end_time = datetime.now()\n",
    "  print('Runtime: {}'.format(end_time - start_time))\n",
    "\n",
    "  file.close()\n",
    "  driver.close()"
   ]
  },
  {
   "cell_type": "code",
   "execution_count": 11,
   "metadata": {},
   "outputs": [
    {
     "data": {
      "text/html": [
       "<div>\n",
       "<style scoped>\n",
       "    .dataframe tbody tr th:only-of-type {\n",
       "        vertical-align: middle;\n",
       "    }\n",
       "\n",
       "    .dataframe tbody tr th {\n",
       "        vertical-align: top;\n",
       "    }\n",
       "\n",
       "    .dataframe thead th {\n",
       "        text-align: right;\n",
       "    }\n",
       "</style>\n",
       "<table border=\"1\" class=\"dataframe\">\n",
       "  <thead>\n",
       "    <tr style=\"text-align: right;\">\n",
       "      <th></th>\n",
       "      <th>Attraction</th>\n",
       "      <th>Link</th>\n",
       "    </tr>\n",
       "  </thead>\n",
       "  <tbody>\n",
       "    <tr>\n",
       "      <th>0</th>\n",
       "      <td>Sentosa Cable Car</td>\n",
       "      <td>https://www.tripadvisor.co.id/Attraction_Revie...</td>\n",
       "    </tr>\n",
       "    <tr>\n",
       "      <th>1</th>\n",
       "      <td>Mega Adventure Park</td>\n",
       "      <td>https://www.tripadvisor.co.id/Attraction_Revie...</td>\n",
       "    </tr>\n",
       "    <tr>\n",
       "      <th>2</th>\n",
       "      <td>SkyPark Sentosa by AJ Hackett</td>\n",
       "      <td>https://www.tripadvisor.co.id/Attraction_Revie...</td>\n",
       "    </tr>\n",
       "    <tr>\n",
       "      <th>3</th>\n",
       "      <td>Dolphin Island</td>\n",
       "      <td>https://www.tripadvisor.co.id/Attraction_Revie...</td>\n",
       "    </tr>\n",
       "    <tr>\n",
       "      <th>4</th>\n",
       "      <td>Segway Fun Ride (Gogreen Segway Eco Adventure)</td>\n",
       "      <td>https://www.tripadvisor.co.id/Attraction_Revie...</td>\n",
       "    </tr>\n",
       "    <tr>\n",
       "      <th>5</th>\n",
       "      <td>Royal Albatross</td>\n",
       "      <td>https://www.tripadvisor.co.id/Attraction_Revie...</td>\n",
       "    </tr>\n",
       "  </tbody>\n",
       "</table>\n",
       "</div>"
      ],
      "text/plain": [
       "                                       Attraction  \\\n",
       "0                               Sentosa Cable Car   \n",
       "1                             Mega Adventure Park   \n",
       "2                   SkyPark Sentosa by AJ Hackett   \n",
       "3                                  Dolphin Island   \n",
       "4  Segway Fun Ride (Gogreen Segway Eco Adventure)   \n",
       "5                                 Royal Albatross   \n",
       "\n",
       "                                                Link  \n",
       "0  https://www.tripadvisor.co.id/Attraction_Revie...  \n",
       "1  https://www.tripadvisor.co.id/Attraction_Revie...  \n",
       "2  https://www.tripadvisor.co.id/Attraction_Revie...  \n",
       "3  https://www.tripadvisor.co.id/Attraction_Revie...  \n",
       "4  https://www.tripadvisor.co.id/Attraction_Revie...  \n",
       "5  https://www.tripadvisor.co.id/Attraction_Revie...  "
      ]
     },
     "execution_count": 11,
     "metadata": {},
     "output_type": "execute_result"
    }
   ],
   "source": [
    "df = pd.read_csv('attractions_list_script1.csv', header=None, names=[\"Attraction\", \"Link\"])\n",
    "df"
   ]
  },
  {
   "cell_type": "code",
   "execution_count": 12,
   "metadata": {},
   "outputs": [
    {
     "name": "stderr",
     "output_type": "stream",
     "text": [
      "\n",
      "\n",
      "====== WebDriver manager ======\n"
     ]
    },
    {
     "name": "stdout",
     "output_type": "stream",
     "text": [
      "[INFO] Currently Scrapping: Sentosa Cable Car\n"
     ]
    },
    {
     "name": "stderr",
     "output_type": "stream",
     "text": [
      "Current google-chrome version is 100.0.4896\n",
      "Get LATEST chromedriver version for 100.0.4896 google-chrome\n",
      "Driver [C:\\Users\\Luqman\\.wdm\\drivers\\chromedriver\\win32\\100.0.4896.60\\chromedriver.exe] found in cache\n"
     ]
    },
    {
     "name": "stdout",
     "output_type": "stream",
     "text": [
      "No Native Reviews Found on Sentosa Cable Car\n"
     ]
    },
    {
     "name": "stderr",
     "output_type": "stream",
     "text": [
      "\n",
      "\n",
      "====== WebDriver manager ======\n"
     ]
    },
    {
     "name": "stdout",
     "output_type": "stream",
     "text": [
      "[INFO] Currently Scrapping: Mega Adventure Park\n"
     ]
    },
    {
     "name": "stderr",
     "output_type": "stream",
     "text": [
      "Current google-chrome version is 100.0.4896\n",
      "Get LATEST chromedriver version for 100.0.4896 google-chrome\n",
      "Driver [C:\\Users\\Luqman\\.wdm\\drivers\\chromedriver\\win32\\100.0.4896.60\\chromedriver.exe] found in cache\n"
     ]
    },
    {
     "name": "stdout",
     "output_type": "stream",
     "text": [
      "-------------- Scrape Completed --------------\n",
      "Total Reviews: 1382\n",
      "Total Native Reviews: 4\n",
      "Runtime: 0:00:07.342927\n"
     ]
    },
    {
     "name": "stderr",
     "output_type": "stream",
     "text": [
      "\n",
      "\n",
      "====== WebDriver manager ======\n"
     ]
    },
    {
     "name": "stdout",
     "output_type": "stream",
     "text": [
      "[INFO] Currently Scrapping: SkyPark Sentosa by AJ Hackett\n"
     ]
    },
    {
     "name": "stderr",
     "output_type": "stream",
     "text": [
      "Current google-chrome version is 100.0.4896\n",
      "Get LATEST chromedriver version for 100.0.4896 google-chrome\n",
      "Driver [C:\\Users\\Luqman\\.wdm\\drivers\\chromedriver\\win32\\100.0.4896.60\\chromedriver.exe] found in cache\n"
     ]
    },
    {
     "name": "stdout",
     "output_type": "stream",
     "text": [
      "-------------- Scrape Completed --------------\n",
      "Total Reviews: 214\n",
      "Total Native Reviews: 1\n",
      "Runtime: 0:00:07.646540\n"
     ]
    },
    {
     "name": "stderr",
     "output_type": "stream",
     "text": [
      "\n",
      "\n",
      "====== WebDriver manager ======\n"
     ]
    },
    {
     "name": "stdout",
     "output_type": "stream",
     "text": [
      "[INFO] Currently Scrapping: Dolphin Island\n"
     ]
    },
    {
     "name": "stderr",
     "output_type": "stream",
     "text": [
      "Current google-chrome version is 100.0.4896\n",
      "Get LATEST chromedriver version for 100.0.4896 google-chrome\n",
      "Driver [C:\\Users\\Luqman\\.wdm\\drivers\\chromedriver\\win32\\100.0.4896.60\\chromedriver.exe] found in cache\n"
     ]
    },
    {
     "name": "stdout",
     "output_type": "stream",
     "text": [
      "No Native Reviews Found on Dolphin Island\n"
     ]
    },
    {
     "name": "stderr",
     "output_type": "stream",
     "text": [
      "\n",
      "\n",
      "====== WebDriver manager ======\n"
     ]
    },
    {
     "name": "stdout",
     "output_type": "stream",
     "text": [
      "[INFO] Currently Scrapping: Segway Fun Ride (Gogreen Segway Eco Adventure)\n"
     ]
    },
    {
     "name": "stderr",
     "output_type": "stream",
     "text": [
      "Current google-chrome version is 100.0.4896\n",
      "Get LATEST chromedriver version for 100.0.4896 google-chrome\n",
      "Driver [C:\\Users\\Luqman\\.wdm\\drivers\\chromedriver\\win32\\100.0.4896.60\\chromedriver.exe] found in cache\n"
     ]
    },
    {
     "name": "stdout",
     "output_type": "stream",
     "text": [
      "-------------- Scrape Completed --------------\n",
      "Total Reviews: 294\n",
      "Total Native Reviews: 0\n",
      "Runtime: 0:00:07.221382\n"
     ]
    },
    {
     "name": "stderr",
     "output_type": "stream",
     "text": [
      "\n",
      "\n",
      "====== WebDriver manager ======\n"
     ]
    },
    {
     "name": "stdout",
     "output_type": "stream",
     "text": [
      "[INFO] Currently Scrapping: Royal Albatross\n"
     ]
    },
    {
     "name": "stderr",
     "output_type": "stream",
     "text": [
      "Current google-chrome version is 100.0.4896\n",
      "Get LATEST chromedriver version for 100.0.4896 google-chrome\n",
      "Driver [C:\\Users\\Luqman\\.wdm\\drivers\\chromedriver\\win32\\100.0.4896.60\\chromedriver.exe] found in cache\n"
     ]
    },
    {
     "name": "stdout",
     "output_type": "stream",
     "text": [
      "-------------- Scrape Completed --------------\n",
      "Total Reviews: 565\n",
      "Total Native Reviews: 1\n",
      "Runtime: 0:00:07.624516\n"
     ]
    }
   ],
   "source": [
    "for index, row in df.iterrows():\n",
    "    try:\n",
    "        scrape_review_s1(row['Attraction'], row['Link'])\n",
    "    except:\n",
    "        print(f\"No Native Reviews Found on {row['Attraction']}\")\n",
    "    finally:\n",
    "        continue"
   ]
  },
  {
   "cell_type": "code",
   "execution_count": null,
   "metadata": {},
   "outputs": [],
   "source": []
  }
 ],
 "metadata": {
  "interpreter": {
   "hash": "90b85f54aecd71003771950f482cb0e9b344c8b39504f9f49f23fe15bb6ae351"
  },
  "kernelspec": {
   "display_name": "Python 3.10.0 64-bit",
   "language": "python",
   "name": "python3"
  },
  "language_info": {
   "codemirror_mode": {
    "name": "ipython",
    "version": 3
   },
   "file_extension": ".py",
   "mimetype": "text/x-python",
   "name": "python",
   "nbconvert_exporter": "python",
   "pygments_lexer": "ipython3",
   "version": "3.10.0"
  },
  "orig_nbformat": 4
 },
 "nbformat": 4,
 "nbformat_minor": 2
}
