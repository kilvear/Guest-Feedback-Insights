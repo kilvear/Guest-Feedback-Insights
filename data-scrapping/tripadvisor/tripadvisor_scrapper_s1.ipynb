{
 "cells": [
  {
   "cell_type": "code",
   "execution_count": 1,
   "metadata": {},
   "outputs": [],
   "source": [
    "import csv\n",
    "import pandas as pd\n",
    "import time\n",
    "from selenium import webdriver\n",
    "from selenium.webdriver.chrome.service import Service\n",
    "from webdriver_manager.chrome import ChromeDriverManager\n",
    "from selenium.webdriver.common.by import By\n",
    "\n",
    "from datetime import datetime\n",
    "import re"
   ]
  },
  {
   "cell_type": "markdown",
   "metadata": {},
   "source": [
    "# TripAdvisor Script 1 Version 2\n",
    "Features:\n",
    "- Grab all reviews based on TripAdvisor language filtered amount\n",
    "\n",
    "Bugs:\n",
    "- Some attractions the amount of filtered reviews can be inaccurate."
   ]
  },
  {
   "cell_type": "code",
   "execution_count": 2,
   "metadata": {},
   "outputs": [],
   "source": [
    "def scrape_reviews_v2_s1(attraction, link): \n",
    "  \n",
    "  print(f\"[INFO] Currently Scrapping: {attraction}\")\n",
    "  \n",
    "  start_time = datetime.now()\n",
    "  \n",
    "  file_path = str(datetime.now().strftime('%Y_%m_%d')) + '_' + attraction.replace(\" \", \"_\").lower() + '.csv'\n",
    "  file = open(f'{file_path}', 'a', encoding=\"utf-8\", newline='')\n",
    "  csv_writer = csv.writer(file)\n",
    "  \n",
    "  driver = webdriver.Chrome(service=Service(ChromeDriverManager().install()))\n",
    "  driver.get(link)\n",
    "\n",
    "  # Get number of Bahasa Indonesia reviews\n",
    "  # Using this number to get number of pages to loop. 5 reviews/page\n",
    "  native_num = driver.find_element(By.XPATH, \"//label[@for='LanguageFilter_3']/span[2]\").text\n",
    "  native_num = int(re.search(r'\\d+', native_num).group())\n",
    "  num_pages = native_num // 5 + 1\n",
    "\n",
    "  # Total review count\n",
    "  total_reviews = driver.find_element(By.XPATH, \"//span[@class='reviewCount siNVx S4 H3 Ci']\").text\n",
    "  total_reviews = int(''.join(i for i in total_reviews if i.isdigit()))\n",
    "  \n",
    "  review_count = 0\n",
    "  page_num = 1\n",
    "  \n",
    "  for i in range(num_pages-1):\n",
    "    \n",
    "    # Let page load (change to until element exist later)\n",
    "    time.sleep(3) \n",
    "    \n",
    "    # Expand the review\n",
    "    driver.find_element(By.XPATH, \".//div[contains(@data-test-target, 'expand-review')]\").click()\n",
    "\n",
    "    # Extract elements\n",
    "    users = driver.find_elements(By.XPATH, \"//div[@class='bcaHz']/span[1]/a[1]\")\n",
    "    reviews = driver.find_elements(By.XPATH, \"//q[@class='XllAv H4 _a']\")\n",
    "    dates = driver.find_elements(By.XPATH, \"//span[@class='euPKI _R Me S4 H3']\")\n",
    "    \n",
    "    # Only take remaining amount of reviews on last page\n",
    "    rem = native_num % 5\n",
    "    \n",
    "    for j in range(len(reviews)):\n",
    "      user = users[j].text\n",
    "      review = reviews[j].text\n",
    "      date = dates[j].text\n",
    "      csv_writer.writerow([date, user, review]) \n",
    " \n",
    "    review_count += len(reviews)\n",
    "    \n",
    "    # Click next page\n",
    "    next = driver.find_element(By.XPATH, \"//a[@class='ui_button nav next primary ']\")\n",
    "    next.click()\n",
    "    page_num += 1\n",
    "    \n",
    "    print(f\"Review Count: {review_count}\")\n",
    "    print(f\"Current page: {page_num}\")\n",
    "    \n",
    "  else:\n",
    "    # Let page load (change to until element exist later)\n",
    "    time.sleep(3) \n",
    "    \n",
    "    # Expand the review\n",
    "    driver.find_element(By.XPATH, \".//div[contains(@data-test-target, 'expand-review')]\").click()\n",
    "    \n",
    "    users = driver.find_elements(By.XPATH, \"//div[@class='bcaHz']/span[1]/a[1]\")\n",
    "    reviews = driver.find_elements(By.XPATH, \"//q[@class='XllAv H4 _a']\")\n",
    "    dates = driver.find_elements(By.XPATH, \"//span[@class='euPKI _R Me S4 H3']\")\n",
    "    \n",
    "    for k in range(rem):\n",
    "      user = users[k].text\n",
    "      review = reviews[k].text\n",
    "      date = dates[k].text\n",
    "      csv_writer.writerow([date, user, review]) \n",
    " \n",
    "    review_count += rem\n",
    "    \n",
    "    print(f\"Review Count: {review_count}\")\n",
    "    print(f\"Current page: {page_num}\")\n",
    "  \n",
    "  print('-------------- Scrape Completed --------------')\n",
    "  print(f\"Total Reviews: {total_reviews}\")\n",
    "  print(f\"Total Native Reviews: {review_count}\")\n",
    "  end_time = datetime.now()\n",
    "  print('Runtime: {}'.format(end_time - start_time))\n",
    "\n",
    "  file.close()\n",
    "  driver.close()"
   ]
  },
  {
   "cell_type": "code",
   "execution_count": 3,
   "metadata": {},
   "outputs": [
    {
     "name": "stderr",
     "output_type": "stream",
     "text": [
      "\n",
      "\n",
      "====== WebDriver manager ======\n"
     ]
    },
    {
     "name": "stdout",
     "output_type": "stream",
     "text": [
      "[INFO] Currently Scrapping: cablecar\n"
     ]
    },
    {
     "name": "stderr",
     "output_type": "stream",
     "text": [
      "Current google-chrome version is 100.0.4896\n",
      "Get LATEST chromedriver version for 100.0.4896 google-chrome\n",
      "Driver [C:\\Users\\Luqman\\.wdm\\drivers\\chromedriver\\win32\\100.0.4896.60\\chromedriver.exe] found in cache\n"
     ]
    },
    {
     "name": "stdout",
     "output_type": "stream",
     "text": [
      "Review Count: 5\n",
      "Current page: 2\n",
      "Review Count: 10\n",
      "Current page: 3\n",
      "Review Count: 15\n",
      "Current page: 4\n",
      "Review Count: 20\n",
      "Current page: 5\n",
      "Review Count: 25\n",
      "Current page: 6\n",
      "Review Count: 27\n",
      "Current page: 6\n",
      "-------------- Scrape Completed --------------\n",
      "Total Reviews: 2186\n",
      "Total Native Reviews: 27\n",
      "Runtime: 0:00:24.117581\n"
     ]
    }
   ],
   "source": [
    "scrape_reviews_v2_s1(\"cablecar\", \"https://www.tripadvisor.co.id/Attraction_Review-g294264-d1997266-Reviews-Singapore_Cable_Car_Sentosa-Sentosa_Island.html#REVIEWS\")"
   ]
  },
  {
   "cell_type": "code",
   "execution_count": null,
   "metadata": {},
   "outputs": [],
   "source": []
  }
 ],
 "metadata": {
  "interpreter": {
   "hash": "90b85f54aecd71003771950f482cb0e9b344c8b39504f9f49f23fe15bb6ae351"
  },
  "kernelspec": {
   "display_name": "Python 3.10.0 64-bit",
   "language": "python",
   "name": "python3"
  },
  "language_info": {
   "codemirror_mode": {
    "name": "ipython",
    "version": 3
   },
   "file_extension": ".py",
   "mimetype": "text/x-python",
   "name": "python",
   "nbconvert_exporter": "python",
   "pygments_lexer": "ipython3",
   "version": "3.10.0"
  },
  "orig_nbformat": 4
 },
 "nbformat": 4,
 "nbformat_minor": 2
}
