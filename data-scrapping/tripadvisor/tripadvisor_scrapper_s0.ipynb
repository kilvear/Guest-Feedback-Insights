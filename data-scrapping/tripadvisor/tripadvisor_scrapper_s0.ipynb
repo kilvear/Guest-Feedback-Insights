{
 "cells": [
  {
   "cell_type": "markdown",
   "metadata": {},
   "source": [
    "# Imports"
   ]
  },
  {
   "cell_type": "code",
   "execution_count": 1,
   "metadata": {},
   "outputs": [],
   "source": [
    "import csv\n",
    "import pandas as pd\n",
    "import time\n",
    "from selenium import webdriver\n",
    "from selenium.webdriver.chrome.service import Service\n",
    "from webdriver_manager.chrome import ChromeDriverManager\n",
    "from selenium.webdriver.common.by import By\n",
    "\n",
    "from datetime import datetime\n",
    "import re"
   ]
  },
  {
   "cell_type": "markdown",
   "metadata": {},
   "source": [
    "# TripAdvisor Script 0\n",
    "- Fixed filtering native reviews\n",
    "- Unable to retrieve review with reviews with no date just below the username"
   ]
  },
  {
   "cell_type": "code",
   "execution_count": 2,
   "metadata": {},
   "outputs": [],
   "source": [
    "def fix_date(date):\n",
    "  date_dict = {'Okt':'Oct', 'Des':'Dec', 'Agt':'Aug', 'Mei':'May'}\n",
    "      \n",
    "  # Replace date with proper abbreviations\n",
    "  for key, val in date_dict.items():\n",
    "    if key in date:\n",
    "      date = date.replace(key, val)\n",
    "  \n",
    "  date = datetime.strptime(date, '%b %Y')\n",
    "  date = date.strftime('%Y-%m')\n",
    "  \n",
    "  return date"
   ]
  },
  {
   "cell_type": "code",
   "execution_count": 3,
   "metadata": {},
   "outputs": [],
   "source": [
    "def scrape_review_s0(attraction, link):\n",
    "  \n",
    "  print(f\"[INFO] Currently Scrapping: {attraction}\")\n",
    "  \n",
    "  start_time = datetime.now()\n",
    "  \n",
    "  # Open csv file to write in\n",
    "  file_path = str(datetime.now().strftime('%Y_%m_%d')) + '_' + attraction.replace(\" \", \"_\").lower() + '.csv'\n",
    "  file = open(f'data/raw/{file_path}', 'a', encoding=\"utf-8\", newline='')\n",
    "  csv_writer = csv.writer(file)\n",
    "  \n",
    "  # CSV Header\n",
    "  csv_writer.writerow(['date', 'user', 'review', 'attraction', 'source'])\n",
    "\n",
    "  # Open up browser and navigate to page\n",
    "  driver = webdriver.Chrome(service=Service(ChromeDriverManager().install()))\n",
    "  driver.get(link)\n",
    "  \n",
    "  # Get number of pages\n",
    "  total_reviews = driver.find_element(By.XPATH, \"//*[@href='#REVIEWS']/div[1]/span[1]/span[1]\").text.replace('.', '')\n",
    "  total_reviews = int(total_reviews)\n",
    "  num_pages = (total_reviews // 10) + 1\n",
    "  \n",
    "  # Set review and page number counter\n",
    "  review_count = 0\n",
    "  page_num = 1\n",
    "  \n",
    "  for i in range(num_pages):\n",
    "    \n",
    "    # Let page load (change to until element exist later)\n",
    "    time.sleep(3)   \n",
    "    \n",
    "    # Extract elements               \n",
    "    users = driver.find_elements(By.XPATH, \"//*[@data-automation='reviewCard']//span[contains(text(),'Google Terjemahan')]//parent::button//parent::div[1]/div[1]/div[1]/div[2]/span\")\n",
    "    reviews = driver.find_elements(By.XPATH, \"//*[@data-automation='reviewCard']//span[contains(text(),'Google Terjemahan')]//parent::button//parent::div/div[5]/div[1]\")\n",
    "    dates = driver.find_elements(By.XPATH, \"//*[@class='eRduX']\")\n",
    "    \n",
    "    # Open csv file and write to it\n",
    "    for j in range(len(reviews)):\n",
    "      user = users[j].text\n",
    "      review = reviews[j].text\n",
    "      date = fix_date(dates[j].text[:9].strip())\n",
    "      \n",
    "      # Write reviews and date into csv file\n",
    "      csv_writer.writerow([date, user, review, attraction, 'tripadvisor'])      \n",
    "      \n",
    "    review_count += len(reviews)\n",
    "    \n",
    "    # Click next page\n",
    "    next = driver.find_element(By.XPATH, \"//a[@aria-label='Next page']//*[name()='svg']\")\n",
    "    next.click()\n",
    "    page_num += 1\n",
    "    \n",
    "    # If no. of native reviews on page is 0, exit loop\n",
    "    if len(reviews) == 0:\n",
    "      break\n",
    "    \n",
    "    # print(f\"Review Count: {review_count}\")\n",
    "    # print(f\"Current page: {page_num}\")\n",
    "  \n",
    "  # ----- Scrapping Info -----\n",
    "  print('-------------- Scrape Completed --------------')\n",
    "  print(f\"Total Reviews: {total_reviews}\")\n",
    "  print(f\"Total Native Reviews: {review_count}\")\n",
    "  end_time = datetime.now()\n",
    "  print('Runtime: {}'.format(end_time - start_time))\n",
    "  \n",
    "  file.close()\n",
    "  driver.close()"
   ]
  },
  {
   "cell_type": "code",
   "execution_count": 4,
   "metadata": {},
   "outputs": [
    {
     "data": {
      "text/html": [
       "<div>\n",
       "<style scoped>\n",
       "    .dataframe tbody tr th:only-of-type {\n",
       "        vertical-align: middle;\n",
       "    }\n",
       "\n",
       "    .dataframe tbody tr th {\n",
       "        vertical-align: top;\n",
       "    }\n",
       "\n",
       "    .dataframe thead th {\n",
       "        text-align: right;\n",
       "    }\n",
       "</style>\n",
       "<table border=\"1\" class=\"dataframe\">\n",
       "  <thead>\n",
       "    <tr style=\"text-align: right;\">\n",
       "      <th></th>\n",
       "      <th>Attraction</th>\n",
       "      <th>Link</th>\n",
       "    </tr>\n",
       "  </thead>\n",
       "  <tbody>\n",
       "    <tr>\n",
       "      <th>0</th>\n",
       "      <td>Universal Studios Singapore</td>\n",
       "      <td>https://www.tripadvisor.co.id/Attraction_Revie...</td>\n",
       "    </tr>\n",
       "    <tr>\n",
       "      <th>1</th>\n",
       "      <td>S.E.A Aquarium</td>\n",
       "      <td>https://www.tripadvisor.co.id/Attraction_Revie...</td>\n",
       "    </tr>\n",
       "    <tr>\n",
       "      <th>2</th>\n",
       "      <td>Skyline Luge Sentosa</td>\n",
       "      <td>https://www.tripadvisor.co.id/Attraction_Revie...</td>\n",
       "    </tr>\n",
       "    <tr>\n",
       "      <th>3</th>\n",
       "      <td>Adventure Cove Waterpark</td>\n",
       "      <td>https://www.tripadvisor.co.id/Attraction_Revie...</td>\n",
       "    </tr>\n",
       "    <tr>\n",
       "      <th>4</th>\n",
       "      <td>Madame Tussauds</td>\n",
       "      <td>https://www.tripadvisor.co.id/Attraction_Revie...</td>\n",
       "    </tr>\n",
       "    <tr>\n",
       "      <th>5</th>\n",
       "      <td>Trick Eye Museum Singapore</td>\n",
       "      <td>https://www.tripadvisor.co.id/Attraction_Revie...</td>\n",
       "    </tr>\n",
       "    <tr>\n",
       "      <th>6</th>\n",
       "      <td>iFly Singapore</td>\n",
       "      <td>https://www.tripadvisor.co.id/Attraction_Revie...</td>\n",
       "    </tr>\n",
       "    <tr>\n",
       "      <th>7</th>\n",
       "      <td>Sentosa 4D AdventureLand</td>\n",
       "      <td>https://www.tripadvisor.co.id/Attraction_Revie...</td>\n",
       "    </tr>\n",
       "    <tr>\n",
       "      <th>8</th>\n",
       "      <td>Hydrodash Waterpark</td>\n",
       "      <td>https://www.tripadvisor.co.id/Attraction_Revie...</td>\n",
       "    </tr>\n",
       "    <tr>\n",
       "      <th>9</th>\n",
       "      <td>Sentosa Boardwalk</td>\n",
       "      <td>https://www.tripadvisor.co.id/Attraction_Revie...</td>\n",
       "    </tr>\n",
       "    <tr>\n",
       "      <th>10</th>\n",
       "      <td>Palawan Beach</td>\n",
       "      <td>https://www.tripadvisor.co.id/Attraction_Revie...</td>\n",
       "    </tr>\n",
       "    <tr>\n",
       "      <th>11</th>\n",
       "      <td>Fort Siloso</td>\n",
       "      <td>https://www.tripadvisor.co.id/Attraction_Revie...</td>\n",
       "    </tr>\n",
       "    <tr>\n",
       "      <th>12</th>\n",
       "      <td>Tanjong Beach</td>\n",
       "      <td>https://www.tripadvisor.co.id/Attraction_Revie...</td>\n",
       "    </tr>\n",
       "    <tr>\n",
       "      <th>13</th>\n",
       "      <td>Sentosa Nature Discovery</td>\n",
       "      <td>https://www.tripadvisor.co.id/Attraction_Revie...</td>\n",
       "    </tr>\n",
       "    <tr>\n",
       "      <th>14</th>\n",
       "      <td>Siloso Beach</td>\n",
       "      <td>https://www.tripadvisor.co.id/Attraction_Revie...</td>\n",
       "    </tr>\n",
       "    <tr>\n",
       "      <th>15</th>\n",
       "      <td>Wave House Sentosa</td>\n",
       "      <td>https://www.tripadvisor.co.id/Attraction_Revie...</td>\n",
       "    </tr>\n",
       "    <tr>\n",
       "      <th>16</th>\n",
       "      <td>KidZania Singapore</td>\n",
       "      <td>https://www.tripadvisor.co.id/Attraction_Revie...</td>\n",
       "    </tr>\n",
       "    <tr>\n",
       "      <th>17</th>\n",
       "      <td>Wings of Time</td>\n",
       "      <td>https://www.tripadvisor.co.id/Attraction_Revie...</td>\n",
       "    </tr>\n",
       "    <tr>\n",
       "      <th>18</th>\n",
       "      <td>Butterfly Park &amp; Insect Kingdom</td>\n",
       "      <td>https://www.tripadvisor.co.id/Attraction_Revie...</td>\n",
       "    </tr>\n",
       "    <tr>\n",
       "      <th>19</th>\n",
       "      <td>The Maritime Experiential Museum</td>\n",
       "      <td>https://www.tripadvisor.co.id/Attraction_Revie...</td>\n",
       "    </tr>\n",
       "    <tr>\n",
       "      <th>20</th>\n",
       "      <td>Fort Siloso Skywalk</td>\n",
       "      <td>https://www.tripadvisor.co.id/Attraction_Revie...</td>\n",
       "    </tr>\n",
       "    <tr>\n",
       "      <th>21</th>\n",
       "      <td>Floating Bridge at Siloso Beach</td>\n",
       "      <td>https://www.tripadvisor.co.id/Attraction_Revie...</td>\n",
       "    </tr>\n",
       "    <tr>\n",
       "      <th>22</th>\n",
       "      <td>Imbiah Lookout</td>\n",
       "      <td>https://www.tripadvisor.co.id/Attraction_Revie...</td>\n",
       "    </tr>\n",
       "    <tr>\n",
       "      <th>23</th>\n",
       "      <td>Air Wave House Sentosa</td>\n",
       "      <td>https://www.tripadvisor.co.id/Attraction_Revie...</td>\n",
       "    </tr>\n",
       "    <tr>\n",
       "      <th>24</th>\n",
       "      <td>The Sentosa Bus</td>\n",
       "      <td>https://www.tripadvisor.co.id/Attraction_Revie...</td>\n",
       "    </tr>\n",
       "    <tr>\n",
       "      <th>25</th>\n",
       "      <td>The Sentosa Express</td>\n",
       "      <td>https://www.tripadvisor.co.id/Attraction_Revie...</td>\n",
       "    </tr>\n",
       "    <tr>\n",
       "      <th>26</th>\n",
       "      <td>Resort World Sentosa</td>\n",
       "      <td>https://www.tripadvisor.co.id/Attraction_Revie...</td>\n",
       "    </tr>\n",
       "    <tr>\n",
       "      <th>27</th>\n",
       "      <td>HeadRock VR</td>\n",
       "      <td>https://www.tripadvisor.co.id/Attraction_Revie...</td>\n",
       "    </tr>\n",
       "    <tr>\n",
       "      <th>28</th>\n",
       "      <td>Magical Shores</td>\n",
       "      <td>https://www.tripadvisor.co.id/Attraction_Revie...</td>\n",
       "    </tr>\n",
       "    <tr>\n",
       "      <th>29</th>\n",
       "      <td>Southernmost point of Asia</td>\n",
       "      <td>https://www.tripadvisor.co.id/Attraction_Revie...</td>\n",
       "    </tr>\n",
       "    <tr>\n",
       "      <th>30</th>\n",
       "      <td>SkyHelix Sentosa</td>\n",
       "      <td>https://www.tripadvisor.co.id/Attraction_Revie...</td>\n",
       "    </tr>\n",
       "  </tbody>\n",
       "</table>\n",
       "</div>"
      ],
      "text/plain": [
       "                          Attraction  \\\n",
       "0        Universal Studios Singapore   \n",
       "1                     S.E.A Aquarium   \n",
       "2               Skyline Luge Sentosa   \n",
       "3           Adventure Cove Waterpark   \n",
       "4                    Madame Tussauds   \n",
       "5         Trick Eye Museum Singapore   \n",
       "6                     iFly Singapore   \n",
       "7           Sentosa 4D AdventureLand   \n",
       "8                Hydrodash Waterpark   \n",
       "9                  Sentosa Boardwalk   \n",
       "10                     Palawan Beach   \n",
       "11                       Fort Siloso   \n",
       "12                     Tanjong Beach   \n",
       "13          Sentosa Nature Discovery   \n",
       "14                      Siloso Beach   \n",
       "15                Wave House Sentosa   \n",
       "16                KidZania Singapore   \n",
       "17                     Wings of Time   \n",
       "18   Butterfly Park & Insect Kingdom   \n",
       "19  The Maritime Experiential Museum   \n",
       "20               Fort Siloso Skywalk   \n",
       "21   Floating Bridge at Siloso Beach   \n",
       "22                    Imbiah Lookout   \n",
       "23            Air Wave House Sentosa   \n",
       "24                   The Sentosa Bus   \n",
       "25               The Sentosa Express   \n",
       "26              Resort World Sentosa   \n",
       "27                       HeadRock VR   \n",
       "28                    Magical Shores   \n",
       "29        Southernmost point of Asia   \n",
       "30                  SkyHelix Sentosa   \n",
       "\n",
       "                                                 Link  \n",
       "0   https://www.tripadvisor.co.id/Attraction_Revie...  \n",
       "1   https://www.tripadvisor.co.id/Attraction_Revie...  \n",
       "2   https://www.tripadvisor.co.id/Attraction_Revie...  \n",
       "3   https://www.tripadvisor.co.id/Attraction_Revie...  \n",
       "4   https://www.tripadvisor.co.id/Attraction_Revie...  \n",
       "5   https://www.tripadvisor.co.id/Attraction_Revie...  \n",
       "6   https://www.tripadvisor.co.id/Attraction_Revie...  \n",
       "7   https://www.tripadvisor.co.id/Attraction_Revie...  \n",
       "8   https://www.tripadvisor.co.id/Attraction_Revie...  \n",
       "9   https://www.tripadvisor.co.id/Attraction_Revie...  \n",
       "10  https://www.tripadvisor.co.id/Attraction_Revie...  \n",
       "11  https://www.tripadvisor.co.id/Attraction_Revie...  \n",
       "12  https://www.tripadvisor.co.id/Attraction_Revie...  \n",
       "13  https://www.tripadvisor.co.id/Attraction_Revie...  \n",
       "14  https://www.tripadvisor.co.id/Attraction_Revie...  \n",
       "15  https://www.tripadvisor.co.id/Attraction_Revie...  \n",
       "16  https://www.tripadvisor.co.id/Attraction_Revie...  \n",
       "17  https://www.tripadvisor.co.id/Attraction_Revie...  \n",
       "18  https://www.tripadvisor.co.id/Attraction_Revie...  \n",
       "19  https://www.tripadvisor.co.id/Attraction_Revie...  \n",
       "20  https://www.tripadvisor.co.id/Attraction_Revie...  \n",
       "21  https://www.tripadvisor.co.id/Attraction_Revie...  \n",
       "22  https://www.tripadvisor.co.id/Attraction_Revie...  \n",
       "23  https://www.tripadvisor.co.id/Attraction_Revie...  \n",
       "24  https://www.tripadvisor.co.id/Attraction_Revie...  \n",
       "25  https://www.tripadvisor.co.id/Attraction_Revie...  \n",
       "26  https://www.tripadvisor.co.id/Attraction_Revie...  \n",
       "27  https://www.tripadvisor.co.id/Attraction_Revie...  \n",
       "28  https://www.tripadvisor.co.id/Attraction_Revie...  \n",
       "29  https://www.tripadvisor.co.id/Attraction_Revie...  \n",
       "30  https://www.tripadvisor.co.id/Attraction_Revie...  "
      ]
     },
     "execution_count": 4,
     "metadata": {},
     "output_type": "execute_result"
    }
   ],
   "source": [
    "df = pd.read_csv('attractions_list_script0.csv', header=None, names=[\"Attraction\", \"Link\"])\n",
    "df"
   ]
  },
  {
   "cell_type": "code",
   "execution_count": 5,
   "metadata": {},
   "outputs": [
    {
     "name": "stderr",
     "output_type": "stream",
     "text": [
      "\n",
      "\n",
      "====== WebDriver manager ======\n"
     ]
    },
    {
     "name": "stdout",
     "output_type": "stream",
     "text": [
      "[INFO] Currently Scrapping: Universal Studios Singapore\n"
     ]
    },
    {
     "name": "stderr",
     "output_type": "stream",
     "text": [
      "Current google-chrome version is 100.0.4896\n",
      "Get LATEST chromedriver version for 100.0.4896 google-chrome\n",
      "Trying to download new driver from https://chromedriver.storage.googleapis.com/100.0.4896.60/chromedriver_win32.zip\n",
      "Driver has been saved in cache [C:\\Users\\Luqman\\.wdm\\drivers\\chromedriver\\win32\\100.0.4896.60]\n"
     ]
    },
    {
     "name": "stdout",
     "output_type": "stream",
     "text": [
      "-------------- Scrape Completed --------------\n",
      "Total Reviews: 20005\n",
      "Total Native Reviews: 636\n",
      "Runtime: 0:03:51.112751\n"
     ]
    },
    {
     "name": "stderr",
     "output_type": "stream",
     "text": [
      "\n",
      "\n",
      "====== WebDriver manager ======\n"
     ]
    },
    {
     "name": "stdout",
     "output_type": "stream",
     "text": [
      "[INFO] Currently Scrapping: S.E.A Aquarium\n"
     ]
    },
    {
     "name": "stderr",
     "output_type": "stream",
     "text": [
      "Current google-chrome version is 100.0.4896\n",
      "Get LATEST chromedriver version for 100.0.4896 google-chrome\n",
      "Driver [C:\\Users\\Luqman\\.wdm\\drivers\\chromedriver\\win32\\100.0.4896.60\\chromedriver.exe] found in cache\n"
     ]
    },
    {
     "name": "stdout",
     "output_type": "stream",
     "text": [
      "-------------- Scrape Completed --------------\n",
      "Total Reviews: 6746\n",
      "Total Native Reviews: 141\n",
      "Runtime: 0:00:58.506456\n"
     ]
    },
    {
     "name": "stderr",
     "output_type": "stream",
     "text": [
      "\n",
      "\n",
      "====== WebDriver manager ======\n"
     ]
    },
    {
     "name": "stdout",
     "output_type": "stream",
     "text": [
      "[INFO] Currently Scrapping: Skyline Luge Sentosa\n"
     ]
    },
    {
     "name": "stderr",
     "output_type": "stream",
     "text": [
      "Current google-chrome version is 100.0.4896\n",
      "Get LATEST chromedriver version for 100.0.4896 google-chrome\n",
      "Driver [C:\\Users\\Luqman\\.wdm\\drivers\\chromedriver\\win32\\100.0.4896.60\\chromedriver.exe] found in cache\n"
     ]
    },
    {
     "name": "stdout",
     "output_type": "stream",
     "text": [
      "-------------- Scrape Completed --------------\n",
      "Total Reviews: 3238\n",
      "Total Native Reviews: 42\n",
      "Runtime: 0:00:24.666864\n"
     ]
    },
    {
     "name": "stderr",
     "output_type": "stream",
     "text": [
      "\n",
      "\n",
      "====== WebDriver manager ======\n"
     ]
    },
    {
     "name": "stdout",
     "output_type": "stream",
     "text": [
      "[INFO] Currently Scrapping: Adventure Cove Waterpark\n"
     ]
    },
    {
     "name": "stderr",
     "output_type": "stream",
     "text": [
      "Current google-chrome version is 100.0.4896\n",
      "Get LATEST chromedriver version for 100.0.4896 google-chrome\n",
      "Driver [C:\\Users\\Luqman\\.wdm\\drivers\\chromedriver\\win32\\100.0.4896.60\\chromedriver.exe] found in cache\n"
     ]
    },
    {
     "name": "stdout",
     "output_type": "stream",
     "text": [
      "-------------- Scrape Completed --------------\n",
      "Total Reviews: 2482\n",
      "Total Native Reviews: 15\n",
      "Runtime: 0:00:13.497763\n"
     ]
    },
    {
     "name": "stderr",
     "output_type": "stream",
     "text": [
      "\n",
      "\n",
      "====== WebDriver manager ======\n"
     ]
    },
    {
     "name": "stdout",
     "output_type": "stream",
     "text": [
      "[INFO] Currently Scrapping: Madame Tussauds\n"
     ]
    },
    {
     "name": "stderr",
     "output_type": "stream",
     "text": [
      "Current google-chrome version is 100.0.4896\n",
      "Get LATEST chromedriver version for 100.0.4896 google-chrome\n",
      "Driver [C:\\Users\\Luqman\\.wdm\\drivers\\chromedriver\\win32\\100.0.4896.60\\chromedriver.exe] found in cache\n"
     ]
    },
    {
     "name": "stdout",
     "output_type": "stream",
     "text": [
      "-------------- Scrape Completed --------------\n",
      "Total Reviews: 2104\n",
      "Total Native Reviews: 108\n",
      "Runtime: 0:00:44.498938\n"
     ]
    },
    {
     "name": "stderr",
     "output_type": "stream",
     "text": [
      "\n",
      "\n",
      "====== WebDriver manager ======\n"
     ]
    },
    {
     "name": "stdout",
     "output_type": "stream",
     "text": [
      "[INFO] Currently Scrapping: Trick Eye Museum Singapore\n"
     ]
    },
    {
     "name": "stderr",
     "output_type": "stream",
     "text": [
      "Current google-chrome version is 100.0.4896\n",
      "Get LATEST chromedriver version for 100.0.4896 google-chrome\n",
      "Driver [C:\\Users\\Luqman\\.wdm\\drivers\\chromedriver\\win32\\100.0.4896.60\\chromedriver.exe] found in cache\n"
     ]
    },
    {
     "name": "stdout",
     "output_type": "stream",
     "text": [
      "-------------- Scrape Completed --------------\n",
      "Total Reviews: 1122\n",
      "Total Native Reviews: 29\n",
      "Runtime: 0:00:18.115009\n"
     ]
    },
    {
     "name": "stderr",
     "output_type": "stream",
     "text": [
      "\n",
      "\n",
      "====== WebDriver manager ======\n"
     ]
    },
    {
     "name": "stdout",
     "output_type": "stream",
     "text": [
      "[INFO] Currently Scrapping: iFly Singapore\n"
     ]
    },
    {
     "name": "stderr",
     "output_type": "stream",
     "text": [
      "Current google-chrome version is 100.0.4896\n",
      "Get LATEST chromedriver version for 100.0.4896 google-chrome\n",
      "Driver [C:\\Users\\Luqman\\.wdm\\drivers\\chromedriver\\win32\\100.0.4896.60\\chromedriver.exe] found in cache\n"
     ]
    },
    {
     "name": "stdout",
     "output_type": "stream",
     "text": [
      "-------------- Scrape Completed --------------\n",
      "Total Reviews: 678\n",
      "Total Native Reviews: 2\n",
      "Runtime: 0:00:10.028811\n"
     ]
    },
    {
     "name": "stderr",
     "output_type": "stream",
     "text": [
      "\n",
      "\n",
      "====== WebDriver manager ======\n"
     ]
    },
    {
     "name": "stdout",
     "output_type": "stream",
     "text": [
      "[INFO] Currently Scrapping: Sentosa 4D AdventureLand\n"
     ]
    },
    {
     "name": "stderr",
     "output_type": "stream",
     "text": [
      "Current google-chrome version is 100.0.4896\n",
      "Get LATEST chromedriver version for 100.0.4896 google-chrome\n",
      "Driver [C:\\Users\\Luqman\\.wdm\\drivers\\chromedriver\\win32\\100.0.4896.60\\chromedriver.exe] found in cache\n"
     ]
    },
    {
     "name": "stdout",
     "output_type": "stream",
     "text": [
      "-------------- Scrape Completed --------------\n",
      "Total Reviews: 478\n",
      "Total Native Reviews: 1\n",
      "Runtime: 0:00:09.877041\n"
     ]
    },
    {
     "name": "stderr",
     "output_type": "stream",
     "text": [
      "\n",
      "\n",
      "====== WebDriver manager ======\n"
     ]
    },
    {
     "name": "stdout",
     "output_type": "stream",
     "text": [
      "[INFO] Currently Scrapping: Hydrodash Waterpark\n"
     ]
    },
    {
     "name": "stderr",
     "output_type": "stream",
     "text": [
      "Current google-chrome version is 100.0.4896\n",
      "Get LATEST chromedriver version for 100.0.4896 google-chrome\n",
      "Driver [C:\\Users\\Luqman\\.wdm\\drivers\\chromedriver\\win32\\100.0.4896.60\\chromedriver.exe] found in cache\n"
     ]
    },
    {
     "name": "stdout",
     "output_type": "stream",
     "text": [
      "-------------- Scrape Completed --------------\n",
      "Total Reviews: 18\n",
      "Total Native Reviews: 0\n",
      "Runtime: 0:00:07.049891\n"
     ]
    },
    {
     "name": "stderr",
     "output_type": "stream",
     "text": [
      "\n",
      "\n",
      "====== WebDriver manager ======\n"
     ]
    },
    {
     "name": "stdout",
     "output_type": "stream",
     "text": [
      "[INFO] Currently Scrapping: Sentosa Boardwalk\n"
     ]
    },
    {
     "name": "stderr",
     "output_type": "stream",
     "text": [
      "Current google-chrome version is 100.0.4896\n",
      "Get LATEST chromedriver version for 100.0.4896 google-chrome\n",
      "Driver [C:\\Users\\Luqman\\.wdm\\drivers\\chromedriver\\win32\\100.0.4896.60\\chromedriver.exe] found in cache\n"
     ]
    },
    {
     "name": "stdout",
     "output_type": "stream",
     "text": [
      "-------------- Scrape Completed --------------\n",
      "Total Reviews: 1337\n",
      "Total Native Reviews: 75\n",
      "Runtime: 0:00:34.272393\n"
     ]
    },
    {
     "name": "stderr",
     "output_type": "stream",
     "text": [
      "\n",
      "\n",
      "====== WebDriver manager ======\n"
     ]
    },
    {
     "name": "stdout",
     "output_type": "stream",
     "text": [
      "[INFO] Currently Scrapping: Palawan Beach\n"
     ]
    },
    {
     "name": "stderr",
     "output_type": "stream",
     "text": [
      "Current google-chrome version is 100.0.4896\n",
      "Get LATEST chromedriver version for 100.0.4896 google-chrome\n",
      "Driver [C:\\Users\\Luqman\\.wdm\\drivers\\chromedriver\\win32\\100.0.4896.60\\chromedriver.exe] found in cache\n"
     ]
    },
    {
     "name": "stdout",
     "output_type": "stream",
     "text": [
      "-------------- Scrape Completed --------------\n",
      "Total Reviews: 1022\n",
      "Total Native Reviews: 25\n",
      "Runtime: 0:00:16.792585\n"
     ]
    },
    {
     "name": "stderr",
     "output_type": "stream",
     "text": [
      "\n",
      "\n",
      "====== WebDriver manager ======\n"
     ]
    },
    {
     "name": "stdout",
     "output_type": "stream",
     "text": [
      "[INFO] Currently Scrapping: Fort Siloso\n"
     ]
    },
    {
     "name": "stderr",
     "output_type": "stream",
     "text": [
      "Current google-chrome version is 100.0.4896\n",
      "Get LATEST chromedriver version for 100.0.4896 google-chrome\n",
      "Driver [C:\\Users\\Luqman\\.wdm\\drivers\\chromedriver\\win32\\100.0.4896.60\\chromedriver.exe] found in cache\n"
     ]
    },
    {
     "name": "stdout",
     "output_type": "stream",
     "text": [
      "-------------- Scrape Completed --------------\n",
      "Total Reviews: 697\n",
      "Total Native Reviews: 10\n",
      "Runtime: 0:00:10.423675\n"
     ]
    },
    {
     "name": "stderr",
     "output_type": "stream",
     "text": [
      "\n",
      "\n",
      "====== WebDriver manager ======\n"
     ]
    },
    {
     "name": "stdout",
     "output_type": "stream",
     "text": [
      "[INFO] Currently Scrapping: Tanjong Beach\n"
     ]
    },
    {
     "name": "stderr",
     "output_type": "stream",
     "text": [
      "Current google-chrome version is 100.0.4896\n",
      "Get LATEST chromedriver version for 100.0.4896 google-chrome\n",
      "Driver [C:\\Users\\Luqman\\.wdm\\drivers\\chromedriver\\win32\\100.0.4896.60\\chromedriver.exe] found in cache\n"
     ]
    },
    {
     "name": "stdout",
     "output_type": "stream",
     "text": [
      "-------------- Scrape Completed --------------\n",
      "Total Reviews: 307\n",
      "Total Native Reviews: 6\n",
      "Runtime: 0:00:10.157619\n"
     ]
    },
    {
     "name": "stderr",
     "output_type": "stream",
     "text": [
      "\n",
      "\n",
      "====== WebDriver manager ======\n"
     ]
    },
    {
     "name": "stdout",
     "output_type": "stream",
     "text": [
      "[INFO] Currently Scrapping: Sentosa Nature Discovery\n"
     ]
    },
    {
     "name": "stderr",
     "output_type": "stream",
     "text": [
      "Current google-chrome version is 100.0.4896\n",
      "Get LATEST chromedriver version for 100.0.4896 google-chrome\n",
      "Driver [C:\\Users\\Luqman\\.wdm\\drivers\\chromedriver\\win32\\100.0.4896.60\\chromedriver.exe] found in cache\n"
     ]
    },
    {
     "name": "stdout",
     "output_type": "stream",
     "text": [
      "-------------- Scrape Completed --------------\n",
      "Total Reviews: 163\n",
      "Total Native Reviews: 5\n",
      "Runtime: 0:00:10.540163\n"
     ]
    },
    {
     "name": "stderr",
     "output_type": "stream",
     "text": [
      "\n",
      "\n",
      "====== WebDriver manager ======\n"
     ]
    },
    {
     "name": "stdout",
     "output_type": "stream",
     "text": [
      "[INFO] Currently Scrapping: Siloso Beach\n"
     ]
    },
    {
     "name": "stderr",
     "output_type": "stream",
     "text": [
      "Current google-chrome version is 100.0.4896\n",
      "Get LATEST chromedriver version for 100.0.4896 google-chrome\n",
      "Driver [C:\\Users\\Luqman\\.wdm\\drivers\\chromedriver\\win32\\100.0.4896.60\\chromedriver.exe] found in cache\n"
     ]
    },
    {
     "name": "stdout",
     "output_type": "stream",
     "text": [
      "-------------- Scrape Completed --------------\n",
      "Total Reviews: 1305\n",
      "Total Native Reviews: 53\n",
      "Runtime: 0:00:27.121569\n"
     ]
    },
    {
     "name": "stderr",
     "output_type": "stream",
     "text": [
      "\n",
      "\n",
      "====== WebDriver manager ======\n"
     ]
    },
    {
     "name": "stdout",
     "output_type": "stream",
     "text": [
      "[INFO] Currently Scrapping: Wave House Sentosa\n"
     ]
    },
    {
     "name": "stderr",
     "output_type": "stream",
     "text": [
      "Current google-chrome version is 100.0.4896\n",
      "Get LATEST chromedriver version for 100.0.4896 google-chrome\n",
      "Driver [C:\\Users\\Luqman\\.wdm\\drivers\\chromedriver\\win32\\100.0.4896.60\\chromedriver.exe] found in cache\n"
     ]
    },
    {
     "name": "stdout",
     "output_type": "stream",
     "text": [
      "-------------- Scrape Completed --------------\n",
      "Total Reviews: 222\n",
      "Total Native Reviews: 1\n",
      "Runtime: 0:00:10.170466\n"
     ]
    },
    {
     "name": "stderr",
     "output_type": "stream",
     "text": [
      "\n",
      "\n",
      "====== WebDriver manager ======\n"
     ]
    },
    {
     "name": "stdout",
     "output_type": "stream",
     "text": [
      "[INFO] Currently Scrapping: KidZania Singapore\n"
     ]
    },
    {
     "name": "stderr",
     "output_type": "stream",
     "text": [
      "Current google-chrome version is 100.0.4896\n",
      "Get LATEST chromedriver version for 100.0.4896 google-chrome\n",
      "Driver [C:\\Users\\Luqman\\.wdm\\drivers\\chromedriver\\win32\\100.0.4896.60\\chromedriver.exe] found in cache\n"
     ]
    },
    {
     "name": "stdout",
     "output_type": "stream",
     "text": [
      "-------------- Scrape Completed --------------\n",
      "Total Reviews: 561\n",
      "Total Native Reviews: 2\n",
      "Runtime: 0:00:10.225114\n"
     ]
    },
    {
     "name": "stderr",
     "output_type": "stream",
     "text": [
      "\n",
      "\n",
      "====== WebDriver manager ======\n"
     ]
    },
    {
     "name": "stdout",
     "output_type": "stream",
     "text": [
      "[INFO] Currently Scrapping: Wings of Time\n"
     ]
    },
    {
     "name": "stderr",
     "output_type": "stream",
     "text": [
      "Current google-chrome version is 100.0.4896\n",
      "Get LATEST chromedriver version for 100.0.4896 google-chrome\n",
      "Driver [C:\\Users\\Luqman\\.wdm\\drivers\\chromedriver\\win32\\100.0.4896.60\\chromedriver.exe] found in cache\n"
     ]
    },
    {
     "name": "stdout",
     "output_type": "stream",
     "text": [
      "-------------- Scrape Completed --------------\n",
      "Total Reviews: 2124\n",
      "Total Native Reviews: 59\n",
      "Runtime: 0:00:30.916831\n"
     ]
    },
    {
     "name": "stderr",
     "output_type": "stream",
     "text": [
      "\n",
      "\n",
      "====== WebDriver manager ======\n"
     ]
    },
    {
     "name": "stdout",
     "output_type": "stream",
     "text": [
      "[INFO] Currently Scrapping: Butterfly Park & Insect Kingdom\n"
     ]
    },
    {
     "name": "stderr",
     "output_type": "stream",
     "text": [
      "Current google-chrome version is 100.0.4896\n",
      "Get LATEST chromedriver version for 100.0.4896 google-chrome\n",
      "Driver [C:\\Users\\Luqman\\.wdm\\drivers\\chromedriver\\win32\\100.0.4896.60\\chromedriver.exe] found in cache\n"
     ]
    },
    {
     "name": "stdout",
     "output_type": "stream",
     "text": [
      "-------------- Scrape Completed --------------\n",
      "Total Reviews: 604\n",
      "Total Native Reviews: 3\n",
      "Runtime: 0:00:11.678907\n"
     ]
    },
    {
     "name": "stderr",
     "output_type": "stream",
     "text": [
      "\n",
      "\n",
      "====== WebDriver manager ======\n"
     ]
    },
    {
     "name": "stdout",
     "output_type": "stream",
     "text": [
      "[INFO] Currently Scrapping: The Maritime Experiential Museum\n"
     ]
    },
    {
     "name": "stderr",
     "output_type": "stream",
     "text": [
      "Current google-chrome version is 100.0.4896\n",
      "Get LATEST chromedriver version for 100.0.4896 google-chrome\n",
      "Driver [C:\\Users\\Luqman\\.wdm\\drivers\\chromedriver\\win32\\100.0.4896.60\\chromedriver.exe] found in cache\n"
     ]
    },
    {
     "name": "stdout",
     "output_type": "stream",
     "text": [
      "-------------- Scrape Completed --------------\n",
      "Total Reviews: 305\n",
      "Total Native Reviews: 10\n",
      "Runtime: 0:00:10.206669\n"
     ]
    },
    {
     "name": "stderr",
     "output_type": "stream",
     "text": [
      "\n",
      "\n",
      "====== WebDriver manager ======\n"
     ]
    },
    {
     "name": "stdout",
     "output_type": "stream",
     "text": [
      "[INFO] Currently Scrapping: Fort Siloso Skywalk\n"
     ]
    },
    {
     "name": "stderr",
     "output_type": "stream",
     "text": [
      "Current google-chrome version is 100.0.4896\n",
      "Get LATEST chromedriver version for 100.0.4896 google-chrome\n",
      "Driver [C:\\Users\\Luqman\\.wdm\\drivers\\chromedriver\\win32\\100.0.4896.60\\chromedriver.exe] found in cache\n"
     ]
    },
    {
     "name": "stdout",
     "output_type": "stream",
     "text": [
      "-------------- Scrape Completed --------------\n",
      "Total Reviews: 185\n",
      "Total Native Reviews: 0\n",
      "Runtime: 0:00:06.737446\n"
     ]
    },
    {
     "name": "stderr",
     "output_type": "stream",
     "text": [
      "\n",
      "\n",
      "====== WebDriver manager ======\n"
     ]
    },
    {
     "name": "stdout",
     "output_type": "stream",
     "text": [
      "[INFO] Currently Scrapping: Floating Bridge at Siloso Beach\n"
     ]
    },
    {
     "name": "stderr",
     "output_type": "stream",
     "text": [
      "Current google-chrome version is 100.0.4896\n",
      "Get LATEST chromedriver version for 100.0.4896 google-chrome\n",
      "Driver [C:\\Users\\Luqman\\.wdm\\drivers\\chromedriver\\win32\\100.0.4896.60\\chromedriver.exe] found in cache\n"
     ]
    },
    {
     "name": "stdout",
     "output_type": "stream",
     "text": [
      "-------------- Scrape Completed --------------\n",
      "Total Reviews: 233\n",
      "Total Native Reviews: 5\n",
      "Runtime: 0:00:10.161137\n"
     ]
    },
    {
     "name": "stderr",
     "output_type": "stream",
     "text": [
      "\n",
      "\n",
      "====== WebDriver manager ======\n"
     ]
    },
    {
     "name": "stdout",
     "output_type": "stream",
     "text": [
      "[INFO] Currently Scrapping: Imbiah Lookout\n"
     ]
    },
    {
     "name": "stderr",
     "output_type": "stream",
     "text": [
      "Current google-chrome version is 100.0.4896\n",
      "Get LATEST chromedriver version for 100.0.4896 google-chrome\n",
      "Driver [C:\\Users\\Luqman\\.wdm\\drivers\\chromedriver\\win32\\100.0.4896.60\\chromedriver.exe] found in cache\n"
     ]
    },
    {
     "name": "stdout",
     "output_type": "stream",
     "text": [
      "-------------- Scrape Completed --------------\n",
      "Total Reviews: 38\n",
      "Total Native Reviews: 1\n",
      "Runtime: 0:00:10.575142\n"
     ]
    },
    {
     "name": "stderr",
     "output_type": "stream",
     "text": [
      "\n",
      "\n",
      "====== WebDriver manager ======\n"
     ]
    },
    {
     "name": "stdout",
     "output_type": "stream",
     "text": [
      "[INFO] Currently Scrapping: Air Wave House Sentosa\n"
     ]
    },
    {
     "name": "stderr",
     "output_type": "stream",
     "text": [
      "Current google-chrome version is 100.0.4896\n",
      "Get LATEST chromedriver version for 100.0.4896 google-chrome\n",
      "Driver [C:\\Users\\Luqman\\.wdm\\drivers\\chromedriver\\win32\\100.0.4896.60\\chromedriver.exe] found in cache\n"
     ]
    },
    {
     "name": "stdout",
     "output_type": "stream",
     "text": [
      "-------------- Scrape Completed --------------\n",
      "Total Reviews: 222\n",
      "Total Native Reviews: 1\n",
      "Runtime: 0:00:09.823921\n"
     ]
    },
    {
     "name": "stderr",
     "output_type": "stream",
     "text": [
      "\n",
      "\n",
      "====== WebDriver manager ======\n"
     ]
    },
    {
     "name": "stdout",
     "output_type": "stream",
     "text": [
      "[INFO] Currently Scrapping: The Sentosa Bus\n"
     ]
    },
    {
     "name": "stderr",
     "output_type": "stream",
     "text": [
      "Current google-chrome version is 100.0.4896\n",
      "Get LATEST chromedriver version for 100.0.4896 google-chrome\n",
      "Driver [C:\\Users\\Luqman\\.wdm\\drivers\\chromedriver\\win32\\100.0.4896.60\\chromedriver.exe] found in cache\n"
     ]
    },
    {
     "name": "stdout",
     "output_type": "stream",
     "text": [
      "-------------- Scrape Completed --------------\n",
      "Total Reviews: 359\n",
      "Total Native Reviews: 19\n",
      "Runtime: 0:00:14.078318\n"
     ]
    },
    {
     "name": "stderr",
     "output_type": "stream",
     "text": [
      "\n",
      "\n",
      "====== WebDriver manager ======\n"
     ]
    },
    {
     "name": "stdout",
     "output_type": "stream",
     "text": [
      "[INFO] Currently Scrapping: The Sentosa Express\n"
     ]
    },
    {
     "name": "stderr",
     "output_type": "stream",
     "text": [
      "Current google-chrome version is 100.0.4896\n",
      "Get LATEST chromedriver version for 100.0.4896 google-chrome\n",
      "Driver [C:\\Users\\Luqman\\.wdm\\drivers\\chromedriver\\win32\\100.0.4896.60\\chromedriver.exe] found in cache\n"
     ]
    },
    {
     "name": "stdout",
     "output_type": "stream",
     "text": [
      "-------------- Scrape Completed --------------\n",
      "Total Reviews: 3753\n",
      "Total Native Reviews: 142\n",
      "Runtime: 0:00:58.936715\n"
     ]
    },
    {
     "name": "stderr",
     "output_type": "stream",
     "text": [
      "\n",
      "\n",
      "====== WebDriver manager ======\n"
     ]
    },
    {
     "name": "stdout",
     "output_type": "stream",
     "text": [
      "[INFO] Currently Scrapping: Resort World Sentosa\n"
     ]
    },
    {
     "name": "stderr",
     "output_type": "stream",
     "text": [
      "Current google-chrome version is 100.0.4896\n",
      "Get LATEST chromedriver version for 100.0.4896 google-chrome\n",
      "Driver [C:\\Users\\Luqman\\.wdm\\drivers\\chromedriver\\win32\\100.0.4896.60\\chromedriver.exe] found in cache\n"
     ]
    },
    {
     "name": "stdout",
     "output_type": "stream",
     "text": [
      "-------------- Scrape Completed --------------\n",
      "Total Reviews: 832\n",
      "Total Native Reviews: 24\n",
      "Runtime: 0:00:17.284786\n"
     ]
    },
    {
     "name": "stderr",
     "output_type": "stream",
     "text": [
      "\n",
      "\n",
      "====== WebDriver manager ======\n"
     ]
    },
    {
     "name": "stdout",
     "output_type": "stream",
     "text": [
      "[INFO] Currently Scrapping: HeadRock VR\n"
     ]
    },
    {
     "name": "stderr",
     "output_type": "stream",
     "text": [
      "Current google-chrome version is 100.0.4896\n",
      "Get LATEST chromedriver version for 100.0.4896 google-chrome\n",
      "Driver [C:\\Users\\Luqman\\.wdm\\drivers\\chromedriver\\win32\\100.0.4896.60\\chromedriver.exe] found in cache\n"
     ]
    },
    {
     "name": "stdout",
     "output_type": "stream",
     "text": [
      "-------------- Scrape Completed --------------\n",
      "Total Reviews: 29\n",
      "Total Native Reviews: 0\n",
      "Runtime: 0:00:06.922553\n"
     ]
    },
    {
     "name": "stderr",
     "output_type": "stream",
     "text": [
      "\n",
      "\n",
      "====== WebDriver manager ======\n"
     ]
    },
    {
     "name": "stdout",
     "output_type": "stream",
     "text": [
      "[INFO] Currently Scrapping: Magical Shores\n"
     ]
    },
    {
     "name": "stderr",
     "output_type": "stream",
     "text": [
      "Current google-chrome version is 100.0.4896\n",
      "Get LATEST chromedriver version for 100.0.4896 google-chrome\n",
      "Driver [C:\\Users\\Luqman\\.wdm\\drivers\\chromedriver\\win32\\100.0.4896.60\\chromedriver.exe] found in cache\n"
     ]
    },
    {
     "name": "stdout",
     "output_type": "stream",
     "text": [
      "No Native Reviews Found on Magical Shores\n"
     ]
    },
    {
     "name": "stderr",
     "output_type": "stream",
     "text": [
      "\n",
      "\n",
      "====== WebDriver manager ======\n"
     ]
    },
    {
     "name": "stdout",
     "output_type": "stream",
     "text": [
      "[INFO] Currently Scrapping: Southernmost point of Asia\n"
     ]
    },
    {
     "name": "stderr",
     "output_type": "stream",
     "text": [
      "Current google-chrome version is 100.0.4896\n",
      "Get LATEST chromedriver version for 100.0.4896 google-chrome\n",
      "Driver [C:\\Users\\Luqman\\.wdm\\drivers\\chromedriver\\win32\\100.0.4896.60\\chromedriver.exe] found in cache\n"
     ]
    },
    {
     "name": "stdout",
     "output_type": "stream",
     "text": [
      "-------------- Scrape Completed --------------\n",
      "Total Reviews: 156\n",
      "Total Native Reviews: 1\n",
      "Runtime: 0:00:10.363354\n"
     ]
    },
    {
     "name": "stderr",
     "output_type": "stream",
     "text": [
      "\n",
      "\n",
      "====== WebDriver manager ======\n"
     ]
    },
    {
     "name": "stdout",
     "output_type": "stream",
     "text": [
      "[INFO] Currently Scrapping: SkyHelix Sentosa\n"
     ]
    },
    {
     "name": "stderr",
     "output_type": "stream",
     "text": [
      "Current google-chrome version is 100.0.4896\n",
      "Get LATEST chromedriver version for 100.0.4896 google-chrome\n",
      "Driver [C:\\Users\\Luqman\\.wdm\\drivers\\chromedriver\\win32\\100.0.4896.60\\chromedriver.exe] found in cache\n"
     ]
    },
    {
     "name": "stdout",
     "output_type": "stream",
     "text": [
      "No Native Reviews Found on SkyHelix Sentosa\n"
     ]
    }
   ],
   "source": [
    "for index, row in df.iterrows():\n",
    "    try:\n",
    "        scrape_review_s0(row['Attraction'], row['Link'])\n",
    "    except:\n",
    "        print(f\"No Native Reviews Found on {row['Attraction']}\")\n",
    "    finally:\n",
    "        continue"
   ]
  },
  {
   "cell_type": "code",
   "execution_count": null,
   "metadata": {},
   "outputs": [],
   "source": []
  }
 ],
 "metadata": {
  "interpreter": {
   "hash": "90b85f54aecd71003771950f482cb0e9b344c8b39504f9f49f23fe15bb6ae351"
  },
  "kernelspec": {
   "display_name": "Python 3.10.0 64-bit",
   "language": "python",
   "name": "python3"
  },
  "language_info": {
   "codemirror_mode": {
    "name": "ipython",
    "version": 3
   },
   "file_extension": ".py",
   "mimetype": "text/x-python",
   "name": "python",
   "nbconvert_exporter": "python",
   "pygments_lexer": "ipython3",
   "version": "3.10.0"
  },
  "orig_nbformat": 4
 },
 "nbformat": 4,
 "nbformat_minor": 2
}
