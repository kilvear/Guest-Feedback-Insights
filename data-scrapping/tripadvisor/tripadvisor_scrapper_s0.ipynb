{
 "cells": [
  {
   "cell_type": "markdown",
   "metadata": {},
   "source": [
    "# Imports"
   ]
  },
  {
   "cell_type": "code",
   "execution_count": 1,
   "metadata": {},
   "outputs": [],
   "source": [
    "import csv\n",
    "import pandas as pd\n",
    "import time\n",
    "from selenium import webdriver\n",
    "from selenium.webdriver.chrome.service import Service\n",
    "from webdriver_manager.chrome import ChromeDriverManager\n",
    "from selenium.webdriver.common.by import By\n",
    "\n",
    "from datetime import datetime"
   ]
  },
  {
   "cell_type": "markdown",
   "metadata": {},
   "source": [
    "# TripAdvisor Script 0 Version 4\n",
    "- Fixed filtering native reviews\n",
    "- Unable to retrieve review with reviews with no date just below the username"
   ]
  },
  {
   "cell_type": "code",
   "execution_count": 38,
   "metadata": {},
   "outputs": [],
   "source": [
    "# Version 4\n",
    "\n",
    "def scrape_review_v4_s0(attraction, link):\n",
    "  \n",
    "  print(f\"[INFO] Currently Scrapping: {attraction}\")\n",
    "  \n",
    "  start_time = datetime.now()\n",
    "  \n",
    "  # Open csv file to write in\n",
    "  file_path = str(datetime.now().strftime('%Y_%m_%d')) + '_' + attraction.replace(\" \", \"_\").lower() + '.csv'\n",
    "  file = open(f'data/raw/{file_path}', 'a', encoding=\"utf-8\", newline='')\n",
    "  csv_writer = csv.writer(file)\n",
    "\n",
    "  # Open up browser and navigate to page\n",
    "  driver = webdriver.Chrome(service=Service(ChromeDriverManager().install()))\n",
    "  driver.get(link)\n",
    "  \n",
    "  # Get number of pages\n",
    "  total_reviews = driver.find_element(By.XPATH, \"//*[@href='#REVIEWS']/div[1]/span[1]/span[1]\").text.replace('.', '')\n",
    "  total_reviews = int(total_reviews)\n",
    "  num_pages = (total_reviews // 10) + 1\n",
    "  \n",
    "  # Date replace\n",
    "  date_dict = {'Okt':'Oct', 'Des':'Dec', 'Agt':'Aug', 'Mei':'May'}\n",
    "  \n",
    "  # Set review and page number counter\n",
    "  review_count = 0\n",
    "  page_num = 1\n",
    "  \n",
    "  for i in range(num_pages):\n",
    "    \n",
    "    # Let page load (change to until element exist later)\n",
    "    time.sleep(3)   \n",
    "    \n",
    "    # Extract elements               \n",
    "    users = driver.find_elements(By.XPATH, \"//*[@data-automation='reviewCard']//span[contains(text(),'Google Terjemahan')]//parent::button//parent::div[1]/div[1]/div[1]/div[2]/span\")\n",
    "    reviews = driver.find_elements(By.XPATH, \"//*[@data-automation='reviewCard']//span[contains(text(),'Google Terjemahan')]//parent::button//parent::div/div[5]/div[1]\")\n",
    "    dates = driver.find_elements(By.XPATH, \"//*[@class='eRduX']\")\n",
    "    \n",
    "    # Open csv file and write to it\n",
    "    for j in range(len(reviews)):\n",
    "      user = users[j].text\n",
    "      review = reviews[j].text.replace('\\n', ' ')\n",
    "      date = dates[j].text[:9].strip()\n",
    "      \n",
    "      # Replace date with proper abbreviations\n",
    "      for key, val in date_dict.items():\n",
    "        if date[:3] == key:\n",
    "          date = date.replace(key, val)\n",
    "      \n",
    "      date = datetime.strptime(date, '%b %Y')\n",
    "      date = date.strftime('%Y-%m')\n",
    "      \n",
    "      # Write reviews and date into csv file\n",
    "      csv_writer.writerow([date, user, review])      \n",
    "      \n",
    "    review_count += len(reviews)\n",
    "    \n",
    "    # Click next page\n",
    "    next = driver.find_element(By.XPATH, \"//a[@aria-label='Next page']//*[name()='svg']\")\n",
    "    next.click()\n",
    "    page_num += 1\n",
    "    \n",
    "    # If no. of native reviews on page is 0, exit loop\n",
    "    if len(reviews) == 0:\n",
    "      break\n",
    "    \n",
    "    print(f\"Review Count: {review_count}\")\n",
    "    print(f\"Current page: {page_num}\")\n",
    "  \n",
    "  print('-------------- Scrape Completed --------------')\n",
    "  print(f\"Total Reviews: {total_reviews}\")\n",
    "  print(f\"Total Native Reviews: {review_count}\")\n",
    "  end_time = datetime.now()\n",
    "  print('Runtime: {}'.format(end_time - start_time))\n",
    "  \n",
    "  file.close()\n",
    "  driver.close()"
   ]
  },
  {
   "cell_type": "code",
   "execution_count": 39,
   "metadata": {},
   "outputs": [
    {
     "name": "stdout",
     "output_type": "stream",
     "text": [
      "{'iFly Singapore': 'https://www.tripadvisor.co.id/Attraction_Review-g294264-d2180413-Reviews-IFly_Singapore-Sentosa_Island.html', 'Wave House Sentosa': 'https://www.tripadvisor.co.id/Attraction_Review-g294264-d2005250-Reviews-Wave_House_Sentosa-Sentosa_Island.html', 'KidZania Singapore': 'https://www.tripadvisor.co.id/Attraction_Review-g294264-d7789437-Reviews-KidZania_Singapore-Sentosa_Island.html', 'Wings of Time': 'https://www.tripadvisor.co.id/Attraction_Review-g294264-d1371247-Reviews-Wings_of_Time-Sentosa_Island.html', 'Tiger Sky Tower': 'https://www.tripadvisor.co.id/Attraction_Review-g294264-d1892452-Reviews-Tiger_Sky_Tower-Sentosa_Island.html', 'Sentosa 4D AdventureLand': 'https://www.tripadvisor.co.id/Attraction_Review-g294264-d1936430-Reviews-Sentosa_4D_Adventureland-Sentosa_Island.html', 'Madame Tussauds': 'https://www.tripadvisor.co.id/Attraction_Review-g294264-d7178019-Reviews-Madame_Tussauds_Singapore-Sentosa_Island.html', 'Butterfly Park & Insect Kingdom': 'https://www.tripadvisor.co.id/Attraction_Review-g294264-d338375-Reviews-Butterfly_Park_Insect_Kingdom-Sentosa_Island.html', 'Adventure Cove Waterpark': 'https://www.tripadvisor.co.id/Attraction_Review-g294264-d3747640-Reviews-Adventure_Cove_Waterpark-Sentosa_Island.html', 'S.E.A Aquarium': 'https://www.tripadvisor.co.id/Attraction_Review-g294264-d4009739-Reviews-S_E_A_Aquarium-Sentosa_Island.html', 'The Maritime Experiential Museum': 'https://www.tripadvisor.co.id/Attraction_Review-g294264-d1450601-Reviews-The_Maritime_Experiential_Museum-Sentosa_Island.html'}\n"
     ]
    }
   ],
   "source": [
    "attractions_dict = {}\n",
    "\n",
    "with open('attractions_list_script0.csv', mode='r', encoding='utf-8-sig') as inp:\n",
    "    reader = csv.reader(inp)\n",
    "    attractions_dict = {rows[0]:rows[1] for rows in reader}\n",
    "\n",
    "print(attractions_dict)"
   ]
  },
  {
   "cell_type": "code",
   "execution_count": 40,
   "metadata": {},
   "outputs": [
    {
     "name": "stderr",
     "output_type": "stream",
     "text": [
      "\n",
      "\n",
      "====== WebDriver manager ======\n"
     ]
    },
    {
     "name": "stdout",
     "output_type": "stream",
     "text": [
      "[INFO] Currently Scrapping: iFly Singapore\n"
     ]
    },
    {
     "name": "stderr",
     "output_type": "stream",
     "text": [
      "Current google-chrome version is 100.0.4896\n",
      "Get LATEST chromedriver version for 100.0.4896 google-chrome\n",
      "Driver [C:\\Users\\Luqman\\.wdm\\drivers\\chromedriver\\win32\\100.0.4896.60\\chromedriver.exe] found in cache\n"
     ]
    },
    {
     "name": "stdout",
     "output_type": "stream",
     "text": [
      "Review Count: 2\n",
      "Current page: 2\n",
      "-------------- Scrape Completed --------------\n",
      "Total Reviews: 678\n",
      "Total Native Reviews: 2\n",
      "Runtime: 0:00:10.581246\n"
     ]
    },
    {
     "name": "stderr",
     "output_type": "stream",
     "text": [
      "\n",
      "\n",
      "====== WebDriver manager ======\n"
     ]
    },
    {
     "name": "stdout",
     "output_type": "stream",
     "text": [
      "[INFO] Currently Scrapping: Wave House Sentosa\n"
     ]
    },
    {
     "name": "stderr",
     "output_type": "stream",
     "text": [
      "Current google-chrome version is 100.0.4896\n",
      "Get LATEST chromedriver version for 100.0.4896 google-chrome\n",
      "Driver [C:\\Users\\Luqman\\.wdm\\drivers\\chromedriver\\win32\\100.0.4896.60\\chromedriver.exe] found in cache\n"
     ]
    },
    {
     "name": "stdout",
     "output_type": "stream",
     "text": [
      "Review Count: 1\n",
      "Current page: 2\n",
      "-------------- Scrape Completed --------------\n",
      "Total Reviews: 222\n",
      "Total Native Reviews: 1\n",
      "Runtime: 0:00:10.444347\n"
     ]
    },
    {
     "name": "stderr",
     "output_type": "stream",
     "text": [
      "\n",
      "\n",
      "====== WebDriver manager ======\n"
     ]
    },
    {
     "name": "stdout",
     "output_type": "stream",
     "text": [
      "[INFO] Currently Scrapping: KidZania Singapore\n"
     ]
    },
    {
     "name": "stderr",
     "output_type": "stream",
     "text": [
      "Current google-chrome version is 100.0.4896\n",
      "Get LATEST chromedriver version for 100.0.4896 google-chrome\n",
      "Driver [C:\\Users\\Luqman\\.wdm\\drivers\\chromedriver\\win32\\100.0.4896.60\\chromedriver.exe] found in cache\n"
     ]
    },
    {
     "name": "stdout",
     "output_type": "stream",
     "text": [
      "Review Count: 2\n",
      "Current page: 2\n",
      "-------------- Scrape Completed --------------\n",
      "Total Reviews: 561\n",
      "Total Native Reviews: 2\n",
      "Runtime: 0:00:10.480106\n"
     ]
    },
    {
     "name": "stderr",
     "output_type": "stream",
     "text": [
      "\n",
      "\n",
      "====== WebDriver manager ======\n"
     ]
    },
    {
     "name": "stdout",
     "output_type": "stream",
     "text": [
      "[INFO] Currently Scrapping: Wings of Time\n"
     ]
    },
    {
     "name": "stderr",
     "output_type": "stream",
     "text": [
      "Current google-chrome version is 100.0.4896\n",
      "Get LATEST chromedriver version for 100.0.4896 google-chrome\n",
      "Driver [C:\\Users\\Luqman\\.wdm\\drivers\\chromedriver\\win32\\100.0.4896.60\\chromedriver.exe] found in cache\n"
     ]
    },
    {
     "name": "stdout",
     "output_type": "stream",
     "text": [
      "Review Count: 10\n",
      "Current page: 2\n",
      "Review Count: 20\n",
      "Current page: 3\n",
      "Review Count: 30\n",
      "Current page: 4\n",
      "Review Count: 38\n",
      "Current page: 5\n",
      "Review Count: 48\n",
      "Current page: 6\n",
      "Review Count: 57\n",
      "Current page: 7\n",
      "Review Count: 59\n",
      "Current page: 8\n",
      "-------------- Scrape Completed --------------\n",
      "Total Reviews: 2124\n",
      "Total Native Reviews: 59\n",
      "Runtime: 0:00:31.290450\n"
     ]
    },
    {
     "name": "stderr",
     "output_type": "stream",
     "text": [
      "\n",
      "\n",
      "====== WebDriver manager ======\n"
     ]
    },
    {
     "name": "stdout",
     "output_type": "stream",
     "text": [
      "[INFO] Currently Scrapping: Tiger Sky Tower\n"
     ]
    },
    {
     "name": "stderr",
     "output_type": "stream",
     "text": [
      "Current google-chrome version is 100.0.4896\n",
      "Get LATEST chromedriver version for 100.0.4896 google-chrome\n",
      "Driver [C:\\Users\\Luqman\\.wdm\\drivers\\chromedriver\\win32\\100.0.4896.60\\chromedriver.exe] found in cache\n"
     ]
    },
    {
     "name": "stdout",
     "output_type": "stream",
     "text": [
      "Review Count: 10\n",
      "Current page: 2\n",
      "Review Count: 14\n",
      "Current page: 3\n",
      "-------------- Scrape Completed --------------\n",
      "Total Reviews: 546\n",
      "Total Native Reviews: 14\n",
      "Runtime: 0:00:13.760156\n"
     ]
    },
    {
     "name": "stderr",
     "output_type": "stream",
     "text": [
      "\n",
      "\n",
      "====== WebDriver manager ======\n"
     ]
    },
    {
     "name": "stdout",
     "output_type": "stream",
     "text": [
      "[INFO] Currently Scrapping: Sentosa 4D AdventureLand\n"
     ]
    },
    {
     "name": "stderr",
     "output_type": "stream",
     "text": [
      "Current google-chrome version is 100.0.4896\n",
      "Get LATEST chromedriver version for 100.0.4896 google-chrome\n",
      "Driver [C:\\Users\\Luqman\\.wdm\\drivers\\chromedriver\\win32\\100.0.4896.60\\chromedriver.exe] found in cache\n"
     ]
    },
    {
     "name": "stdout",
     "output_type": "stream",
     "text": [
      "Review Count: 1\n",
      "Current page: 2\n",
      "-------------- Scrape Completed --------------\n",
      "Total Reviews: 478\n",
      "Total Native Reviews: 1\n",
      "Runtime: 0:00:10.445200\n"
     ]
    },
    {
     "name": "stderr",
     "output_type": "stream",
     "text": [
      "\n",
      "\n",
      "====== WebDriver manager ======\n"
     ]
    },
    {
     "name": "stdout",
     "output_type": "stream",
     "text": [
      "[INFO] Currently Scrapping: Madame Tussauds\n"
     ]
    },
    {
     "name": "stderr",
     "output_type": "stream",
     "text": [
      "Current google-chrome version is 100.0.4896\n",
      "Get LATEST chromedriver version for 100.0.4896 google-chrome\n",
      "Driver [C:\\Users\\Luqman\\.wdm\\drivers\\chromedriver\\win32\\100.0.4896.60\\chromedriver.exe] found in cache\n"
     ]
    },
    {
     "name": "stdout",
     "output_type": "stream",
     "text": [
      "Review Count: 10\n",
      "Current page: 2\n",
      "Review Count: 20\n",
      "Current page: 3\n",
      "Review Count: 30\n",
      "Current page: 4\n",
      "Review Count: 40\n",
      "Current page: 5\n",
      "Review Count: 50\n",
      "Current page: 6\n",
      "Review Count: 60\n",
      "Current page: 7\n",
      "Review Count: 70\n",
      "Current page: 8\n",
      "Review Count: 80\n",
      "Current page: 9\n",
      "Review Count: 90\n",
      "Current page: 10\n",
      "Review Count: 100\n",
      "Current page: 11\n",
      "Review Count: 108\n",
      "Current page: 12\n",
      "-------------- Scrape Completed --------------\n",
      "Total Reviews: 2103\n",
      "Total Native Reviews: 108\n",
      "Runtime: 0:00:46.064908\n"
     ]
    },
    {
     "name": "stderr",
     "output_type": "stream",
     "text": [
      "\n",
      "\n",
      "====== WebDriver manager ======\n"
     ]
    },
    {
     "name": "stdout",
     "output_type": "stream",
     "text": [
      "[INFO] Currently Scrapping: Butterfly Park & Insect Kingdom\n"
     ]
    },
    {
     "name": "stderr",
     "output_type": "stream",
     "text": [
      "Current google-chrome version is 100.0.4896\n",
      "Get LATEST chromedriver version for 100.0.4896 google-chrome\n",
      "Driver [C:\\Users\\Luqman\\.wdm\\drivers\\chromedriver\\win32\\100.0.4896.60\\chromedriver.exe] found in cache\n"
     ]
    },
    {
     "name": "stdout",
     "output_type": "stream",
     "text": [
      "Review Count: 3\n",
      "Current page: 2\n",
      "-------------- Scrape Completed --------------\n",
      "Total Reviews: 604\n",
      "Total Native Reviews: 3\n",
      "Runtime: 0:00:10.377565\n"
     ]
    },
    {
     "name": "stderr",
     "output_type": "stream",
     "text": [
      "\n",
      "\n",
      "====== WebDriver manager ======\n"
     ]
    },
    {
     "name": "stdout",
     "output_type": "stream",
     "text": [
      "[INFO] Currently Scrapping: Adventure Cove Waterpark\n"
     ]
    },
    {
     "name": "stderr",
     "output_type": "stream",
     "text": [
      "Current google-chrome version is 100.0.4896\n",
      "Get LATEST chromedriver version for 100.0.4896 google-chrome\n",
      "Driver [C:\\Users\\Luqman\\.wdm\\drivers\\chromedriver\\win32\\100.0.4896.60\\chromedriver.exe] found in cache\n"
     ]
    },
    {
     "name": "stdout",
     "output_type": "stream",
     "text": [
      "Review Count: 10\n",
      "Current page: 2\n",
      "Review Count: 15\n",
      "Current page: 3\n",
      "-------------- Scrape Completed --------------\n",
      "Total Reviews: 2480\n",
      "Total Native Reviews: 15\n",
      "Runtime: 0:00:14.940556\n"
     ]
    },
    {
     "name": "stderr",
     "output_type": "stream",
     "text": [
      "\n",
      "\n",
      "====== WebDriver manager ======\n"
     ]
    },
    {
     "name": "stdout",
     "output_type": "stream",
     "text": [
      "[INFO] Currently Scrapping: S.E.A Aquarium\n"
     ]
    },
    {
     "name": "stderr",
     "output_type": "stream",
     "text": [
      "Current google-chrome version is 100.0.4896\n",
      "Get LATEST chromedriver version for 100.0.4896 google-chrome\n",
      "Driver [C:\\Users\\Luqman\\.wdm\\drivers\\chromedriver\\win32\\100.0.4896.60\\chromedriver.exe] found in cache\n"
     ]
    },
    {
     "name": "stdout",
     "output_type": "stream",
     "text": [
      "Review Count: 10\n",
      "Current page: 2\n",
      "Review Count: 20\n",
      "Current page: 3\n",
      "Review Count: 30\n",
      "Current page: 4\n",
      "Review Count: 40\n",
      "Current page: 5\n",
      "Review Count: 50\n",
      "Current page: 6\n",
      "Review Count: 60\n",
      "Current page: 7\n",
      "Review Count: 70\n",
      "Current page: 8\n",
      "Review Count: 80\n",
      "Current page: 9\n",
      "Review Count: 90\n",
      "Current page: 10\n",
      "Review Count: 100\n",
      "Current page: 11\n",
      "Review Count: 110\n",
      "Current page: 12\n",
      "Review Count: 119\n",
      "Current page: 13\n",
      "Review Count: 129\n",
      "Current page: 14\n",
      "Review Count: 138\n",
      "Current page: 15\n",
      "Review Count: 141\n",
      "Current page: 16\n",
      "-------------- Scrape Completed --------------\n",
      "Total Reviews: 6745\n",
      "Total Native Reviews: 141\n",
      "Runtime: 0:00:58.957818\n"
     ]
    },
    {
     "name": "stderr",
     "output_type": "stream",
     "text": [
      "\n",
      "\n",
      "====== WebDriver manager ======\n"
     ]
    },
    {
     "name": "stdout",
     "output_type": "stream",
     "text": [
      "[INFO] Currently Scrapping: The Maritime Experiential Museum\n"
     ]
    },
    {
     "name": "stderr",
     "output_type": "stream",
     "text": [
      "Current google-chrome version is 100.0.4896\n",
      "Get LATEST chromedriver version for 100.0.4896 google-chrome\n",
      "Driver [C:\\Users\\Luqman\\.wdm\\drivers\\chromedriver\\win32\\100.0.4896.60\\chromedriver.exe] found in cache\n"
     ]
    },
    {
     "name": "stdout",
     "output_type": "stream",
     "text": [
      "Review Count: 10\n",
      "Current page: 2\n",
      "-------------- Scrape Completed --------------\n",
      "Total Reviews: 305\n",
      "Total Native Reviews: 10\n",
      "Runtime: 0:00:11.570840\n"
     ]
    }
   ],
   "source": [
    "for attr, link in attractions_dict.items():\n",
    "  scrape_review_v4_s0(attr, link)"
   ]
  },
  {
   "cell_type": "code",
   "execution_count": null,
   "metadata": {},
   "outputs": [],
   "source": []
  }
 ],
 "metadata": {
  "interpreter": {
   "hash": "90b85f54aecd71003771950f482cb0e9b344c8b39504f9f49f23fe15bb6ae351"
  },
  "kernelspec": {
   "display_name": "Python 3.10.0 64-bit",
   "language": "python",
   "name": "python3"
  },
  "language_info": {
   "codemirror_mode": {
    "name": "ipython",
    "version": 3
   },
   "file_extension": ".py",
   "mimetype": "text/x-python",
   "name": "python",
   "nbconvert_exporter": "python",
   "pygments_lexer": "ipython3",
   "version": "3.10.0"
  },
  "orig_nbformat": 4
 },
 "nbformat": 4,
 "nbformat_minor": 2
}
