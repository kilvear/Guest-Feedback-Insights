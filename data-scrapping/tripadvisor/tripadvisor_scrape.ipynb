{
 "cells": [
  {
   "cell_type": "code",
   "execution_count": 34,
   "metadata": {},
   "outputs": [],
   "source": [
    "import csv\n",
    "import pandas as pd\n",
    "import time\n",
    "from selenium import webdriver\n",
    "from selenium.webdriver.chrome.service import Service\n",
    "from webdriver_manager.chrome import ChromeDriverManager\n",
    "from selenium.webdriver.common.by import By\n",
    "from selenium.webdriver.support.ui import WebDriverWait\n",
    "from selenium.webdriver.support import expected_conditions as EC\n",
    "from selenium.common.exceptions import NoSuchElementException"
   ]
  },
  {
   "cell_type": "code",
   "execution_count": 43,
   "metadata": {},
   "outputs": [],
   "source": [
    "def scrape_review(file_path, num_pages, link):\n",
    "\n",
    "# file_path - File path for review output\n",
    "# num_pages - Number of pages to iterate and scrape\n",
    "# link - Link to webpage to scrape\n",
    "\n",
    "  # open the file to save the review\n",
    "  file = open(file_path, 'a', encoding=\"utf-8\", newline='')\n",
    "  csv_writer = csv.writer(file)\n",
    "\n",
    "  # Open up browser and navigate to page\n",
    "  driver = webdriver.Chrome(service=Service(ChromeDriverManager().install()))\n",
    "  driver.get(link)\n",
    "\n",
    "  for i in range(num_pages):\n",
    "    \n",
    "    # Let page load (change to until element exist later)\n",
    "    time.sleep(10)\n",
    "    \n",
    "    # Extract elements               \n",
    "    reviews = driver.find_elements(By.XPATH, \"//div[@data-automation='reviewCard']/div[5]/div[1]\")\n",
    "    dates = driver.find_elements(By.XPATH, \"//*[@class='eRduX']\")\n",
    "    \n",
    "    # Open csv file and write to it\n",
    "    for j in range(len(reviews)):\n",
    "      review = reviews[j].text.replace(\"\\n\", \"\")\n",
    "      date = dates[j].text[:9].strip()\n",
    "      csv_writer.writerow([date, review]) \n",
    "      \n",
    "    next = driver.find_element(By.XPATH, \"//a[@aria-label='Next page']//*[name()='svg']\")\n",
    "    next.click()\n",
    "    \n",
    "  file.close()\n",
    "\n",
    "  driver.close()"
   ]
  },
  {
   "cell_type": "code",
   "execution_count": 44,
   "metadata": {},
   "outputs": [
    {
     "name": "stderr",
     "output_type": "stream",
     "text": [
      "\n",
      "\n",
      "====== WebDriver manager ======\n",
      "Current google-chrome version is 99.0.4844\n",
      "Get LATEST chromedriver version for 99.0.4844 google-chrome\n",
      "Driver [C:\\Users\\Luqman\\.wdm\\drivers\\chromedriver\\win32\\99.0.4844.51\\chromedriver.exe] found in cache\n"
     ]
    }
   ],
   "source": [
    "# Test run on 1st 3 pages\n",
    "scrape_review('data/raw/ta_sea_aquarium_raw.csv', 3, \"https://www.tripadvisor.co.id/Attraction_Review-g294264-d4009739-Reviews-S_E_A_Aquarium-Sentosa_Island.html\")"
   ]
  },
  {
   "cell_type": "markdown",
   "metadata": {},
   "source": [
    "# Review Counter"
   ]
  },
  {
   "cell_type": "code",
   "execution_count": null,
   "metadata": {},
   "outputs": [],
   "source": [
    "attractions = ['https://www.tripadvisor.co.id/Attraction_Review-g294264-d2439664-Reviews-Universal_Studios_Singapore-Sentosa_Island.html',\n",
    "              'https://www.tripadvisor.co.id/Attraction_Review-g294264-d4009739-Reviews-S_E_A_Aquarium-Sentosa_Island.html',\n",
    "              'https://www.tripadvisor.co.id/Attraction_Review-g294264-d3747640-Reviews-Adventure_Cove_Waterpark-Sentosa_Island.html',\n",
    "              'https://www.tripadvisor.co.id/Attraction_Review-g294264-d3475270-Reviews-Sentosa_Boardwalk-Sentosa_Island.html',\n",
    "              'https://www.tripadvisor.co.id/Attraction_Review-g294264-d7178019-Reviews-Madame_Tussauds_Singapore-Sentosa_Island.html',\n",
    "              'https://www.tripadvisor.co.id/Attraction_Review-g294264-d1997266-Reviews-Singapore_Cable_Car_Sentosa-Sentosa_Island.html',\n",
    "              'https://www.tripadvisor.co.id/Attraction_Review-g294264-d941828-Reviews-Palawan_Beach-Sentosa_Island.html',\n",
    "              'https://www.tripadvisor.co.id/Attraction_Review-g294264-d1626904-Reviews-Skyline_Luge_Sentosa-Sentosa_Island.html',\n",
    "              'https://www.tripadvisor.co.id/Attraction_Review-g294264-d6714698-Reviews-Trick_Eye_Museum_Singapore-Sentosa_Island.html',\n",
    "              'https://www.tripadvisor.co.id/Attraction_Review-g294264-d1758910-Reviews-Mega_Adventure-Sentosa_Island.html',\n",
    "              'https://www.tripadvisor.co.id/Attraction_Review-g294264-d2180413-Reviews-IFly_Singapore-Sentosa_Island.html',\n",
    "              'https://www.tripadvisor.co.id/Attraction_Review-g294264-d1936430-Reviews-Sentosa_4D_Adventureland-Sentosa_Island.html',\n",
    "              'https://www.tripadvisor.co.id/Attraction_Review-g294265-d12795233-Reviews-Skypark_Sentosa_by_AJ_Hackett-Singapore.html',\n",
    "              'https://www.tripadvisor.co.id/Attraction_Review-g294264-d19944077-Reviews-HydroDash-Sentosa_Island.html',\n",
    "              'https://www.tripadvisor.co.id/Attraction_Review-g294264-d1891492-Reviews-Siloso_Beach-Sentosa_Island.html',\n",
    "              'https://www.tripadvisor.co.id/Attraction_Review-g294264-d324747-Reviews-Fort_Siloso-Sentosa_Island.html',\n",
    "              'https://www.tripadvisor.co.id/Attraction_Review-g294264-d1891491-Reviews-Tanjong_Beach-Sentosa_Island.html',\n",
    "              'https://www.tripadvisor.co.id/Attraction_Review-g294264-d1997267-Reviews-Sentosa_Nature_Discovery-Sentosa_Island.html']"
   ]
  },
  {
   "cell_type": "code",
   "execution_count": 52,
   "metadata": {},
   "outputs": [],
   "source": [
    "# Version 2\n",
    "\n",
    "def scrape_review_v2(num_pages, link):\n",
    "\n",
    "  # Open up browser and navigate to page\n",
    "  driver = webdriver.Chrome(service=Service(ChromeDriverManager().install()))\n",
    "  driver.get(link)\n",
    "  \n",
    "  review_count = 0\n",
    "  page_num = 1\n",
    "  \n",
    "  for i in range(num_pages):\n",
    "    \n",
    "    # Let page load (change to until element exist later)\n",
    "    time.sleep(5)\n",
    "    \n",
    "    # Extract elements\n",
    "    container = driver.find_elements(By.XPATH, \"//*[@data-automation='reviewCard']//span[contains(text(),'Google Terjemahan')]\")           \n",
    "    \n",
    "    review_count += len(container)\n",
    "          \n",
    "    next = driver.find_element(By.XPATH, \"//a[@aria-label='Next page']//*[name()='svg']\")\n",
    "    next.click()\n",
    "    page_num += 1\n",
    "        \n",
    "    # Open csv file and write to it\n",
    "    # for j in range(len(reviews)):\n",
    "    #   review = container[j].find_element(By.XPATH, \"\")\n",
    "    #   date = dates[j].text[:9].strip()\n",
    "    #   csv_writer.writerow([date, review]) \n",
    "      \n",
    "    print(f\"Review Count: {review_count}\")\n",
    "    print(f\"Current page: {page_num}\")\n",
    "    \n",
    "  # file.close()\n",
    "  print(review_count)\n",
    "  driver.close()"
   ]
  },
  {
   "cell_type": "code",
   "execution_count": 53,
   "metadata": {},
   "outputs": [
    {
     "name": "stderr",
     "output_type": "stream",
     "text": [
      "\n",
      "\n",
      "====== WebDriver manager ======\n",
      "Current google-chrome version is 99.0.4844\n",
      "Get LATEST chromedriver version for 99.0.4844 google-chrome\n",
      "Driver [C:\\Users\\Luqman\\.wdm\\drivers\\chromedriver\\win32\\99.0.4844.51\\chromedriver.exe] found in cache\n"
     ]
    },
    {
     "name": "stdout",
     "output_type": "stream",
     "text": [
      "Review Count: 10\n",
      "Current page: 2\n",
      "Review Count: 20\n",
      "Current page: 3\n",
      "Review Count: 30\n",
      "Current page: 4\n",
      "Review Count: 40\n",
      "Current page: 5\n",
      "Review Count: 50\n",
      "Current page: 6\n",
      "Review Count: 60\n",
      "Current page: 7\n",
      "Review Count: 70\n",
      "Current page: 8\n",
      "Review Count: 80\n",
      "Current page: 9\n",
      "Review Count: 90\n",
      "Current page: 10\n",
      "Review Count: 100\n",
      "Current page: 11\n",
      "Review Count: 110\n",
      "Current page: 12\n",
      "Review Count: 120\n",
      "Current page: 13\n",
      "Review Count: 130\n",
      "Current page: 14\n",
      "Review Count: 140\n",
      "Current page: 15\n",
      "Review Count: 143\n",
      "Current page: 16\n",
      "143\n"
     ]
    }
   ],
   "source": [
    "# Version 2\n",
    "# Test run\n",
    "scrape_review_v2(15, \"https://www.tripadvisor.co.id/Attraction_Review-g294264-d4009739-Reviews-S_E_A_Aquarium-Sentosa_Island.html\")"
   ]
  },
  {
   "cell_type": "code",
   "execution_count": null,
   "metadata": {},
   "outputs": [],
   "source": []
  },
  {
   "cell_type": "code",
   "execution_count": null,
   "metadata": {},
   "outputs": [],
   "source": []
  }
 ],
 "metadata": {
  "interpreter": {
   "hash": "90b85f54aecd71003771950f482cb0e9b344c8b39504f9f49f23fe15bb6ae351"
  },
  "kernelspec": {
   "display_name": "Python 3.10.0 64-bit",
   "language": "python",
   "name": "python3"
  },
  "language_info": {
   "codemirror_mode": {
    "name": "ipython",
    "version": 3
   },
   "file_extension": ".py",
   "mimetype": "text/x-python",
   "name": "python",
   "nbconvert_exporter": "python",
   "pygments_lexer": "ipython3",
   "version": "3.10.0"
  },
  "orig_nbformat": 4
 },
 "nbformat": 4,
 "nbformat_minor": 2
}
