{
 "cells": [
  {
   "cell_type": "code",
   "execution_count": 1,
   "metadata": {},
   "outputs": [],
   "source": [
    "from clean import filter_date\n",
    "import pandas as pd"
   ]
  },
  {
   "cell_type": "code",
   "execution_count": null,
   "metadata": {},
   "outputs": [],
   "source": [
    "# Filter only 2018 to current\n",
    "filter_date(\"data/raw/combined_reviews.csv\", 2018)"
   ]
  },
  {
   "cell_type": "code",
   "execution_count": 22,
   "metadata": {},
   "outputs": [],
   "source": [
    "df = pd.read_csv('data/clean/filtered_2018plus.csv').drop(axis=1, columns=['user', 'source', 'attraction'])"
   ]
  },
  {
   "cell_type": "code",
   "execution_count": 23,
   "metadata": {},
   "outputs": [
    {
     "data": {
      "text/html": [
       "<div>\n",
       "<style scoped>\n",
       "    .dataframe tbody tr th:only-of-type {\n",
       "        vertical-align: middle;\n",
       "    }\n",
       "\n",
       "    .dataframe tbody tr th {\n",
       "        vertical-align: top;\n",
       "    }\n",
       "\n",
       "    .dataframe thead th {\n",
       "        text-align: right;\n",
       "    }\n",
       "</style>\n",
       "<table border=\"1\" class=\"dataframe\">\n",
       "  <thead>\n",
       "    <tr style=\"text-align: right;\">\n",
       "      <th></th>\n",
       "      <th>date</th>\n",
       "      <th>review</th>\n",
       "    </tr>\n",
       "  </thead>\n",
       "  <tbody>\n",
       "    <tr>\n",
       "      <th>0</th>\n",
       "      <td>2018-07-01</td>\n",
       "      <td>Adventure Cove tempat yang bagus di kunjungi p...</td>\n",
       "    </tr>\n",
       "    <tr>\n",
       "      <th>1</th>\n",
       "      <td>2019-11-01</td>\n",
       "      <td>mengunjungi sentosa island setelah dari sea ak...</td>\n",
       "    </tr>\n",
       "    <tr>\n",
       "      <th>2</th>\n",
       "      <td>2019-12-01</td>\n",
       "      <td>Merupakan pengalaman pertama berkunjung ke Mad...</td>\n",
       "    </tr>\n",
       "    <tr>\n",
       "      <th>3</th>\n",
       "      <td>2020-02-01</td>\n",
       "      <td>Beli tiket via OTA, tenyata itu tiket 4 in 1. ...</td>\n",
       "    </tr>\n",
       "    <tr>\n",
       "      <th>4</th>\n",
       "      <td>2019-09-01</td>\n",
       "      <td>Merupakan tempat museum patung lilin selebriti...</td>\n",
       "    </tr>\n",
       "  </tbody>\n",
       "</table>\n",
       "</div>"
      ],
      "text/plain": [
       "         date                                             review\n",
       "0  2018-07-01  Adventure Cove tempat yang bagus di kunjungi p...\n",
       "1  2019-11-01  mengunjungi sentosa island setelah dari sea ak...\n",
       "2  2019-12-01  Merupakan pengalaman pertama berkunjung ke Mad...\n",
       "3  2020-02-01  Beli tiket via OTA, tenyata itu tiket 4 in 1. ...\n",
       "4  2019-09-01  Merupakan tempat museum patung lilin selebriti..."
      ]
     },
     "execution_count": 23,
     "metadata": {},
     "output_type": "execute_result"
    }
   ],
   "source": [
    "df.head()"
   ]
  },
  {
   "cell_type": "code",
   "execution_count": 4,
   "metadata": {},
   "outputs": [
    {
     "name": "stderr",
     "output_type": "stream",
     "text": [
      "Using Singapore server backend.\n"
     ]
    }
   ],
   "source": [
    "import translators as ts\n",
    "ts._google.language_map"
   ]
  },
  {
   "cell_type": "code",
   "execution_count": 24,
   "metadata": {},
   "outputs": [],
   "source": [
    "# Remove newlines\n",
    "df['review'] = df['review'].apply(lambda x: x.replace(\"\\n\", \" \").strip())"
   ]
  },
  {
   "cell_type": "code",
   "execution_count": 27,
   "metadata": {},
   "outputs": [
    {
     "data": {
      "text/html": [
       "<div>\n",
       "<style scoped>\n",
       "    .dataframe tbody tr th:only-of-type {\n",
       "        vertical-align: middle;\n",
       "    }\n",
       "\n",
       "    .dataframe tbody tr th {\n",
       "        vertical-align: top;\n",
       "    }\n",
       "\n",
       "    .dataframe thead th {\n",
       "        text-align: right;\n",
       "    }\n",
       "</style>\n",
       "<table border=\"1\" class=\"dataframe\">\n",
       "  <thead>\n",
       "    <tr style=\"text-align: right;\">\n",
       "      <th></th>\n",
       "      <th>date</th>\n",
       "      <th>review</th>\n",
       "      <th>english_review</th>\n",
       "    </tr>\n",
       "  </thead>\n",
       "  <tbody>\n",
       "    <tr>\n",
       "      <th>0</th>\n",
       "      <td>2018-07-01</td>\n",
       "      <td>Adventure Cove tempat yang bagus di kunjungi p...</td>\n",
       "      <td>Adventure Cove a good place to visit when to S...</td>\n",
       "    </tr>\n",
       "    <tr>\n",
       "      <th>1</th>\n",
       "      <td>2019-11-01</td>\n",
       "      <td>mengunjungi sentosa island setelah dari sea ak...</td>\n",
       "      <td>Visiting Sentosa Island after SEA aquarium, do...</td>\n",
       "    </tr>\n",
       "    <tr>\n",
       "      <th>2</th>\n",
       "      <td>2019-12-01</td>\n",
       "      <td>Merupakan pengalaman pertama berkunjung ke Mad...</td>\n",
       "      <td>Is the first experience of visiting Madame Tus...</td>\n",
       "    </tr>\n",
       "    <tr>\n",
       "      <th>3</th>\n",
       "      <td>2020-02-01</td>\n",
       "      <td>Beli tiket via OTA, tenyata itu tiket 4 in 1. ...</td>\n",
       "      <td>Buy tickets via OTA, it turns out that the tic...</td>\n",
       "    </tr>\n",
       "    <tr>\n",
       "      <th>4</th>\n",
       "      <td>2019-09-01</td>\n",
       "      <td>Merupakan tempat museum patung lilin selebriti...</td>\n",
       "      <td>Is a place for the Celebrity Wax Statue Museum...</td>\n",
       "    </tr>\n",
       "    <tr>\n",
       "      <th>...</th>\n",
       "      <td>...</td>\n",
       "      <td>...</td>\n",
       "      <td>...</td>\n",
       "    </tr>\n",
       "    <tr>\n",
       "      <th>153</th>\n",
       "      <td>2018-02-01</td>\n",
       "      <td>Singapore universal studio sangat rekomended u...</td>\n",
       "      <td>Singapore Universal Studio is highly recommend...</td>\n",
       "    </tr>\n",
       "    <tr>\n",
       "      <th>154</th>\n",
       "      <td>2018-02-01</td>\n",
       "      <td>Universal studio number one at singapura. Dest...</td>\n",
       "      <td>Universal Studio Number One at Singapore. The ...</td>\n",
       "    </tr>\n",
       "    <tr>\n",
       "      <th>155</th>\n",
       "      <td>2019-01-01</td>\n",
       "      <td>Alur cerita tentang anak kecil. Walaupun begit...</td>\n",
       "      <td>Storyline about small children. Even so the sh...</td>\n",
       "    </tr>\n",
       "    <tr>\n",
       "      <th>156</th>\n",
       "      <td>2018-09-01</td>\n",
       "      <td>Atraksi ini patut anda saksikan. Saya dtang ke...</td>\n",
       "      <td>This attraction is worth watching. I came here...</td>\n",
       "    </tr>\n",
       "    <tr>\n",
       "      <th>157</th>\n",
       "      <td>2018-03-01</td>\n",
       "      <td>Patut dikunjungi dan di tonton!  Dengan keunik...</td>\n",
       "      <td>Worth visiting and watching! With the uniquene...</td>\n",
       "    </tr>\n",
       "  </tbody>\n",
       "</table>\n",
       "<p>158 rows × 3 columns</p>\n",
       "</div>"
      ],
      "text/plain": [
       "           date                                             review  \\\n",
       "0    2018-07-01  Adventure Cove tempat yang bagus di kunjungi p...   \n",
       "1    2019-11-01  mengunjungi sentosa island setelah dari sea ak...   \n",
       "2    2019-12-01  Merupakan pengalaman pertama berkunjung ke Mad...   \n",
       "3    2020-02-01  Beli tiket via OTA, tenyata itu tiket 4 in 1. ...   \n",
       "4    2019-09-01  Merupakan tempat museum patung lilin selebriti...   \n",
       "..          ...                                                ...   \n",
       "153  2018-02-01  Singapore universal studio sangat rekomended u...   \n",
       "154  2018-02-01  Universal studio number one at singapura. Dest...   \n",
       "155  2019-01-01  Alur cerita tentang anak kecil. Walaupun begit...   \n",
       "156  2018-09-01  Atraksi ini patut anda saksikan. Saya dtang ke...   \n",
       "157  2018-03-01  Patut dikunjungi dan di tonton!  Dengan keunik...   \n",
       "\n",
       "                                        english_review  \n",
       "0    Adventure Cove a good place to visit when to S...  \n",
       "1    Visiting Sentosa Island after SEA aquarium, do...  \n",
       "2    Is the first experience of visiting Madame Tus...  \n",
       "3    Buy tickets via OTA, it turns out that the tic...  \n",
       "4    Is a place for the Celebrity Wax Statue Museum...  \n",
       "..                                                 ...  \n",
       "153  Singapore Universal Studio is highly recommend...  \n",
       "154  Universal Studio Number One at Singapore. The ...  \n",
       "155  Storyline about small children. Even so the sh...  \n",
       "156  This attraction is worth watching. I came here...  \n",
       "157  Worth visiting and watching! With the uniquene...  \n",
       "\n",
       "[158 rows x 3 columns]"
      ]
     },
     "execution_count": 27,
     "metadata": {},
     "output_type": "execute_result"
    }
   ],
   "source": [
    "df['english_review'] = df['review'].apply(lambda x: ts.google(x, from_language='auto', to_language='en'))\n",
    "\n",
    "df"
   ]
  },
  {
   "cell_type": "code",
   "execution_count": 33,
   "metadata": {},
   "outputs": [],
   "source": [
    "df.to_csv('data/clean/translated_review.csv',index=False)"
   ]
  },
  {
   "cell_type": "code",
   "execution_count": null,
   "metadata": {},
   "outputs": [],
   "source": []
  }
 ],
 "metadata": {
  "interpreter": {
   "hash": "90b85f54aecd71003771950f482cb0e9b344c8b39504f9f49f23fe15bb6ae351"
  },
  "kernelspec": {
   "display_name": "Python 3.10.0 64-bit",
   "language": "python",
   "name": "python3"
  },
  "language_info": {
   "codemirror_mode": {
    "name": "ipython",
    "version": 3
   },
   "file_extension": ".py",
   "mimetype": "text/x-python",
   "name": "python",
   "nbconvert_exporter": "python",
   "pygments_lexer": "ipython3",
   "version": "3.10.0"
  },
  "orig_nbformat": 4
 },
 "nbformat": 4,
 "nbformat_minor": 2
}
