{
 "cells": [
  {
   "cell_type": "code",
   "execution_count": null,
   "metadata": {},
   "outputs": [],
   "source": [
    "import translators as ts\n",
    "from os import path\n",
    "from PIL import Image\n",
    "import matplotlib.pyplot as plt\n",
    "from matplotlib.pyplot import figure\n",
    "from wordcloud import WordCloud, STOPWORDS, ImageColorGenerator\n",
    "import numpy as np\n",
    "import pandas as pd\n",
    "from transformers import pipeline\n",
    "import plotly.express as px\n",
    "\n",
    "ts._google.language_map"
   ]
  },
  {
   "cell_type": "code",
   "execution_count": null,
   "metadata": {},
   "outputs": [],
   "source": [
    "import snscrape.modules.twitter as sntwitter\n",
    "\n",
    "# Creating list to append tweet data to\n",
    "tweets_list2 = []\n",
    "\n",
    "# Using TwitterSearchScraper to scrape data and append tweets to list\n",
    "for i,tweet in enumerate(sntwitter.TwitterSearchScraper('geocode:1.2494,103.8303,2km lang:id since:2019-01-01 until:2020-01-01').get_items()):\n",
    "    if i>5000:\n",
    "        break\n",
    "    tweets_list2.append([tweet.date, tweet.id, tweet.content, tweet.user.username])\n",
    "\n",
    "# sample search string\n",
    "# sentosa (#sentosa) lang:id since:2022-01-01 until:2022-03-31'\n",
    "# https://github.com/igorbrigadir/twitter-advanced-search\n",
    "# https://developer.twitter.com/en/docs/twitter-api/v1/data-dictionary/object-model/geo#place\n",
    "# with the tweet id you can punch it into a browser to view the tweet post twitter.com/anyuser/status/{tweet ID}\n",
    "\n",
    "# Creating a dataframe from the tweets list above\n",
    "tweets_df2 = pd.DataFrame(tweets_list2, columns=['Datetime', 'Tweet Id', 'Text', 'Username'])"
   ]
  },
  {
   "cell_type": "code",
   "execution_count": null,
   "metadata": {},
   "outputs": [],
   "source": [
    "removed_tzone=tweets_df2\n",
    "# remove time zonne as excel cannot handle time zone\n",
    "removed_tzone['Datetime'] = removed_tzone['Datetime'].dt.tz_localize(None)\n",
    "tweetid= removed_tzone['Tweet Id']\n",
    "\n",
    "removed_tzone"
   ]
  },
  {
   "cell_type": "code",
   "execution_count": null,
   "metadata": {},
   "outputs": [],
   "source": [
    "removed_tzone.to_excel('tweets.xlsx', sheet_name='sheet1', index=False)\n",
    "# saving results to excel as emojis are unable to be saved in csv form\n",
    "tweetid.to_csv('tweetsID.csv', index=False)\n",
    "# due to the tweet ID being too long. it has be to saved separately"
   ]
  },
  {
   "cell_type": "code",
   "execution_count": null,
   "metadata": {},
   "outputs": [],
   "source": [
    "# code for reading excel\n",
    "df=pd.read_excel('geo location 2019 tweets wo emoji translated.xlsx')  \n",
    "\n",
    "df"
   ]
  },
  {
   "cell_type": "code",
   "execution_count": null,
   "metadata": {},
   "outputs": [],
   "source": [
    "text_col=df\n",
    "\n",
    "text_col"
   ]
  },
  {
   "cell_type": "code",
   "execution_count": null,
   "metadata": {},
   "outputs": [],
   "source": [
    "text_col['english_text'] = text_col['Text'].apply(lambda x: ts.google(x, from_language='id', to_language='en'))\n",
    "\n",
    "text_col"
   ]
  },
  {
   "cell_type": "code",
   "execution_count": null,
   "metadata": {},
   "outputs": [],
   "source": [
    "# for name, values in removed_tzone[\"Text\"].iteritems():\n",
    "#     print(values)\n",
    "import demoji\n",
    "# test_tweet = removed_tzone[\"Text\"]\n",
    "# test_tweet\n",
    "n=0\n",
    "for v in removed_tzone[\"Text\"]:\n",
    "    raw_tweet = str(v)\n",
    "    tweet_removed_emoji = demoji.replace_with_desc(raw_tweet)\n",
    "    removed_tzone.loc[n,\"Text\"] = tweet_removed_emoji\n",
    "    n+=1\n",
    "    "
   ]
  },
  {
   "cell_type": "code",
   "execution_count": null,
   "metadata": {},
   "outputs": [],
   "source": [
    "tweetid= removed_tzone['Tweet Id']\n",
    "\n",
    "removed_tzone.to_excel('tweets wo emoji.xlsx', sheet_name='sheet1', index=False)\n",
    "# tweetid.to_csv('tweetsID wo emoji.csv', index=False)"
   ]
  },
  {
   "cell_type": "code",
   "execution_count": null,
   "metadata": {},
   "outputs": [],
   "source": [
    "t_df = pd.DataFrame(text_col, columns = ['english_text'])\n",
    "\n",
    "t_df"
   ]
  },
  {
   "cell_type": "code",
   "execution_count": null,
   "metadata": {},
   "outputs": [],
   "source": [
    "text = t_df[\"english_text\"].to_string(index=False)\n",
    "text_raw = text_col[\"Text\"].to_string(index=False)\n",
    "print (\"There are {} words in the combination of all tweets.\".format(len(text)))\n",
    "print (\"There are {} words in the combination of all tweets.\".format(len(text_raw)))"
   ]
  },
  {
   "cell_type": "code",
   "execution_count": null,
   "metadata": {},
   "outputs": [],
   "source": [
    "wordcloud = WordCloud(width=1600, height=800).generate(text)\n",
    "\n",
    "plt.figure(figsize=[20,10])\n",
    "plt.imshow(wordcloud,interpolation='bilinear')\n",
    "plt.axis(\"off\")\n",
    "\n",
    "plt.show()"
   ]
  },
  {
   "cell_type": "code",
   "execution_count": null,
   "metadata": {},
   "outputs": [],
   "source": [
    "wordcloud_raw = WordCloud(width=1600, height=800).generate(text_raw)\n",
    "\n",
    "plt.figure(figsize=[20,10])\n",
    "plt.imshow(wordcloud_raw,interpolation='bilinear')\n",
    "plt.axis(\"off\")\n",
    "\n",
    "plt.show()"
   ]
  },
  {
   "cell_type": "code",
   "execution_count": null,
   "metadata": {},
   "outputs": [],
   "source": [
    "word_count = WordCloud().process_text(text)\n",
    "\n",
    "word_count"
   ]
  },
  {
   "cell_type": "code",
   "execution_count": null,
   "metadata": {},
   "outputs": [],
   "source": [
    "word_count_raw = WordCloud().process_text(text_raw)\n",
    "\n",
    "word_count_raw"
   ]
  },
  {
   "cell_type": "code",
   "execution_count": null,
   "metadata": {},
   "outputs": [],
   "source": [
    "pretrained_name = \"sahri/indonesiasentiment\"\n",
    "\n",
    "nlp = pipeline(\"sentiment-analysis\",\n",
    "              model=pretrained_name,\n",
    "              tokenizer=pretrained_name)"
   ]
  },
  {
   "cell_type": "code",
   "execution_count": null,
   "metadata": {},
   "outputs": [],
   "source": [
    "def sentiment_analysis_label(text):\n",
    "    '''\n",
    "    Sentiment analysis labelling\n",
    "    0 - positive\n",
    "    1 - negative\n",
    "    '''\n",
    "    output = nlp(text)\n",
    "    if output[0]['label'] == 'positive':\n",
    "        label = 0\n",
    "    elif output[0]['label'] == 'neutral':\n",
    "        label = 1\n",
    "    else:\n",
    "        label = 2\n",
    "    return label"
   ]
  },
  {
   "cell_type": "code",
   "execution_count": null,
   "metadata": {},
   "outputs": [],
   "source": [
    "def sentiment_analysis_score(text):\n",
    "    '''\n",
    "    Return sentiment analysis score\n",
    "    '''\n",
    "    output = nlp(text)\n",
    "    return round(output[0]['score'], 3)"
   ]
  },
  {
   "cell_type": "code",
   "execution_count": null,
   "metadata": {},
   "outputs": [],
   "source": [
    "df"
   ]
  },
  {
   "cell_type": "code",
   "execution_count": null,
   "metadata": {},
   "outputs": [],
   "source": [
    "df['sentiment'] = df['Text'].apply(sentiment_analysis_label)"
   ]
  },
  {
   "cell_type": "code",
   "execution_count": null,
   "metadata": {},
   "outputs": [],
   "source": [
    "df['sentiment'].value_counts(ascending=False)"
   ]
  },
  {
   "cell_type": "code",
   "execution_count": null,
   "metadata": {},
   "outputs": [],
   "source": [
    "df['score'] = df['Text'].apply(sentiment_analysis_score)"
   ]
  },
  {
   "cell_type": "code",
   "execution_count": null,
   "metadata": {},
   "outputs": [],
   "source": [
    "df.to_excel('geo location 2019 tweets wo emoji translated senti.xlsx', sheet_name='sheet1', index=False)"
   ]
  },
  {
   "cell_type": "code",
   "execution_count": null,
   "metadata": {},
   "outputs": [],
   "source": [
    "df=pd.read_excel('geo location 2019 tweets wo emoji translated senti.xlsx')  \n",
    "\n",
    "df"
   ]
  },
  {
   "cell_type": "code",
   "execution_count": null,
   "metadata": {},
   "outputs": [],
   "source": [
    "px.histogram(df, x=\"Datetime\", y=\"sentiment\")"
   ]
  }
 ],
 "metadata": {
  "language_info": {
   "name": "python"
  },
  "orig_nbformat": 4
 },
 "nbformat": 4,
 "nbformat_minor": 2
}
