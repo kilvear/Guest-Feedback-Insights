{
 "cells": [
  {
   "cell_type": "code",
   "execution_count": 1,
   "metadata": {},
   "outputs": [],
   "source": [
    "from selenium import webdriver\n",
    "from selenium.webdriver.common.by import By\n",
    "from selenium.webdriver.chrome.service import Service\n",
    "from webdriver_manager.chrome import ChromeDriverManager\n",
    "from selenium.webdriver.support import expected_conditions as EC\n",
    "from selenium.webdriver.support.ui import WebDriverWait\n",
    "from selenium.webdriver.support.wait import WebDriverWait\n",
    "import time\n",
    "\n",
    "from selenium.webdriver.chrome.options import Options\n",
    "\n",
    "chrome_options = Options()\n",
    "chrome_options.add_argument(\"--window-size=1920,1080\")\n",
    "\n",
    "# options = webdriver.ChromeOptions()\n",
    "# options.add_argument('--ignore-certificate-errors')\n",
    "# options.add_argument('--incognito')\n",
    "# options.add_argument('--headless')"
   ]
  },
  {
   "cell_type": "code",
   "execution_count": 26,
   "metadata": {},
   "outputs": [
    {
     "name": "stdout",
     "output_type": "stream",
     "text": [
      "Gampang redeem nya...waterpark nya bagus, bersih Dan banyak permainan. Salah satu yg berbeda adalah adanya kolam utk snorkeling ...trus bisa foto dengan ikan pari..\n",
      "keren.. bgs la not bad seru wahana lumayan byk... tp tdk sebanyak sunway lagoon\n",
      "Redeemnya sangat mudah sekali, tidak perlu antri, hanya perlu tunjukkin evoucher\n",
      "tempat snorkling yg aman untuk anak anak...water park yang bersih\n",
      "Harga murah dan cocok untuk berkunjung bersama keluarga besar. Ajak anak2 juga nyaman sekali. Tiket klook valid. Terima kasih KLooK.\n",
      "Sangat menyenangkan bisa mengunjungi ACW, sayangnya hanya sedikit yang wahana bisa dinikmati oleh anak-anak usia 5 tahun, dan antrian yang sangat panjang untuk wahana tertentu, padahal kami mengunjungi ACW pada weekday.\n",
      "sangat menyenangkan. berbeda dengan waterpark lainnya..bisa snorkeling juga...harus mencoba riptide slides..seperti bermain roller coaster. tidak boleh membawa makanan dan minuman dari luar. sayangnya harga makanan di dalam sangat mahal\n",
      "mudah diredeem, waterparknya bagus, bersih, aman buat anak2 di eater slide anak ada bantalannya jadi pantat ga sakit. kolam ombaknya kenceng serasa di laut, tempat bilas ok. restoran lumayanlah, kolam arua airnya hangat, bocil betah main air lama2. harga voucher di klook cuma sepertiga harga counter. top klook\n",
      "Sangat menyenangkan, banyak wahana menarik, tempat bersih, waterpark terbaik yang pernah saya kunjungi, paling spesial wahana menyelam melihat ikan dan terumbu karang yang sangat menakjubkan\n",
      "tempat yang menyenangkan untuk menghabiskan waktu liburan bersama keluarga, anak-anak dan teman. di sini, kita bisa menikmati kolam arus, snorkling, bermain seluncuran , melompat ke dalam kolam dengan kedalaman 4m, berjalan di atas tali, dan berbagai arena lainnya. untuk memasuki beberapa arena, terdapat batasan tinggi. di dalam tersedia loker, untuk loker kecil biaya sewanya 10SGD, loker besar 20 SGD. tidak diperbolehkan membawa makanan dan minuman, terdapat pemeriksaan di pintu masuk. di dalam tersedia tap water. pembelian tiket dengan klook cukup mudah, selesai pembayaran, tiket langsung dikirim. saat sampai di lokasi, kita tidak perlu antri membeli tiket, dan langsung menuju pintu masuk dengan menunjukkan voucher dari klook.\n",
      "Tidak banyak orang yang memasuki venue pada hari itu, dan fasilitasnya sangat menyenangkan, tiketnya sangat istimewa dan dapat disimpan sebagai oleh-oleh. Ular berkaki empat terkadang muncul di taman, jaga jarak.\n",
      "Tampilkan Bahasa Asli\n",
      "Taman air yang sangat indah ini memiliki kendali yang baik atas jumlah orang dan tidak akan menyebabkan kemacetan. Tidak dapat dipesan melalui kkday, tetapi berhasil dipesan melalui KLOOK, membuat seluruh perjalanan menjadi sempurna! Anak-anak juga bersenang-senang, terutama sungai yang hanyut, butuh waktu lama untuk berputar-putar, dan nilai CPnya sangat tinggi!\n",
      "Tampilkan Bahasa Asli\n"
     ]
    }
   ],
   "source": [
    "# driver = webdriver.Chrome(service=Service(ChromeDriverManager().install()),options=chrome_options)\n",
    "\n",
    "driver = webdriver.Chrome(executable_path='C:/Users/Kelvin/Chromedriver',options=chrome_options)\n",
    "driver.get(\"https://www.klook.com/id/activity/120-adventure-cove-waterpark-singapore/?spm=Home.SearchSuggest_LIST&clickId=3a33d391a7\")\n",
    "\n",
    "placeholder = driver.find_element(By.XPATH, \"//h2[normalize-space()='Pilihan Paket']\")\n",
    "\n",
    "\n",
    "driver.execute_script(\"arguments[0].scrollIntoView(true);\", placeholder)\n",
    "\n",
    "ulasan = driver.find_element(By.XPATH, \"//div[@class='nav-item swiper-slide'][normalize-space()='Ulasan']\")\n",
    "\n",
    "ulasan.click()\n",
    "\n",
    "time.sleep(5)\n",
    "driver.execute_script(\"window.scrollBy(0,1050)\")\n",
    "\n",
    "\n",
    "# next_btn = driver.find_element(By.XPATH, \"//span[@class='klk-pagination-next-btn']\")\n",
    "\n",
    "# next_btn.click()\n",
    "\n",
    "b = driver.find_element_by_xpath(\"//span[@class='klk-pagination-next-btn']\")\n",
    "driver.execute_script(\"arguments[0].click();\", b)\n",
    "reviews = driver.find_elements(By.XPATH, \"//div[@class='page-activity-reviews-comment-content']\")\n",
    "\n",
    "for i in range(len(reviews)):\n",
    "  print(reviews[i].text)"
   ]
  }
 ],
 "metadata": {
  "interpreter": {
   "hash": "ccf920e010918c5e5789bef77fccb6bfc7fb2a82b0cbdfb83f37376c266bf152"
  },
  "kernelspec": {
   "display_name": "Python 3.9.7 ('nlp')",
   "language": "python",
   "name": "python3"
  },
  "language_info": {
   "codemirror_mode": {
    "name": "ipython",
    "version": 3
   },
   "file_extension": ".py",
   "mimetype": "text/x-python",
   "name": "python",
   "nbconvert_exporter": "python",
   "pygments_lexer": "ipython3",
   "version": "3.8.12"
  },
  "orig_nbformat": 4
 },
 "nbformat": 4,
 "nbformat_minor": 2
}
