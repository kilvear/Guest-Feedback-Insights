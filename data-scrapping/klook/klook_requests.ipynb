{
 "cells": [
  {
   "cell_type": "code",
   "execution_count": null,
   "metadata": {},
   "outputs": [],
   "source": [
    "import requests\n",
    "from datetime import datetime\n",
    "import pandas as pd\n",
    "import csv"
   ]
  },
  {
   "cell_type": "code",
   "execution_count": null,
   "metadata": {},
   "outputs": [],
   "source": [
    "# get the current date and time\n",
    "now = datetime.now()\n",
    "date_pulled = now.strftime(\"%Y_%m_%d\")\n",
    "# date_pulled = now.strftime(\"%Y_%m_%d_%H:%M:%S\")"
   ]
  },
  {
   "cell_type": "code",
   "execution_count": null,
   "metadata": {},
   "outputs": [],
   "source": [
    "# name of the csv file\n",
    "attraction = 'adventure cove test'\n",
    "file_name = str(date_pulled) + '_' + attraction.replace(\" \", \"_\").lower() + \".csv\""
   ]
  },
  {
   "cell_type": "code",
   "execution_count": null,
   "metadata": {},
   "outputs": [],
   "source": [
    "url = 'https://www.klook.com/v1/usrcsrv/activities/120/reviews?page={}&limit=8&star_num=&lang=id_ID&sort_type=1&only_image=false'\n",
    "\n",
    "user_agent = {'User-agent': 'Mozilla/5.0 (Windows NT 10.0; Win64; x64) AppleWebKit/537.36 (KHTML, like Gecko) Chrome/83.0.4103.97 Safari/537.36'}"
   ]
  },
  {
   "cell_type": "code",
   "execution_count": null,
   "metadata": {},
   "outputs": [],
   "source": [
    "page_number = 1\n",
    "count_reviews = 0\n",
    "\n",
    "while True:\n",
    "    response = requests.get(url.format(page_number), headers=user_agent)\n",
    "    \n",
    "    data = response.json()\n",
    "\n",
    "    df = pd.DataFrame.from_dict(data)\n",
    "\n",
    "    # extract the number of reviews for the attraction\n",
    "    number_of_reviews = df.loc['total']['result']\n",
    "    print(number_of_reviews)\n",
    "\n",
    "    # extract the content\n",
    "    content = df.loc['item']['result']\n",
    "    print(content)\n",
    "\n",
    "    # get the number of reviews on the page \n",
    "    x = len(content)\n",
    "\n",
    "    for i in range(len(response.url)):\n",
    "    count_reviews = count_reviews + x[i]\n",
    "    \n",
    "if count_reviews < number_of_reviews:\n",
    "    page_number += 1\n",
    "\n",
    "print(response.url)\n",
    "\n",
    "break"
   ]
  },
  {
   "cell_type": "code",
   "execution_count": null,
   "metadata": {},
   "outputs": [],
   "source": [
    "# make directory and save df to csv\n",
    "# os.makedirs('data/raw', exist_ok=True)\n",
    "# df.to_csv('data/raw/' + file_name)"
   ]
  }
 ],
 "metadata": {
  "language_info": {
   "name": "python"
  },
  "orig_nbformat": 4
 },
 "nbformat": 4,
 "nbformat_minor": 2
}
