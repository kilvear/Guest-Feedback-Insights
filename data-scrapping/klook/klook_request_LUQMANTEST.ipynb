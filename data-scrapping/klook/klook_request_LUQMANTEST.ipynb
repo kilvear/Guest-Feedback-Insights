{
 "cells": [
  {
   "cell_type": "code",
   "execution_count": 1,
   "metadata": {},
   "outputs": [],
   "source": [
    "import requests\n",
    "import random\n",
    "import pandas as pd\n",
    "from bs4 import BeautifulSoup as bs\n",
    "import requests\n",
    "import random\n",
    "import csv\n",
    "from datetime import datetime\n",
    "import os.path"
   ]
  },
  {
   "cell_type": "code",
   "execution_count": 2,
   "metadata": {},
   "outputs": [],
   "source": [
    "def load_user_agents(filepath):\n",
    "  # Load user agents list from a txt file\n",
    "  file = open(filepath, \"r\")\n",
    "  agents = file.read()\n",
    "  user_agent_list = agents.split(\"\\n\")\n",
    "  file.close()\n",
    "  return user_agent_list"
   ]
  },
  {
   "cell_type": "code",
   "execution_count": 3,
   "metadata": {},
   "outputs": [],
   "source": [
    "user_agent_list = load_user_agents(\"user-agents_chrome_browser_100-0.txt\")"
   ]
  },
  {
   "cell_type": "code",
   "execution_count": 4,
   "metadata": {},
   "outputs": [],
   "source": [
    "# Get free proxies\n",
    "\n",
    "res = requests.get('https://free-proxy-list.net')\n",
    "content = bs(res.text, 'lxml')\n",
    "table = content.find('table')\n",
    "rows = table.find_all('tr')\n",
    "cols = [[col.text for col in row.find_all('td')] for row in rows]\n",
    "\n",
    "proxieslist = []\n",
    "\n",
    "for col in cols:\n",
    "  try:\n",
    "    if col[4] == 'elite proxy' and col[6] == 'yes':\n",
    "      proxieslist.append('https://' + col[0] + ':' + col[1])\n",
    "  except:\n",
    "    pass"
   ]
  },
  {
   "cell_type": "code",
   "execution_count": 5,
   "metadata": {},
   "outputs": [
    {
     "data": {
      "text/plain": [
       "['https://37.224.60.172:8080',\n",
       " 'https://103.177.146.1:30001',\n",
       " 'https://194.233.69.90:443',\n",
       " 'https://179.96.28.58:80',\n",
       " 'https://66.94.97.238:443',\n",
       " 'https://14.143.168.230:8080']"
      ]
     },
     "execution_count": 5,
     "metadata": {},
     "output_type": "execute_result"
    }
   ],
   "source": [
    "proxieslist"
   ]
  },
  {
   "cell_type": "markdown",
   "metadata": {},
   "source": [
    "## Issues:\n",
    "- IP blocked after scrapping too many times\n",
    "- Trying proxies\n",
    "- VPN works"
   ]
  },
  {
   "cell_type": "code",
   "execution_count": 7,
   "metadata": {},
   "outputs": [
    {
     "name": "stdout",
     "output_type": "stream",
     "text": [
      "2020-01-29 12:23:54 Erinda Gampang redeem nya...waterpark nya bagus, bersih Dan banyak permainan. Salah satu yg berbeda adalah adanya kolam utk snorkeling ...trus bisa foto dengan ikan pari..\n",
      "2019-12-29 10:17:30 lina keren.. bgs la not bad\n",
      "seru wahana lumayan byk... tp tdk sebanyak sunway lagoon\n",
      "2019-12-27 10:23:20 PAUL MICHAEL Redeemnya sangat mudah sekali, tidak perlu antri, hanya perlu tunjukkin evoucher\n",
      "2019-12-23 00:53:46 yuliana tempat snorkling yg aman untuk anak anak...water park  yang bersih\n",
      "2019-11-27 22:53:16 Nurafni Zanariah Best!!! Terbaik!! Anak2 suka and tak mau balik. Terbaiklah, harap dapat perhiblagi next year, ameen\n",
      "2019-07-25 08:22:44 Fransce bagus dan menyenangkan cocok untuk anak2 dan anak muda\n",
      "2019-07-18 16:23:39 chandra hemat cepat mudah dengan klook\n",
      "atraksi baik bersih\n",
      "2019-06-07 07:32:06 Feny Tanpa mengantri panjang kita bs langsung masuk, bener2 best deh klook. Anak2 sangat suka dengan semua wahana air\n",
      "2019-06-04 07:30:20 wahyudi bagus. langsung masuk tanpa antri. bebas repot.  terima kasih klook.\n",
      "2019-05-26 22:29:09 Eveline Liburan keluarga yang sangat mengesankan, banyak wahana menarik untuk anak maupun dewasa\n",
      "2019-04-24 19:33:03 Hermanto Redem nya gampang tinggal ke kiosk mesin dan scan barcode menggunakan hp dan tiketnya otomatis tercetak\n",
      "2019-04-14 00:06:50 Lydia mudah diredeem,  waterparknya bagus,  bersih,  aman buat anak2 di eater slide anak ada bantalannya jadi pantat ga sakit. kolam ombaknya kenceng serasa di laut,  tempat bilas ok.  restoran lumayanlah,  kolam arua airnya hangat,  bocil betah main air lama2. harga voucher di klook cuma sepertiga harga counter.  top klook\n",
      "2019-02-24 17:04:18 Harris Sangat menyenangkan, banyak wahana menarik, tempat bersih, waterpark terbaik yang pernah saya kunjungi, paling spesial wahana menyelam melihat ikan dan terumbu karang yang sangat menakjubkan\n",
      "2019-01-01 09:12:40 Edison kami sangat menikmati moment di adventure cove ini. wahana airnya banyak. tapi tidak semua yang bisa dinikmati oleh anak kami berhub tinggi tidak mencukupi. jadi kami bermain di kolam keliling dan kolam berombak.. tapi itupun sudah sangat kami.nikmati.. kolam yg berombaknya seru..\n",
      "2018-12-23 23:10:25 Herlina tempat yang menyenangkan untuk menghabiskan waktu liburan bersama keluarga, anak-anak dan teman.\n",
      "di sini, kita bisa menikmati kolam arus, snorkling, bermain seluncuran , melompat ke dalam kolam dengan kedalaman 4m, berjalan di atas tali, dan berbagai arena lainnya. \n",
      "untuk memasuki beberapa arena, terdapat batasan tinggi. \n",
      "di dalam tersedia loker, untuk loker kecil biaya sewanya 10SGD, loker besar 20 SGD.\n",
      "tidak diperbolehkan membawa makanan dan minuman, terdapat pemeriksaan di pintu masuk.\n",
      "di dalam tersedia tap water.\n",
      "\n",
      "pembelian tiket dengan klook cukup mudah, selesai pembayaran, tiket langsung dikirim. \n",
      "saat sampai di lokasi, kita tidak perlu antri membeli tiket, dan langsung menuju pintu masuk dengan menunjukkan voucher dari klook.\n",
      "2018-12-10 07:37:40 Amalya Pengalaman yg tak terlupakan dengan menyelam bersama ikan ikan di rainbow reef. Tidak perlu untuk menyewa ban atau jaket keselamatan krn sudah tersedia di tiap kolam. Hanya saja jika cuaca tdk mendukung maka seluncuran akan ditutup. Tiket juga perlu di cetak atau diprint cukup di scan dipintu msk.\n",
      "2018-07-18 23:29:58 Yuanita Sangat menyenangkan bisa mengunjungi ACW, sayangnya hanya sedikit yang wahana bisa dinikmati oleh anak-anak usia 5 tahun, dan antrian yang sangat panjang untuk wahana tertentu, padahal kami mengunjungi ACW pada weekday.\n",
      "2018-07-06 16:10:19 Brandon Harga murah dan cocok untuk berkunjung bersama keluarga besar. Ajak anak2 juga nyaman sekali. Tiket klook valid. Terima kasih KLooK.\n",
      "2018-06-23 23:30:22 Alva sangat menyenangkan. berbeda dengan waterpark lainnya..bisa snorkeling juga...harus mencoba riptide slides..seperti bermain roller coaster.\n",
      "tidak boleh membawa makanan dan minuman dari luar. sayangnya harga makanan di dalam sangat mahal\n",
      "2018-06-22 10:22:27 Hariyanto Tempatnya sangat bagus,dan permainannya sangat menarik,terutama kolam ombak..\n",
      "2018-06-21 10:43:25 sandra Bagus permainan airnya, anak saya suka sekali, kmrn untung cmn gerimis saja\n",
      "2017-12-21 09:18:19 Johnny Pengalaman menyenangkan beli tiket melalui klook. Semua lancar\n"
     ]
    }
   ],
   "source": [
    "# Load user agents list from a txt file\n",
    "agentfile = open(\"user-agents_chrome_browser_100-0.txt\", \"r\")\n",
    "agents = agentfile.read()\n",
    "user_agent_list = agents.split(\"\\n\")\n",
    "agentfile.close()\n",
    "\n",
    "page = 0\n",
    "count_reviews = 0\n",
    "\n",
    "proxies = {\n",
    "  'https':'https://37.224.60.172:8080'\n",
    "}\n",
    "\n",
    "while True:\n",
    "  try:\n",
    "    page += 1\n",
    "    url = f'https://www.klook.com/v1/usrcsrv/activities/120/reviews?page={page}&limit=8&star_num=&lang=id_ID&sort_type=1&only_image=false'\n",
    "\n",
    "    for _ in user_agent_list:\n",
    "      #Pick a random user agent\n",
    "      user_agent = random.choice(user_agent_list)\n",
    "      #Set the headers \n",
    "      headers = {'User-Agent': user_agent}\n",
    "\n",
    "    source = requests.get(url, headers=headers)\n",
    "    \n",
    "    data = source.json()\n",
    "\n",
    "    content = data['result']['item']\n",
    "\n",
    "    review_count = len(content)\n",
    "    \n",
    "    for i in range(review_count):\n",
    "      date = content[i]['date']\n",
    "      author = content[i]['author']\n",
    "      review = content[i]['content']\n",
    "      print(date, author, review)\n",
    "      # Open csv file to write in\n",
    "      file_path = 'adventurecovetest.csv'\n",
    "      with open(file_path, 'a', encoding=\"utf-8\", newline='') as f:\n",
    "        csv_writer = csv.writer(f)\n",
    "        csv_writer.writerow([date, author, review, 'adventurecove', 'klook']) \n",
    "  except:\n",
    "    break"
   ]
  },
  {
   "cell_type": "code",
   "execution_count": null,
   "metadata": {},
   "outputs": [],
   "source": []
  }
 ],
 "metadata": {
  "interpreter": {
   "hash": "90b85f54aecd71003771950f482cb0e9b344c8b39504f9f49f23fe15bb6ae351"
  },
  "kernelspec": {
   "display_name": "Python 3.10.0 64-bit",
   "language": "python",
   "name": "python3"
  },
  "language_info": {
   "codemirror_mode": {
    "name": "ipython",
    "version": 3
   },
   "file_extension": ".py",
   "mimetype": "text/x-python",
   "name": "python",
   "nbconvert_exporter": "python",
   "pygments_lexer": "ipython3",
   "version": "3.10.0"
  },
  "orig_nbformat": 4
 },
 "nbformat": 4,
 "nbformat_minor": 2
}
