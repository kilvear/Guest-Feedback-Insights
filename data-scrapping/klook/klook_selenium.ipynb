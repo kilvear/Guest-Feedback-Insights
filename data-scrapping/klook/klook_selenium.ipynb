{
 "cells": [
  {
   "cell_type": "markdown",
   "metadata": {},
   "source": [
    "## Import Pacakges"
   ]
  },
  {
   "cell_type": "code",
   "execution_count": 3,
   "metadata": {},
   "outputs": [],
   "source": [
    "from selenium import webdriver\n",
    "from selenium.webdriver.common.by import By\n",
    "from selenium.webdriver.chrome.service import Service\n",
    "from webdriver_manager.chrome import ChromeDriverManager\n",
    "from selenium.webdriver.support.ui import WebDriverWait\n",
    "from selenium.webdriver.support.wait import WebDriverWait\n",
    "from selenium.webdriver.support.select import Select\n",
    "from selenium.webdriver.support.ui import Select\n",
    "from selenium.webdriver.common.keys import Keys\n",
    "import time\n",
    "from datetime import datetime\n",
    "import pandas as pd\n",
    "import csv\n",
    "import os\n",
    "from selenium.common.exceptions import NoSuchElementException\n",
    "\n",
    "#from selenium.webdriver.support import expected_conditions as EC"
   ]
  },
  {
   "cell_type": "markdown",
   "metadata": {},
   "source": [
    "## Filter by Terbaru"
   ]
  },
  {
   "cell_type": "code",
   "execution_count": 1,
   "metadata": {},
   "outputs": [
    {
     "ename": "NameError",
     "evalue": "name 'webdriver' is not defined",
     "output_type": "error",
     "traceback": [
      "\u001b[1;31m---------------------------------------------------------------------------\u001b[0m",
      "\u001b[1;31mNameError\u001b[0m                                 Traceback (most recent call last)",
      "\u001b[1;32mc:\\Users\\odeli\\OneDrive\\Desktop\\capstone\\Guest-Feedback-Insights\\data-scrapping\\klook\\klook_selenium.ipynb Cell 4'\u001b[0m in \u001b[0;36m<cell line: 1>\u001b[1;34m()\u001b[0m\n\u001b[1;32m----> <a href='vscode-notebook-cell:/c%3A/Users/odeli/OneDrive/Desktop/capstone/Guest-Feedback-Insights/data-scrapping/klook/klook_selenium.ipynb#ch0000003?line=0'>1</a>\u001b[0m driver \u001b[39m=\u001b[39m webdriver\u001b[39m.\u001b[39mChrome(service\u001b[39m=\u001b[39mService(ChromeDriverManager()\u001b[39m.\u001b[39minstall()))\n\u001b[0;32m      <a href='vscode-notebook-cell:/c%3A/Users/odeli/OneDrive/Desktop/capstone/Guest-Feedback-Insights/data-scrapping/klook/klook_selenium.ipynb#ch0000003?line=1'>2</a>\u001b[0m driver\u001b[39m.\u001b[39mget(\u001b[39m\"\u001b[39m\u001b[39mhttps://www.klook.com/id/activity/120-adventure-cove-waterpark-singapore/?spm=Home.SearchSuggest_LIST&clickId=3a33d391a7\u001b[39m\u001b[39m\"\u001b[39m)\n\u001b[0;32m      <a href='vscode-notebook-cell:/c%3A/Users/odeli/OneDrive/Desktop/capstone/Guest-Feedback-Insights/data-scrapping/klook/klook_selenium.ipynb#ch0000003?line=3'>4</a>\u001b[0m driver\u001b[39m.\u001b[39mmaximize_window()\n",
      "\u001b[1;31mNameError\u001b[0m: name 'webdriver' is not defined"
     ]
    }
   ],
   "source": [
    "driver = webdriver.Chrome(service=Service(ChromeDriverManager().install()))\n",
    "driver.get(\"https://www.klook.com/id/activity/120-adventure-cove-waterpark-singapore/?spm=Home.SearchSuggest_LIST&clickId=3a33d391a7\")\n",
    "\n",
    "driver.maximize_window()\n",
    "\n",
    "driver.execute_script(\"window.scrollBy(0,7000)\")\n",
    "time.sleep(5)\n",
    "\n",
    "#select and click filter 'Urutkan' drop down\n",
    "filter = driver.find_element(By.XPATH, \"(//i[@class='klk-select-toggle-btn klk-icon klk-icon-icon_navigation_chevron_down_xs'])[3]\")\n",
    "driver.execute_script(\"arguments[0].click();\", filter)\n",
    "\n",
    "time.sleep(5)\n",
    "\n",
    "terbaru = driver.find_element(By.XPATH, \"(//span[@class='klk-option-label'])[2]\")\n",
    "# dropdown.selectByValue(\"Terbaru\")\n",
    "# select_object = Select(terbaru)\n",
    "driver.execute_script(\"arguments[0].click();\", terbaru)\n",
    "print(terbaru.text)\n",
    "\n",
    "time.sleep(10)"
   ]
  },
  {
   "cell_type": "markdown",
   "metadata": {},
   "source": [
    "## Click next button and print reviews"
   ]
  },
  {
   "cell_type": "code",
   "execution_count": 2,
   "metadata": {},
   "outputs": [
    {
     "name": "stderr",
     "output_type": "stream",
     "text": [
      "\n",
      "\n",
      "====== WebDriver manager ======\n",
      "Current google-chrome version is 100.0.4896\n",
      "Get LATEST chromedriver version for 100.0.4896 google-chrome\n",
      "Driver [C:\\Users\\odeli\\.wdm\\drivers\\chromedriver\\win32\\100.0.4896.60\\chromedriver.exe] found in cache\n"
     ]
    },
    {
     "data": {
      "text/plain": [
       "<bound method WebDriver.close of <selenium.webdriver.chrome.webdriver.WebDriver (session=\"049f7cecd04d7d193242a2ee53c884dc\")>>"
      ]
     },
     "execution_count": 2,
     "metadata": {},
     "output_type": "execute_result"
    }
   ],
   "source": [
    "driver = webdriver.Chrome(service=Service(ChromeDriverManager().install()))\n",
    "driver.get(\"https://www.klook.com/id/activity/120-adventure-cove-waterpark-singapore/?spm=Home.SearchSuggest_LIST&clickId=3a33d391a7\")\n",
    "\n",
    "driver.maximize_window()\n",
    "\n",
    "driver.execute_script(\"window.scrollBy(0,7000)\")\n",
    "time.sleep(5)\n",
    "\n",
    "# get the current date and time\n",
    "now = datetime.now()\n",
    "date_pulled = now.strftime(\"%Y_%m_%d\")\n",
    "# date_pulled = now.strftime(\"%Y_%m_%d_%H:%M:%S\")\n",
    "\n",
    "# name of the csv file\n",
    "attraction = 'adventure cove'\n",
    "file_name = str(date_pulled) + '_' + attraction.replace(\" \", \"_\").lower() + \".csv\"\n",
    "\n",
    "templist = []\n",
    "\n",
    "# find elements on webpage\n",
    "reviews = driver.find_elements(By.XPATH, \"//div[@class='page-activity-reviews-comment-content']\")\n",
    "dates = driver.find_elements(By.XPATH, \"//span[@class='date fr gray']\")\n",
    "users = driver.find_elements(By.XPATH, \"//div[@class='page-activity-reviews-comment-info-name']\")\n",
    "\n",
    "# extract elements from the first page\n",
    "for i in range(len(reviews)):\n",
    "    review = reviews[i].text\n",
    "    date = dates[i].text\n",
    "    user = users[i].text\n",
    "\n",
    "    source = 'klook'\n",
    "\n",
    "    table_dict_1 = {'date': date, 'user': user, 'review' : review, 'source': source}\n",
    "    templist.append(table_dict_1)\n",
    "\n",
    "# locate next button on webpage\n",
    "b = driver.find_elements(By.XPATH, \"//span[@class='klk-pagination-next-btn']\")\n",
    "s = len(b)\n",
    "\n",
    "# while next page button exists, extract elements from each page\n",
    "while (s > 0):\n",
    "    try:\n",
    "        b = driver.find_element(By.XPATH, \"//span[@class='klk-pagination-next-btn']\")\n",
    "        driver.execute_script(\"arguments[0].click();\", b)\n",
    "\n",
    "        reviews = driver.find_elements(By.XPATH, \"//div[@class='page-activity-reviews-comment-content']\")\n",
    "        dates = driver.find_elements(By.XPATH, \"//span[@class='date fr gray']\")\n",
    "        users = driver.find_elements(By.XPATH, \"//div[@class='page-activity-reviews-comment-info-name']\")\n",
    "\n",
    "        for i in range(len(reviews)):\n",
    "            review_next = reviews[i].text\n",
    "            date_next = dates[i].text\n",
    "            user_next = users[i].text\n",
    "\n",
    "            source = 'klook'\n",
    "\n",
    "            table_dict_next = {'date': date_next, 'user': user_next, 'review' : review_next, 'source': source}\n",
    "            templist.append(table_dict_next)\n",
    "            \n",
    "    except NoSuchElementException: \n",
    "        break\n",
    "\n",
    "# extract the last page which next button does not exist\n",
    "for i in range(len(reviews)):\n",
    "    review_last = reviews[i].text\n",
    "    date_last = dates[i].text\n",
    "    user_last = users[i].text\n",
    "\n",
    "    source = 'klook'\n",
    "\n",
    "    table_dict_last = {'date': date_last, 'user': user_last, 'review' : review_last, 'source': source}\n",
    "    templist.append(table_dict_last)\n",
    "\n",
    "df = pd.DataFrame(templist)\n",
    "\n",
    "# make directory and save df to csv\n",
    "os.makedirs('data/raw', exist_ok=True)\n",
    "df.to_csv('data/raw/' + file_name)\n",
    "\n",
    "driver.close"
   ]
  },
  {
   "cell_type": "markdown",
   "metadata": {},
   "source": [
    "## Loop 5 pages"
   ]
  },
  {
   "cell_type": "code",
   "execution_count": 5,
   "metadata": {},
   "outputs": [
    {
     "name": "stderr",
     "output_type": "stream",
     "text": [
      "\n",
      "\n",
      "====== WebDriver manager ======\n",
      "Current google-chrome version is 100.0.4896\n",
      "Get LATEST chromedriver version for 100.0.4896 google-chrome\n",
      "Driver [C:\\Users\\odeli\\.wdm\\drivers\\chromedriver\\win32\\100.0.4896.60\\chromedriver.exe] found in cache\n"
     ]
    },
    {
     "data": {
      "text/plain": [
       "<bound method WebDriver.close of <selenium.webdriver.chrome.webdriver.WebDriver (session=\"155c5b087d8457606acec1342ba5639c\")>>"
      ]
     },
     "execution_count": 5,
     "metadata": {},
     "output_type": "execute_result"
    }
   ],
   "source": [
    "driver = webdriver.Chrome(service=Service(ChromeDriverManager().install()))\n",
    "# driver.get(\"https://www.klook.com/id/activity/120-adventure-cove-waterpark-singapore/?spm=Home.SearchSuggest_LIST&clickId=3a33d391a7\")\n",
    "driver.get(\"https://www.klook.com/id/activity/120-adventure-cove-waterpark-singapore/\")\n",
    "driver.maximize_window()\n",
    "looping=0\n",
    "\n",
    "for looping in range(7):\n",
    "    driver.execute_script(\"window.scrollBy(0,1000)\")\n",
    "    time.sleep(1)\n",
    "    looping+=1\n",
    "\n",
    "# get the current date and time\n",
    "now = datetime.now()\n",
    "date_pulled = now.strftime(\"%Y_%m_%d\")\n",
    "# date_pulled = now.strftime(\"%Y_%m_%d_%H:%M:%S\")\n",
    "\n",
    "# name of the csv file\n",
    "attraction = 'adventure cove'\n",
    "file_name = str(date_pulled) + '_' + attraction.replace(\" \", \"_\").lower() + \".csv\"\n",
    "\n",
    "templist = []\n",
    "\n",
    "# # find elements on webpage\n",
    "reviews = driver.find_elements(By.XPATH, \"//div[@class='page-activity-reviews-comment-content']\")\n",
    "# dates = driver.find_elements(By.XPATH, \"//span[@class='date fr gray']\")\n",
    "# users = driver.find_elements(By.XPATH, \"//div[@class='page-activity-reviews-comment-info-name']\")\n",
    "\n",
    "# # extract elements from the first page\n",
    "# for i in range(len(reviews)):\n",
    "#     review = reviews[i].text\n",
    "#     date = dates[i].text\n",
    "#     user = users[i].text\n",
    "\n",
    "#     source = 'klook'\n",
    "\n",
    "#     table_dict_1 = {'date': date, 'user': user, 'review' : review, 'source': source}\n",
    "#     templist.append(table_dict_1)\n",
    "\n",
    "# locate next button on webpage\n",
    "# b = driver.find_elements(By.XPATH, \"//span[@class='klk-pagination-next-btn']\")\n",
    "# s = len(b)\n",
    "page=0\n",
    "# while next page button exists, extract elements from each page\n",
    "for page in range(5):\n",
    "    for i in range(len(reviews)):\n",
    "        reviews = driver.find_elements(By.XPATH, \"//div[@class='page-activity-reviews-comment-content']\")\n",
    "        dates = driver.find_elements(By.XPATH, \"//span[@class='date fr gray']\")\n",
    "        users = driver.find_elements(By.XPATH, \"//div[@class='page-activity-reviews-comment-info-name']\")\n",
    "        \n",
    "        review_next = reviews[i].text\n",
    "        date_next = dates[i].text\n",
    "        user_next = users[i].text\n",
    "\n",
    "        source = 'klook'\n",
    "\n",
    "        table_dict_next = {'date': date_next, 'user': user_next, 'review' : review_next, 'source': source}\n",
    "        templist.append(table_dict_next)\n",
    "\n",
    "    b = driver.find_element(By.XPATH, \"//span[@class='klk-pagination-next-btn']\")\n",
    "    driver.execute_script(\"arguments[0].click();\", b)\n",
    "    \n",
    "    # driver.execute_script(\"window.scrollBy(0,-4000)\")\n",
    "    time.sleep(5)\n",
    "    page+=1\n",
    "    # driver.execute_script(\"window.scrollBy(0,4000)\")\n",
    "    \n",
    "\n",
    "    \n",
    "\n",
    "# # extract the last page which next button does not exist\n",
    "# for i in range(len(reviews)):\n",
    "#     review_last = reviews[i].text\n",
    "#     date_last = dates[i].text\n",
    "#     user_last = users[i].text\n",
    "\n",
    "#     source = 'klook'\n",
    "\n",
    "#     table_dict_last = {'date': date_last, 'user': user_last, 'review' : review_last, 'source': source}\n",
    "#     templist.append(table_dict_last)\n",
    "\n",
    "df = pd.DataFrame(templist)\n",
    "\n",
    "# make directory and save df to csv\n",
    "os.makedirs('data/raw', exist_ok=True)\n",
    "df.to_csv('data/raw/' + file_name)\n",
    "\n",
    "driver.close"
   ]
  },
  {
   "cell_type": "code",
   "execution_count": null,
   "metadata": {},
   "outputs": [],
   "source": [
    "print(df)"
   ]
  },
  {
   "cell_type": "markdown",
   "metadata": {},
   "source": [
    "## Using requests"
   ]
  },
  {
   "cell_type": "code",
   "execution_count": null,
   "metadata": {},
   "outputs": [],
   "source": [
    "import requests\n",
    "\n",
    "url = 'https://www.klook.com/v1/usrcsrv/activities/120/reviews?page=1&limit=8&star_num=&lang=id_ID&sort_type=1&only_image=false'\n",
    "\n",
    "user_agent = {'User-agent': 'Mozilla/5.0 (Windows NT 10.0; Win64; x64) AppleWebKit/537.36 (KHTML, like Gecko) Chrome/83.0.4103.97 Safari/537.36'}\n",
    "response = requests.get(url, headers=user_agent)\n",
    "\n",
    "print(response)\n",
    "print(response.json())\n",
    "\n",
    "# page_number = 1\n",
    "\n",
    "# # # number of occurrence of 'author_id'\n",
    "# # print('Number of occurrence of author_id:', data.count('author_id'))\n",
    "\n",
    "# while True:\n",
    "#     response = requests.get(url.format(page_number), headers=user_agent)\n",
    "    \n",
    "#     # Do more with each page.\n",
    "#     data = response.json()\n",
    "#     print(response.url) \n",
    "#     if data.get('has_next'): #change has_next to author_id\n",
    "#         page_number += 1\n",
    "#     else:\n",
    "#         break"
   ]
  },
  {
   "cell_type": "code",
   "execution_count": null,
   "metadata": {},
   "outputs": [],
   "source": [
    "import requests\n",
    "from datetime import datetime\n",
    "import pandas as pd\n",
    "import csv\n",
    "\n",
    "# get the current date and time\n",
    "now = datetime.now()\n",
    "date_pulled = now.strftime(\"%Y_%m_%d\")\n",
    "# date_pulled = now.strftime(\"%Y_%m_%d_%H:%M:%S\")\n",
    "\n",
    "# name of the csv file\n",
    "attraction = 'adventure cove test'\n",
    "file_name = str(date_pulled) + '_' + attraction.replace(\" \", \"_\").lower() + \".csv\"\n",
    "\n",
    "\n",
    "\n",
    "url = 'https://www.klook.com/v1/usrcsrv/activities/120/reviews?page={}&limit=8&star_num=&lang=id_ID&sort_type=1&only_image=false'\n",
    "\n",
    "user_agent = {'User-agent': 'Mozilla/5.0 (Windows NT 10.0; Win64; x64) AppleWebKit/537.36 (KHTML, like Gecko) Chrome/83.0.4103.97 Safari/537.36'}\n",
    "\n",
    "# response = requests.get(url, headers=user_agent)\n",
    "\n",
    "# data = response.json()\n",
    "\n",
    "# df = pd.DataFrame.from_dict(data)\n",
    "\n",
    "# # extract the number of reviews for the attraction\n",
    "# number_of_reviews = df.loc['total']['result']\n",
    "# print(number_of_reviews)\n",
    "\n",
    "# # extract the content\n",
    "# content = df.loc['item']['result']\n",
    "# print(content)\n",
    "\n",
    "# # get the number of reviews on the page \n",
    "# x = len(content)\n",
    "\n",
    "page_number = 1\n",
    "count_reviews = 0\n",
    "\n",
    "while True:\n",
    "    response = requests.get(url.format(page_number), headers=user_agent)\n",
    "    \n",
    "    data = response.json()\n",
    "\n",
    "    df = pd.DataFrame.from_dict(data)\n",
    "\n",
    "    # extract the number of reviews for the attraction\n",
    "    number_of_reviews = df.loc['total']['result']\n",
    "    print(number_of_reviews)\n",
    "\n",
    "    # extract the content\n",
    "    content = df.loc['item']['result']\n",
    "    print(content)\n",
    "\n",
    "    # get the number of reviews on the page \n",
    "    x = len(content)\n",
    "\n",
    "    for i in range(len(response.url)):\n",
    "        count_reviews = count_reviews + x[i]\n",
    "        \n",
    "    if count_reviews < number_of_reviews:\n",
    "        page_number += 1\n",
    "\n",
    "    print(response.url)\n",
    "\n",
    "    break\n",
    "\n",
    "# make directory and save df to csv\n",
    "# os.makedirs('data/raw', exist_ok=True)\n",
    "# df.to_csv('data/raw/' + file_name)\n",
    "\n",
    "\n",
    "\n",
    "# number of occurrence of 'author_id'\n",
    "# print('Number of occurrence of author_id:', data.count('author_id'))"
   ]
  },
  {
   "cell_type": "code",
   "execution_count": 3,
   "metadata": {},
   "outputs": [
    {
     "name": "stdout",
     "output_type": "stream",
     "text": [
      "<class 'list'>\n",
      "8\n"
     ]
    }
   ],
   "source": [
    "print(type(content))\n",
    "\n",
    "print(len(content))"
   ]
  },
  {
   "cell_type": "code",
   "execution_count": 4,
   "metadata": {},
   "outputs": [],
   "source": [
    "a = ['dog', 'cat', 'bear']"
   ]
  },
  {
   "cell_type": "code",
   "execution_count": 10,
   "metadata": {},
   "outputs": [
    {
     "name": "stdout",
     "output_type": "stream",
     "text": [
      "3\n"
     ]
    }
   ],
   "source": [
    "print(len(a[0]))"
   ]
  },
  {
   "cell_type": "code",
   "execution_count": 15,
   "metadata": {},
   "outputs": [
    {
     "name": "stdout",
     "output_type": "stream",
     "text": [
      "3\n"
     ]
    }
   ],
   "source": [
    "print(len(a))"
   ]
  },
  {
   "cell_type": "code",
   "execution_count": 14,
   "metadata": {},
   "outputs": [
    {
     "name": "stdout",
     "output_type": "stream",
     "text": [
      "10\n"
     ]
    }
   ],
   "source": [
    "count_reviews = 0\n",
    "\n",
    "for i in range(3):\n",
    "    count_reviews = count_reviews + len(a[i])\n",
    "\n",
    "print(count_reviews)"
   ]
  },
  {
   "cell_type": "code",
   "execution_count": 19,
   "metadata": {},
   "outputs": [
    {
     "name": "stdout",
     "output_type": "stream",
     "text": [
      "10\n"
     ]
    }
   ],
   "source": [
    "count_reviews = 0\n",
    "\n",
    "for i in range(len(a)):\n",
    "    count_reviews = count_reviews + len(a[i])\n",
    "\n",
    "print(count_reviews)"
   ]
  },
  {
   "cell_type": "code",
   "execution_count": 3,
   "metadata": {},
   "outputs": [
    {
     "name": "stdout",
     "output_type": "stream",
     "text": [
      "     Unnamed: 0  error                                             result  \\\n",
      "0          code    NaN                                                NaN   \n",
      "1       message    NaN                                                NaN   \n",
      "2         total    NaN                                                 22   \n",
      "3  current_page    NaN                                                  1   \n",
      "4         limit    NaN                                                  8   \n",
      "5  is_translate    NaN                                               True   \n",
      "6         score    NaN                                                4.6   \n",
      "7          item    NaN  [{'id': 5439952, 'author': 'Erinda', 'date': '...   \n",
      "\n",
      "   success  \n",
      "0     True  \n",
      "1     True  \n",
      "2     True  \n",
      "3     True  \n",
      "4     True  \n",
      "5     True  \n",
      "6     True  \n",
      "7     True  \n"
     ]
    }
   ],
   "source": [
    "import pandas as pd\n",
    "f = pd.read_csv ('data/raw/2022_04_12_adventure_cove_test.csv')\n",
    "print(f)"
   ]
  },
  {
   "cell_type": "code",
   "execution_count": 12,
   "metadata": {},
   "outputs": [
    {
     "name": "stdout",
     "output_type": "stream",
     "text": [
      "[{'id': 5439952, 'author': 'Erinda', 'date': '2020-01-29 12:23:54', 'avatar': '54e6eecc--e-e.jpg', 'author_id': 102202450, 'rating': 100, 'content': 'Gampang redeem nya...waterpark nya bagus, bersih Dan banyak permainan. Salah satu yg berbeda adalah adanya kolam utk snorkeling ...trus bisa foto dengan ikan pari..', 'language': 'id_ID', 'translate_content': 'Easy to redeem ... the waterpark is good, clean and lots of games. One thing that is different is the existence of a pool for snorkeling ... then you can take photos with stingrays ..', 'translate_language': 'en_US', 'need_translate_button': True, 'has_reply': False, 'reply': None, 'review_image': [{'image_id': 5965805, 'img_url': 'https://cdn.klook.com/user_review/product/1943372/c3df4480-3429-4d40-7c04-583ec17cbec9.1200*0.jpeg', 'img_resize_url': 'https://cdn.klook.com/user_review/product/1943372/c3df4480-3429-4d40-7c04-583ec17cbec9.250*0.jpeg', 'width': 1280, 'height': 958, 'published': 1, 'initial_publish': 1, 'review_id': 5439952}], 'activity_id': 120, 'has_admin_display_info': False, 'like_count': 0, 'has_liked': False, 'ticket_id': 211151065, 'package_name': '', 'start_time': '2020-01-26T00:00:00Z', 'china_railway_info': None}, {'id': 5073272, 'author': 'lina', 'date': '2019-12-29 10:17:30', 'avatar': '40ef9019--e-l.jpg', 'author_id': 104730841, 'rating': 100, 'content': 'keren.. bgs la not bad\\nseru wahana lumayan byk... tp tdk sebanyak sunway lagoon', 'language': 'id_ID', 'translate_content': 'cool .. bgs la not bad fun rides pretty much ... but not as much as the sunway lagoon', 'translate_language': 'en_US', 'need_translate_button': True, 'has_reply': False, 'reply': None, 'review_image': [{'image_id': 5358604, 'img_url': 'https://cdn.klook.com/user_review/product/1943224/81b774ca-d756-49e2-7830-9fae81084b9c.0*1200.jpeg', 'img_resize_url': 'https://cdn.klook.com/user_review/product/1943224/81b774ca-d756-49e2-7830-9fae81084b9c.0*250.jpeg', 'width': 1728, 'height': 2304, 'published': 2, 'initial_publish': 2, 'review_id': 5073272}], 'activity_id': 120, 'has_admin_display_info': False, 'like_count': 0, 'has_liked': False, 'ticket_id': 201055033, 'package_name': '', 'start_time': '2019-12-26T00:00:00Z', 'china_railway_info': None}, {'id': 5041273, 'author': 'PAUL MICHAEL', 'date': '2019-12-27 10:23:20', 'avatar': '30247786f0264d5d74cba993a7e7ae39.jpg', 'author_id': 108608322, 'rating': 100, 'content': 'Redeemnya sangat mudah sekali, tidak perlu antri, hanya perlu tunjukkin evoucher', 'language': 'id_ID', 'translate_content': 'Redeem is very easy, no need to queue, just need to show voucher', 'translate_language': 'en_US', 'need_translate_button': True, 'has_reply': False, 'reply': None, 'review_image': None, 'activity_id': 120, 'has_admin_display_info': False, 'like_count': 0, 'has_liked': False, 'ticket_id': 27062285, 'package_name': '', 'start_time': '2019-12-26T00:00:00Z', 'china_railway_info': None}, {'id': 4973500, 'author': 'yuliana', 'date': '2019-12-23 00:53:46', 'avatar': '08867fe9--e-y.jpg', 'author_id': 108251357, 'rating': 80, 'content': 'tempat snorkling yg aman untuk anak anak...water park  yang bersih', 'language': 'id_ID', 'translate_content': 'a safe snorkelling place for children...clean water park', 'translate_language': 'en_US', 'need_translate_button': True, 'has_reply': False, 'reply': None, 'review_image': None, 'activity_id': 120, 'has_admin_display_info': False, 'like_count': 0, 'has_liked': False, 'ticket_id': 26499444, 'package_name': '', 'start_time': '2019-12-20T00:00:00Z', 'china_railway_info': None}, {'id': 4701904, 'author': 'Nurafni Zanariah', 'date': '2019-11-27 22:53:16', 'avatar': 'eedd97aa--e-n.jpg', 'author_id': 107148758, 'rating': 100, 'content': 'Best!!! Terbaik!! Anak2 suka and tak mau balik. Terbaiklah, harap dapat perhiblagi next year, ameen', 'language': 'id_ID', 'translate_content': \"Best !!! Best!! Kids like it and don't want to come back. It's best, hope you can see me next year, Amen\", 'translate_language': 'en_US', 'need_translate_button': True, 'has_reply': False, 'reply': None, 'review_image': [{'image_id': 4719546, 'img_url': 'https://cdn.klook.com/user_review/product/1943146/92aecac8-c91c-40ff-4708-bae918b97658.1200*0.jpeg', 'img_resize_url': 'https://cdn.klook.com/user_review/product/1943146/92aecac8-c91c-40ff-4708-bae918b97658.250*0.jpeg', 'width': 828, 'height': 620, 'published': 2, 'initial_publish': 2, 'review_id': 4701904}], 'activity_id': 120, 'has_admin_display_info': False, 'like_count': 0, 'has_liked': False, 'ticket_id': 23987321, 'package_name': '', 'start_time': '2019-11-26T00:00:00Z', 'china_railway_info': None}, {'id': 3615750, 'author': 'Fransce', 'date': '2019-07-25 08:22:44', 'avatar': 'c5a9b6a2--e-f.jpg', 'author_id': 101011845, 'rating': 100, 'content': 'bagus dan menyenangkan cocok untuk anak2 dan anak muda', 'language': 'id_ID', 'translate_content': 'nice and fun suitable for children and young people', 'translate_language': 'en_US', 'need_translate_button': True, 'has_reply': False, 'reply': None, 'review_image': None, 'activity_id': 120, 'has_admin_display_info': False, 'like_count': 0, 'has_liked': False, 'ticket_id': 11159320, 'package_name': '', 'start_time': '2018-11-28T00:00:00Z', 'china_railway_info': None}, {'id': 3570629, 'author': 'chandra', 'date': '2019-07-18 16:23:39', 'avatar': '8a8f81845ed2967e015ee0c29de0426d.jpg', 'author_id': 1226624, 'rating': 100, 'content': 'hemat cepat mudah dengan klook\\natraksi baik bersih', 'language': 'id_ID', 'translate_content': 'saving fast is easy by looking good attractions clean', 'translate_language': 'en_US', 'need_translate_button': True, 'has_reply': False, 'reply': None, 'review_image': None, 'activity_id': 120, 'has_admin_display_info': False, 'like_count': 0, 'has_liked': False, 'ticket_id': 3892243, 'package_name': '', 'start_time': '2017-10-28T00:00:00Z', 'china_railway_info': None}, {'id': 3279272, 'author': 'Feny', 'date': '2019-06-07 07:32:06', 'avatar': 'c5a9b6a2--e-f.jpg', 'author_id': 102735474, 'rating': 100, 'content': 'Tanpa mengantri panjang kita bs langsung masuk, bener2 best deh klook. Anak2 sangat suka dengan semua wahana air', 'language': 'id_ID', 'translate_content': 'Without long queues, we can immediately enter, really the best and the best. Children really like all water rides', 'translate_language': 'en_US', 'need_translate_button': True, 'has_reply': False, 'reply': None, 'review_image': None, 'activity_id': 120, 'has_admin_display_info': False, 'like_count': 0, 'has_liked': False, 'ticket_id': 16849487, 'package_name': '', 'start_time': '2019-06-05T00:00:00Z', 'china_railway_info': None}]\n",
      "<class 'str'>\n",
      "6625\n"
     ]
    },
    {
     "ename": "TypeError",
     "evalue": "'int' object is not subscriptable",
     "output_type": "error",
     "traceback": [
      "\u001b[1;31m---------------------------------------------------------------------------\u001b[0m",
      "\u001b[1;31mTypeError\u001b[0m                                 Traceback (most recent call last)",
      "\u001b[1;32md:\\Odelia Tan\\AIITP 2021\\Files\\21 Capstone Project\\klook_codes\\klook_selenium.ipynb Cell 18'\u001b[0m in \u001b[0;36m<cell line: 10>\u001b[1;34m()\u001b[0m\n\u001b[0;32m      <a href='vscode-notebook-cell:/d%3A/Odelia%20Tan/AIITP%202021/Files/21%20Capstone%20Project/klook_codes/klook_selenium.ipynb#ch0000017?line=7'>8</a>\u001b[0m \u001b[39mprint\u001b[39m(x)\n\u001b[0;32m     <a href='vscode-notebook-cell:/d%3A/Odelia%20Tan/AIITP%202021/Files/21%20Capstone%20Project/klook_codes/klook_selenium.ipynb#ch0000017?line=9'>10</a>\u001b[0m \u001b[39mfor\u001b[39;00m i \u001b[39min\u001b[39;00m \u001b[39mrange\u001b[39m(\u001b[39mlen\u001b[39m(response\u001b[39m.\u001b[39murl)):\n\u001b[1;32m---> <a href='vscode-notebook-cell:/d%3A/Odelia%20Tan/AIITP%202021/Files/21%20Capstone%20Project/klook_codes/klook_selenium.ipynb#ch0000017?line=10'>11</a>\u001b[0m     count_reviews \u001b[39m=\u001b[39m count_reviews \u001b[39m+\u001b[39m x[i]\n",
      "\u001b[1;31mTypeError\u001b[0m: 'int' object is not subscriptable"
     ]
    }
   ],
   "source": [
    "# extract the content\n",
    "content = f.iloc[7, 2]\n",
    "print(content)\n",
    "print(type(content))\n",
    "\n",
    "# get the number of reviews on the page \n",
    "x = len(content)\n",
    "print(x)\n",
    "\n",
    "for i in range(len(response.url)):\n",
    "    count_reviews = count_reviews + x[i]"
   ]
  }
 ],
 "metadata": {
  "interpreter": {
   "hash": "ccf920e010918c5e5789bef77fccb6bfc7fb2a82b0cbdfb83f37376c266bf152"
  },
  "kernelspec": {
   "display_name": "Python 3.9.7 ('nlp')",
   "language": "python",
   "name": "python3"
  },
  "language_info": {
   "codemirror_mode": {
    "name": "ipython",
    "version": 3
   },
   "file_extension": ".py",
   "mimetype": "text/x-python",
   "name": "python",
   "nbconvert_exporter": "python",
   "pygments_lexer": "ipython3",
   "version": "3.9.7"
  },
  "orig_nbformat": 4
 },
 "nbformat": 4,
 "nbformat_minor": 2
}
