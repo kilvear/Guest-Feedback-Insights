{
 "cells": [
  {
   "cell_type": "code",
   "execution_count": 11,
   "metadata": {},
   "outputs": [],
   "source": [
    "from selenium import webdriver\n",
    "from selenium.webdriver.common.keys import Keys\n",
    "from selenium.webdriver.support import expected_conditions as EC\n",
    "from selenium.webdriver.common.by import By\n",
    "from selenium.webdriver.support.wait import WebDriverWait\n",
    "import pandas as pd\n",
    "import time, urllib.request\n",
    "import requests"
   ]
  },
  {
   "cell_type": "code",
   "execution_count": 12,
   "metadata": {},
   "outputs": [],
   "source": [
    "driver = webdriver.Chrome(executable_path='C:/Users/Kelvin/Chromedriver')\n",
    "driver.get(\"https://www.tiktok.com/\")\n",
    "#launch browser"
   ]
  },
  {
   "cell_type": "code",
   "execution_count": 13,
   "metadata": {},
   "outputs": [],
   "source": [
    "query = \"sentosa\"\n",
    "page = driver.get(\"https://www.tiktok.com/search?q=\" + query)\n",
    "#query"
   ]
  },
  {
   "cell_type": "code",
   "execution_count": 14,
   "metadata": {},
   "outputs": [],
   "source": [
    "i=0\n",
    "\n",
    "while i in range(20):\n",
    "\n",
    "    driver.find_element_by_xpath(\"//button[contains(@class,'tiktok-1mwtjmv-ButtonMore e1v5onft1')]\") .click()\n",
    "    time.sleep(3)\n",
    "    i+=1\n",
    "# load more elements"
   ]
  },
  {
   "cell_type": "code",
   "execution_count": 19,
   "metadata": {},
   "outputs": [],
   "source": [
    "# //*[@id=\"app\"]/div[2]/div[2]/div[2]/div[1]/div/div[2]/div[2]/div\n",
    "\n",
    "PostNumber2 = []\n",
    "\n",
    "counter = 2\n",
    "\n",
    "# counters and posts numbering\n",
    "\n",
    "while counter in range(26):\n",
    "    post_count= str(counter)\n",
    "\n",
    "    posts_m = ('//*[@id=\"app\"]/div[2]/div[2]/div[2]/div[1]/div/div['+post_count+']/div[2]/div')\n",
    "\n",
    "    counter += 1\n",
    "\n",
    "    PostNumber = driver.find_element_by_xpath(posts_m)\n",
    "            \n",
    "    PostNumber2.append(PostNumber.text)"
   ]
  },
  {
   "cell_type": "code",
   "execution_count": 20,
   "metadata": {},
   "outputs": [
    {
     "name": "stdout",
     "output_type": "stream",
     "text": [
      "['Sometimes we get jitters too! #fyp #singapore #sentosa #worklife #tiktoksg\\nskyparksentosa\\n2.2M', 'Beach vibes are the best vibes 🏖☁️ #sgtiktok #sentosa #fyp\\nkimbxrlychan\\n55.4K', 'It’s a pretty cool unforgettable ride. #SkyHelixSentosa #skyhelix #singapore #exploresg #tiktoksg #travel\\ndeeniseglitz\\n44.3K', 'Who knew there were dinosaur fossils & dragons in Sentosa?? 📍 IMBIAH NATURE TRAIL #exploresingapore\\nwilsoniscurious\\n333.6K', 'No booking required for this sentosa beach — you’re welcome 🏝😉 #coastaltrail #sentosa #sgparks\\nshuutravels\\n313.7K', 'There’s more ways to Bungy 😉 #fyp #singapore #sentosa #tiktoksg\\nskyparksentosa\\n756.8K', 'Major overseas ✨VIBES✨ from this bar/restaurant in Singapore 🌴#sgfoodie #sentosa #panamericana\\nshuutravels\\n324.4K', 'How it feels like to live in Sentosa Cove. ✨ #realestate #luxuryrealestate #realestatesingapore #architecture\\ncherylfaithh\\n225K', 'Promo is until Aug 2 … still one of the funnest attraction in sentosa ✨ #xyzbca #sentosa #skylineluge #tiktoksg\\nantheanathania\\n110.2K', 'Checking out Southside Interim Market on a sunny Saturday ☀️ #sgfoodie #sentosa #tiktoksg #foodtok\\ninsynced_\\n120.4K', 'Magical Shores Sentosa free entry no bookings! #sgtiktok #sgplaces #visitsingapore #exploresg\\nrandomstuffsg\\n437.5K', 'The only way to start our 2022 😉 #fyp #singapore #sentosa #worklife\\nskyparksentosa\\n2.5M', 'Create your own perfumes for less than 50 bucks! #exploresg #tiktoksg #sgtiktok #perfumes\\ndeeniseglitz\\n132.2K', 'Latest escapade at Sentosa. ❤️✨✨ #MegaZip #SentosaIsland #Singapore #tiktoksg #tiktokph\\nagentorthodox\\n17.6K', 'sentosa day trip 🙌🏻 #fyp #foryoupage #singapore #luge #silosobeach #rumors\\nmarcuslo\\n13.7K', 'Beach Day #foryoupage #fypシ #sentosa\\npetch_chompoo8\\n25.8K', 'vroom vroom hehe.. #sentosa #luge #fyp #tiktoksg #tiktok\\nfaithchuaty\\n245.9K', 'Lets goooooooo#luge #sentosa #activities #fyp #foryou\\nirene62893\\n11.8K', 'Sunshine and beach 🏖 #sentosa #ola #olabeachclub #beach #dancing #lolipop #music\\ncorrinelim\\n43.4K', 'Came here after hydrodash . Beach closes at 7 pm. 📍Palawan green @camm_283 #sentosa\\njendylier\\n15.6K', 'The best new Sentosa attraction? #sentosa #exploresg #singaporeattractions #tiktoksg #skyhelix\\nromewjamal\\n17.3K', 'And peacocks at your door🦚 #staycaysg #staycationsingapore #sentosa\\naudreyishome\\n87.2K', 'How’s this for a POV 😏 #fyp #singapore #sentosa #bungy\\nskyparksentosa\\n41.6K', 'Sick backwards elevator 🤙🏼 #fyp #singapore #sentosa #worklife #bungy #tiktoksg\\nskyparksentosa\\n6.1M']\n"
     ]
    }
   ],
   "source": [
    "print(PostNumber2)"
   ]
  },
  {
   "cell_type": "code",
   "execution_count": 21,
   "metadata": {},
   "outputs": [
    {
     "name": "stdout",
     "output_type": "stream",
     "text": [
      "                                                    0\n",
      "0   Sometimes we get jitters too! #fyp #singapore ...\n",
      "1   Beach vibes are the best vibes 🏖☁️ #sgtiktok #...\n",
      "2   It’s a pretty cool unforgettable ride. #SkyHel...\n",
      "3   Who knew there were dinosaur fossils & dragons...\n",
      "4   No booking required for this sentosa beach — y...\n",
      "5   There’s more ways to Bungy 😉 #fyp #singapore #...\n",
      "6   Major overseas ✨VIBES✨ from this bar/restauran...\n",
      "7   How it feels like to live in Sentosa Cove. ✨ #...\n",
      "8   Promo is until Aug 2 … still one of the funnes...\n",
      "9   Checking out Southside Interim Market on a sun...\n",
      "10  Magical Shores Sentosa free entry no bookings!...\n",
      "11  The only way to start our 2022 😉 #fyp #singapo...\n",
      "12  Create your own perfumes for less than 50 buck...\n",
      "13  Latest escapade at Sentosa. ❤️✨✨ #MegaZip #Sen...\n",
      "14  sentosa day trip 🙌🏻 #fyp #foryoupage #singapor...\n",
      "15  Beach Day #foryoupage #fypシ #sentosa\\npetch_ch...\n",
      "16  vroom vroom hehe.. #sentosa #luge #fyp #tiktok...\n",
      "17  Lets goooooooo#luge #sentosa #activities #fyp ...\n",
      "18  Sunshine and beach 🏖 #sentosa #ola #olabeachcl...\n",
      "19  Came here after hydrodash . Beach closes at 7 ...\n",
      "20  The best new Sentosa attraction? #sentosa #exp...\n",
      "21  And peacocks at your door🦚 #staycaysg #staycat...\n",
      "22  How’s this for a POV 😏 #fyp #singapore #sentos...\n",
      "23  Sick backwards elevator 🤙🏼 #fyp #singapore #se...\n"
     ]
    }
   ],
   "source": [
    "dff = pd.DataFrame(PostNumber2)\n",
    "print(dff)\n",
    "dff.to_excel('posts.xlsx')\n"
   ]
  }
 ],
 "metadata": {
  "interpreter": {
   "hash": "305e5c28bf7b0188bc1830bcbbfc91c3d01979d2e85f2ac14088dfdb07c34142"
  },
  "kernelspec": {
   "display_name": "Python 3.8.12 ('comV')",
   "language": "python",
   "name": "python3"
  },
  "language_info": {
   "codemirror_mode": {
    "name": "ipython",
    "version": 3
   },
   "file_extension": ".py",
   "mimetype": "text/x-python",
   "name": "python",
   "nbconvert_exporter": "python",
   "pygments_lexer": "ipython3",
   "version": "3.8.12"
  },
  "orig_nbformat": 4
 },
 "nbformat": 4,
 "nbformat_minor": 2
}
