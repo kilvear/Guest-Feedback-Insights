{
 "cells": [
  {
   "cell_type": "code",
   "execution_count": 1,
   "metadata": {},
   "outputs": [],
   "source": [
    "import csv\n",
    "import pandas as pd\n",
    "import time\n",
    "from selenium import webdriver\n",
    "from selenium.webdriver.chrome.service import Service\n",
    "from webdriver_manager.chrome import ChromeDriverManager\n",
    "from selenium.webdriver.common.by import By\n",
    "from selenium.webdriver.support.ui import WebDriverWait\n",
    "from selenium.webdriver.support import expected_conditions as EC"
   ]
  },
  {
   "cell_type": "code",
   "execution_count": 2,
   "metadata": {},
   "outputs": [],
   "source": [
    "def scrape_review(file_path, num_pages, link):\n",
    "\n",
    "# file_path - File path for review output\n",
    "# num_pages - Number of pages to iterate and scrape\n",
    "# link - Link to webpage to scrape\n",
    "\n",
    "  # open the file to save the review\n",
    "  file = open(file_path, 'a', encoding=\"utf-8\", newline='')\n",
    "  csv_writer = csv.writer(file)\n",
    "\n",
    "  # Open up browser and navigate to page\n",
    "  driver = webdriver.Chrome(service=Service(ChromeDriverManager().install()))\n",
    "  driver.get(link)\n",
    "\n",
    "  for i in range(num_pages):\n",
    "    \n",
    "    # Let page load (change to until element exist later)\n",
    "    time.sleep(10)\n",
    "    \n",
    "    # Extract elements               \n",
    "    reviews = driver.find_elements(By.XPATH, \"//div[@data-automation='reviewCard']/div[5]/div[1]\")\n",
    "    dates = driver.find_elements(By.XPATH, \"//*[@class='eRduX']\")\n",
    "    \n",
    "    # Open csv file and write to it\n",
    "    for j in range(len(reviews)):\n",
    "      review = reviews[j].text.replace(\"\\n\", \"\")\n",
    "      date = dates[j].text[:9].strip()\n",
    "      csv_writer.writerow([date, review]) \n",
    "      \n",
    "    next = driver.find_element(By.XPATH, \"//a[@aria-label='Next page']//*[name()='svg']\")\n",
    "    next.click()\n",
    "    \n",
    "  file.close()\n",
    "\n",
    "  driver.close()"
   ]
  },
  {
   "cell_type": "code",
   "execution_count": 4,
   "metadata": {},
   "outputs": [
    {
     "name": "stderr",
     "output_type": "stream",
     "text": [
      "\n",
      "\n",
      "====== WebDriver manager ======\n",
      "Current google-chrome version is 99.0.4844\n",
      "Get LATEST chromedriver version for 99.0.4844 google-chrome\n",
      "Driver [C:\\Users\\Luqman\\.wdm\\drivers\\chromedriver\\win32\\99.0.4844.51\\chromedriver.exe] found in cache\n"
     ]
    }
   ],
   "source": [
    "# Test run on 1st 3 pages\n",
    "scrape_review('data/tripadvisor/raw/ta_sea_aquarium_raw.csv', 3, \"https://www.tripadvisor.co.id/Attraction_Review-g294264-d4009739-Reviews-S_E_A_Aquarium-Sentosa_Island.html\")"
   ]
  },
  {
   "cell_type": "code",
   "execution_count": null,
   "metadata": {},
   "outputs": [],
   "source": []
  }
 ],
 "metadata": {
  "interpreter": {
   "hash": "90b85f54aecd71003771950f482cb0e9b344c8b39504f9f49f23fe15bb6ae351"
  },
  "kernelspec": {
   "display_name": "Python 3.10.0 64-bit",
   "language": "python",
   "name": "python3"
  },
  "language_info": {
   "codemirror_mode": {
    "name": "ipython",
    "version": 3
   },
   "file_extension": ".py",
   "mimetype": "text/x-python",
   "name": "python",
   "nbconvert_exporter": "python",
   "pygments_lexer": "ipython3",
   "version": "3.10.0"
  },
  "orig_nbformat": 4
 },
 "nbformat": 4,
 "nbformat_minor": 2
}
