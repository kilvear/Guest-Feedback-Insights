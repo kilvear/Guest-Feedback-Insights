{
 "cells": [
  {
   "cell_type": "code",
   "execution_count": 1,
   "metadata": {},
   "outputs": [],
   "source": [
    "from selenium import webdriver\n",
    "from selenium.webdriver.chrome.options import Options\n",
    "from selenium.webdriver.common.by import By\n",
    "from selenium.webdriver.chrome.service import Service\n",
    "from webdriver_manager.chrome import ChromeDriverManager\n",
    "from selenium.webdriver.support.ui import WebDriverWait\n",
    "from selenium.webdriver.support.wait import WebDriverWait\n",
    "from selenium.webdriver.support.select import Select\n",
    "from selenium.webdriver.support.ui import Select\n",
    "from selenium.webdriver.common.keys import Keys\n",
    "\n",
    "import time\n",
    "from datetime import datetime\n",
    "import pandas as pd\n",
    "import csv\n",
    "import os\n",
    "from selenium.common.exceptions import NoSuchElementException"
   ]
  },
  {
   "cell_type": "code",
   "execution_count": 2,
   "metadata": {},
   "outputs": [],
   "source": [
    "chrome_options = Options()\n",
    "chrome_options.add_argument(\"--window-size=1920,1080\")\n",
    "\n",
    "options = webdriver.ChromeOptions()\n",
    "options.add_argument('--ignore-certificate-errors')\n",
    "options.add_argument('--incognito')\n",
    "options.add_argument('--headless')"
   ]
  },
  {
   "cell_type": "code",
   "execution_count": 3,
   "metadata": {},
   "outputs": [
    {
     "name": "stderr",
     "output_type": "stream",
     "text": [
      "\n",
      "\n",
      "====== WebDriver manager ======\n",
      "Current google-chrome version is 100.0.4896\n",
      "Get LATEST chromedriver version for 100.0.4896 google-chrome\n",
      "Driver [C:\\Users\\odeli\\.wdm\\drivers\\chromedriver\\win32\\100.0.4896.60\\chromedriver.exe] found in cache\n"
     ]
    }
   ],
   "source": [
    "driver = webdriver.Chrome(service=Service(ChromeDriverManager().install()),options=chrome_options)\n",
    "\n",
    "# driver.get(\"https://www.traveloka.com/id-id/activities/singapore/product/singapore-cable-car-3606574987115\")\n",
    "driver.get(\"https://www.traveloka.com/id-id/activities/singapore/product/adventure-cove-waterpark-3609120691863\")\n",
    "driver.maximize_window()\n",
    "driver.execute_script(\"window.scrollBy(0,3510)\")\n",
    "\n",
    "# reviews = driver.find_elements(By.XPATH, \"//div[@class='css-901oao r-cwxd7f r-1sixt3s r-ubezar r-majxgm r-135wba7 r-fdjqy7']\")\n",
    "# # reviews = driver.find_elements(By.XPATH, \"(//div[@class='css-901oao r-cwxd7f r-1sixt3s r-ubezar r-majxgm r-135wba7 r-fdjqy7'])[2]\")\n",
    "# print(reviews[i].text)"
   ]
  },
  {
   "cell_type": "code",
   "execution_count": 3,
   "metadata": {},
   "outputs": [
    {
     "name": "stderr",
     "output_type": "stream",
     "text": [
      "\n",
      "\n",
      "====== WebDriver manager ======\n",
      "Current google-chrome version is 100.0.4896\n",
      "Get LATEST chromedriver version for 100.0.4896 google-chrome\n",
      "Driver [C:\\Users\\odeli\\.wdm\\drivers\\chromedriver\\win32\\100.0.4896.60\\chromedriver.exe] found in cache\n"
     ]
    },
    {
     "name": "stdout",
     "output_type": "stream",
     "text": [
      "Transportasi\n",
      "Tempat Menginap\n",
      "Aktivitas dan Hiburan\n",
      "Tagihan & Isi Ulang\n",
      "Produk Tambahan\n",
      "“Pengalaman menyenangkan bisa berenang bareng ikan-ikan. Pemandangannya bagus permainannya seru. Next time pasti kesini lagi. Terima kasih traveloka, beli tiket di traveloka lebih murah dibanding beli di TKP.  ”\n",
      "\n",
      "\n",
      "Jam buka mungkin berubah karena COVID-19. Mohon hubungi partner sebelum tanggal kunjungan Anda.\n",
      "Anak2 menikmati. Trims traveloka\n",
      "Bersih namun kurang banyak permainan bagi anak-anak\n",
      "Pengalaman menyenangkan bisa berenang bareng ikan-ikan. Pemandangannya bagus permainannya seru. Next time pasti kesini lagi. Terima kasih traveloka, beli tiket di traveloka lebih murah dibanding beli di TKP.  \n",
      "Fasilitas yg ada kurang sesuai dengan harga yg ditawarkan \n",
      "Bagus bangettt, wisata bagus selain Universal Studio\n"
     ]
    },
    {
     "data": {
      "text/plain": [
       "<bound method WebDriver.close of <selenium.webdriver.chrome.webdriver.WebDriver (session=\"30ec5776b2ed245d6b67020d2808f869\")>>"
      ]
     },
     "execution_count": 3,
     "metadata": {},
     "output_type": "execute_result"
    }
   ],
   "source": [
    "driver = webdriver.Chrome(service=Service(ChromeDriverManager().install()),options=chrome_options)\n",
    "\n",
    "driver.get(\"https://www.traveloka.com/id-id/activities/singapore/product/adventure-cove-waterpark-3609120691863\")\n",
    "driver.maximize_window()\n",
    "driver.execute_script(\"window.scrollBy(0,3510)\")\n",
    "\n",
    "counts=0\n",
    "\n",
    "for counts in range (5):\n",
    "    reviews = driver.find_elements(By.XPATH, \"//div[@class='css-901oao r-cwxd7f r-1sixt3s r-ubezar r-majxgm r-135wba7 r-fdjqy7']\")\n",
    "    for i in range(len(reviews)):\n",
    "        print(reviews[i].text)\n",
    "\n",
    "    # b = driver.find_element(By.XPATH, \"//div[@class='css-18t94o4 css-1dbjc4n r-1ihkh82 r-kdyh1x r-1loqt21 r-61z16t r-ero68b r-vkv6oe r-10paoce r-1e081e0 r-5njf8e r-1otgn73 r-lrvibr']\")\n",
    "    b = driver.find_element(By.XPATH, \"//div[@class='css-901oao r-1yadl64 r-1vonz36 r-109y4c4 r-1cis278 r-1udh08x r-t60dpp r-u8s1d r-3s2u2q r-92ng3h']\")\n",
    "    # b = driver.find_element(By.XPATH, \"//img[@class='css-9pa8cd']\")\n",
    "    # b = driver.find_element(By.XPATH, \"//div[@class='css-1dbjc4n r-1niwhzg r-vvn4in r-u6sd8q r-4gszlv r-1p0dtai r-xoduu5 r-1pi2tsx r-1d2f490 r-u8s1d r-zchlnj r-ipm5af r-13qz1uu r-1wyyakw']\")\n",
    "    driver.execute_script(\"arguments[0].click();\", b)\n",
    "\n",
    "\n",
    "    time.sleep(5)\n",
    "    \n",
    "    counts+=1\n",
    "\n",
    "driver.close"
   ]
  }
 ],
 "metadata": {
  "interpreter": {
   "hash": "ccf920e010918c5e5789bef77fccb6bfc7fb2a82b0cbdfb83f37376c266bf152"
  },
  "kernelspec": {
   "display_name": "Python 3.9.7 ('nlp')",
   "language": "python",
   "name": "python3"
  },
  "language_info": {
   "codemirror_mode": {
    "name": "ipython",
    "version": 3
   },
   "file_extension": ".py",
   "mimetype": "text/x-python",
   "name": "python",
   "nbconvert_exporter": "python",
   "pygments_lexer": "ipython3",
   "version": "3.9.7"
  },
  "orig_nbformat": 4
 },
 "nbformat": 4,
 "nbformat_minor": 2
}
