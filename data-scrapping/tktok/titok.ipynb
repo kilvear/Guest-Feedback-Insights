{
 "cells": [
  {
   "cell_type": "code",
   "execution_count": 1,
   "metadata": {},
   "outputs": [],
   "source": [
    "from selenium import webdriver\n",
    "from selenium.webdriver.common.keys import Keys\n",
    "from selenium.webdriver.support import expected_conditions as EC\n",
    "from selenium.webdriver.common.by import By\n",
    "from selenium.webdriver.support.wait import WebDriverWait\n",
    "import pandas as pd\n",
    "import time, urllib.request\n",
    "import requests"
   ]
  },
  {
   "cell_type": "code",
   "execution_count": 2,
   "metadata": {},
   "outputs": [],
   "source": [
    "driver = webdriver.Chrome(executable_path='C:/Users/Kelvin/Chromedriver')\n",
    "driver.get(\"https://www.tiktok.com/\")\n",
    "#launch browser"
   ]
  },
  {
   "cell_type": "code",
   "execution_count": 3,
   "metadata": {},
   "outputs": [],
   "source": [
    "query = \"sentosa\"\n",
    "page = driver.get(\"https://www.tiktok.com/search?q=\" + query)\n",
    "#query"
   ]
  },
  {
   "cell_type": "code",
   "execution_count": 33,
   "metadata": {},
   "outputs": [],
   "source": [
    "i=0\n",
    "\n",
    "while i in range(5):\n",
    "\n",
    "    driver.find_element_by_xpath(\"//button[contains(@class,'tiktok-1mwtjmv-ButtonMore e1v5onft1')]\") .click()\n",
    "    time.sleep(3)\n",
    "    i+=1\n",
    "# load more elements"
   ]
  },
  {
   "cell_type": "code",
   "execution_count": 59,
   "metadata": {},
   "outputs": [],
   "source": [
    "# //*[@id=\"app\"]/div[2]/div[2]/div[2]/div[1]/div/div[2]/div[2]/div\n",
    "\n",
    "\n",
    "PostNumber2 = []\n",
    "\n",
    "counter = 2\n",
    "\n",
    "# counters and posts numbering\n",
    "\n",
    "while counter in range(26):\n",
    "    post_count= str(counter)\n",
    "\n",
    "    posts_m = ('//*[@id=\"app\"]/div[2]/div[2]/div[2]/div[1]/div/div['+post_count+']/div[2]/div')\n",
    "\n",
    "    counter += 1\n",
    "\n",
    "    PostNumber = driver.find_element_by_xpath(posts_m)\n",
    "            \n",
    "    PostNumber2.append(PostNumber.text)"
   ]
  },
  {
   "cell_type": "code",
   "execution_count": 60,
   "metadata": {},
   "outputs": [
    {
     "name": "stdout",
     "output_type": "stream",
     "text": [
      "['Sometimes we get jitters too! #fyp #singapore #sentosa #worklife #tiktoksg\\nskyparksentosa\\n2.2M', 'Beach vibes are the best vibes 🏖☁️ #sgtiktok #sentosa #fyp\\nkimbxrlychan\\n55.4K', 'It’s a pretty cool unforgettable ride. #SkyHelixSentosa #skyhelix #singapore #exploresg #tiktoksg #travel\\ndeeniseglitz\\n44.3K', 'Who knew there were dinosaur fossils & dragons in Sentosa?? 📍 IMBIAH NATURE TRAIL #exploresingapore\\nwilsoniscurious\\n333.6K', 'No booking required for this sentosa beach — you’re welcome 🏝😉 #coastaltrail #sentosa #sgparks\\nshuutravels\\n313.7K', 'There’s more ways to Bungy 😉 #fyp #singapore #sentosa #tiktoksg\\nskyparksentosa\\n756.8K', 'Major overseas ✨VIBES✨ from this bar/restaurant in Singapore 🌴#sgfoodie #sentosa #panamericana\\nshuutravels\\n324.4K', 'How it feels like to live in Sentosa Cove. ✨ #realestate #luxuryrealestate #realestatesingapore #architecture #fyp\\ncherylfaithh\\n225K', 'Promo is until Aug 2 … still one of the funnest attraction in sentosa ✨ #xyzbca #sentosa #skylineluge #tiktoksg #fyp\\nantheanathania\\n110.2K', 'Checking out Southside Interim Market on a sunny Saturday ☀️ #sgfoodie #sentosa #tiktoksg #foodtok\\ninsynced_\\n120.4K', 'Magical Shores Sentosa free entry no bookings! #sgtiktok #sgplaces #visitsingapore #exploresg #sentosa #beach\\nrandomstuffsg\\n437.5K', 'The only way to start our 2022 😉 #fyp #singapore #sentosa #worklife\\nskyparksentosa\\n2.5M', 'Create your own perfumes for less than 50 bucks! #exploresg #tiktoksg #sgtiktok #perfumes #perfumetiktok\\ndeeniseglitz\\n132.2K', 'Latest escapade at Sentosa. ❤️✨✨ #MegaZip #SentosaIsland #Singapore #tiktoksg #tiktokph #ofwtiktok\\nagentorthodox\\n17.6K', 'sentosa day trip 🙌🏻 #fyp #foryoupage #singapore #luge #silosobeach #rumors\\nmarcuslo\\n13.7K', 'Beach Day #foryoupage #fypシ #sentosa\\npetch_chompoo8\\n25.8K', 'vroom vroom hehe.. #sentosa #luge #fyp #tiktoksg #tiktok\\nfaithchuaty\\n245.9K', 'Lets goooooooo#luge #sentosa #activities #fyp #foryou\\nirene62893\\n11.8K', 'Sunshine and beach 🏖 #sentosa #ola #olabeachclub #beach #dancing #lolipop #music\\ncorrinelim\\n43.4K', 'Came here after hydrodash . Beach closes at 7 pm. 📍Palawan green @camm_283 #sentosa\\njendylier\\n15.6K', 'The best new Sentosa attraction? #sentosa #exploresg #singaporeattractions #tiktoksg #skyhelix\\nromewjamal\\n17.3K', 'And peacocks at your door🦚 #staycaysg #staycationsingapore #sentosa\\naudreyishome\\n87.2K', 'How’s this for a POV 😏 #fyp #singapore #sentosa #bungy\\nskyparksentosa\\n41.6K', 'Sick backwards elevator 🤙🏼 #fyp #singapore #sentosa #worklife #bungy #tiktoksg\\nskyparksentosa\\n6.1M']\n"
     ]
    }
   ],
   "source": [
    "print(PostNumber2)"
   ]
  }
 ],
 "metadata": {
  "interpreter": {
   "hash": "305e5c28bf7b0188bc1830bcbbfc91c3d01979d2e85f2ac14088dfdb07c34142"
  },
  "kernelspec": {
   "display_name": "Python 3.8.12 ('comV')",
   "language": "python",
   "name": "python3"
  },
  "language_info": {
   "codemirror_mode": {
    "name": "ipython",
    "version": 3
   },
   "file_extension": ".py",
   "mimetype": "text/x-python",
   "name": "python",
   "nbconvert_exporter": "python",
   "pygments_lexer": "ipython3",
   "version": "3.8.12"
  },
  "orig_nbformat": 4
 },
 "nbformat": 4,
 "nbformat_minor": 2
}
