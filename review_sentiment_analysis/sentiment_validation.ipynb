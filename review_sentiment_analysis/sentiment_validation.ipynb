{
 "cells": [
  {
   "cell_type": "markdown",
   "metadata": {},
   "source": [
    "# Sentiment Model Validation"
   ]
  },
  {
   "cell_type": "code",
   "execution_count": 1,
   "metadata": {},
   "outputs": [
    {
     "name": "stderr",
     "output_type": "stream",
     "text": [
      "Using Singapore server backend.\n"
     ]
    }
   ],
   "source": [
    "import pandas as pd\n",
    "import os\n",
    "os.environ[\"GOOGLE_APPLICATION_CREDENTIALS\"]=\"sdcsentiment-584f24f06d91.json\"\n",
    "from google.cloud import language_v1\n",
    "import seaborn as sns\n",
    "import matplotlib.pyplot as plt\n",
    "from preprocess_sentiment import preprocess_sentiment\n",
    "from get_sentiment import get_sentiment_hf, get_sentiment_gcp\n",
    "from sklearn.metrics import confusion_matrix\n",
    "from sklearn.metrics import classification_report"
   ]
  },
  {
   "cell_type": "code",
   "execution_count": null,
   "metadata": {},
   "outputs": [],
   "source": [
    "# Ran once to retrieve random 50 rows for validation\n",
    "\n",
    "'''\n",
    "dfn = pd.read_excel(\"../preprocess_review/output/normalize_data/uss_reviews_normalized.xlsx\")\n",
    "dfn.drop(['date', 'rating', 'user','page_url','date_scraped','attraction', 'source'], axis=1, inplace=True)\n",
    "df_valid = dfn.sample(50, replace=False) \n",
    "df_valid.to_excel(\"validate.xlsx\", index=False)\n",
    "'''"
   ]
  },
  {
   "cell_type": "code",
   "execution_count": 2,
   "metadata": {},
   "outputs": [
    {
     "data": {
      "text/html": [
       "<div>\n",
       "<style scoped>\n",
       "    .dataframe tbody tr th:only-of-type {\n",
       "        vertical-align: middle;\n",
       "    }\n",
       "\n",
       "    .dataframe tbody tr th {\n",
       "        vertical-align: top;\n",
       "    }\n",
       "\n",
       "    .dataframe thead th {\n",
       "        text-align: right;\n",
       "    }\n",
       "</style>\n",
       "<table border=\"1\" class=\"dataframe\">\n",
       "  <thead>\n",
       "    <tr style=\"text-align: right;\">\n",
       "      <th></th>\n",
       "      <th>review</th>\n",
       "      <th>self_sentiment</th>\n",
       "    </tr>\n",
       "  </thead>\n",
       "  <tbody>\n",
       "    <tr>\n",
       "      <th>0</th>\n",
       "      <td>Tempat yang tak cukup dikelilingi 1 hari..Good...</td>\n",
       "      <td>positive</td>\n",
       "    </tr>\n",
       "    <tr>\n",
       "      <th>1</th>\n",
       "      <td>Biasa saja dan tidak ada yg baru</td>\n",
       "      <td>neutral</td>\n",
       "    </tr>\n",
       "    <tr>\n",
       "      <th>2</th>\n",
       "      <td>Bagus banget , rugi kalau ga kesini kalau udah...</td>\n",
       "      <td>positive</td>\n",
       "    </tr>\n",
       "    <tr>\n",
       "      <th>3</th>\n",
       "      <td>Salah satu destinasi wisata populer di Singapu...</td>\n",
       "      <td>neutral</td>\n",
       "    </tr>\n",
       "    <tr>\n",
       "      <th>4</th>\n",
       "      <td>Tapi saya foto depan bola nya doang. Gak masuk...</td>\n",
       "      <td>negative</td>\n",
       "    </tr>\n",
       "  </tbody>\n",
       "</table>\n",
       "</div>"
      ],
      "text/plain": [
       "                                              review self_sentiment\n",
       "0  Tempat yang tak cukup dikelilingi 1 hari..Good...       positive\n",
       "1                   Biasa saja dan tidak ada yg baru        neutral\n",
       "2  Bagus banget , rugi kalau ga kesini kalau udah...       positive\n",
       "3  Salah satu destinasi wisata populer di Singapu...        neutral\n",
       "4  Tapi saya foto depan bola nya doang. Gak masuk...       negative"
      ]
     },
     "execution_count": 2,
     "metadata": {},
     "output_type": "execute_result"
    }
   ],
   "source": [
    "# Load in data after labelling sentiment\n",
    "df_labelled = pd.read_excel(\"validate_labelled.xlsx\")\n",
    "df_labelled.head()"
   ]
  },
  {
   "cell_type": "code",
   "execution_count": 3,
   "metadata": {},
   "outputs": [],
   "source": [
    "# Preprocess df\n",
    "preprocess_sentiment(df_labelled)"
   ]
  },
  {
   "cell_type": "code",
   "execution_count": 4,
   "metadata": {},
   "outputs": [
    {
     "data": {
      "text/html": [
       "<div>\n",
       "<style scoped>\n",
       "    .dataframe tbody tr th:only-of-type {\n",
       "        vertical-align: middle;\n",
       "    }\n",
       "\n",
       "    .dataframe tbody tr th {\n",
       "        vertical-align: top;\n",
       "    }\n",
       "\n",
       "    .dataframe thead th {\n",
       "        text-align: right;\n",
       "    }\n",
       "</style>\n",
       "<table border=\"1\" class=\"dataframe\">\n",
       "  <thead>\n",
       "    <tr style=\"text-align: right;\">\n",
       "      <th></th>\n",
       "      <th>review</th>\n",
       "      <th>new_reviews</th>\n",
       "      <th>self_sentiment</th>\n",
       "    </tr>\n",
       "  </thead>\n",
       "  <tbody>\n",
       "    <tr>\n",
       "      <th>0</th>\n",
       "      <td>Tempat yang tak cukup dikelilingi 1 hari..Good...</td>\n",
       "      <td>keliling 1 good place hati</td>\n",
       "      <td>positive</td>\n",
       "    </tr>\n",
       "    <tr>\n",
       "      <th>2</th>\n",
       "      <td>Bagus banget , rugi kalau ga kesini kalau udah...</td>\n",
       "      <td>bagus banget rugi kesini singapore</td>\n",
       "      <td>positive</td>\n",
       "    </tr>\n",
       "    <tr>\n",
       "      <th>3</th>\n",
       "      <td>Salah satu destinasi wisata populer di Singapu...</td>\n",
       "      <td>ngomongngomong mahal ye temanteman 15an</td>\n",
       "      <td>neutral</td>\n",
       "    </tr>\n",
       "    <tr>\n",
       "      <th>4</th>\n",
       "      <td>Tapi saya foto depan bola nya doang. Gak masuk...</td>\n",
       "      <td>foto bola doang masuk uang sedi aink cemberut ...</td>\n",
       "      <td>negative</td>\n",
       "    </tr>\n",
       "    <tr>\n",
       "      <th>5</th>\n",
       "      <td>Waaah seru banget sih masuk USS gak nyesel. Ak...</td>\n",
       "      <td>waaah seru banget sih masuk uss nyesel kesini ...</td>\n",
       "      <td>positive</td>\n",
       "    </tr>\n",
       "  </tbody>\n",
       "</table>\n",
       "</div>"
      ],
      "text/plain": [
       "                                              review  \\\n",
       "0  Tempat yang tak cukup dikelilingi 1 hari..Good...   \n",
       "2  Bagus banget , rugi kalau ga kesini kalau udah...   \n",
       "3  Salah satu destinasi wisata populer di Singapu...   \n",
       "4  Tapi saya foto depan bola nya doang. Gak masuk...   \n",
       "5  Waaah seru banget sih masuk USS gak nyesel. Ak...   \n",
       "\n",
       "                                         new_reviews self_sentiment  \n",
       "0                         keliling 1 good place hati       positive  \n",
       "2                 bagus banget rugi kesini singapore       positive  \n",
       "3            ngomongngomong mahal ye temanteman 15an        neutral  \n",
       "4  foto bola doang masuk uang sedi aink cemberut ...       negative  \n",
       "5  waaah seru banget sih masuk uss nyesel kesini ...       positive  "
      ]
     },
     "execution_count": 4,
     "metadata": {},
     "output_type": "execute_result"
    }
   ],
   "source": [
    "# Rearrange dataframe\n",
    "df_labelled = df_labelled[['review', 'new_reviews', 'self_sentiment']]\n",
    "df_labelled.head()"
   ]
  },
  {
   "cell_type": "markdown",
   "metadata": {},
   "source": [
    "## Run Sentiment Models\n",
    "Total runtime: 38m 50.8s"
   ]
  },
  {
   "cell_type": "code",
   "execution_count": 5,
   "metadata": {},
   "outputs": [],
   "source": [
    "# HuggingFace Models\n",
    "models = [\"sahri/indonesiasentiment\", \n",
    "          \"w11wo/indonesian-roberta-base-sentiment-classifier\", \n",
    "          \"ayameRushia/bert-base-indonesian-1.5G-sentiment-analysis-smsa\", \n",
    "          \"tyqiangz/indobert-lite-large-p2-smsa\", \n",
    "          ]\n",
    "\n",
    "df_labelled[\"sahri\"] = df_labelled['new_reviews'].apply(lambda x: get_sentiment_hf(x, models[0]))\n",
    "df_labelled[\"w11wo\"] = df_labelled['new_reviews'].apply(lambda x: get_sentiment_hf(x, models[1]))\n",
    "df_labelled[\"ayameRushia\"] = df_labelled['new_reviews'].apply(lambda x: get_sentiment_hf(x, models[2]))\n",
    "df_labelled[\"tyqiangz\"] = df_labelled['new_reviews'].apply(lambda x: get_sentiment_hf(x, models[3]))\n",
    "df_labelled[\"gcp\"] = df_labelled['new_reviews'].apply(lambda x: get_sentiment_gcp(x))"
   ]
  },
  {
   "cell_type": "code",
   "execution_count": 6,
   "metadata": {},
   "outputs": [
    {
     "data": {
      "text/html": [
       "<div>\n",
       "<style scoped>\n",
       "    .dataframe tbody tr th:only-of-type {\n",
       "        vertical-align: middle;\n",
       "    }\n",
       "\n",
       "    .dataframe tbody tr th {\n",
       "        vertical-align: top;\n",
       "    }\n",
       "\n",
       "    .dataframe thead th {\n",
       "        text-align: right;\n",
       "    }\n",
       "</style>\n",
       "<table border=\"1\" class=\"dataframe\">\n",
       "  <thead>\n",
       "    <tr style=\"text-align: right;\">\n",
       "      <th></th>\n",
       "      <th>review</th>\n",
       "      <th>new_reviews</th>\n",
       "      <th>self_sentiment</th>\n",
       "      <th>sahri</th>\n",
       "      <th>w11wo</th>\n",
       "      <th>ayameRushia</th>\n",
       "      <th>tyqiangz</th>\n",
       "      <th>gcp</th>\n",
       "    </tr>\n",
       "  </thead>\n",
       "  <tbody>\n",
       "    <tr>\n",
       "      <th>0</th>\n",
       "      <td>Tempat yang tak cukup dikelilingi 1 hari..Good...</td>\n",
       "      <td>keliling 1 good place hati</td>\n",
       "      <td>positive</td>\n",
       "      <td>positive</td>\n",
       "      <td>positive</td>\n",
       "      <td>neutral</td>\n",
       "      <td>positive</td>\n",
       "      <td>positive</td>\n",
       "    </tr>\n",
       "    <tr>\n",
       "      <th>2</th>\n",
       "      <td>Bagus banget , rugi kalau ga kesini kalau udah...</td>\n",
       "      <td>bagus banget rugi kesini singapore</td>\n",
       "      <td>positive</td>\n",
       "      <td>positive</td>\n",
       "      <td>positive</td>\n",
       "      <td>negative</td>\n",
       "      <td>negative</td>\n",
       "      <td>positive</td>\n",
       "    </tr>\n",
       "    <tr>\n",
       "      <th>3</th>\n",
       "      <td>Salah satu destinasi wisata populer di Singapu...</td>\n",
       "      <td>ngomongngomong mahal ye temanteman 15an</td>\n",
       "      <td>neutral</td>\n",
       "      <td>negative</td>\n",
       "      <td>negative</td>\n",
       "      <td>negative</td>\n",
       "      <td>negative</td>\n",
       "      <td>neutral</td>\n",
       "    </tr>\n",
       "    <tr>\n",
       "      <th>4</th>\n",
       "      <td>Tapi saya foto depan bola nya doang. Gak masuk...</td>\n",
       "      <td>foto bola doang masuk uang sedi aink cemberut ...</td>\n",
       "      <td>negative</td>\n",
       "      <td>negative</td>\n",
       "      <td>negative</td>\n",
       "      <td>negative</td>\n",
       "      <td>negative</td>\n",
       "      <td>negative</td>\n",
       "    </tr>\n",
       "    <tr>\n",
       "      <th>5</th>\n",
       "      <td>Waaah seru banget sih masuk USS gak nyesel. Ak...</td>\n",
       "      <td>waaah seru banget sih masuk uss nyesel kesini ...</td>\n",
       "      <td>positive</td>\n",
       "      <td>positive</td>\n",
       "      <td>positive</td>\n",
       "      <td>positive</td>\n",
       "      <td>positive</td>\n",
       "      <td>positive</td>\n",
       "    </tr>\n",
       "  </tbody>\n",
       "</table>\n",
       "</div>"
      ],
      "text/plain": [
       "                                              review  \\\n",
       "0  Tempat yang tak cukup dikelilingi 1 hari..Good...   \n",
       "2  Bagus banget , rugi kalau ga kesini kalau udah...   \n",
       "3  Salah satu destinasi wisata populer di Singapu...   \n",
       "4  Tapi saya foto depan bola nya doang. Gak masuk...   \n",
       "5  Waaah seru banget sih masuk USS gak nyesel. Ak...   \n",
       "\n",
       "                                         new_reviews self_sentiment     sahri  \\\n",
       "0                         keliling 1 good place hati       positive  positive   \n",
       "2                 bagus banget rugi kesini singapore       positive  positive   \n",
       "3            ngomongngomong mahal ye temanteman 15an        neutral  negative   \n",
       "4  foto bola doang masuk uang sedi aink cemberut ...       negative  negative   \n",
       "5  waaah seru banget sih masuk uss nyesel kesini ...       positive  positive   \n",
       "\n",
       "      w11wo ayameRushia  tyqiangz       gcp  \n",
       "0  positive     neutral  positive  positive  \n",
       "2  positive    negative  negative  positive  \n",
       "3  negative    negative  negative   neutral  \n",
       "4  negative    negative  negative  negative  \n",
       "5  positive    positive  positive  positive  "
      ]
     },
     "execution_count": 6,
     "metadata": {},
     "output_type": "execute_result"
    }
   ],
   "source": [
    "df_labelled.head()"
   ]
  },
  {
   "cell_type": "code",
   "execution_count": 7,
   "metadata": {},
   "outputs": [],
   "source": [
    "true_lbl = df_labelled['self_sentiment']\n",
    "sahri_lbl = df_labelled[\"sahri\"]\n",
    "w11wo_lbl = df_labelled[\"w11wo\"] \n",
    "ayameRushia_lbl = df_labelled[\"ayameRushia\"]\n",
    "tyqiangz_lbl = df_labelled[\"tyqiangz\"] \n",
    "gcp_lbl = df_labelled[\"gcp\"]"
   ]
  },
  {
   "cell_type": "code",
   "execution_count": 8,
   "metadata": {},
   "outputs": [],
   "source": [
    "sahri_cm = confusion_matrix(true_lbl, sahri_lbl)\n",
    "w11wo_cm = confusion_matrix(true_lbl, w11wo_lbl)\n",
    "ayameRushia_cm = confusion_matrix(true_lbl, ayameRushia_lbl)\n",
    "tyqiangz_cm = confusion_matrix(true_lbl, tyqiangz_lbl)\n",
    "gcp_cm = confusion_matrix(true_lbl, gcp_lbl)"
   ]
  },
  {
   "cell_type": "code",
   "execution_count": 9,
   "metadata": {},
   "outputs": [],
   "source": [
    "sentiment_lbls = ['positive','neutral','negative']\n",
    "sahri_df = pd.DataFrame(sahri_cm, index = sentiment_lbls, columns = sentiment_lbls)\n",
    "w11wo_df = pd.DataFrame(w11wo_cm, index = sentiment_lbls, columns = sentiment_lbls)\n",
    "ayameRushia_df = pd.DataFrame(ayameRushia_cm, index = sentiment_lbls, columns = sentiment_lbls)\n",
    "tyqiangz_df = pd.DataFrame(tyqiangz_cm, index = sentiment_lbls, columns = sentiment_lbls)\n",
    "gcp_df = pd.DataFrame(gcp_cm, index = sentiment_lbls, columns = sentiment_lbls)"
   ]
  },
  {
   "cell_type": "code",
   "execution_count": 10,
   "metadata": {},
   "outputs": [],
   "source": [
    "def show_report(df, model_lbl):\n",
    "  plt.figure(figsize=(5,4))\n",
    "  sns.heatmap(df, annot=True)\n",
    "  plt.title('Confusion Matrix')\n",
    "  plt.ylabel('Actal Values')\n",
    "  plt.xlabel('Predicted Values')\n",
    "  plt.show()\n",
    "  \n",
    "  print('\\nClassification Report\\n')\n",
    "  print(classification_report(true_lbl, model_lbl, target_names=['positive','neutral','negative']))"
   ]
  },
  {
   "cell_type": "markdown",
   "metadata": {},
   "source": [
    "## sahri/indonesiasentiment"
   ]
  },
  {
   "cell_type": "code",
   "execution_count": 11,
   "metadata": {},
   "outputs": [
    {
     "data": {
      "image/png": "[encoded data removed]",
      "text/plain": [
       "<Figure size 360x288 with 2 Axes>"
      ]
     },
     "metadata": {
      "needs_background": "light"
     },
     "output_type": "display_data"
    },
    {
     "name": "stdout",
     "output_type": "stream",
     "text": [
      "\n",
      "Classification Report\n",
      "\n",
      "              precision    recall  f1-score   support\n",
      "\n",
      "    positive       0.33      0.20      0.25         5\n",
      "     neutral       0.40      0.18      0.25        11\n",
      "    negative       0.73      0.91      0.81        33\n",
      "\n",
      "    accuracy                           0.67        49\n",
      "   macro avg       0.49      0.43      0.44        49\n",
      "weighted avg       0.62      0.67      0.63        49\n",
      "\n"
     ]
    }
   ],
   "source": [
    "show_report(sahri_df, sahri_lbl)"
   ]
  },
  {
   "cell_type": "markdown",
   "metadata": {},
   "source": [
    "## w11wo/indonesian-roberta-base-sentiment-classifier"
   ]
  },
  {
   "cell_type": "code",
   "execution_count": 12,
   "metadata": {},
   "outputs": [
    {
     "data": {
      "image/png": "[encoded data removed]",
      "text/plain": [
       "<Figure size 360x288 with 2 Axes>"
      ]
     },
     "metadata": {
      "needs_background": "light"
     },
     "output_type": "display_data"
    },
    {
     "name": "stdout",
     "output_type": "stream",
     "text": [
      "\n",
      "Classification Report\n",
      "\n",
      "              precision    recall  f1-score   support\n",
      "\n",
      "    positive       0.33      0.20      0.25         5\n",
      "     neutral       0.40      0.18      0.25        11\n",
      "    negative       0.73      0.91      0.81        33\n",
      "\n",
      "    accuracy                           0.67        49\n",
      "   macro avg       0.49      0.43      0.44        49\n",
      "weighted avg       0.62      0.67      0.63        49\n",
      "\n"
     ]
    }
   ],
   "source": [
    "show_report(w11wo_df, w11wo_lbl)"
   ]
  },
  {
   "cell_type": "markdown",
   "metadata": {},
   "source": [
    "## ayameRushia/bert-base-indonesian-1.5G-sentiment-analysis-smsa"
   ]
  },
  {
   "cell_type": "code",
   "execution_count": 13,
   "metadata": {},
   "outputs": [
    {
     "data": {
      "image/png": "[encoded data removed]",
      "text/plain": [
       "<Figure size 360x288 with 2 Axes>"
      ]
     },
     "metadata": {
      "needs_background": "light"
     },
     "output_type": "display_data"
    },
    {
     "name": "stdout",
     "output_type": "stream",
     "text": [
      "\n",
      "Classification Report\n",
      "\n",
      "              precision    recall  f1-score   support\n",
      "\n",
      "    positive       0.17      0.20      0.18         5\n",
      "     neutral       0.33      0.45      0.38        11\n",
      "    negative       0.75      0.64      0.69        33\n",
      "\n",
      "    accuracy                           0.55        49\n",
      "   macro avg       0.42      0.43      0.42        49\n",
      "weighted avg       0.60      0.55      0.57        49\n",
      "\n"
     ]
    }
   ],
   "source": [
    "show_report(ayameRushia_df, ayameRushia_lbl)"
   ]
  },
  {
   "cell_type": "markdown",
   "metadata": {},
   "source": [
    "## tyqiangz/indobert-lite-large-p2-smsa"
   ]
  },
  {
   "cell_type": "code",
   "execution_count": 14,
   "metadata": {},
   "outputs": [
    {
     "data": {
      "image/png": "[encoded data removed]",
      "text/plain": [
       "<Figure size 360x288 with 2 Axes>"
      ]
     },
     "metadata": {
      "needs_background": "light"
     },
     "output_type": "display_data"
    },
    {
     "name": "stdout",
     "output_type": "stream",
     "text": [
      "\n",
      "Classification Report\n",
      "\n",
      "              precision    recall  f1-score   support\n",
      "\n",
      "    positive       0.14      0.20      0.17         5\n",
      "     neutral       0.60      0.27      0.37        11\n",
      "    negative       0.73      0.82      0.77        33\n",
      "\n",
      "    accuracy                           0.63        49\n",
      "   macro avg       0.49      0.43      0.44        49\n",
      "weighted avg       0.64      0.63      0.62        49\n",
      "\n"
     ]
    }
   ],
   "source": [
    "show_report(tyqiangz_df, tyqiangz_lbl)"
   ]
  },
  {
   "cell_type": "markdown",
   "metadata": {},
   "source": [
    "## Google Cloud Platform"
   ]
  },
  {
   "cell_type": "code",
   "execution_count": 15,
   "metadata": {},
   "outputs": [
    {
     "data": {
      "image/png": "[encoded data removed]",
      "text/plain": [
       "<Figure size 360x288 with 2 Axes>"
      ]
     },
     "metadata": {
      "needs_background": "light"
     },
     "output_type": "display_data"
    },
    {
     "name": "stdout",
     "output_type": "stream",
     "text": [
      "\n",
      "Classification Report\n",
      "\n",
      "              precision    recall  f1-score   support\n",
      "\n",
      "    positive       0.50      0.20      0.29         5\n",
      "     neutral       1.00      0.36      0.53        11\n",
      "    negative       0.74      0.97      0.84        33\n",
      "\n",
      "    accuracy                           0.76        49\n",
      "   macro avg       0.75      0.51      0.55        49\n",
      "weighted avg       0.78      0.76      0.72        49\n",
      "\n"
     ]
    }
   ],
   "source": [
    "show_report(gcp_df, gcp_lbl)"
   ]
  },
  {
   "cell_type": "markdown",
   "metadata": {},
   "source": [
    "High recall for negative is good for to not miss out any reviews that give valuable feedback."
   ]
  }
 ],
 "metadata": {
  "kernelspec": {
   "display_name": "Python 3.9.6 ('nlp_gcp': venv)",
   "language": "python",
   "name": "python3"
  },
  "language_info": {
   "codemirror_mode": {
    "name": "ipython",
    "version": 3
   },
   "file_extension": ".py",
   "mimetype": "text/x-python",
   "name": "python",
   "nbconvert_exporter": "python",
   "pygments_lexer": "ipython3",
   "version": "3.9.6"
  },
  "orig_nbformat": 4,
  "vscode": {
   "interpreter": {
    "hash": "5984d07f1432bc2af991850eaece3a4592431f0099310f039763345f1f25e3ff"
   }
  }
 },
 "nbformat": 4,
 "nbformat_minor": 2
}
