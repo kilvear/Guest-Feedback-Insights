{
 "cells": [
  {
   "cell_type": "markdown",
   "id": "49a4ab67",
   "metadata": {},
   "source": [
    "# How to run on Nvidia DGX Server\n",
    "Note: Change device to your own allocation and change foldername to your own folder name\n",
    "1. docker run -it --gpus '\"device=6:1\"' -p 8837:8888 -v ~/foldername:/workspace luqman_tf_capstone\n",
    "2. jupyter lab\n",
    "3. Open tunneling to 8837\n",
    "4. In browser, localhost:8837\n",
    "5. Copy paste token in link after \"=\" (http://hostname:8888/?token=8432d328f5b6d6ecabcffdd4f5a586a78775352442fd26af)"
   ]
  },
  {
   "cell_type": "markdown",
   "id": "c7f57d6c",
   "metadata": {},
   "source": [
    "# HuggingFace Model - sahri/indonesiasentiment"
   ]
  },
  {
   "cell_type": "code",
   "execution_count": 3,
   "id": "6a90222b",
   "metadata": {},
   "outputs": [],
   "source": [
    "from transformers import pipeline"
   ]
  },
  {
   "cell_type": "code",
   "execution_count": 6,
   "id": "498e82ea",
   "metadata": {},
   "outputs": [],
   "source": [
    "pretrained_name = \"sahri/indonesiasentiment\""
   ]
  },
  {
   "cell_type": "code",
   "execution_count": 7,
   "id": "bfc85b97",
   "metadata": {},
   "outputs": [],
   "source": [
    "nlp = pipeline(\"sentiment-analysis\",\n",
    "              model=pretrained_name,\n",
    "              tokenizer=pretrained_name)"
   ]
  },
  {
   "cell_type": "code",
   "execution_count": 10,
   "id": "ffb4d653",
   "metadata": {},
   "outputs": [
    {
     "data": {
      "text/plain": [
       "[{'label': 'positive', 'score': 0.9905287623405457}]"
      ]
     },
     "execution_count": 10,
     "metadata": {},
     "output_type": "execute_result"
    }
   ],
   "source": [
    "test1 = nlp(\"tidak jelek tapi keren\")\n",
    "test1"
   ]
  },
  {
   "cell_type": "code",
   "execution_count": 13,
   "id": "3bca419b",
   "metadata": {},
   "outputs": [
    {
     "data": {
      "text/plain": [
       "'positive'"
      ]
     },
     "execution_count": 13,
     "metadata": {},
     "output_type": "execute_result"
    }
   ],
   "source": [
    "test1[0]['label']"
   ]
  },
  {
   "cell_type": "markdown",
   "id": "420d8dd5",
   "metadata": {},
   "source": [
    "# Function"
   ]
  },
  {
   "cell_type": "code",
   "execution_count": 14,
   "id": "2c823e97",
   "metadata": {},
   "outputs": [],
   "source": [
    "def sentiment_analysis_label(text):\n",
    "    '''\n",
    "    Sentiment analysis labelling\n",
    "    0 - positive\n",
    "    1 - neutral\n",
    "    -1 - negative\n",
    "    '''\n",
    "    output = nlp(text)\n",
    "    if output[0]['label'] == 'positive':\n",
    "        label = 0\n",
    "    elif output[0]['label'] == 'neutral':\n",
    "        label = 1\n",
    "    else:\n",
    "        label = -1\n",
    "    return label"
   ]
  },
  {
   "cell_type": "code",
   "execution_count": 43,
   "id": "10a81210",
   "metadata": {},
   "outputs": [],
   "source": [
    "def sentiment_analysis_score(text):\n",
    "    '''\n",
    "    Return sentiment analysis score\n",
    "    '''\n",
    "    output = nlp(text)\n",
    "    return round(output[0]['score'], 3)"
   ]
  },
  {
   "cell_type": "markdown",
   "id": "f9a080ac",
   "metadata": {},
   "source": [
    "# Test on TripAdvisor review"
   ]
  },
  {
   "cell_type": "code",
   "execution_count": 44,
   "id": "09744dd2",
   "metadata": {},
   "outputs": [],
   "source": [
    "import pandas as pd"
   ]
  },
  {
   "cell_type": "code",
   "execution_count": 45,
   "id": "f3ed0ea8",
   "metadata": {},
   "outputs": [
    {
     "data": {
      "text/html": [
       "<div>\n",
       "<style scoped>\n",
       "    .dataframe tbody tr th:only-of-type {\n",
       "        vertical-align: middle;\n",
       "    }\n",
       "\n",
       "    .dataframe tbody tr th {\n",
       "        vertical-align: top;\n",
       "    }\n",
       "\n",
       "    .dataframe thead th {\n",
       "        text-align: right;\n",
       "    }\n",
       "</style>\n",
       "<table border=\"1\" class=\"dataframe\">\n",
       "  <thead>\n",
       "    <tr style=\"text-align: right;\">\n",
       "      <th></th>\n",
       "      <th>date</th>\n",
       "      <th>review</th>\n",
       "      <th>attraction</th>\n",
       "      <th>replaced_slang</th>\n",
       "    </tr>\n",
       "  </thead>\n",
       "  <tbody>\n",
       "    <tr>\n",
       "      <th>0</th>\n",
       "      <td>7/1/2018</td>\n",
       "      <td>Adventure Cove tempat yang bagus di kunjungi p...</td>\n",
       "      <td>Adventure Cove Waterpark</td>\n",
       "      <td>adventure cove tempat yang bagus di kunjungi p...</td>\n",
       "    </tr>\n",
       "    <tr>\n",
       "      <th>1</th>\n",
       "      <td>11/1/2019</td>\n",
       "      <td>mengunjungi sentosa island setelah dari sea ak...</td>\n",
       "      <td>Madame Tussauds</td>\n",
       "      <td>mengunjungi sentosa island setelah dari sea ak...</td>\n",
       "    </tr>\n",
       "    <tr>\n",
       "      <th>2</th>\n",
       "      <td>12/1/2019</td>\n",
       "      <td>Merupakan pengalaman pertama berkunjung ke Mad...</td>\n",
       "      <td>Madame Tussauds</td>\n",
       "      <td>merupakan pengalaman pertama berkunjung ke mad...</td>\n",
       "    </tr>\n",
       "    <tr>\n",
       "      <th>3</th>\n",
       "      <td>2/1/2020</td>\n",
       "      <td>Beli tiket via OTA, tenyata itu tiket 4 in 1. ...</td>\n",
       "      <td>Madame Tussauds</td>\n",
       "      <td>beli tiket via ota , tenyata itu tiket 4 in 1....</td>\n",
       "    </tr>\n",
       "    <tr>\n",
       "      <th>4</th>\n",
       "      <td>9/1/2019</td>\n",
       "      <td>Merupakan tempat museum patung lilin selebriti...</td>\n",
       "      <td>Madame Tussauds</td>\n",
       "      <td>merupakan tempat museum patung lilin selebriti...</td>\n",
       "    </tr>\n",
       "    <tr>\n",
       "      <th>5</th>\n",
       "      <td>2/1/2019</td>\n",
       "      <td>Lokasi Madam Tussaud terletak dekat dengan pat...</td>\n",
       "      <td>Madame Tussauds</td>\n",
       "      <td>lokasi madam tussaud terletak dekat dengan pat...</td>\n",
       "    </tr>\n",
       "    <tr>\n",
       "      <th>6</th>\n",
       "      <td>12/1/2018</td>\n",
       "      <td>Pertama kali ke madam tussaud singapore dan ke...</td>\n",
       "      <td>Madame Tussauds</td>\n",
       "      <td>pertama kali ke madam tussaud singapore dan ke...</td>\n",
       "    </tr>\n",
       "    <tr>\n",
       "      <th>7</th>\n",
       "      <td>2/1/2018</td>\n",
       "      <td>Menyenangkan sekali berkunjung ke madame tussa...</td>\n",
       "      <td>Madame Tussauds</td>\n",
       "      <td>menyenangkan sekali berkunjung ke madame tussa...</td>\n",
       "    </tr>\n",
       "    <tr>\n",
       "      <th>8</th>\n",
       "      <td>1/1/2018</td>\n",
       "      <td>Saya suka sekali masuk kedalam museum ini. Bel...</td>\n",
       "      <td>Madame Tussauds</td>\n",
       "      <td>saya suka sekali masuk kedalam museum ini . be...</td>\n",
       "    </tr>\n",
       "    <tr>\n",
       "      <th>9</th>\n",
       "      <td>1/1/2018</td>\n",
       "      <td>Tempat yang menarik untuk dikunjungi. Untungny...</td>\n",
       "      <td>Madame Tussauds</td>\n",
       "      <td>tempat yang menarik untuk dikunjungi . untungn...</td>\n",
       "    </tr>\n",
       "  </tbody>\n",
       "</table>\n",
       "</div>"
      ],
      "text/plain": [
       "        date                                             review  \\\n",
       "0   7/1/2018  Adventure Cove tempat yang bagus di kunjungi p...   \n",
       "1  11/1/2019  mengunjungi sentosa island setelah dari sea ak...   \n",
       "2  12/1/2019  Merupakan pengalaman pertama berkunjung ke Mad...   \n",
       "3   2/1/2020  Beli tiket via OTA, tenyata itu tiket 4 in 1. ...   \n",
       "4   9/1/2019  Merupakan tempat museum patung lilin selebriti...   \n",
       "5   2/1/2019  Lokasi Madam Tussaud terletak dekat dengan pat...   \n",
       "6  12/1/2018  Pertama kali ke madam tussaud singapore dan ke...   \n",
       "7   2/1/2018  Menyenangkan sekali berkunjung ke madame tussa...   \n",
       "8   1/1/2018  Saya suka sekali masuk kedalam museum ini. Bel...   \n",
       "9   1/1/2018  Tempat yang menarik untuk dikunjungi. Untungny...   \n",
       "\n",
       "                 attraction                                     replaced_slang  \n",
       "0  Adventure Cove Waterpark  adventure cove tempat yang bagus di kunjungi p...  \n",
       "1           Madame Tussauds  mengunjungi sentosa island setelah dari sea ak...  \n",
       "2           Madame Tussauds  merupakan pengalaman pertama berkunjung ke mad...  \n",
       "3           Madame Tussauds  beli tiket via ota , tenyata itu tiket 4 in 1....  \n",
       "4           Madame Tussauds  merupakan tempat museum patung lilin selebriti...  \n",
       "5           Madame Tussauds  lokasi madam tussaud terletak dekat dengan pat...  \n",
       "6           Madame Tussauds  pertama kali ke madam tussaud singapore dan ke...  \n",
       "7           Madame Tussauds  menyenangkan sekali berkunjung ke madame tussa...  \n",
       "8           Madame Tussauds  saya suka sekali masuk kedalam museum ini . be...  \n",
       "9           Madame Tussauds  tempat yang menarik untuk dikunjungi . untungn...  "
      ]
     },
     "execution_count": 45,
     "metadata": {},
     "output_type": "execute_result"
    }
   ],
   "source": [
    "df = pd.read_csv(\"replaced_slang.csv\")\n",
    "df.head(10)"
   ]
  },
  {
   "cell_type": "code",
   "execution_count": 46,
   "id": "e0023afc",
   "metadata": {},
   "outputs": [],
   "source": [
    "df['sentiment'] = df['replaced_slang'].apply(sentiment_analysis_label)"
   ]
  },
  {
   "cell_type": "code",
   "execution_count": 47,
   "id": "bab7ba8a",
   "metadata": {},
   "outputs": [
    {
     "data": {
      "text/html": [
       "<div>\n",
       "<style scoped>\n",
       "    .dataframe tbody tr th:only-of-type {\n",
       "        vertical-align: middle;\n",
       "    }\n",
       "\n",
       "    .dataframe tbody tr th {\n",
       "        vertical-align: top;\n",
       "    }\n",
       "\n",
       "    .dataframe thead th {\n",
       "        text-align: right;\n",
       "    }\n",
       "</style>\n",
       "<table border=\"1\" class=\"dataframe\">\n",
       "  <thead>\n",
       "    <tr style=\"text-align: right;\">\n",
       "      <th></th>\n",
       "      <th>date</th>\n",
       "      <th>review</th>\n",
       "      <th>attraction</th>\n",
       "      <th>replaced_slang</th>\n",
       "      <th>sentiment</th>\n",
       "    </tr>\n",
       "  </thead>\n",
       "  <tbody>\n",
       "    <tr>\n",
       "      <th>0</th>\n",
       "      <td>7/1/2018</td>\n",
       "      <td>Adventure Cove tempat yang bagus di kunjungi p...</td>\n",
       "      <td>Adventure Cove Waterpark</td>\n",
       "      <td>adventure cove tempat yang bagus di kunjungi p...</td>\n",
       "      <td>0</td>\n",
       "    </tr>\n",
       "    <tr>\n",
       "      <th>1</th>\n",
       "      <td>11/1/2019</td>\n",
       "      <td>mengunjungi sentosa island setelah dari sea ak...</td>\n",
       "      <td>Madame Tussauds</td>\n",
       "      <td>mengunjungi sentosa island setelah dari sea ak...</td>\n",
       "      <td>0</td>\n",
       "    </tr>\n",
       "    <tr>\n",
       "      <th>2</th>\n",
       "      <td>12/1/2019</td>\n",
       "      <td>Merupakan pengalaman pertama berkunjung ke Mad...</td>\n",
       "      <td>Madame Tussauds</td>\n",
       "      <td>merupakan pengalaman pertama berkunjung ke mad...</td>\n",
       "      <td>0</td>\n",
       "    </tr>\n",
       "    <tr>\n",
       "      <th>3</th>\n",
       "      <td>2/1/2020</td>\n",
       "      <td>Beli tiket via OTA, tenyata itu tiket 4 in 1. ...</td>\n",
       "      <td>Madame Tussauds</td>\n",
       "      <td>beli tiket via ota , tenyata itu tiket 4 in 1....</td>\n",
       "      <td>0</td>\n",
       "    </tr>\n",
       "    <tr>\n",
       "      <th>4</th>\n",
       "      <td>9/1/2019</td>\n",
       "      <td>Merupakan tempat museum patung lilin selebriti...</td>\n",
       "      <td>Madame Tussauds</td>\n",
       "      <td>merupakan tempat museum patung lilin selebriti...</td>\n",
       "      <td>0</td>\n",
       "    </tr>\n",
       "  </tbody>\n",
       "</table>\n",
       "</div>"
      ],
      "text/plain": [
       "        date                                             review  \\\n",
       "0   7/1/2018  Adventure Cove tempat yang bagus di kunjungi p...   \n",
       "1  11/1/2019  mengunjungi sentosa island setelah dari sea ak...   \n",
       "2  12/1/2019  Merupakan pengalaman pertama berkunjung ke Mad...   \n",
       "3   2/1/2020  Beli tiket via OTA, tenyata itu tiket 4 in 1. ...   \n",
       "4   9/1/2019  Merupakan tempat museum patung lilin selebriti...   \n",
       "\n",
       "                 attraction  \\\n",
       "0  Adventure Cove Waterpark   \n",
       "1           Madame Tussauds   \n",
       "2           Madame Tussauds   \n",
       "3           Madame Tussauds   \n",
       "4           Madame Tussauds   \n",
       "\n",
       "                                      replaced_slang  sentiment  \n",
       "0  adventure cove tempat yang bagus di kunjungi p...          0  \n",
       "1  mengunjungi sentosa island setelah dari sea ak...          0  \n",
       "2  merupakan pengalaman pertama berkunjung ke mad...          0  \n",
       "3  beli tiket via ota , tenyata itu tiket 4 in 1....          0  \n",
       "4  merupakan tempat museum patung lilin selebriti...          0  "
      ]
     },
     "execution_count": 47,
     "metadata": {},
     "output_type": "execute_result"
    }
   ],
   "source": [
    "df.head()"
   ]
  },
  {
   "cell_type": "code",
   "execution_count": 48,
   "id": "7320cb3c",
   "metadata": {},
   "outputs": [
    {
     "data": {
      "text/plain": [
       "0    151\n",
       "1      7\n",
       "Name: sentiment, dtype: int64"
      ]
     },
     "execution_count": 48,
     "metadata": {},
     "output_type": "execute_result"
    }
   ],
   "source": [
    "df['sentiment'].value_counts(ascending=False)"
   ]
  },
  {
   "cell_type": "code",
   "execution_count": 49,
   "id": "bf81f4f9",
   "metadata": {},
   "outputs": [],
   "source": [
    "df['score'] = df['replaced_slang'].apply(sentiment_analysis_score)"
   ]
  },
  {
   "cell_type": "code",
   "execution_count": 50,
   "id": "a0936237",
   "metadata": {},
   "outputs": [
    {
     "data": {
      "text/html": [
       "<div>\n",
       "<style scoped>\n",
       "    .dataframe tbody tr th:only-of-type {\n",
       "        vertical-align: middle;\n",
       "    }\n",
       "\n",
       "    .dataframe tbody tr th {\n",
       "        vertical-align: top;\n",
       "    }\n",
       "\n",
       "    .dataframe thead th {\n",
       "        text-align: right;\n",
       "    }\n",
       "</style>\n",
       "<table border=\"1\" class=\"dataframe\">\n",
       "  <thead>\n",
       "    <tr style=\"text-align: right;\">\n",
       "      <th></th>\n",
       "      <th>date</th>\n",
       "      <th>review</th>\n",
       "      <th>attraction</th>\n",
       "      <th>replaced_slang</th>\n",
       "      <th>sentiment</th>\n",
       "      <th>score</th>\n",
       "    </tr>\n",
       "  </thead>\n",
       "  <tbody>\n",
       "    <tr>\n",
       "      <th>0</th>\n",
       "      <td>7/1/2018</td>\n",
       "      <td>Adventure Cove tempat yang bagus di kunjungi p...</td>\n",
       "      <td>Adventure Cove Waterpark</td>\n",
       "      <td>adventure cove tempat yang bagus di kunjungi p...</td>\n",
       "      <td>0</td>\n",
       "      <td>0.997</td>\n",
       "    </tr>\n",
       "    <tr>\n",
       "      <th>1</th>\n",
       "      <td>11/1/2019</td>\n",
       "      <td>mengunjungi sentosa island setelah dari sea ak...</td>\n",
       "      <td>Madame Tussauds</td>\n",
       "      <td>mengunjungi sentosa island setelah dari sea ak...</td>\n",
       "      <td>0</td>\n",
       "      <td>0.999</td>\n",
       "    </tr>\n",
       "    <tr>\n",
       "      <th>2</th>\n",
       "      <td>12/1/2019</td>\n",
       "      <td>Merupakan pengalaman pertama berkunjung ke Mad...</td>\n",
       "      <td>Madame Tussauds</td>\n",
       "      <td>merupakan pengalaman pertama berkunjung ke mad...</td>\n",
       "      <td>0</td>\n",
       "      <td>0.998</td>\n",
       "    </tr>\n",
       "    <tr>\n",
       "      <th>3</th>\n",
       "      <td>2/1/2020</td>\n",
       "      <td>Beli tiket via OTA, tenyata itu tiket 4 in 1. ...</td>\n",
       "      <td>Madame Tussauds</td>\n",
       "      <td>beli tiket via ota , tenyata itu tiket 4 in 1....</td>\n",
       "      <td>0</td>\n",
       "      <td>0.992</td>\n",
       "    </tr>\n",
       "    <tr>\n",
       "      <th>4</th>\n",
       "      <td>9/1/2019</td>\n",
       "      <td>Merupakan tempat museum patung lilin selebriti...</td>\n",
       "      <td>Madame Tussauds</td>\n",
       "      <td>merupakan tempat museum patung lilin selebriti...</td>\n",
       "      <td>0</td>\n",
       "      <td>0.621</td>\n",
       "    </tr>\n",
       "    <tr>\n",
       "      <th>5</th>\n",
       "      <td>2/1/2019</td>\n",
       "      <td>Lokasi Madam Tussaud terletak dekat dengan pat...</td>\n",
       "      <td>Madame Tussauds</td>\n",
       "      <td>lokasi madam tussaud terletak dekat dengan pat...</td>\n",
       "      <td>0</td>\n",
       "      <td>0.988</td>\n",
       "    </tr>\n",
       "    <tr>\n",
       "      <th>6</th>\n",
       "      <td>12/1/2018</td>\n",
       "      <td>Pertama kali ke madam tussaud singapore dan ke...</td>\n",
       "      <td>Madame Tussauds</td>\n",
       "      <td>pertama kali ke madam tussaud singapore dan ke...</td>\n",
       "      <td>0</td>\n",
       "      <td>0.962</td>\n",
       "    </tr>\n",
       "    <tr>\n",
       "      <th>7</th>\n",
       "      <td>2/1/2018</td>\n",
       "      <td>Menyenangkan sekali berkunjung ke madame tussa...</td>\n",
       "      <td>Madame Tussauds</td>\n",
       "      <td>menyenangkan sekali berkunjung ke madame tussa...</td>\n",
       "      <td>0</td>\n",
       "      <td>0.999</td>\n",
       "    </tr>\n",
       "    <tr>\n",
       "      <th>8</th>\n",
       "      <td>1/1/2018</td>\n",
       "      <td>Saya suka sekali masuk kedalam museum ini. Bel...</td>\n",
       "      <td>Madame Tussauds</td>\n",
       "      <td>saya suka sekali masuk kedalam museum ini . be...</td>\n",
       "      <td>0</td>\n",
       "      <td>0.999</td>\n",
       "    </tr>\n",
       "    <tr>\n",
       "      <th>9</th>\n",
       "      <td>1/1/2018</td>\n",
       "      <td>Tempat yang menarik untuk dikunjungi. Untungny...</td>\n",
       "      <td>Madame Tussauds</td>\n",
       "      <td>tempat yang menarik untuk dikunjungi . untungn...</td>\n",
       "      <td>0</td>\n",
       "      <td>0.997</td>\n",
       "    </tr>\n",
       "  </tbody>\n",
       "</table>\n",
       "</div>"
      ],
      "text/plain": [
       "        date                                             review  \\\n",
       "0   7/1/2018  Adventure Cove tempat yang bagus di kunjungi p...   \n",
       "1  11/1/2019  mengunjungi sentosa island setelah dari sea ak...   \n",
       "2  12/1/2019  Merupakan pengalaman pertama berkunjung ke Mad...   \n",
       "3   2/1/2020  Beli tiket via OTA, tenyata itu tiket 4 in 1. ...   \n",
       "4   9/1/2019  Merupakan tempat museum patung lilin selebriti...   \n",
       "5   2/1/2019  Lokasi Madam Tussaud terletak dekat dengan pat...   \n",
       "6  12/1/2018  Pertama kali ke madam tussaud singapore dan ke...   \n",
       "7   2/1/2018  Menyenangkan sekali berkunjung ke madame tussa...   \n",
       "8   1/1/2018  Saya suka sekali masuk kedalam museum ini. Bel...   \n",
       "9   1/1/2018  Tempat yang menarik untuk dikunjungi. Untungny...   \n",
       "\n",
       "                 attraction  \\\n",
       "0  Adventure Cove Waterpark   \n",
       "1           Madame Tussauds   \n",
       "2           Madame Tussauds   \n",
       "3           Madame Tussauds   \n",
       "4           Madame Tussauds   \n",
       "5           Madame Tussauds   \n",
       "6           Madame Tussauds   \n",
       "7           Madame Tussauds   \n",
       "8           Madame Tussauds   \n",
       "9           Madame Tussauds   \n",
       "\n",
       "                                      replaced_slang  sentiment  score  \n",
       "0  adventure cove tempat yang bagus di kunjungi p...          0  0.997  \n",
       "1  mengunjungi sentosa island setelah dari sea ak...          0  0.999  \n",
       "2  merupakan pengalaman pertama berkunjung ke mad...          0  0.998  \n",
       "3  beli tiket via ota , tenyata itu tiket 4 in 1....          0  0.992  \n",
       "4  merupakan tempat museum patung lilin selebriti...          0  0.621  \n",
       "5  lokasi madam tussaud terletak dekat dengan pat...          0  0.988  \n",
       "6  pertama kali ke madam tussaud singapore dan ke...          0  0.962  \n",
       "7  menyenangkan sekali berkunjung ke madame tussa...          0  0.999  \n",
       "8  saya suka sekali masuk kedalam museum ini . be...          0  0.999  \n",
       "9  tempat yang menarik untuk dikunjungi . untungn...          0  0.997  "
      ]
     },
     "execution_count": 50,
     "metadata": {},
     "output_type": "execute_result"
    }
   ],
   "source": [
    "df.head(10)"
   ]
  },
  {
   "cell_type": "code",
   "execution_count": 51,
   "id": "bb742131",
   "metadata": {},
   "outputs": [],
   "source": [
    "df.to_csv(\"sentiment_analysis.csv\", index=False)"
   ]
  },
  {
   "cell_type": "code",
   "execution_count": null,
   "id": "701ca3db",
   "metadata": {},
   "outputs": [],
   "source": []
  }
 ],
 "metadata": {
  "kernelspec": {
   "display_name": "Python 3 (ipykernel)",
   "language": "python",
   "name": "python3"
  },
  "language_info": {
   "codemirror_mode": {
    "name": "ipython",
    "version": 3
   },
   "file_extension": ".py",
   "mimetype": "text/x-python",
   "name": "python",
   "nbconvert_exporter": "python",
   "pygments_lexer": "ipython3",
   "version": "3.8.10"
  }
 },
 "nbformat": 4,
 "nbformat_minor": 5
}
